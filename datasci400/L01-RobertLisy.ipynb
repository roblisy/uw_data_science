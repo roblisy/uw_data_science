{
 "cells": [
  {
   "cell_type": "markdown",
   "metadata": {},
   "source": [
    "# Lesson 1 Assignment\n",
    "Rob Lisy \n",
    "DATASCI400"
   ]
  },
  {
   "cell_type": "code",
   "execution_count": 1,
   "metadata": {},
   "outputs": [],
   "source": [
    "def my_name():\n",
    "    \"\"\"\n",
    "    Simple function which returns my name...\n",
    "    \"\"\"\n",
    "    return('Rob Lisy')"
   ]
  },
  {
   "cell_type": "code",
   "execution_count": 7,
   "metadata": {},
   "outputs": [
    {
     "name": "stdout",
     "output_type": "stream",
     "text": [
      "Rob Lisy\n"
     ]
    }
   ],
   "source": [
    "# Print out the name stored in the my_name() function.\n",
    "print(my_name())"
   ]
  },
  {
   "cell_type": "code",
   "execution_count": 11,
   "metadata": {},
   "outputs": [
    {
     "data": {
      "text/plain": [
       "'2020-04-10 13:25:30.497255'"
      ]
     },
     "execution_count": 11,
     "metadata": {},
     "output_type": "execute_result"
    }
   ],
   "source": [
    "import datetime as dt\n",
    "\n",
    "def date_and_time():\n",
    "    \"\"\"\n",
    "    Returns the current date and time using the datetime module\n",
    "    \"\"\"\n",
    "    \n",
    "    return(str(dt.datetime.now()))\n",
    "   "
   ]
  },
  {
   "cell_type": "code",
   "execution_count": 12,
   "metadata": {},
   "outputs": [
    {
     "name": "stdout",
     "output_type": "stream",
     "text": [
      "2020-04-10 13:27:17.869781\n"
     ]
    }
   ],
   "source": [
    "# Call date and time, and print the result\n",
    "print(date_and_time())"
   ]
  }
 ],
 "metadata": {
  "kernelspec": {
   "display_name": "Python 3",
   "language": "python",
   "name": "python3"
  },
  "language_info": {
   "codemirror_mode": {
    "name": "ipython",
    "version": 3
   },
   "file_extension": ".py",
   "mimetype": "text/x-python",
   "name": "python",
   "nbconvert_exporter": "python",
   "pygments_lexer": "ipython3",
   "version": "3.7.0"
  }
 },
 "nbformat": 4,
 "nbformat_minor": 4
}
