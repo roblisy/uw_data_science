{
 "cells": [
  {
   "cell_type": "code",
   "execution_count": 19,
   "metadata": {},
   "outputs": [
    {
     "name": "stdout",
     "output_type": "stream",
     "text": [
      "The saying 'to each their own' in English is 'cada loco con su tema' in Spanish\n"
     ]
    }
   ],
   "source": [
    "# Open a YAML file and echo back a value from it\n",
    "import yaml\n",
    "\n",
    "def extract_yaml_element(element_num: int,\n",
    "                        file_name: str):\n",
    "    \"\"\"\n",
    "    Function to read the YAML file given to us, and return the English sentance, plus it's Spanish translation\n",
    "    :param element_num: Integer of the element to return from the YAML\n",
    "    :param file_name: String of the file name to open\n",
    "    \n",
    "    :return: a list element from the YAML file.... should be a dictionary.\n",
    "    \"\"\"\n",
    "    with open(f'{file_name}', 'r') as file:\n",
    "        spen_list = yaml.load(file, Loader=yaml.FullLoader)\n",
    "\n",
    "    return (spen_list[element_num])\n",
    "\n",
    "yaml_values = extract_yaml_element(element_num=2, file_name='data/spen.yaml')\n",
    "\n",
    "print(\"The saying '\" + yaml_values[\"EN\"] + \"' in English is '\" + yaml_values[\"SP\"] + \"' in Spanish\")\n"
   ]
  },
  {
   "cell_type": "code",
   "execution_count": 53,
   "metadata": {},
   "outputs": [
    {
     "name": "stdout",
     "output_type": "stream",
     "text": [
      "The author(s) for entry #210 is: \n",
      "Dagfinn Reiersøl with Marcus Baker, and Chris Shiflett\n"
     ]
    }
   ],
   "source": [
    "# Open a JSON file and print a value from it.\n",
    "import json\n",
    "\n",
    "def extract_json_element(id: int,\n",
    "                       file_name: str):\n",
    "    \"\"\"\n",
    "    :param id: Integer ID for the record number to access\n",
    "    :file_name: JSON file name to read, as a string.\n",
    "    \n",
    "    :return: JSON element\n",
    "    \"\"\"\n",
    "    with open(f\"{file_name}\", \"r\") as file:\n",
    "        json_dict = json.loads(file.read())\n",
    "        \n",
    "    return(json_dict[id])\n",
    "\n",
    "id_val=210\n",
    "json_values = extract_json_element(id=id_val, file_name='data/books.json')\n",
    "\n",
    "# print the authors for the id_value entry\n",
    "print(\"The author(s) for entry #\" + str(id_val) + \" is: \")\n",
    "print(*json_values[\"authors\"], sep = ', and ')\n"
   ]
  },
  {
   "cell_type": "code",
   "execution_count": 58,
   "metadata": {},
   "outputs": [
    {
     "name": "stdout",
     "output_type": "stream",
     "text": [
      "Row number 7 is: \n",
      "  buying  maint doors persons lug_boot safety evaluation\n",
      "7  vhigh  vhigh     2       2      big    med      unacc\n"
     ]
    }
   ],
   "source": [
    "# grab a single row from a CSV, print it...\n",
    "import pandas as pd\n",
    "\n",
    "def return_csv_row(row_num: int,\n",
    "                   sep: str,\n",
    "                   file_name: str):\n",
    "    \"\"\"\n",
    "    Read a CSV, print the whole row based on the row_num\n",
    "    :param row_num: Integer with the row number\n",
    "    :param sep: string with the file seperator\n",
    "    :param file_name: String with the name of the CSV file\n",
    "    \n",
    "    :return: Pandas row\n",
    "    \"\"\"\n",
    "    \n",
    "    df = pd.read_csv(f\"{file_name}\", sep=sep)\n",
    "    \n",
    "    return(df.iloc[[row_num]])\n",
    "\n",
    "row_num=7\n",
    "print(f\"Row number {row_num} is: \")\n",
    "print(return_csv_row(row_num=7,\n",
    "                     sep=\",\",\n",
    "                     file_name='data/cars.csv'))  "
   ]
  },
  {
   "cell_type": "code",
   "execution_count": 67,
   "metadata": {},
   "outputs": [],
   "source": [
    "from PIL import Image\n",
    "\n",
    "def read_jpg(file_name: str,\n",
    "            cords: list):\n",
    "    \"\"\"\n",
    "    Function to read a jpg file and then export a crop of it.\n",
    "    :param file_name: file name of the JPG as a string\n",
    "    :param cords: A list with the X1, Y1, X2, and Y2 coordinates as pixels. Ex: [0,0,200,200] gets a square, 200 pixels in length and height.\n",
    "    \"\"\"\n",
    "    img = Image.open(f\"{file_name}\", 'r')\n",
    "    area = (cords[0], cords[1], cords[2], cords[3])\n",
    "    cropped_img = img.crop(area)\n",
    "    cropped_img.show()\n",
    "    \n",
    "# lets show the W, baby!\n",
    "read_jpg(file_name='data/uw_logo.jpg',\n",
    "         cords=[200,200,950,950])\n",
    "    "
   ]
  }
 ],
 "metadata": {
  "kernelspec": {
   "display_name": "Python 3",
   "language": "python",
   "name": "python3"
  },
  "language_info": {
   "codemirror_mode": {
    "name": "ipython",
    "version": 3
   },
   "file_extension": ".py",
   "mimetype": "text/x-python",
   "name": "python",
   "nbconvert_exporter": "python",
   "pygments_lexer": "ipython3",
   "version": "3.7.0"
  }
 },
 "nbformat": 4,
 "nbformat_minor": 4
}
