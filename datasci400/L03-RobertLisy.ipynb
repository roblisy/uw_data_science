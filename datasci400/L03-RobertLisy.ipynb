{
 "cells": [
  {
   "cell_type": "markdown",
   "metadata": {},
   "source": [
    "## Lesson 3\n",
    "Robert Lisy\n",
    "\n",
    "- Import statements for necessary package(s)\n",
    "- Create a numeric numpy array, named arr1, with at least 30 items that contains outliers\n",
    "- Create a numpy array that should have been numeric, named arr2. arr2 contains improper non-numeric missing values, like \"?\"\n",
    "- Create (define) a function, named “remove_outlier”, that removes outliers in arr1\n",
    "- Create (define) a function, named “replace_outlier”, that replaces outliers in arr1 with the arithmetic mean of the non-outliers\n",
    "- Create (define) a function, named “fill_median”, that fills in the missing values in arr2 with the median of arr2\n",
    "- Call the three functions with their appropriate arrays in your script\n",
    "- Comments explaining the code blocks\n",
    "- Summary comment block on how your dataset has been cleaned up"
   ]
  },
  {
   "cell_type": "code",
   "execution_count": 1,
   "metadata": {},
   "outputs": [],
   "source": [
    "import pandas as pd\n",
    "import numpy as np\n",
    "import seaborn as sns\n",
    "# I don't like scientific notation\n",
    "np.set_printoptions(suppress=True)\n",
    "\n",
    "# I don't want to hear about Python and Numpy disagreeing about comparision operators\n",
    "import warnings\n",
    "warnings.simplefilter(action='ignore', category=FutureWarning)"
   ]
  },
  {
   "cell_type": "markdown",
   "metadata": {},
   "source": [
    "### Generate our first array\n",
    "\n",
    "This array should have some outliers, but be numeric"
   ]
  },
  {
   "cell_type": "code",
   "execution_count": 2,
   "metadata": {},
   "outputs": [
    {
     "name": "stdout",
     "output_type": "stream",
     "text": [
      "[  4.28463041  -4.40904025 100.        ]\n"
     ]
    }
   ],
   "source": [
    "# make this replicatable.\n",
    "np.random.seed(32768)\n",
    "# if we generate a normal distribution of a large enough size, we'll have outliers\n",
    "arr1 = np.random.standard_normal(size=10000)\n",
    "# add one crazy outlier\n",
    "arr1 = np.append(arr1, 100)\n",
    "\n",
    "# detect outliers (defined here as more than 3 times standard deviation)\n",
    "arr1_outliers = arr1[(abs(arr1 - arr1.mean())) > (3 * arr1.std())]\n",
    "# How many outliers are there?\n",
    "print(arr1_outliers)"
   ]
  },
  {
   "cell_type": "markdown",
   "metadata": {},
   "source": [
    "### Generate our second array\n",
    "\n",
    "This array should have numeric values, but also some non-numeric values (\"?\", specifically)"
   ]
  },
  {
   "cell_type": "code",
   "execution_count": 3,
   "metadata": {},
   "outputs": [],
   "source": [
    "# Make a mixed type array (chars and int)\n",
    "arr_2 = np.array(['?', '*', '&', 'NA', 100, 150, 200, 33, 12, 0, 600, 1000000])"
   ]
  },
  {
   "cell_type": "code",
   "execution_count": 4,
   "metadata": {},
   "outputs": [
    {
     "data": {
      "image/png": "[encoded data removed]",
      "text/plain": [
       "<Figure size 432x288 with 1 Axes>"
      ]
     },
     "metadata": {
      "needs_background": "light"
     },
     "output_type": "display_data"
    }
   ],
   "source": [
    "# Show our outliers\n",
    "# anything above like 3.5 should be an outlier, since we're using the standard normal dist, centered at 0 with a std. dev of 1.\n",
    "sns.distplot(arr1);"
   ]
  },
  {
   "cell_type": "markdown",
   "metadata": {},
   "source": [
    "## Define Cleaning functions"
   ]
  },
  {
   "cell_type": "code",
   "execution_count": 5,
   "metadata": {},
   "outputs": [],
   "source": [
    "def replace_outlier(ar, num_std_dev: float):\n",
    "    \"\"\"\n",
    "    replaces outliers from an array with the arithmetic mean\n",
    "    :param ar: Numpy array\n",
    "    :param num_std_dev: Integer value for the number of standard deviations to consider as an 'outlier'\n",
    "    \"\"\"\n",
    "    ar2 = np.copy(ar)\n",
    "    sd = np.std(ar2)\n",
    "    mean = np.mean(ar2)\n",
    "\n",
    "    outliers = (ar2 > (mean + (num_std_dev * sd))) | (ar2 < (mean - num_std_dev * sd))\n",
    "    ar2[outliers] = mean\n",
    "\n",
    "    return ar2"
   ]
  },
  {
   "cell_type": "code",
   "execution_count": 6,
   "metadata": {},
   "outputs": [],
   "source": [
    "def remove_outlier(ar, num_std_dev: float):\n",
    "    \"\"\"\n",
    "    Removes outliers from an array with the arithmetic mean\n",
    "    :param ar: Numpy array\n",
    "    :param num_std_dev: Integer value for the number of standard deviations to consider as an 'outlier'\n",
    "    \"\"\"\n",
    "    ar2 = np.copy(ar)\n",
    "    sd = np.std(ar2)\n",
    "    mean = np.mean(ar2)\n",
    "\n",
    "    outliers = (ar2 > (mean + (num_std_dev * sd))) | (ar2 < (mean - num_std_dev * sd))\n",
    "    \n",
    "    # Invert the mask and only return items within the standard deviation tolerance.\n",
    "    return ar2[np.invert(outliers)]"
   ]
  },
  {
   "cell_type": "code",
   "execution_count": 7,
   "metadata": {},
   "outputs": [],
   "source": [
    "def fill_median(ar):\n",
    "    \"\"\"\n",
    "    Fills in the median for an array containing non numeric values.\n",
    "    :param ar: Numpy array\n",
    "    \"\"\"\n",
    "    ar2 = np.copy(ar)\n",
    "    \n",
    "    # Convert all non numerics to NaN\n",
    "    ar2 = np.genfromtxt(ar2) \n",
    "       \n",
    "    # Calculate the median\n",
    "    median = np.nanmedian(ar2)\n",
    "    \n",
    "    # On ar2, we have to replace the non-numeric entries with the median.\n",
    "    ar2 = np.nan_to_num(ar2, nan=median)\n",
    "    \n",
    "    # Keeping for now... it was clever.\n",
    "    # nums = a2[np.char.isnumeric(a2)]\n",
    "\n",
    "    return ar2"
   ]
  },
  {
   "cell_type": "markdown",
   "metadata": {},
   "source": [
    "## Check the functions\n",
    "\n",
    "Check that our functions work. All 3 of the operations below should return `False` in np.array_equal, otherwise we haven't cleaned properly."
   ]
  },
  {
   "cell_type": "code",
   "execution_count": 8,
   "metadata": {},
   "outputs": [
    {
     "data": {
      "text/plain": [
       "False"
      ]
     },
     "execution_count": 8,
     "metadata": {},
     "output_type": "execute_result"
    }
   ],
   "source": [
    "# Clean the arr1 array and return it as a new array.\n",
    "clean_arr1 = replace_outlier(arr1, 3)\n",
    "\n",
    "# The arr1 array and the clean verison of arr1 should now be not equal.\n",
    "np.array_equal(arr1, clean_arr1)"
   ]
  },
  {
   "cell_type": "code",
   "execution_count": 9,
   "metadata": {},
   "outputs": [
    {
     "data": {
      "text/plain": [
       "False"
      ]
     },
     "execution_count": 9,
     "metadata": {},
     "output_type": "execute_result"
    }
   ],
   "source": [
    "# Remove items 3x std. dev from our array 1\n",
    "rem_arr1 = remove_outlier(arr1, 3)\n",
    "\n",
    "# Are they equal? (should be false)\n",
    "np.array_equal(arr1, rem_arr1)"
   ]
  },
  {
   "cell_type": "code",
   "execution_count": 10,
   "metadata": {},
   "outputs": [
    {
     "data": {
      "text/plain": [
       "False"
      ]
     },
     "execution_count": 10,
     "metadata": {},
     "output_type": "execute_result"
    }
   ],
   "source": [
    "clean_arr_2 = fill_median(arr_2)\n",
    "\n",
    "np.array_equal(clean_arr_2, arr_2)"
   ]
  },
  {
   "cell_type": "markdown",
   "metadata": {},
   "source": [
    "## Summary Comments\n",
    "\n",
    "For the 2 arrays, we cleaned them in different ways:\n",
    "\n",
    "Array 1:\n",
    "    - In the first cleaning we have replaced all the outliers with the mean value. This is probably not the best thing, since the mean is itself sensitive to outliers... yuck.\n",
    "    - In the second cleaning, we have REMOVED all the outlier values. This may be a better option than substituting in the mean, since real outliers (especially that very large value) may be junk.\n",
    "    \n",
    "Array 2:\n",
    "    - We've removed all non-numeric values from the array using np.genfromtxt(). Then we calculate the median of the array using np.nanmedian, which ignores NaN values to get a median. Finally we replace all the NaN values in the array with the median."
   ]
  },
  {
   "cell_type": "code",
   "execution_count": null,
   "metadata": {},
   "outputs": [],
   "source": []
  }
 ],
 "metadata": {
  "kernelspec": {
   "display_name": "Python 3",
   "language": "python",
   "name": "python3"
  },
  "language_info": {
   "codemirror_mode": {
    "name": "ipython",
    "version": 3
   },
   "file_extension": ".py",
   "mimetype": "text/x-python",
   "name": "python",
   "nbconvert_exporter": "python",
   "pygments_lexer": "ipython3",
   "version": "3.7.0"
  }
 },
 "nbformat": 4,
 "nbformat_minor": 4
}
