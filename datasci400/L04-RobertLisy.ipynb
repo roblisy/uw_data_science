{
 "cells": [
  {
   "cell_type": "markdown",
   "metadata": {},
   "source": [
    "## Lesson 4 assignment\n",
    "Robert Lisy"
   ]
  },
  {
   "cell_type": "code",
   "execution_count": 1,
   "metadata": {},
   "outputs": [
    {
     "data": {
      "text/plain": [
       "(3163, 26)"
      ]
     },
     "execution_count": 1,
     "metadata": {},
     "output_type": "execute_result"
    }
   ],
   "source": [
    "import pandas as pd\n",
    "import numpy as np\n",
    "import requests\n",
    "from os import path\n",
    "import seaborn as sns\n",
    "import matplotlib.pyplot as plt\n",
    "\n",
    "filename = f\"data/thyroid.csv\"\n",
    "\n",
    "# We're going to import the thyroid data set from UCI\n",
    "# https://archive.ics.uci.edu/ml/datasets/Thyroid+Disease\n",
    "def download_if_not_exists(URL: str, filename: str):\n",
    "    \"\"\"\n",
    "    Helper function to download the file at the URL if it doesn't already exist\n",
    "    :param URL: A string with the URL location\n",
    "    :param filename: The file name on disk\n",
    "    \"\"\"\n",
    "    \n",
    "    if path.exists(f\"{filename}\"):\n",
    "        return\n",
    "    else:\n",
    "        req = requests.get(URL)\n",
    "        url_content = req.content\n",
    "        csv_file = open(f\"{filename}\", 'wb')\n",
    "        csv_file.write(url_content)\n",
    "        csv_file.close()\n",
    "    return\n",
    "\n",
    "download_if_not_exists(\"https://archive.ics.uci.edu/ml/machine-learning-databases/thyroid-disease/hypothyroid.data\",\n",
    "                      filename)\n",
    "                        \n",
    "# import the CSV as a data set\n",
    "df = pd.read_csv(filename, header=None)\n",
    "df.head()\n",
    "df.shape"
   ]
  },
  {
   "cell_type": "code",
   "execution_count": 2,
   "metadata": {},
   "outputs": [
    {
     "data": {
      "text/html": [
       "<div>\n",
       "<style scoped>\n",
       "    .dataframe tbody tr th:only-of-type {\n",
       "        vertical-align: middle;\n",
       "    }\n",
       "\n",
       "    .dataframe tbody tr th {\n",
       "        vertical-align: top;\n",
       "    }\n",
       "\n",
       "    .dataframe thead th {\n",
       "        text-align: right;\n",
       "    }\n",
       "</style>\n",
       "<table border=\"1\" class=\"dataframe\">\n",
       "  <thead>\n",
       "    <tr style=\"text-align: right;\">\n",
       "      <th></th>\n",
       "      <th>hypothyroid</th>\n",
       "      <th>age</th>\n",
       "      <th>sex</th>\n",
       "      <th>on_thyroxine</th>\n",
       "      <th>query_on_thyroxine</th>\n",
       "      <th>on_antithyroid_medication</th>\n",
       "      <th>thyroid_surgery</th>\n",
       "      <th>query_hypothyroid</th>\n",
       "      <th>query_hyperthyroid</th>\n",
       "      <th>pregnant</th>\n",
       "      <th>...</th>\n",
       "      <th>T3_measured</th>\n",
       "      <th>T3</th>\n",
       "      <th>TT4_measured</th>\n",
       "      <th>TT4</th>\n",
       "      <th>T4U_measured</th>\n",
       "      <th>T4U</th>\n",
       "      <th>FTI_measured</th>\n",
       "      <th>FTI</th>\n",
       "      <th>TBG_measured</th>\n",
       "      <th>TBG</th>\n",
       "    </tr>\n",
       "  </thead>\n",
       "  <tbody>\n",
       "    <tr>\n",
       "      <th>0</th>\n",
       "      <td>hypothyroid</td>\n",
       "      <td>72</td>\n",
       "      <td>M</td>\n",
       "      <td>f</td>\n",
       "      <td>f</td>\n",
       "      <td>f</td>\n",
       "      <td>f</td>\n",
       "      <td>f</td>\n",
       "      <td>f</td>\n",
       "      <td>f</td>\n",
       "      <td>...</td>\n",
       "      <td>y</td>\n",
       "      <td>0.60</td>\n",
       "      <td>y</td>\n",
       "      <td>15</td>\n",
       "      <td>y</td>\n",
       "      <td>1.48</td>\n",
       "      <td>y</td>\n",
       "      <td>10</td>\n",
       "      <td>n</td>\n",
       "      <td>?</td>\n",
       "    </tr>\n",
       "    <tr>\n",
       "      <th>1</th>\n",
       "      <td>hypothyroid</td>\n",
       "      <td>15</td>\n",
       "      <td>F</td>\n",
       "      <td>t</td>\n",
       "      <td>f</td>\n",
       "      <td>f</td>\n",
       "      <td>f</td>\n",
       "      <td>f</td>\n",
       "      <td>f</td>\n",
       "      <td>f</td>\n",
       "      <td>...</td>\n",
       "      <td>y</td>\n",
       "      <td>1.70</td>\n",
       "      <td>y</td>\n",
       "      <td>19</td>\n",
       "      <td>y</td>\n",
       "      <td>1.13</td>\n",
       "      <td>y</td>\n",
       "      <td>17</td>\n",
       "      <td>n</td>\n",
       "      <td>?</td>\n",
       "    </tr>\n",
       "    <tr>\n",
       "      <th>2</th>\n",
       "      <td>hypothyroid</td>\n",
       "      <td>24</td>\n",
       "      <td>M</td>\n",
       "      <td>f</td>\n",
       "      <td>f</td>\n",
       "      <td>f</td>\n",
       "      <td>f</td>\n",
       "      <td>f</td>\n",
       "      <td>f</td>\n",
       "      <td>f</td>\n",
       "      <td>...</td>\n",
       "      <td>y</td>\n",
       "      <td>0.20</td>\n",
       "      <td>y</td>\n",
       "      <td>4</td>\n",
       "      <td>y</td>\n",
       "      <td>1</td>\n",
       "      <td>y</td>\n",
       "      <td>0</td>\n",
       "      <td>n</td>\n",
       "      <td>?</td>\n",
       "    </tr>\n",
       "    <tr>\n",
       "      <th>3</th>\n",
       "      <td>hypothyroid</td>\n",
       "      <td>24</td>\n",
       "      <td>F</td>\n",
       "      <td>f</td>\n",
       "      <td>f</td>\n",
       "      <td>f</td>\n",
       "      <td>f</td>\n",
       "      <td>f</td>\n",
       "      <td>f</td>\n",
       "      <td>f</td>\n",
       "      <td>...</td>\n",
       "      <td>y</td>\n",
       "      <td>0.40</td>\n",
       "      <td>y</td>\n",
       "      <td>6</td>\n",
       "      <td>y</td>\n",
       "      <td>1.04</td>\n",
       "      <td>y</td>\n",
       "      <td>6</td>\n",
       "      <td>n</td>\n",
       "      <td>?</td>\n",
       "    </tr>\n",
       "    <tr>\n",
       "      <th>4</th>\n",
       "      <td>hypothyroid</td>\n",
       "      <td>77</td>\n",
       "      <td>M</td>\n",
       "      <td>f</td>\n",
       "      <td>f</td>\n",
       "      <td>f</td>\n",
       "      <td>f</td>\n",
       "      <td>f</td>\n",
       "      <td>f</td>\n",
       "      <td>f</td>\n",
       "      <td>...</td>\n",
       "      <td>y</td>\n",
       "      <td>1.20</td>\n",
       "      <td>y</td>\n",
       "      <td>57</td>\n",
       "      <td>y</td>\n",
       "      <td>1.28</td>\n",
       "      <td>y</td>\n",
       "      <td>44</td>\n",
       "      <td>n</td>\n",
       "      <td>?</td>\n",
       "    </tr>\n",
       "  </tbody>\n",
       "</table>\n",
       "<p>5 rows × 26 columns</p>\n",
       "</div>"
      ],
      "text/plain": [
       "   hypothyroid age sex on_thyroxine query_on_thyroxine  \\\n",
       "0  hypothyroid  72   M            f                  f   \n",
       "1  hypothyroid  15   F            t                  f   \n",
       "2  hypothyroid  24   M            f                  f   \n",
       "3  hypothyroid  24   F            f                  f   \n",
       "4  hypothyroid  77   M            f                  f   \n",
       "\n",
       "  on_antithyroid_medication thyroid_surgery query_hypothyroid  \\\n",
       "0                         f               f                 f   \n",
       "1                         f               f                 f   \n",
       "2                         f               f                 f   \n",
       "3                         f               f                 f   \n",
       "4                         f               f                 f   \n",
       "\n",
       "  query_hyperthyroid pregnant  ... T3_measured    T3 TT4_measured TT4  \\\n",
       "0                  f        f  ...           y  0.60            y  15   \n",
       "1                  f        f  ...           y  1.70            y  19   \n",
       "2                  f        f  ...           y  0.20            y   4   \n",
       "3                  f        f  ...           y  0.40            y   6   \n",
       "4                  f        f  ...           y  1.20            y  57   \n",
       "\n",
       "  T4U_measured   T4U FTI_measured FTI TBG_measured TBG  \n",
       "0            y  1.48            y  10            n   ?  \n",
       "1            y  1.13            y  17            n   ?  \n",
       "2            y     1            y   0            n   ?  \n",
       "3            y  1.04            y   6            n   ?  \n",
       "4            y  1.28            y  44            n   ?  \n",
       "\n",
       "[5 rows x 26 columns]"
      ]
     },
     "execution_count": 2,
     "metadata": {},
     "output_type": "execute_result"
    }
   ],
   "source": [
    "# now that we have the data frame, let's rename to sensible values\n",
    "# names for this data set are here\n",
    "# hypothyroid.names\n",
    "colnames = {0 : 'hypothyroid', 1: 'age', 2: 'sex', 3:'on_thyroxine', 4:'query_on_thyroxine',\n",
    "       5:'on_antithyroid_medication', 6:'thyroid_surgery', 7:'query_hypothyroid', 8:'query_hyperthyroid',\n",
    "       9:'pregnant', 10:'sick', 11:'tumor', 12:'lithium', 13:'goitre', 14:'TSH_measured', 15:'TSH',\n",
    "       16:'T3_measured', 17:'T3', 18:'TT4_measured', 19:'TT4', 20:'T4U_measured', 21:'T4U', \n",
    "       22:'FTI_measured', 23:'FTI', 24:'TBG_measured', 25:'TBG'}\n",
    "            \n",
    "            \n",
    "df.rename(columns = colnames, inplace=True)\n",
    "df.head()"
   ]
  },
  {
   "cell_type": "markdown",
   "metadata": {},
   "source": [
    "### Data Cleaning and Conversion"
   ]
  },
  {
   "cell_type": "code",
   "execution_count": 3,
   "metadata": {},
   "outputs": [
    {
     "data": {
      "text/plain": [
       "hypothyroid                  category\n",
       "age                           float64\n",
       "sex                          category\n",
       "on_thyroxine                 category\n",
       "on_antithyroid_medication    category\n",
       "thyroid_surgery              category\n",
       "pregnant                     category\n",
       "sick                         category\n",
       "tumor                        category\n",
       "lithium                      category\n",
       "TSH_measured                 category\n",
       "TSH                           float64\n",
       "dtype: object"
      ]
     },
     "execution_count": 3,
     "metadata": {},
     "output_type": "execute_result"
    }
   ],
   "source": [
    "# Convert some columns the their approperiate type\n",
    "# and drop others (since I have no idea what they mean, and they're not necessary for the excercise)\n",
    "\n",
    "# convert the categorical variables over to categories\n",
    "category_list = ['hypothyroid', 'sex', 'on_thyroxine', 'on_antithyroid_medication', 'thyroid_surgery',\n",
    "                'pregnant', 'sick', 'tumor', 'lithium', 'goitre', 'TSH_measured', 'T3_measured',\n",
    "                 'TT4_measured', 'T4U_measured', 'FTI_measured', 'TBG_measured']\n",
    "for col in category_list:\n",
    "    df[col] = df[col].astype('category')\n",
    "    \n",
    "# convert numeric cols to numeric.\n",
    "numeric_list = ['age', 'TSH', 'T3', 'TT4', 'T4U',\n",
    "               'FTI', 'TBG']\n",
    "for col in numeric_list:\n",
    "    df[col] = pd.to_numeric(df[col], errors='coerce')\n",
    "    \n",
    "# Drop all these columns which start with 'query'\n",
    "df = df.loc[:, ~df.columns.str.startswith('query')]\n",
    "\n",
    "# Drop a few more columns as they're not necessary for the excercise\n",
    "drops = ['T3_measured', 'T3', 'TT4_measured', 'TT4',\n",
    "        'T4U_measured', 'T4U', 'FTI_measured', 'FTI',\n",
    "        'goitre', 'TBG_measured', 'TBG']\n",
    "\n",
    "df = df.drop(drops, axis=1)\n",
    "\n",
    "# Check output to see that the types are right.\n",
    "df.dtypes"
   ]
  },
  {
   "cell_type": "code",
   "execution_count": 4,
   "metadata": {},
   "outputs": [
    {
     "data": {
      "text/plain": [
       "hypothyroid                    0\n",
       "age                          446\n",
       "sex                            0\n",
       "on_thyroxine                   0\n",
       "on_antithyroid_medication      0\n",
       "thyroid_surgery                0\n",
       "pregnant                       0\n",
       "sick                           0\n",
       "tumor                          0\n",
       "lithium                        0\n",
       "TSH_measured                   0\n",
       "TSH                          468\n",
       "dtype: int64"
      ]
     },
     "execution_count": 4,
     "metadata": {},
     "output_type": "execute_result"
    }
   ],
   "source": [
    "# See how many NaN values there are\n",
    "# There will be many replacements in Age (446) and TSH (468)\n",
    "df.isna().sum()"
   ]
  },
  {
   "cell_type": "code",
   "execution_count": 5,
   "metadata": {},
   "outputs": [],
   "source": [
    "# For the TSH column we will fill all NaNs with a 0\n",
    "# This would signify that they haven't received a test.\n",
    "df['TSH'] = df['TSH'].fillna(0)"
   ]
  },
  {
   "cell_type": "code",
   "execution_count": 6,
   "metadata": {},
   "outputs": [
    {
     "data": {
      "image/png": "[encoded data removed]",
      "text/plain": [
       "<Figure size 432x288 with 1 Axes>"
      ]
     },
     "metadata": {
      "needs_background": "light"
     },
     "output_type": "display_data"
    },
    {
     "data": {
      "image/png": "[encoded data removed]",
      "text/plain": [
       "<Figure size 432x288 with 1 Axes>"
      ]
     },
     "metadata": {
      "needs_background": "light"
     },
     "output_type": "display_data"
    }
   ],
   "source": [
    "# Check out histograms of numeric columns\n",
    "plot_cols = ['age','TSH']\n",
    "\n",
    "for col in plot_cols:\n",
    "    sns.distplot(df[col]);\n",
    "    plt.show()"
   ]
  },
  {
   "cell_type": "code",
   "execution_count": 7,
   "metadata": {},
   "outputs": [
    {
     "data": {
      "image/png": "[encoded data removed]",
      "text/plain": [
       "<Figure size 432x288 with 1 Axes>"
      ]
     },
     "metadata": {
      "needs_background": "light"
     },
     "output_type": "display_data"
    }
   ],
   "source": [
    "# Looks like TSH (thyroid stimulating hormone) has some crazy outliers in it.\n",
    "# Since this is a disease model, we should cap them with a uniform number that is still\n",
    "# very high. \n",
    "# This accomplishes a few things:\n",
    "# - It doesn't lose the information that these are 'abnormal' values (which may indicate disease)\n",
    "# - It helps later down the line with any potential modeling, since the new value should be \n",
    "#    much closer to the top of a \"normal\" range. I chose the number 25 for this,\n",
    "#    as a normal range for TSH is usually lower than 10\n",
    "\n",
    "df['TSH'].values[df['TSH'].values >= 25] = 25\n",
    "\n",
    "sns.distplot(df['TSH']);\n",
    "plt.show()"
   ]
  },
  {
   "cell_type": "code",
   "execution_count": 8,
   "metadata": {},
   "outputs": [
    {
     "data": {
      "image/png": "[encoded data removed]",
      "text/plain": [
       "<Figure size 432x288 with 1 Axes>"
      ]
     },
     "metadata": {
      "needs_background": "light"
     },
     "output_type": "display_data"
    }
   ],
   "source": [
    "# Now we have to clean the age column by filling any extreme values or NaNs with the median\n",
    "age_median = np.nanmedian(df['age'])\n",
    "df['age'] = np.nan_to_num(df['age'], nan = age_median)\n",
    "\n",
    "sns.distplot(df['age']);\n",
    "plt.show()"
   ]
  },
  {
   "cell_type": "code",
   "execution_count": 9,
   "metadata": {},
   "outputs": [
    {
     "data": {
      "image/png": "[encoded data removed]",
      "text/plain": [
       "<Figure size 432x288 with 1 Axes>"
      ]
     },
     "metadata": {
      "needs_background": "light"
     },
     "output_type": "display_data"
    }
   ],
   "source": [
    "# Fill out the rest of the needs for the assignment\n",
    "sns.scatterplot(df['age'], df['TSH']);\n",
    "plt.show()"
   ]
  },
  {
   "cell_type": "code",
   "execution_count": 10,
   "metadata": {},
   "outputs": [
    {
     "name": "stdout",
     "output_type": "stream",
     "text": [
      "Standard deviation for age is 17.906553131791483\n",
      "Standard deviation for TSH is 5.9751969609011315\n"
     ]
    }
   ],
   "source": [
    "# Print the std deviation for numerics\n",
    "for col in plot_cols:\n",
    "    std = np.std(df[col])\n",
    "    print('Standard deviation for ' + str(col) + ' is ' + str(std))\n"
   ]
  },
  {
   "cell_type": "markdown",
   "metadata": {},
   "source": [
    "### Summary\n",
    "\n",
    "- Both age and TSH had outliers, which were identified through visual inspection and categorization of missing values.\n",
    "- TSH required imputation via 'capping' where we set a ceiling, above which very high values are rounded down to the ceiling.\n",
    "- Age required imputation via substitution of median for missing values. This makes the most sense since the best 'guess' anyone could make about an unknown age is the most common age of the population or sample.\n",
    "- I histogrammed the age and TSH columns, since I wanted to know their distributions.\n",
    "- As this was a large data set, I removed attributes where I didn't know their meaning ('query_'), those where the meaning was clear but I already had a large amount of data (non TSH test results such as T3, T4U, etc), and categorical variables which were unintersting ('goiter' is not super clinically relevant for thyroid disease, as it's already detected via TSH).\n",
    "- I actually kept all rows. If this was later used in a modeling excercise, I would consider throwing out rows where we lacked age _AND_ TSH, or some other measure of a \"junky\" row."
   ]
  }
 ],
 "metadata": {
  "kernelspec": {
   "display_name": "Python 3",
   "language": "python",
   "name": "python3"
  },
  "language_info": {
   "codemirror_mode": {
    "name": "ipython",
    "version": 3
   },
   "file_extension": ".py",
   "mimetype": "text/x-python",
   "name": "python",
   "nbconvert_exporter": "python",
   "pygments_lexer": "ipython3",
   "version": "3.7.0"
  }
 },
 "nbformat": 4,
 "nbformat_minor": 4
}
