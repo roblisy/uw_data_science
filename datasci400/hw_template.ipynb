{
 "cells": [
  {
   "cell_type": "markdown",
   "metadata": {},
   "source": [
    "# Milestone 1\n",
    "# Rob Lisy"
   ]
  },
  {
   "cell_type": "markdown",
   "metadata": {},
   "source": [
    "## Best Practices for Assignments & Milestones\n",
    "\n",
    "- <b>Break the assignment into sections - one section per numbered requirement.</b> Each assignment has numbered requirements/instructions e.g. \"1. Read the CIFAR-10 dataset\". Each requirement should have at least one markdown cell and at least one code cell. Feel free to combine sections or make other sensible changes if that makes sense for your code and is still clear. The intent is to give you a useful structure and to make sure you get full credit for your work.\n",
    "\n",
    "- <b>Break the milestone into sections - one section for each item in the rubric.</b> Each milestone has rubric items e.g. \"5. Handle class imbalance problem\". Each rubric item should have at least one markdown cell and at least one code cell. Feel free to combine sections or make other sensible changes if that makes sense for your code and is still clear. The intent is to give you a useful structure and to make sure you get full credit for your work.\n",
    "\n",
    "- <b>Include comments, with block comments preferred over in-line comments.</b> A good habit is to start each code cell with comments.\n",
    "\n",
    "The above put into a useful pattern:\n",
    "\n",
    "<b>Markdown cell:</b> Requirement #1: Read the CIFAR-10 dataset<br>\n",
    "<b>Code cell:</b>: Comments followed by code<br>\n",
    "<b>Markdown cell:</b> Requirement #2: Explore the data<br>\n",
    "<b>Code cell:</b>: Comments followed by code<br>\n",
    "<b>Markdown cell:</b> Requirement #3: Preprocess the data and prepare for classification<br>\n",
    "<b>Code cell:</b>: Comments followed by code<br>\n",
    "\n",
    "For more information:\n",
    "- A good notebook example: [DataFrame Basics](https://github.com/Tanu-N-Prabhu/Python/blob/master/Pandas/Pandas_DataFrame.ipynb) \n",
    "- More example notebooks: [A gallery of interesting Jupyter Notebooks](https://github.com/jupyter/jupyter/wiki/A-gallery-of-interesting-Jupyter-Notebooks#pandas-for-data-analysis)\n",
    "- [PEP 8 on commenting](https://www.python.org/dev/peps/pep-0008/)\n",
    "- [PEP 257 - docstrings](https://www.python.org/dev/peps/pep-0257/)\n",
    "\n",
    "Occasionally an assignment or milestone will ask you to do something other than write Python code e.g. ask you turn in a .docx file. In which case, please use logical structuring, but the specific notes above may not apply."
   ]
  },
  {
   "cell_type": "code",
   "execution_count": null,
   "metadata": {},
   "outputs": [],
   "source": []
  }
 ],
 "metadata": {
  "kernelspec": {
   "display_name": "Python 3",
   "language": "python",
   "name": "python3"
  },
  "language_info": {
   "codemirror_mode": {
    "name": "ipython",
    "version": 3
   },
   "file_extension": ".py",
   "mimetype": "text/x-python",
   "name": "python",
   "nbconvert_exporter": "python",
   "pygments_lexer": "ipython3",
   "version": "3.7.0"
  }
 },
 "nbformat": 4,
 "nbformat_minor": 4
}
