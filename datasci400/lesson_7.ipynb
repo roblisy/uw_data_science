{
 "cells": [
  {
   "cell_type": "markdown",
   "metadata": {},
   "source": [
    "# Clustering"
   ]
  },
  {
   "cell_type": "markdown",
   "metadata": {},
   "source": [
    "In this notebook, we learn about one of the most common un-supervised learning methods: clustering. There isn't a single algorithm for clustering, but the most common one is called **k-means clustering** where $k$ refers to the number of clusters we wish to have. Note that $k$ isn't really something we can learn from the data. It's something we must specify ahead of time, and while there are some guidelines we can use to choose a reasonable value for $k$, ultimately it's a subjective choice. In fact, with un-supervised learning in general, there is a lot of subjectivity involved, making it hard to interpret results."
   ]
  },
  {
   "cell_type": "code",
   "execution_count": 1,
   "metadata": {},
   "outputs": [
    {
     "data": {
      "text/html": [
       "<div>\n",
       "<style scoped>\n",
       "    .dataframe tbody tr th:only-of-type {\n",
       "        vertical-align: middle;\n",
       "    }\n",
       "\n",
       "    .dataframe tbody tr th {\n",
       "        vertical-align: top;\n",
       "    }\n",
       "\n",
       "    .dataframe thead th {\n",
       "        text-align: right;\n",
       "    }\n",
       "</style>\n",
       "<table border=\"1\" class=\"dataframe\">\n",
       "  <thead>\n",
       "    <tr style=\"text-align: right;\">\n",
       "      <th></th>\n",
       "      <th>workclass</th>\n",
       "      <th>education</th>\n",
       "      <th>education-num</th>\n",
       "      <th>marital-status</th>\n",
       "      <th>occupation</th>\n",
       "      <th>relationship</th>\n",
       "      <th>race</th>\n",
       "      <th>sex</th>\n",
       "      <th>capital-gain</th>\n",
       "      <th>capital-loss</th>\n",
       "      <th>hours-per-week</th>\n",
       "      <th>native-country</th>\n",
       "      <th>income</th>\n",
       "    </tr>\n",
       "  </thead>\n",
       "  <tbody>\n",
       "    <tr>\n",
       "      <th>0</th>\n",
       "      <td>State-gov</td>\n",
       "      <td>Bachelors</td>\n",
       "      <td>13</td>\n",
       "      <td>Never-married</td>\n",
       "      <td>Adm-clerical</td>\n",
       "      <td>Not-in-family</td>\n",
       "      <td>White</td>\n",
       "      <td>Male</td>\n",
       "      <td>2174</td>\n",
       "      <td>0</td>\n",
       "      <td>40</td>\n",
       "      <td>United-States</td>\n",
       "      <td>&lt;=50K</td>\n",
       "    </tr>\n",
       "    <tr>\n",
       "      <th>1</th>\n",
       "      <td>Self-emp-not-inc</td>\n",
       "      <td>Bachelors</td>\n",
       "      <td>13</td>\n",
       "      <td>Married-civ-spouse</td>\n",
       "      <td>Exec-managerial</td>\n",
       "      <td>Husband</td>\n",
       "      <td>White</td>\n",
       "      <td>Male</td>\n",
       "      <td>0</td>\n",
       "      <td>0</td>\n",
       "      <td>13</td>\n",
       "      <td>United-States</td>\n",
       "      <td>&lt;=50K</td>\n",
       "    </tr>\n",
       "    <tr>\n",
       "      <th>2</th>\n",
       "      <td>Private</td>\n",
       "      <td>HS-grad</td>\n",
       "      <td>9</td>\n",
       "      <td>Divorced</td>\n",
       "      <td>Handlers-cleaners</td>\n",
       "      <td>Not-in-family</td>\n",
       "      <td>White</td>\n",
       "      <td>Male</td>\n",
       "      <td>0</td>\n",
       "      <td>0</td>\n",
       "      <td>40</td>\n",
       "      <td>United-States</td>\n",
       "      <td>&lt;=50K</td>\n",
       "    </tr>\n",
       "    <tr>\n",
       "      <th>3</th>\n",
       "      <td>Private</td>\n",
       "      <td>11th</td>\n",
       "      <td>7</td>\n",
       "      <td>Married-civ-spouse</td>\n",
       "      <td>Handlers-cleaners</td>\n",
       "      <td>Husband</td>\n",
       "      <td>Black</td>\n",
       "      <td>Male</td>\n",
       "      <td>0</td>\n",
       "      <td>0</td>\n",
       "      <td>40</td>\n",
       "      <td>United-States</td>\n",
       "      <td>&lt;=50K</td>\n",
       "    </tr>\n",
       "    <tr>\n",
       "      <th>4</th>\n",
       "      <td>Private</td>\n",
       "      <td>Bachelors</td>\n",
       "      <td>13</td>\n",
       "      <td>Married-civ-spouse</td>\n",
       "      <td>Prof-specialty</td>\n",
       "      <td>Wife</td>\n",
       "      <td>Black</td>\n",
       "      <td>Female</td>\n",
       "      <td>0</td>\n",
       "      <td>0</td>\n",
       "      <td>40</td>\n",
       "      <td>Cuba</td>\n",
       "      <td>&lt;=50K</td>\n",
       "    </tr>\n",
       "  </tbody>\n",
       "</table>\n",
       "</div>"
      ],
      "text/plain": [
       "           workclass   education  education-num       marital-status  \\\n",
       "0          State-gov   Bachelors             13        Never-married   \n",
       "1   Self-emp-not-inc   Bachelors             13   Married-civ-spouse   \n",
       "2            Private     HS-grad              9             Divorced   \n",
       "3            Private        11th              7   Married-civ-spouse   \n",
       "4            Private   Bachelors             13   Married-civ-spouse   \n",
       "\n",
       "           occupation    relationship    race      sex  capital-gain  \\\n",
       "0        Adm-clerical   Not-in-family   White     Male          2174   \n",
       "1     Exec-managerial         Husband   White     Male             0   \n",
       "2   Handlers-cleaners   Not-in-family   White     Male             0   \n",
       "3   Handlers-cleaners         Husband   Black     Male             0   \n",
       "4      Prof-specialty            Wife   Black   Female             0   \n",
       "\n",
       "   capital-loss  hours-per-week  native-country  income  \n",
       "0             0              40   United-States   <=50K  \n",
       "1             0              13   United-States   <=50K  \n",
       "2             0              40   United-States   <=50K  \n",
       "3             0              40   United-States   <=50K  \n",
       "4             0              40            Cuba   <=50K  "
      ]
     },
     "execution_count": 1,
     "metadata": {},
     "output_type": "execute_result"
    }
   ],
   "source": [
    "import pandas as pd\n",
    "import numpy as np\n",
    "\n",
    "census = pd.read_csv('data/adult_train.csv', sep = \",\", header = 0)\n",
    "census = census.drop(columns = ['fnlwgt', 'age'])\n",
    "census.head()"
   ]
  },
  {
   "cell_type": "markdown",
   "metadata": {},
   "source": [
    "To make some of the results we generate a little easier to read, we will clean the data in the following way:\n",
    "1. We replace the any hyphen with underscore in the column names.\n",
    "1. In the `income` column, we replace `<=` with `lt_` and `>` with `gt_`"
   ]
  },
  {
   "cell_type": "code",
   "execution_count": 2,
   "metadata": {},
   "outputs": [
    {
     "data": {
      "text/plain": [
       " lt_50K    24720\n",
       " gt_50K     7841\n",
       "Name: income, dtype: int64"
      ]
     },
     "execution_count": 2,
     "metadata": {},
     "output_type": "execute_result"
    }
   ],
   "source": [
    "census.columns = census.columns.str.replace(\"-\", \"_\")\n",
    "\n",
    "census[\"income\"] = census[\"income\"].replace(\"<=\", \"lt_\", regex = True)\n",
    "census[\"income\"] = census[\"income\"].replace(\">\", \"gt_\", regex = True)\n",
    "\n",
    "census[\"income\"].value_counts()"
   ]
  },
  {
   "cell_type": "markdown",
   "metadata": {},
   "source": [
    "### Exercise\n",
    "\n",
    "Let's get a list of all the categorical columns in the data:"
   ]
  },
  {
   "cell_type": "code",
   "execution_count": 3,
   "metadata": {},
   "outputs": [],
   "source": [
    "cat_vars = census.select_dtypes('object').columns.to_list()"
   ]
  },
  {
   "cell_type": "markdown",
   "metadata": {},
   "source": [
    "For each of the categorical columns in `cat_vars` do the following:\n",
    "\n",
    "- Find all the rows that hypens and replace it with underscore.\n",
    "- Convert all the strings to lower case."
   ]
  },
  {
   "cell_type": "code",
   "execution_count": 20,
   "metadata": {},
   "outputs": [],
   "source": [
    "for c in cat_vars:\n",
    "    census[c] = census[c].str.lower().replace(\"-\", \"_\")\n",
    "#    census[c] = census[c].str.lower()\n"
   ]
  },
  {
   "cell_type": "markdown",
   "metadata": {},
   "source": [
    "Show the top 5 rows of the data to make sure your transformations worked."
   ]
  },
  {
   "cell_type": "code",
   "execution_count": 21,
   "metadata": {},
   "outputs": [
    {
     "data": {
      "text/html": [
       "<div>\n",
       "<style scoped>\n",
       "    .dataframe tbody tr th:only-of-type {\n",
       "        vertical-align: middle;\n",
       "    }\n",
       "\n",
       "    .dataframe tbody tr th {\n",
       "        vertical-align: top;\n",
       "    }\n",
       "\n",
       "    .dataframe thead th {\n",
       "        text-align: right;\n",
       "    }\n",
       "</style>\n",
       "<table border=\"1\" class=\"dataframe\">\n",
       "  <thead>\n",
       "    <tr style=\"text-align: right;\">\n",
       "      <th></th>\n",
       "      <th>workclass</th>\n",
       "      <th>education</th>\n",
       "      <th>marital_status</th>\n",
       "      <th>occupation</th>\n",
       "      <th>relationship</th>\n",
       "      <th>race</th>\n",
       "      <th>sex</th>\n",
       "      <th>native_country</th>\n",
       "      <th>income</th>\n",
       "    </tr>\n",
       "  </thead>\n",
       "  <tbody>\n",
       "    <tr>\n",
       "      <th>0</th>\n",
       "      <td>state_gov</td>\n",
       "      <td>bachelors</td>\n",
       "      <td>never_married</td>\n",
       "      <td>adm_clerical</td>\n",
       "      <td>not_in_family</td>\n",
       "      <td>white</td>\n",
       "      <td>male</td>\n",
       "      <td>united_states</td>\n",
       "      <td>lt_50k</td>\n",
       "    </tr>\n",
       "    <tr>\n",
       "      <th>1</th>\n",
       "      <td>self_emp_not_inc</td>\n",
       "      <td>bachelors</td>\n",
       "      <td>married_civ_spouse</td>\n",
       "      <td>exec_managerial</td>\n",
       "      <td>husband</td>\n",
       "      <td>white</td>\n",
       "      <td>male</td>\n",
       "      <td>united_states</td>\n",
       "      <td>lt_50k</td>\n",
       "    </tr>\n",
       "    <tr>\n",
       "      <th>2</th>\n",
       "      <td>private</td>\n",
       "      <td>hs_grad</td>\n",
       "      <td>divorced</td>\n",
       "      <td>handlers_cleaners</td>\n",
       "      <td>not_in_family</td>\n",
       "      <td>white</td>\n",
       "      <td>male</td>\n",
       "      <td>united_states</td>\n",
       "      <td>lt_50k</td>\n",
       "    </tr>\n",
       "    <tr>\n",
       "      <th>3</th>\n",
       "      <td>private</td>\n",
       "      <td>11th</td>\n",
       "      <td>married_civ_spouse</td>\n",
       "      <td>handlers_cleaners</td>\n",
       "      <td>husband</td>\n",
       "      <td>black</td>\n",
       "      <td>male</td>\n",
       "      <td>united_states</td>\n",
       "      <td>lt_50k</td>\n",
       "    </tr>\n",
       "    <tr>\n",
       "      <th>4</th>\n",
       "      <td>private</td>\n",
       "      <td>bachelors</td>\n",
       "      <td>married_civ_spouse</td>\n",
       "      <td>prof_specialty</td>\n",
       "      <td>wife</td>\n",
       "      <td>black</td>\n",
       "      <td>female</td>\n",
       "      <td>cuba</td>\n",
       "      <td>lt_50k</td>\n",
       "    </tr>\n",
       "  </tbody>\n",
       "</table>\n",
       "</div>"
      ],
      "text/plain": [
       "           workclass   education       marital_status          occupation  \\\n",
       "0          state_gov   bachelors        never_married        adm_clerical   \n",
       "1   self_emp_not_inc   bachelors   married_civ_spouse     exec_managerial   \n",
       "2            private     hs_grad             divorced   handlers_cleaners   \n",
       "3            private        11th   married_civ_spouse   handlers_cleaners   \n",
       "4            private   bachelors   married_civ_spouse      prof_specialty   \n",
       "\n",
       "     relationship    race      sex  native_country   income  \n",
       "0   not_in_family   white     male   united_states   lt_50k  \n",
       "1         husband   white     male   united_states   lt_50k  \n",
       "2   not_in_family   white     male   united_states   lt_50k  \n",
       "3         husband   black     male   united_states   lt_50k  \n",
       "4            wife   black   female            cuba   lt_50k  "
      ]
     },
     "execution_count": 21,
     "metadata": {},
     "output_type": "execute_result"
    }
   ],
   "source": [
    "census[cat_vars].head()"
   ]
  },
  {
   "cell_type": "markdown",
   "metadata": {},
   "source": [
    "### End of exercise"
   ]
  },
  {
   "cell_type": "markdown",
   "metadata": {},
   "source": [
    "The k-means clustering algorithm tries to find which rows of the data are similar to each other, where similarity is based having attributes (columns) that are close to each other. To determine closeness, we use **Euclidean distance**. Let's say for the sake of example we have only two columns: `education_num` and `capital_gain`. Let's grab two rows of the data (can be any two rows):"
   ]
  },
  {
   "cell_type": "code",
   "execution_count": 22,
   "metadata": {},
   "outputs": [
    {
     "data": {
      "text/html": [
       "<div>\n",
       "<style scoped>\n",
       "    .dataframe tbody tr th:only-of-type {\n",
       "        vertical-align: middle;\n",
       "    }\n",
       "\n",
       "    .dataframe tbody tr th {\n",
       "        vertical-align: top;\n",
       "    }\n",
       "\n",
       "    .dataframe thead th {\n",
       "        text-align: right;\n",
       "    }\n",
       "</style>\n",
       "<table border=\"1\" class=\"dataframe\">\n",
       "  <thead>\n",
       "    <tr style=\"text-align: right;\">\n",
       "      <th></th>\n",
       "      <th>education_num</th>\n",
       "      <th>capital_gain</th>\n",
       "    </tr>\n",
       "  </thead>\n",
       "  <tbody>\n",
       "    <tr>\n",
       "      <th>0</th>\n",
       "      <td>13</td>\n",
       "      <td>2174</td>\n",
       "    </tr>\n",
       "    <tr>\n",
       "      <th>197</th>\n",
       "      <td>14</td>\n",
       "      <td>14084</td>\n",
       "    </tr>\n",
       "  </tbody>\n",
       "</table>\n",
       "</div>"
      ],
      "text/plain": [
       "     education_num  capital_gain\n",
       "0               13          2174\n",
       "197             14         14084"
      ]
     },
     "execution_count": 22,
     "metadata": {},
     "output_type": "execute_result"
    }
   ],
   "source": [
    "which_cols = ['education_num', 'capital_gain']\n",
    "\n",
    "two_rows = census.loc[[0, 197], which_cols]\n",
    "two_rows"
   ]
  },
  {
   "cell_type": "markdown",
   "metadata": {},
   "source": [
    "The $E_0$ and $C_0$ refer to `education_num` and `capital_gain` at row with index 0, and $E_{197}$ and $C_{197}$ refer to `education_num` and `capital_gain` at row with index 197, the the Euclidean distance between the two rows is given by the following equation: \n",
    "\n",
    "$$D(0, 197) = \\sqrt{(E_0-E_{197})^2 + (C_0-C_{197})^2}$$\n",
    "\n",
    "To calculate this distance, it's probably easiest to convert our `DataFrame` to a `numpy` array first:"
   ]
  },
  {
   "cell_type": "code",
   "execution_count": 23,
   "metadata": {},
   "outputs": [
    {
     "data": {
      "text/plain": [
       "array([[   13,  2174],\n",
       "       [   14, 14084]])"
      ]
     },
     "execution_count": 23,
     "metadata": {},
     "output_type": "execute_result"
    }
   ],
   "source": [
    "two_rows = two_rows.values # using values turns DataFrame into numpy array\n",
    "two_rows"
   ]
  },
  {
   "cell_type": "markdown",
   "metadata": {},
   "source": [
    "### Exercise\n",
    "\n",
    "Use `numpy` to calculate the Euclidean distance between the two rows:"
   ]
  },
  {
   "cell_type": "code",
   "execution_count": 24,
   "metadata": {},
   "outputs": [
    {
     "name": "stdout",
     "output_type": "stream",
     "text": [
      "11910.000041981528\n"
     ]
    }
   ],
   "source": [
    "dist = np.linalg.norm(two_rows[0]-two_rows[1])\n",
    "print(dist)"
   ]
  },
  {
   "cell_type": "markdown",
   "metadata": {},
   "source": [
    "Notice that the Euclidian distance is dominated by the difference in the rows in the `captial_gain` column. This is because this column has a much bigger **scale** than `education_num`. So what can we do to make sure both columns can influence the distance equally? We can **normalize** the columns.\n",
    "\n",
    "Use `numpy` to normalize the columns of the data. We will use **Z-normalization**, which is the following transformation: \n",
    "\n",
    "$$x_{\\text{norm}} = \\dfrac{x - \\text{mean}(x)}{\\text{std}(x)}$$\n",
    "\n",
    "Where the mean and standard deviation are calculated on the **whole data**, not just the two rows above. Find the mean and standard deviations of `education_num` and `capital_gain` for the whole `census` data and use them to normalize the `two_rows`.\n",
    "\n",
    "HINT: You can calculate the mean using this: `census[which_cols].values.mean(axis = 0)`. By default `axis = 0` but we specify it just to be sure. You can get the standard deviation similarly, using the `std` method."
   ]
  },
  {
   "cell_type": "code",
   "execution_count": 25,
   "metadata": {},
   "outputs": [
    {
     "data": {
      "text/html": [
       "<div>\n",
       "<style scoped>\n",
       "    .dataframe tbody tr th:only-of-type {\n",
       "        vertical-align: middle;\n",
       "    }\n",
       "\n",
       "    .dataframe tbody tr th {\n",
       "        vertical-align: top;\n",
       "    }\n",
       "\n",
       "    .dataframe thead th {\n",
       "        text-align: right;\n",
       "    }\n",
       "</style>\n",
       "<table border=\"1\" class=\"dataframe\">\n",
       "  <thead>\n",
       "    <tr style=\"text-align: right;\">\n",
       "      <th></th>\n",
       "      <th>workclass</th>\n",
       "      <th>education</th>\n",
       "      <th>education_num</th>\n",
       "      <th>marital_status</th>\n",
       "      <th>occupation</th>\n",
       "      <th>relationship</th>\n",
       "      <th>race</th>\n",
       "      <th>sex</th>\n",
       "      <th>capital_gain</th>\n",
       "      <th>capital_loss</th>\n",
       "      <th>hours_per_week</th>\n",
       "      <th>native_country</th>\n",
       "      <th>income</th>\n",
       "      <th>education_num_zscore</th>\n",
       "      <th>capital_gain_zscore</th>\n",
       "    </tr>\n",
       "  </thead>\n",
       "  <tbody>\n",
       "    <tr>\n",
       "      <th>0</th>\n",
       "      <td>state_gov</td>\n",
       "      <td>bachelors</td>\n",
       "      <td>13</td>\n",
       "      <td>never_married</td>\n",
       "      <td>adm_clerical</td>\n",
       "      <td>not_in_family</td>\n",
       "      <td>white</td>\n",
       "      <td>male</td>\n",
       "      <td>2174</td>\n",
       "      <td>0</td>\n",
       "      <td>40</td>\n",
       "      <td>united_states</td>\n",
       "      <td>lt_50k</td>\n",
       "      <td>1.134739</td>\n",
       "      <td>0.148453</td>\n",
       "    </tr>\n",
       "    <tr>\n",
       "      <th>1</th>\n",
       "      <td>self_emp_not_inc</td>\n",
       "      <td>bachelors</td>\n",
       "      <td>13</td>\n",
       "      <td>married_civ_spouse</td>\n",
       "      <td>exec_managerial</td>\n",
       "      <td>husband</td>\n",
       "      <td>white</td>\n",
       "      <td>male</td>\n",
       "      <td>0</td>\n",
       "      <td>0</td>\n",
       "      <td>13</td>\n",
       "      <td>united_states</td>\n",
       "      <td>lt_50k</td>\n",
       "      <td>1.134739</td>\n",
       "      <td>-0.145920</td>\n",
       "    </tr>\n",
       "    <tr>\n",
       "      <th>2</th>\n",
       "      <td>private</td>\n",
       "      <td>hs_grad</td>\n",
       "      <td>9</td>\n",
       "      <td>divorced</td>\n",
       "      <td>handlers_cleaners</td>\n",
       "      <td>not_in_family</td>\n",
       "      <td>white</td>\n",
       "      <td>male</td>\n",
       "      <td>0</td>\n",
       "      <td>0</td>\n",
       "      <td>40</td>\n",
       "      <td>united_states</td>\n",
       "      <td>lt_50k</td>\n",
       "      <td>-0.420060</td>\n",
       "      <td>-0.145920</td>\n",
       "    </tr>\n",
       "    <tr>\n",
       "      <th>3</th>\n",
       "      <td>private</td>\n",
       "      <td>11th</td>\n",
       "      <td>7</td>\n",
       "      <td>married_civ_spouse</td>\n",
       "      <td>handlers_cleaners</td>\n",
       "      <td>husband</td>\n",
       "      <td>black</td>\n",
       "      <td>male</td>\n",
       "      <td>0</td>\n",
       "      <td>0</td>\n",
       "      <td>40</td>\n",
       "      <td>united_states</td>\n",
       "      <td>lt_50k</td>\n",
       "      <td>-1.197459</td>\n",
       "      <td>-0.145920</td>\n",
       "    </tr>\n",
       "    <tr>\n",
       "      <th>4</th>\n",
       "      <td>private</td>\n",
       "      <td>bachelors</td>\n",
       "      <td>13</td>\n",
       "      <td>married_civ_spouse</td>\n",
       "      <td>prof_specialty</td>\n",
       "      <td>wife</td>\n",
       "      <td>black</td>\n",
       "      <td>female</td>\n",
       "      <td>0</td>\n",
       "      <td>0</td>\n",
       "      <td>40</td>\n",
       "      <td>cuba</td>\n",
       "      <td>lt_50k</td>\n",
       "      <td>1.134739</td>\n",
       "      <td>-0.145920</td>\n",
       "    </tr>\n",
       "  </tbody>\n",
       "</table>\n",
       "</div>"
      ],
      "text/plain": [
       "           workclass   education  education_num       marital_status  \\\n",
       "0          state_gov   bachelors             13        never_married   \n",
       "1   self_emp_not_inc   bachelors             13   married_civ_spouse   \n",
       "2            private     hs_grad              9             divorced   \n",
       "3            private        11th              7   married_civ_spouse   \n",
       "4            private   bachelors             13   married_civ_spouse   \n",
       "\n",
       "           occupation    relationship    race      sex  capital_gain  \\\n",
       "0        adm_clerical   not_in_family   white     male          2174   \n",
       "1     exec_managerial         husband   white     male             0   \n",
       "2   handlers_cleaners   not_in_family   white     male             0   \n",
       "3   handlers_cleaners         husband   black     male             0   \n",
       "4      prof_specialty            wife   black   female             0   \n",
       "\n",
       "   capital_loss  hours_per_week  native_country   income  \\\n",
       "0             0              40   united_states   lt_50k   \n",
       "1             0              13   united_states   lt_50k   \n",
       "2             0              40   united_states   lt_50k   \n",
       "3             0              40   united_states   lt_50k   \n",
       "4             0              40            cuba   lt_50k   \n",
       "\n",
       "   education_num_zscore  capital_gain_zscore  \n",
       "0              1.134739             0.148453  \n",
       "1              1.134739            -0.145920  \n",
       "2             -0.420060            -0.145920  \n",
       "3             -1.197459            -0.145920  \n",
       "4              1.134739            -0.145920  "
      ]
     },
     "execution_count": 25,
     "metadata": {},
     "output_type": "execute_result"
    }
   ],
   "source": [
    "for col in which_cols:\n",
    "    col_zscore = col + '_zscore'\n",
    "    census[col_zscore] = (census[col] - census[col].mean())/census[col].std(ddof=0)\n",
    "\n",
    "census.head()"
   ]
  },
  {
   "cell_type": "markdown",
   "metadata": {},
   "source": [
    "Calculate the Euclidean distance of the normalized values of `two_rows`."
   ]
  },
  {
   "cell_type": "code",
   "execution_count": 26,
   "metadata": {},
   "outputs": [
    {
     "name": "stdout",
     "output_type": "stream",
     "text": [
      "1.6588715299689416\n"
     ]
    }
   ],
   "source": [
    "znorm_cols = ['education_num_zscore', 'capital_gain_zscore']\n",
    "two_rows = census.loc[[0, 197], znorm_cols]\n",
    "two_rows = two_rows.values\n",
    "two_rows\n",
    "\n",
    "dist = np.linalg.norm(two_rows[0] - two_rows[1])\n",
    "print(dist)"
   ]
  },
  {
   "cell_type": "markdown",
   "metadata": {},
   "source": [
    "### End of exercise"
   ]
  },
  {
   "cell_type": "markdown",
   "metadata": {},
   "source": [
    "If we had more columns we simply add a squared difference for each to the formula, and the `numpy` code to compute the distance stays the same. \n",
    "\n",
    "Let's now normalize all our numeric columns in one go using `pandas`. First we get a list of the numeric columns:"
   ]
  },
  {
   "cell_type": "code",
   "execution_count": 11,
   "metadata": {},
   "outputs": [
    {
     "name": "stdout",
     "output_type": "stream",
     "text": [
      "Index(['education_num', 'capital_gain', 'capital_loss', 'hours_per_week',\n",
      "       'education_num_zscore', 'capital_gain_zscore'],\n",
      "      dtype='object')\n"
     ]
    }
   ],
   "source": [
    "num_cols = census.select_dtypes(['integer', 'float']).columns\n",
    "print(num_cols)"
   ]
  },
  {
   "cell_type": "markdown",
   "metadata": {},
   "source": [
    "Now we use the `apply` method to apply a function to all the numeric columns at once, using `axis = 0` to say that the function applies across rows. We can either create a function ahead of time and pass it to apply, or in our case since the function is quite simple, we simply create it on the fly using the **lambda notation**. The important thing about our function is that it must be a function of a single array (which represents a column in our data), and return an array of the same size. A Z-normalization function matches this description."
   ]
  },
  {
   "cell_type": "code",
   "execution_count": 12,
   "metadata": {},
   "outputs": [
    {
     "data": {
      "text/html": [
       "<div>\n",
       "<style scoped>\n",
       "    .dataframe tbody tr th:only-of-type {\n",
       "        vertical-align: middle;\n",
       "    }\n",
       "\n",
       "    .dataframe tbody tr th {\n",
       "        vertical-align: top;\n",
       "    }\n",
       "\n",
       "    .dataframe thead th {\n",
       "        text-align: right;\n",
       "    }\n",
       "</style>\n",
       "<table border=\"1\" class=\"dataframe\">\n",
       "  <thead>\n",
       "    <tr style=\"text-align: right;\">\n",
       "      <th></th>\n",
       "      <th>education_num</th>\n",
       "      <th>capital_gain</th>\n",
       "      <th>capital_loss</th>\n",
       "      <th>hours_per_week</th>\n",
       "      <th>education_num_zscore</th>\n",
       "      <th>capital_gain_zscore</th>\n",
       "    </tr>\n",
       "  </thead>\n",
       "  <tbody>\n",
       "    <tr>\n",
       "      <th>0</th>\n",
       "      <td>1.134721</td>\n",
       "      <td>0.148451</td>\n",
       "      <td>-0.216656</td>\n",
       "      <td>-0.035429</td>\n",
       "      <td>1.134721</td>\n",
       "      <td>0.148451</td>\n",
       "    </tr>\n",
       "    <tr>\n",
       "      <th>1</th>\n",
       "      <td>1.134721</td>\n",
       "      <td>-0.145918</td>\n",
       "      <td>-0.216656</td>\n",
       "      <td>-2.222119</td>\n",
       "      <td>1.134721</td>\n",
       "      <td>-0.145918</td>\n",
       "    </tr>\n",
       "    <tr>\n",
       "      <th>2</th>\n",
       "      <td>-0.420053</td>\n",
       "      <td>-0.145918</td>\n",
       "      <td>-0.216656</td>\n",
       "      <td>-0.035429</td>\n",
       "      <td>-0.420053</td>\n",
       "      <td>-0.145918</td>\n",
       "    </tr>\n",
       "    <tr>\n",
       "      <th>3</th>\n",
       "      <td>-1.197440</td>\n",
       "      <td>-0.145918</td>\n",
       "      <td>-0.216656</td>\n",
       "      <td>-0.035429</td>\n",
       "      <td>-1.197440</td>\n",
       "      <td>-0.145918</td>\n",
       "    </tr>\n",
       "    <tr>\n",
       "      <th>4</th>\n",
       "      <td>1.134721</td>\n",
       "      <td>-0.145918</td>\n",
       "      <td>-0.216656</td>\n",
       "      <td>-0.035429</td>\n",
       "      <td>1.134721</td>\n",
       "      <td>-0.145918</td>\n",
       "    </tr>\n",
       "  </tbody>\n",
       "</table>\n",
       "</div>"
      ],
      "text/plain": [
       "   education_num  capital_gain  capital_loss  hours_per_week  \\\n",
       "0       1.134721      0.148451     -0.216656       -0.035429   \n",
       "1       1.134721     -0.145918     -0.216656       -2.222119   \n",
       "2      -0.420053     -0.145918     -0.216656       -0.035429   \n",
       "3      -1.197440     -0.145918     -0.216656       -0.035429   \n",
       "4       1.134721     -0.145918     -0.216656       -0.035429   \n",
       "\n",
       "   education_num_zscore  capital_gain_zscore  \n",
       "0              1.134721             0.148451  \n",
       "1              1.134721            -0.145918  \n",
       "2             -0.420053            -0.145918  \n",
       "3             -1.197440            -0.145918  \n",
       "4              1.134721            -0.145918  "
      ]
     },
     "execution_count": 12,
     "metadata": {},
     "output_type": "execute_result"
    }
   ],
   "source": [
    "census_rescaled = census[num_cols]\n",
    "census_rescaled = census_rescaled.apply(lambda x: (x - x.mean()) / x.std(), axis = 0)\n",
    "census_rescaled.head()"
   ]
  },
  {
   "cell_type": "markdown",
   "metadata": {},
   "source": [
    "We can create a scatter plot of the `education_num` and `capital_gain`, which we used to illustrate our previous example."
   ]
  },
  {
   "cell_type": "code",
   "execution_count": 13,
   "metadata": {},
   "outputs": [
    {
     "data": {
      "image/png": "[encoded data removed]",
      "text/plain": [
       "<Figure size 432x288 with 1 Axes>"
      ]
     },
     "metadata": {
      "needs_background": "light"
     },
     "output_type": "display_data"
    }
   ],
   "source": [
    "import seaborn as sns\n",
    "\n",
    "sns.scatterplot(x = 'education_num', y = 'capital_gain', data = census_rescaled);"
   ]
  },
  {
   "cell_type": "markdown",
   "metadata": {},
   "source": [
    "At first glance, it's seems hard to say if there are more than 2 clusters from looking at the scatter plot above. So should we pick $k=2$ or $k>2$. The answer is that there is no easy answer. $k=2$ might be a safe choice, but has little practical value (so you're telling me that the world is made up of very rich people and everyone else, thanks! I'm so glad I hired a data scientist...). With $k>2$ we can start making more complex differentiation, but it's hard to know where to draw the line and what sets different groups apart. And here we only have two columns and the luxury of looking at scatter plots, but as the number of features goes this becomes a harder and harder problem. Well this is the curse of un-supervised learning!\n",
    "\n",
    "So for now let's start with $k=2$ and use k-means to cluster the data. We use the `KMeans` function which is the Python's machine learning library `sklearn`. A pattern common to almost all of the ML algorithms in `sklearn` is the following:\n",
    "\n",
    "1. We initialize the algorithm and specify any arguments if need be. In this case, the number of clusters.\n",
    "1. We call `fit` and pass it the data. This is when learning happens.\n",
    "1. We call `transform` and get predictions back. For k-means the predictions are the cluster labels. Any row will be assigned one of $k$ labels, depending on which cluster they belong to.\n",
    "\n",
    "The above three steps are marked in the code below."
   ]
  },
  {
   "cell_type": "code",
   "execution_count": 49,
   "metadata": {},
   "outputs": [
    {
     "data": {
      "text/html": [
       "<div>\n",
       "<style scoped>\n",
       "    .dataframe tbody tr th:only-of-type {\n",
       "        vertical-align: middle;\n",
       "    }\n",
       "\n",
       "    .dataframe tbody tr th {\n",
       "        vertical-align: top;\n",
       "    }\n",
       "\n",
       "    .dataframe thead th {\n",
       "        text-align: right;\n",
       "    }\n",
       "</style>\n",
       "<table border=\"1\" class=\"dataframe\">\n",
       "  <thead>\n",
       "    <tr style=\"text-align: right;\">\n",
       "      <th></th>\n",
       "      <th>education_num</th>\n",
       "      <th>capital_gain</th>\n",
       "      <th>capital_loss</th>\n",
       "      <th>hours_per_week</th>\n",
       "      <th>education_num_zscore</th>\n",
       "      <th>capital_gain_zscore</th>\n",
       "      <th>cluster</th>\n",
       "    </tr>\n",
       "  </thead>\n",
       "  <tbody>\n",
       "    <tr>\n",
       "      <th>0</th>\n",
       "      <td>1.134721</td>\n",
       "      <td>0.148451</td>\n",
       "      <td>-0.216656</td>\n",
       "      <td>-0.035429</td>\n",
       "      <td>1.134721</td>\n",
       "      <td>0.148451</td>\n",
       "      <td>2</td>\n",
       "    </tr>\n",
       "    <tr>\n",
       "      <th>1</th>\n",
       "      <td>1.134721</td>\n",
       "      <td>-0.145918</td>\n",
       "      <td>-0.216656</td>\n",
       "      <td>-2.222119</td>\n",
       "      <td>1.134721</td>\n",
       "      <td>-0.145918</td>\n",
       "      <td>2</td>\n",
       "    </tr>\n",
       "    <tr>\n",
       "      <th>2</th>\n",
       "      <td>-0.420053</td>\n",
       "      <td>-0.145918</td>\n",
       "      <td>-0.216656</td>\n",
       "      <td>-0.035429</td>\n",
       "      <td>-0.420053</td>\n",
       "      <td>-0.145918</td>\n",
       "      <td>1</td>\n",
       "    </tr>\n",
       "    <tr>\n",
       "      <th>3</th>\n",
       "      <td>-1.197440</td>\n",
       "      <td>-0.145918</td>\n",
       "      <td>-0.216656</td>\n",
       "      <td>-0.035429</td>\n",
       "      <td>-1.197440</td>\n",
       "      <td>-0.145918</td>\n",
       "      <td>1</td>\n",
       "    </tr>\n",
       "    <tr>\n",
       "      <th>4</th>\n",
       "      <td>1.134721</td>\n",
       "      <td>-0.145918</td>\n",
       "      <td>-0.216656</td>\n",
       "      <td>-0.035429</td>\n",
       "      <td>1.134721</td>\n",
       "      <td>-0.145918</td>\n",
       "      <td>2</td>\n",
       "    </tr>\n",
       "  </tbody>\n",
       "</table>\n",
       "</div>"
      ],
      "text/plain": [
       "   education_num  capital_gain  capital_loss  hours_per_week  \\\n",
       "0       1.134721      0.148451     -0.216656       -0.035429   \n",
       "1       1.134721     -0.145918     -0.216656       -2.222119   \n",
       "2      -0.420053     -0.145918     -0.216656       -0.035429   \n",
       "3      -1.197440     -0.145918     -0.216656       -0.035429   \n",
       "4       1.134721     -0.145918     -0.216656       -0.035429   \n",
       "\n",
       "   education_num_zscore  capital_gain_zscore  cluster  \n",
       "0              1.134721             0.148451        2  \n",
       "1              1.134721            -0.145918        2  \n",
       "2             -0.420053            -0.145918        1  \n",
       "3             -1.197440            -0.145918        1  \n",
       "4              1.134721            -0.145918        2  "
      ]
     },
     "execution_count": 49,
     "metadata": {},
     "output_type": "execute_result"
    }
   ],
   "source": [
    "from sklearn.cluster import KMeans\n",
    "n_clusters = 4 # the number of clusters\n",
    "which_cols = ['education_num', 'capital_gain', 'capital_loss', 'hours_per_week']\n",
    "\n",
    "X = census_rescaled#[which_cols]\n",
    "kmeans = KMeans(n_clusters = n_clusters, random_state = 0) # step 1: initialize\n",
    "kmeans.fit(X) # step 2, learn the clusters\n",
    "census_rescaled['cluster'] = kmeans.predict(X) # step 3, assign a cluster to each row\n",
    "census_rescaled.head()"
   ]
  },
  {
   "cell_type": "markdown",
   "metadata": {},
   "source": [
    "There is one thing to note about k-means. We said in the beginning that k-means is an un-supervised learning algorithm. This means that the data is not labeled ahead of time with clusters that we need to then learn. This means that there is no learning happening, and when we use k-means to assign each row to a cluster, we have no way to **evaluate** the label assignments and determine if we did a good job. This is why we call it **un-supervised**. However, we can still do something that we usually do with **supervised** learning algorithms: we can predict for any new row of data by assigning a cluster to it. How? We simply assign the new row by normalizing it and assigning it whichever cluster **centroid** it is closest (using Euclidean distance to measure closeness). \n",
    "\n",
    "Here's how we can find out what the cluster centroids are, but keep in mind that these are centroids based on the **normalized** data, so we have to **un-normalize** it by running the reverse transformation if we want them to be on the same scaled as the original data."
   ]
  },
  {
   "cell_type": "code",
   "execution_count": 50,
   "metadata": {},
   "outputs": [
    {
     "data": {
      "text/plain": [
       "array([[ 0.35288139, -0.14591824,  4.50268695,  0.23646114,  0.35288139,\n",
       "        -0.14591824,  1.08221024],\n",
       "       [-0.52064822, -0.0499627 , -0.21504417,  0.17913111, -0.52064822,\n",
       "        -0.0499627 ,  0.16448032],\n",
       "       [ 0.7531013 , -0.08043799, -0.21494519, -0.31800107,  0.7531013 ,\n",
       "        -0.08043799,  2.81842998],\n",
       "       [ 1.10294136, 13.39437222, -0.2166562 ,  0.75815674,  1.10294136,\n",
       "        13.39437222,  2.        ]])"
      ]
     },
     "execution_count": 50,
     "metadata": {},
     "output_type": "execute_result"
    }
   ],
   "source": [
    "kmeans.cluster_centers_"
   ]
  },
  {
   "cell_type": "markdown",
   "metadata": {},
   "source": [
    "Let's check how the distribution of cluster assignments:"
   ]
  },
  {
   "cell_type": "code",
   "execution_count": 51,
   "metadata": {},
   "outputs": [
    {
     "data": {
      "text/plain": [
       "1    18829\n",
       "2    12089\n",
       "0     1484\n",
       "3      159\n",
       "Name: cluster, dtype: int64"
      ]
     },
     "execution_count": 51,
     "metadata": {},
     "output_type": "execute_result"
    }
   ],
   "source": [
    "census_rescaled['cluster'].value_counts()"
   ]
  },
  {
   "cell_type": "markdown",
   "metadata": {},
   "source": [
    "It is very important to note that while the cluster assignments are integers, they have no numeric value, meaning that the numbers are just labels. Cluster 1 is not necessarily closer to cluster 2 than it is to cluster 3. In fact, reruning `KMeans` doesn't guarantee that we will retain the same order. So to be safe, we will convert the `cluster` to `category` type."
   ]
  },
  {
   "cell_type": "code",
   "execution_count": 52,
   "metadata": {},
   "outputs": [],
   "source": [
    "census_rescaled['cluster'] = census_rescaled['cluster'].astype('category')"
   ]
  },
  {
   "cell_type": "markdown",
   "metadata": {},
   "source": [
    "We can redraw our earlier scatter plot and color-code the points by the cluster they belong to."
   ]
  },
  {
   "cell_type": "code",
   "execution_count": 53,
   "metadata": {},
   "outputs": [
    {
     "data": {
      "image/png": "[encoded data removed]",
      "text/plain": [
       "<Figure size 432x288 with 1 Axes>"
      ]
     },
     "metadata": {
      "needs_background": "light"
     },
     "output_type": "display_data"
    }
   ],
   "source": [
    "sns.scatterplot(x = 'education_num', y = 'capital_gain', hue = 'cluster', \n",
    "                data = census_rescaled);"
   ]
  },
  {
   "cell_type": "markdown",
   "metadata": {},
   "source": [
    "### Exercise\n",
    "\n",
    "- Based on the above scatter plot, which of the two features do you think is more important in determining which cluster a person belongs to?\n",
    "- Return to where we called `KMeans` and change the number of clusters now to $k=3$. Report your findings now: What differentiates cluster 1 form 2, 1 from 3, and 2 from 3?\n",
    "- Try this again with $k=4$ and report your findings. You can see that as $k$ increases, we have more and more comparisons to make.\n",
    "- Let's keep $k=4$, but this time instead of passing all four numeric columns to `KMeans`. Do you notice any changes to the scatter plot above?\n",
    "\n",
    "### End of exercise"
   ]
  },
  {
   "cell_type": "markdown",
   "metadata": {},
   "source": [
    "- Capital gains looks to be more important, there's less variation\n",
    "- "
   ]
  },
  {
   "cell_type": "markdown",
   "metadata": {},
   "source": [
    "Of course since we added all four numeric columns to `KMeans`, then we have to look at scatter plots of all possible combinations of those four columns: there are $4 \\choose 2$ (we read that as **4 choose 2**) which is $\\frac{4!}{2!2!} = 6$ possible combinations. There is a very easy way to get all the combinations using the `itertools.combinations` function."
   ]
  },
  {
   "cell_type": "code",
   "execution_count": 54,
   "metadata": {},
   "outputs": [
    {
     "name": "stdout",
     "output_type": "stream",
     "text": [
      "('education_num', 'capital_gain')\n",
      "('education_num', 'capital_loss')\n",
      "('education_num', 'hours_per_week')\n",
      "('education_num', 'education_num_zscore')\n",
      "('education_num', 'capital_gain_zscore')\n",
      "('capital_gain', 'capital_loss')\n",
      "('capital_gain', 'hours_per_week')\n",
      "('capital_gain', 'education_num_zscore')\n",
      "('capital_gain', 'capital_gain_zscore')\n",
      "('capital_loss', 'hours_per_week')\n",
      "('capital_loss', 'education_num_zscore')\n",
      "('capital_loss', 'capital_gain_zscore')\n",
      "('hours_per_week', 'education_num_zscore')\n",
      "('hours_per_week', 'capital_gain_zscore')\n",
      "('education_num_zscore', 'capital_gain_zscore')\n"
     ]
    }
   ],
   "source": [
    "from itertools import combinations\n",
    "all_pairs = list(combinations(num_cols, 2))\n",
    "\n",
    "for pair in all_pairs:\n",
    "    print(pair)"
   ]
  },
  {
   "cell_type": "markdown",
   "metadata": {},
   "source": [
    "Let's plot the all the possbile scatter plots form the pairs above."
   ]
  },
  {
   "cell_type": "code",
   "execution_count": 55,
   "metadata": {},
   "outputs": [
    {
     "data": {
      "image/png": "[encoded data removed]",
      "text/plain": [
       "<Figure size 1296x864 with 6 Axes>"
      ]
     },
     "metadata": {
      "needs_background": "light"
     },
     "output_type": "display_data"
    }
   ],
   "source": [
    "import matplotlib.pyplot as plt\n",
    "fig, axs = plt.subplots(nrows = 3, ncols = 2, figsize = (18, 12))\n",
    "sns.scatterplot(*all_pairs[0], hue = 'cluster', data = census_rescaled, ax = axs[0, 0], legend = False);\n",
    "sns.scatterplot(*all_pairs[1], hue = 'cluster', data = census_rescaled, ax = axs[1, 0], legend = False);\n",
    "sns.scatterplot(*all_pairs[2], hue = 'cluster', data = census_rescaled, ax = axs[2, 0], legend = False);\n",
    "sns.scatterplot(*all_pairs[3], hue = 'cluster', data = census_rescaled, ax = axs[0, 1], legend = False);\n",
    "sns.scatterplot(*all_pairs[4], hue = 'cluster', data = census_rescaled, ax = axs[1, 1], legend = False);\n",
    "sns.scatterplot(*all_pairs[5], hue = 'cluster', data = census_rescaled, ax = axs[2, 1], legend = False);"
   ]
  },
  {
   "cell_type": "markdown",
   "metadata": {},
   "source": [
    "### Exercise\n",
    "\n",
    "Let's say you are now charged with **profiling** the clusters. That means you need to come up with a brief description of each of the 4 clusters. You can rely on the above scatter plots or any other summaries you like. This is not necessarily an easy task, and the point is to show you the challenge of dealing with un-supervised learning algorithms. Imagine how much harder this would have been with a much larger $k$ or with more features in the data!\n",
    "\n",
    "In the next notebook, we will use decision trees to help us with this task. Don't worry, there's better ways of doing this than having to look at tons of scatter plots..."
   ]
  },
  {
   "cell_type": "markdown",
   "metadata": {},
   "source": [
    "### End of exercise"
   ]
  },
  {
   "cell_type": "markdown",
   "metadata": {},
   "source": [
    "Our clusters so far only used the numeric columns in the data, but we also have a lot of categorical columns and we should be using them too, but we run into a problem: As we saw earlier k-means clustering relies on Euclidean distance to measure the similarity between the rows. So how do you measure Euclidean distance when you have categorical data? The answer is you one-hot encode your categorical data. The quick and easy way to do this is using `pd.get_dummies` function. One-hot encoded (binary) features are also called **dummy variables**, which explains why the function is named `get_dummies`."
   ]
  },
  {
   "cell_type": "code",
   "execution_count": 56,
   "metadata": {},
   "outputs": [
    {
     "data": {
      "text/html": [
       "<div>\n",
       "<style scoped>\n",
       "    .dataframe tbody tr th:only-of-type {\n",
       "        vertical-align: middle;\n",
       "    }\n",
       "\n",
       "    .dataframe tbody tr th {\n",
       "        vertical-align: top;\n",
       "    }\n",
       "\n",
       "    .dataframe thead th {\n",
       "        text-align: right;\n",
       "    }\n",
       "</style>\n",
       "<table border=\"1\" class=\"dataframe\">\n",
       "  <thead>\n",
       "    <tr style=\"text-align: right;\">\n",
       "      <th></th>\n",
       "      <th>workclass_ ?</th>\n",
       "      <th>workclass_ federal_gov</th>\n",
       "      <th>workclass_ local_gov</th>\n",
       "      <th>workclass_ never_worked</th>\n",
       "      <th>workclass_ private</th>\n",
       "      <th>workclass_ self_emp_inc</th>\n",
       "      <th>workclass_ self_emp_not_inc</th>\n",
       "      <th>workclass_ state_gov</th>\n",
       "      <th>workclass_ without_pay</th>\n",
       "      <th>education_ 10th</th>\n",
       "      <th>...</th>\n",
       "      <th>native_country_ scotland</th>\n",
       "      <th>native_country_ south</th>\n",
       "      <th>native_country_ taiwan</th>\n",
       "      <th>native_country_ thailand</th>\n",
       "      <th>native_country_ trinadad&amp;tobago</th>\n",
       "      <th>native_country_ united_states</th>\n",
       "      <th>native_country_ vietnam</th>\n",
       "      <th>native_country_ yugoslavia</th>\n",
       "      <th>income_ gt_50k</th>\n",
       "      <th>income_ lt_50k</th>\n",
       "    </tr>\n",
       "  </thead>\n",
       "  <tbody>\n",
       "    <tr>\n",
       "      <th>0</th>\n",
       "      <td>0</td>\n",
       "      <td>0</td>\n",
       "      <td>0</td>\n",
       "      <td>0</td>\n",
       "      <td>0</td>\n",
       "      <td>0</td>\n",
       "      <td>0</td>\n",
       "      <td>1</td>\n",
       "      <td>0</td>\n",
       "      <td>0</td>\n",
       "      <td>...</td>\n",
       "      <td>0</td>\n",
       "      <td>0</td>\n",
       "      <td>0</td>\n",
       "      <td>0</td>\n",
       "      <td>0</td>\n",
       "      <td>1</td>\n",
       "      <td>0</td>\n",
       "      <td>0</td>\n",
       "      <td>0</td>\n",
       "      <td>1</td>\n",
       "    </tr>\n",
       "    <tr>\n",
       "      <th>1</th>\n",
       "      <td>0</td>\n",
       "      <td>0</td>\n",
       "      <td>0</td>\n",
       "      <td>0</td>\n",
       "      <td>0</td>\n",
       "      <td>0</td>\n",
       "      <td>1</td>\n",
       "      <td>0</td>\n",
       "      <td>0</td>\n",
       "      <td>0</td>\n",
       "      <td>...</td>\n",
       "      <td>0</td>\n",
       "      <td>0</td>\n",
       "      <td>0</td>\n",
       "      <td>0</td>\n",
       "      <td>0</td>\n",
       "      <td>1</td>\n",
       "      <td>0</td>\n",
       "      <td>0</td>\n",
       "      <td>0</td>\n",
       "      <td>1</td>\n",
       "    </tr>\n",
       "    <tr>\n",
       "      <th>2</th>\n",
       "      <td>0</td>\n",
       "      <td>0</td>\n",
       "      <td>0</td>\n",
       "      <td>0</td>\n",
       "      <td>1</td>\n",
       "      <td>0</td>\n",
       "      <td>0</td>\n",
       "      <td>0</td>\n",
       "      <td>0</td>\n",
       "      <td>0</td>\n",
       "      <td>...</td>\n",
       "      <td>0</td>\n",
       "      <td>0</td>\n",
       "      <td>0</td>\n",
       "      <td>0</td>\n",
       "      <td>0</td>\n",
       "      <td>1</td>\n",
       "      <td>0</td>\n",
       "      <td>0</td>\n",
       "      <td>0</td>\n",
       "      <td>1</td>\n",
       "    </tr>\n",
       "    <tr>\n",
       "      <th>3</th>\n",
       "      <td>0</td>\n",
       "      <td>0</td>\n",
       "      <td>0</td>\n",
       "      <td>0</td>\n",
       "      <td>1</td>\n",
       "      <td>0</td>\n",
       "      <td>0</td>\n",
       "      <td>0</td>\n",
       "      <td>0</td>\n",
       "      <td>0</td>\n",
       "      <td>...</td>\n",
       "      <td>0</td>\n",
       "      <td>0</td>\n",
       "      <td>0</td>\n",
       "      <td>0</td>\n",
       "      <td>0</td>\n",
       "      <td>1</td>\n",
       "      <td>0</td>\n",
       "      <td>0</td>\n",
       "      <td>0</td>\n",
       "      <td>1</td>\n",
       "    </tr>\n",
       "    <tr>\n",
       "      <th>4</th>\n",
       "      <td>0</td>\n",
       "      <td>0</td>\n",
       "      <td>0</td>\n",
       "      <td>0</td>\n",
       "      <td>1</td>\n",
       "      <td>0</td>\n",
       "      <td>0</td>\n",
       "      <td>0</td>\n",
       "      <td>0</td>\n",
       "      <td>0</td>\n",
       "      <td>...</td>\n",
       "      <td>0</td>\n",
       "      <td>0</td>\n",
       "      <td>0</td>\n",
       "      <td>0</td>\n",
       "      <td>0</td>\n",
       "      <td>0</td>\n",
       "      <td>0</td>\n",
       "      <td>0</td>\n",
       "      <td>0</td>\n",
       "      <td>1</td>\n",
       "    </tr>\n",
       "  </tbody>\n",
       "</table>\n",
       "<p>5 rows × 104 columns</p>\n",
       "</div>"
      ],
      "text/plain": [
       "   workclass_ ?  workclass_ federal_gov  workclass_ local_gov  \\\n",
       "0             0                       0                     0   \n",
       "1             0                       0                     0   \n",
       "2             0                       0                     0   \n",
       "3             0                       0                     0   \n",
       "4             0                       0                     0   \n",
       "\n",
       "   workclass_ never_worked  workclass_ private  workclass_ self_emp_inc  \\\n",
       "0                        0                   0                        0   \n",
       "1                        0                   0                        0   \n",
       "2                        0                   1                        0   \n",
       "3                        0                   1                        0   \n",
       "4                        0                   1                        0   \n",
       "\n",
       "   workclass_ self_emp_not_inc  workclass_ state_gov  workclass_ without_pay  \\\n",
       "0                            0                     1                       0   \n",
       "1                            1                     0                       0   \n",
       "2                            0                     0                       0   \n",
       "3                            0                     0                       0   \n",
       "4                            0                     0                       0   \n",
       "\n",
       "   education_ 10th  ...  native_country_ scotland  native_country_ south  \\\n",
       "0                0  ...                         0                      0   \n",
       "1                0  ...                         0                      0   \n",
       "2                0  ...                         0                      0   \n",
       "3                0  ...                         0                      0   \n",
       "4                0  ...                         0                      0   \n",
       "\n",
       "   native_country_ taiwan  native_country_ thailand  \\\n",
       "0                       0                         0   \n",
       "1                       0                         0   \n",
       "2                       0                         0   \n",
       "3                       0                         0   \n",
       "4                       0                         0   \n",
       "\n",
       "   native_country_ trinadad&tobago  native_country_ united_states  \\\n",
       "0                                0                              1   \n",
       "1                                0                              1   \n",
       "2                                0                              1   \n",
       "3                                0                              1   \n",
       "4                                0                              0   \n",
       "\n",
       "   native_country_ vietnam  native_country_ yugoslavia  income_ gt_50k  \\\n",
       "0                        0                           0               0   \n",
       "1                        0                           0               0   \n",
       "2                        0                           0               0   \n",
       "3                        0                           0               0   \n",
       "4                        0                           0               0   \n",
       "\n",
       "   income_ lt_50k  \n",
       "0               1  \n",
       "1               1  \n",
       "2               1  \n",
       "3               1  \n",
       "4               1  \n",
       "\n",
       "[5 rows x 104 columns]"
      ]
     },
     "execution_count": 56,
     "metadata": {},
     "output_type": "execute_result"
    }
   ],
   "source": [
    "census_onehot = pd.get_dummies(census[cat_vars])\n",
    "census_onehot.head()"
   ]
  },
  {
   "cell_type": "markdown",
   "metadata": {},
   "source": [
    "Let's combine our standardized numeric features and our one-hot-encoded categorical features into one data and train `KMeans` on it."
   ]
  },
  {
   "cell_type": "code",
   "execution_count": 57,
   "metadata": {},
   "outputs": [],
   "source": [
    "census_featurized = pd.concat([census_rescaled, census_onehot], axis = 1)"
   ]
  },
  {
   "cell_type": "markdown",
   "metadata": {},
   "source": [
    "We're going to train with $k=5$ just to use a bigger number."
   ]
  },
  {
   "cell_type": "code",
   "execution_count": 58,
   "metadata": {},
   "outputs": [
    {
     "data": {
      "text/plain": [
       "KMeans(algorithm='auto', copy_x=True, init='k-means++', max_iter=300,\n",
       "       n_clusters=5, n_init=10, n_jobs=None, precompute_distances='auto',\n",
       "       random_state=0, tol=0.0001, verbose=0)"
      ]
     },
     "execution_count": 58,
     "metadata": {},
     "output_type": "execute_result"
    }
   ],
   "source": [
    "from sklearn.cluster import KMeans\n",
    "import numpy as np\n",
    "n_clusters = 5\n",
    "\n",
    "kmeans = KMeans(n_clusters = n_clusters, random_state = 0)\n",
    "kmeans.fit(census_featurized)"
   ]
  },
  {
   "cell_type": "markdown",
   "metadata": {},
   "source": [
    "Instead of adding the clusters as a new column to the featurized data, we add them to the original data. This way we can get summaries on the original (non-normalized) numeric features which makes it easier to interpret results."
   ]
  },
  {
   "cell_type": "code",
   "execution_count": 59,
   "metadata": {},
   "outputs": [],
   "source": [
    "census['cluster'] = kmeans.predict(census_featurized)"
   ]
  },
  {
   "cell_type": "markdown",
   "metadata": {},
   "source": [
    "For example, here's the average of the numeric features grouped by each cluster. It's definitely easier to compare clusters this way than having to look at all those scatter plots."
   ]
  },
  {
   "cell_type": "code",
   "execution_count": 61,
   "metadata": {},
   "outputs": [
    {
     "data": {
      "text/html": [
       "<div>\n",
       "<style scoped>\n",
       "    .dataframe tbody tr th:only-of-type {\n",
       "        vertical-align: middle;\n",
       "    }\n",
       "\n",
       "    .dataframe tbody tr th {\n",
       "        vertical-align: top;\n",
       "    }\n",
       "\n",
       "    .dataframe thead th {\n",
       "        text-align: right;\n",
       "    }\n",
       "</style>\n",
       "<table border=\"1\" class=\"dataframe\">\n",
       "  <thead>\n",
       "    <tr style=\"text-align: right;\">\n",
       "      <th></th>\n",
       "      <th>education_num</th>\n",
       "      <th>capital_gain</th>\n",
       "      <th>capital_loss</th>\n",
       "      <th>hours_per_week</th>\n",
       "      <th>education_num_zscore</th>\n",
       "      <th>capital_gain_zscore</th>\n",
       "    </tr>\n",
       "    <tr>\n",
       "      <th>cluster</th>\n",
       "      <th></th>\n",
       "      <th></th>\n",
       "      <th></th>\n",
       "      <th></th>\n",
       "      <th></th>\n",
       "      <th></th>\n",
       "    </tr>\n",
       "  </thead>\n",
       "  <tbody>\n",
       "    <tr>\n",
       "      <th>0</th>\n",
       "      <td>8.579855</td>\n",
       "      <td>648.921237</td>\n",
       "      <td>0.251351</td>\n",
       "      <td>46.287685</td>\n",
       "      <td>-0.583370</td>\n",
       "      <td>-0.058052</td>\n",
       "    </tr>\n",
       "    <tr>\n",
       "      <th>1</th>\n",
       "      <td>8.843833</td>\n",
       "      <td>168.264306</td>\n",
       "      <td>0.906376</td>\n",
       "      <td>34.351774</td>\n",
       "      <td>-0.480762</td>\n",
       "      <td>-0.123136</td>\n",
       "    </tr>\n",
       "    <tr>\n",
       "      <th>2</th>\n",
       "      <td>12.918239</td>\n",
       "      <td>99999.000000</td>\n",
       "      <td>0.000000</td>\n",
       "      <td>49.798742</td>\n",
       "      <td>1.102958</td>\n",
       "      <td>13.394578</td>\n",
       "    </tr>\n",
       "    <tr>\n",
       "      <th>3</th>\n",
       "      <td>10.988544</td>\n",
       "      <td>0.000000</td>\n",
       "      <td>1901.707547</td>\n",
       "      <td>43.357143</td>\n",
       "      <td>0.352887</td>\n",
       "      <td>-0.145920</td>\n",
       "    </tr>\n",
       "    <tr>\n",
       "      <th>4</th>\n",
       "      <td>13.118627</td>\n",
       "      <td>1250.455198</td>\n",
       "      <td>0.712094</td>\n",
       "      <td>43.017546</td>\n",
       "      <td>1.180849</td>\n",
       "      <td>0.023399</td>\n",
       "    </tr>\n",
       "  </tbody>\n",
       "</table>\n",
       "</div>"
      ],
      "text/plain": [
       "         education_num  capital_gain  capital_loss  hours_per_week  \\\n",
       "cluster                                                              \n",
       "0             8.579855    648.921237      0.251351       46.287685   \n",
       "1             8.843833    168.264306      0.906376       34.351774   \n",
       "2            12.918239  99999.000000      0.000000       49.798742   \n",
       "3            10.988544      0.000000   1901.707547       43.357143   \n",
       "4            13.118627   1250.455198      0.712094       43.017546   \n",
       "\n",
       "         education_num_zscore  capital_gain_zscore  \n",
       "cluster                                             \n",
       "0                   -0.583370            -0.058052  \n",
       "1                   -0.480762            -0.123136  \n",
       "2                    1.102958            13.394578  \n",
       "3                    0.352887            -0.145920  \n",
       "4                    1.180849             0.023399  "
      ]
     },
     "execution_count": 61,
     "metadata": {},
     "output_type": "execute_result"
    }
   ],
   "source": [
    "census.groupby('cluster').mean()"
   ]
  },
  {
   "cell_type": "markdown",
   "metadata": {},
   "source": [
    "In addition to comparing averages, it's also important to compare the variability within each cluster. However, if we want to compare variability across features, we need to use standardized features otherwise features on a larger scale will always have more variability."
   ]
  },
  {
   "cell_type": "code",
   "execution_count": 63,
   "metadata": {},
   "outputs": [
    {
     "data": {
      "text/html": [
       "<div>\n",
       "<style scoped>\n",
       "    .dataframe tbody tr th:only-of-type {\n",
       "        vertical-align: middle;\n",
       "    }\n",
       "\n",
       "    .dataframe tbody tr th {\n",
       "        vertical-align: top;\n",
       "    }\n",
       "\n",
       "    .dataframe thead th {\n",
       "        text-align: right;\n",
       "    }\n",
       "</style>\n",
       "<table border=\"1\" class=\"dataframe\">\n",
       "  <thead>\n",
       "    <tr style=\"text-align: right;\">\n",
       "      <th></th>\n",
       "      <th>education_num</th>\n",
       "      <th>capital_gain</th>\n",
       "      <th>capital_loss</th>\n",
       "      <th>hours_per_week</th>\n",
       "      <th>education_num_zscore</th>\n",
       "      <th>capital_gain_zscore</th>\n",
       "    </tr>\n",
       "    <tr>\n",
       "      <th>cluster</th>\n",
       "      <th></th>\n",
       "      <th></th>\n",
       "      <th></th>\n",
       "      <th></th>\n",
       "      <th></th>\n",
       "      <th></th>\n",
       "    </tr>\n",
       "  </thead>\n",
       "  <tbody>\n",
       "    <tr>\n",
       "      <th>0</th>\n",
       "      <td>1.045375</td>\n",
       "      <td>0.000000</td>\n",
       "      <td>0.800684</td>\n",
       "      <td>0.992894</td>\n",
       "      <td>1.045375</td>\n",
       "      <td>0.000000</td>\n",
       "    </tr>\n",
       "    <tr>\n",
       "      <th>1</th>\n",
       "      <td>0.743892</td>\n",
       "      <td>0.395940</td>\n",
       "      <td>0.053430</td>\n",
       "      <td>0.774752</td>\n",
       "      <td>0.743892</td>\n",
       "      <td>0.395940</td>\n",
       "    </tr>\n",
       "    <tr>\n",
       "      <th>2</th>\n",
       "      <td>0.815306</td>\n",
       "      <td>0.276699</td>\n",
       "      <td>0.051361</td>\n",
       "      <td>1.207842</td>\n",
       "      <td>0.815306</td>\n",
       "      <td>0.276699</td>\n",
       "    </tr>\n",
       "    <tr>\n",
       "      <th>3</th>\n",
       "      <td>0.963054</td>\n",
       "      <td>0.000000</td>\n",
       "      <td>0.000000</td>\n",
       "      <td>1.008372</td>\n",
       "      <td>0.963054</td>\n",
       "      <td>0.000000</td>\n",
       "    </tr>\n",
       "  </tbody>\n",
       "</table>\n",
       "</div>"
      ],
      "text/plain": [
       "         education_num  capital_gain  capital_loss  hours_per_week  \\\n",
       "cluster                                                              \n",
       "0             1.045375      0.000000      0.800684        0.992894   \n",
       "1             0.743892      0.395940      0.053430        0.774752   \n",
       "2             0.815306      0.276699      0.051361        1.207842   \n",
       "3             0.963054      0.000000      0.000000        1.008372   \n",
       "\n",
       "         education_num_zscore  capital_gain_zscore  \n",
       "cluster                                             \n",
       "0                    1.045375             0.000000  \n",
       "1                    0.743892             0.395940  \n",
       "2                    0.815306             0.276699  \n",
       "3                    0.963054             0.000000  "
      ]
     },
     "execution_count": 63,
     "metadata": {},
     "output_type": "execute_result"
    }
   ],
   "source": [
    "census_rescaled.groupby('cluster').std()"
   ]
  },
  {
   "cell_type": "markdown",
   "metadata": {},
   "source": [
    "How do we check how clusters compare across the categories of our categorical variables? One way is to look at two-way tables. We can use `pd.crosstab` for that."
   ]
  },
  {
   "cell_type": "code",
   "execution_count": 71,
   "metadata": {},
   "outputs": [
    {
     "data": {
      "text/html": [
       "<div>\n",
       "<style scoped>\n",
       "    .dataframe tbody tr th:only-of-type {\n",
       "        vertical-align: middle;\n",
       "    }\n",
       "\n",
       "    .dataframe tbody tr th {\n",
       "        vertical-align: top;\n",
       "    }\n",
       "\n",
       "    .dataframe thead th {\n",
       "        text-align: right;\n",
       "    }\n",
       "</style>\n",
       "<table border=\"1\" class=\"dataframe\">\n",
       "  <thead>\n",
       "    <tr style=\"text-align: right;\">\n",
       "      <th>workclass</th>\n",
       "      <th>?</th>\n",
       "      <th>federal_gov</th>\n",
       "      <th>local_gov</th>\n",
       "      <th>never_worked</th>\n",
       "      <th>private</th>\n",
       "      <th>self_emp_inc</th>\n",
       "      <th>self_emp_not_inc</th>\n",
       "      <th>state_gov</th>\n",
       "      <th>without_pay</th>\n",
       "    </tr>\n",
       "    <tr>\n",
       "      <th>cluster</th>\n",
       "      <th></th>\n",
       "      <th></th>\n",
       "      <th></th>\n",
       "      <th></th>\n",
       "      <th></th>\n",
       "      <th></th>\n",
       "      <th></th>\n",
       "      <th></th>\n",
       "      <th></th>\n",
       "    </tr>\n",
       "  </thead>\n",
       "  <tbody>\n",
       "    <tr>\n",
       "      <th>0</th>\n",
       "      <td>0.009121</td>\n",
       "      <td>0.006726</td>\n",
       "      <td>0.013943</td>\n",
       "      <td>0.000000</td>\n",
       "      <td>0.184116</td>\n",
       "      <td>0.012592</td>\n",
       "      <td>0.033813</td>\n",
       "      <td>0.006726</td>\n",
       "      <td>0.000061</td>\n",
       "    </tr>\n",
       "    <tr>\n",
       "      <th>1</th>\n",
       "      <td>0.036424</td>\n",
       "      <td>0.009367</td>\n",
       "      <td>0.017506</td>\n",
       "      <td>0.000215</td>\n",
       "      <td>0.307116</td>\n",
       "      <td>0.004085</td>\n",
       "      <td>0.015816</td>\n",
       "      <td>0.013267</td>\n",
       "      <td>0.000338</td>\n",
       "    </tr>\n",
       "    <tr>\n",
       "      <th>2</th>\n",
       "      <td>0.000123</td>\n",
       "      <td>0.000031</td>\n",
       "      <td>0.000184</td>\n",
       "      <td>0.000000</td>\n",
       "      <td>0.002518</td>\n",
       "      <td>0.001106</td>\n",
       "      <td>0.000891</td>\n",
       "      <td>0.000031</td>\n",
       "      <td>0.000000</td>\n",
       "    </tr>\n",
       "    <tr>\n",
       "      <th>3</th>\n",
       "      <td>0.001720</td>\n",
       "      <td>0.001720</td>\n",
       "      <td>0.003808</td>\n",
       "      <td>0.000000</td>\n",
       "      <td>0.029391</td>\n",
       "      <td>0.002580</td>\n",
       "      <td>0.004637</td>\n",
       "      <td>0.001720</td>\n",
       "      <td>0.000000</td>\n",
       "    </tr>\n",
       "    <tr>\n",
       "      <th>4</th>\n",
       "      <td>0.008998</td>\n",
       "      <td>0.011640</td>\n",
       "      <td>0.028838</td>\n",
       "      <td>0.000000</td>\n",
       "      <td>0.173889</td>\n",
       "      <td>0.013912</td>\n",
       "      <td>0.022880</td>\n",
       "      <td>0.018120</td>\n",
       "      <td>0.000031</td>\n",
       "    </tr>\n",
       "  </tbody>\n",
       "</table>\n",
       "</div>"
      ],
      "text/plain": [
       "workclass         ?   federal_gov   local_gov   never_worked   private  \\\n",
       "cluster                                                                  \n",
       "0          0.009121      0.006726    0.013943       0.000000  0.184116   \n",
       "1          0.036424      0.009367    0.017506       0.000215  0.307116   \n",
       "2          0.000123      0.000031    0.000184       0.000000  0.002518   \n",
       "3          0.001720      0.001720    0.003808       0.000000  0.029391   \n",
       "4          0.008998      0.011640    0.028838       0.000000  0.173889   \n",
       "\n",
       "workclass   self_emp_inc   self_emp_not_inc   state_gov   without_pay  \n",
       "cluster                                                                \n",
       "0               0.012592           0.033813    0.006726      0.000061  \n",
       "1               0.004085           0.015816    0.013267      0.000338  \n",
       "2               0.001106           0.000891    0.000031      0.000000  \n",
       "3               0.002580           0.004637    0.001720      0.000000  \n",
       "4               0.013912           0.022880    0.018120      0.000031  "
      ]
     },
     "execution_count": 71,
     "metadata": {},
     "output_type": "execute_result"
    }
   ],
   "source": [
    "pd.crosstab(census['cluster'], census['workclass'], normalize=\"all\")"
   ]
  },
  {
   "cell_type": "markdown",
   "metadata": {},
   "source": [
    "### Exercise\n",
    "\n",
    "- How can we make the above information more useful. We can turn the counts into percentages by cluster. Find how you can use the `normalize` argument, to turn the counts into percentages. Note that `normalize` here has nothing to do with Z-normalization we learned earlier."
   ]
  },
  {
   "cell_type": "code",
   "execution_count": null,
   "metadata": {},
   "outputs": [],
   "source": []
  },
  {
   "cell_type": "markdown",
   "metadata": {},
   "source": [
    "- Even more useful would be to display the above table with the percentages as a **heat map**, so that we can quickly compare the distribution of the clusters across different occupations. Turn the above table into a heat map using `seaborn`."
   ]
  },
  {
   "cell_type": "code",
   "execution_count": 72,
   "metadata": {},
   "outputs": [
    {
     "data": {
      "text/plain": [
       "<matplotlib.axes._subplots.AxesSubplot at 0x13277e0b8>"
      ]
     },
     "execution_count": 72,
     "metadata": {},
     "output_type": "execute_result"
    },
    {
     "data": {
      "image/png": "[encoded data removed]",
      "text/plain": [
       "<Figure size 432x288 with 2 Axes>"
      ]
     },
     "metadata": {
      "needs_background": "light"
     },
     "output_type": "display_data"
    }
   ],
   "source": [
    "sns.heatmap(pd.crosstab(census['cluster'], census['workclass'], normalize=\"all\"))"
   ]
  },
  {
   "cell_type": "markdown",
   "metadata": {},
   "source": [
    "- Does anything particularly stand out? Can you refine your profile of each of the clusters based on what you see? It might help to also try other categorical features like `education`, `marital_status`, or `income`.\n",
    "\n",
    "### End of exercise"
   ]
  },
  {
   "cell_type": "markdown",
   "metadata": {},
   "source": [
    "There's so much more to say about clustering. Here are two examples:\n",
    "\n",
    "- We could try to solve the problem of clustering when we have categorical data by defining a distance function that works for categorical data. \n",
    "- We could try to find a way to cluster the data **hierarchically**, so that we depend less on a specific choice of $k$. Instead we narrow our choice later by choosing the level of hierarchy we want to stop at. \n",
    "\n",
    "The topic of clustering can be its own course!"
   ]
  },
  {
   "cell_type": "markdown",
   "metadata": {},
   "source": [
    "# Hierarchical Agglomerative clustering\n",
    "\n",
    "From here: https://scikit-learn.org/stable/auto_examples/cluster/plot_agglomerative_dendrogram.html#sphx-glr-auto-examples-cluster-plot-agglomerative-dendrogram-py"
   ]
  },
  {
   "cell_type": "code",
   "execution_count": 73,
   "metadata": {},
   "outputs": [],
   "source": [
    "import numpy as np\n",
    "\n",
    "from matplotlib import pyplot as plt\n",
    "from scipy.cluster.hierarchy import dendrogram\n",
    "from sklearn.datasets import load_iris\n",
    "from sklearn.cluster import AgglomerativeClustering\n",
    "\n",
    "\n",
    "def plot_dendrogram(model, **kwargs):\n",
    "    # Create linkage matrix and then plot the dendrogram\n",
    "\n",
    "    # create the counts of samples under each node\n",
    "    counts = np.zeros(model.children_.shape[0])\n",
    "    n_samples = len(model.labels_)\n",
    "    for i, merge in enumerate(model.children_):\n",
    "        current_count = 0\n",
    "        for child_idx in merge:\n",
    "            if child_idx < n_samples:\n",
    "                current_count += 1  # leaf node\n",
    "            else:\n",
    "                current_count += counts[child_idx - n_samples]\n",
    "        counts[i] = current_count\n",
    "\n",
    "    linkage_matrix = np.column_stack([model.children_, model.distances_,\n",
    "                                      counts]).astype(float)\n",
    "\n",
    "    # Plot the corresponding dendrogram\n",
    "    dendrogram(linkage_matrix, **kwargs)\n"
   ]
  },
  {
   "cell_type": "code",
   "execution_count": 77,
   "metadata": {},
   "outputs": [
    {
     "data": {
      "image/png": "[encoded data removed]",
      "text/plain": [
       "<Figure size 432x288 with 1 Axes>"
      ]
     },
     "metadata": {
      "needs_background": "light"
     },
     "output_type": "display_data"
    }
   ],
   "source": [
    "# setting distance_threshold=0 ensures we compute the full tree.\n",
    "model = AgglomerativeClustering(distance_threshold=0, n_clusters=None)\n",
    "\n",
    "num_cols = census.select_dtypes('integer').columns.to_list()\n",
    "census_hier = census[num_cols]\n",
    "\n",
    "model = model.fit(census_hier)\n",
    "plt.title('Hierarchical Clustering Dendrogram')\n",
    "\n",
    "# plot the top three levels of the dendrogram\n",
    "plot_dendrogram(model, truncate_mode='level', p=10)\n",
    "plt.xlabel(\"Number of points in node (or index of point if no parenthesis).\")\n",
    "plt.show()"
   ]
  }
 ],
 "metadata": {
  "kernelspec": {
   "display_name": "Python 3",
   "language": "python",
   "name": "python3"
  },
  "language_info": {
   "codemirror_mode": {
    "name": "ipython",
    "version": 3
   },
   "file_extension": ".py",
   "mimetype": "text/x-python",
   "name": "python",
   "nbconvert_exporter": "python",
   "pygments_lexer": "ipython3",
   "version": "3.7.0"
  }
 },
 "nbformat": 4,
 "nbformat_minor": 4
}
