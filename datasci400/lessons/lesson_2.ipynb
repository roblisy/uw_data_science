{
 "cells": [
  {
   "cell_type": "markdown",
   "metadata": {},
   "source": [
    "# A very short Python introduction"
   ]
  },
  {
   "cell_type": "markdown",
   "metadata": {},
   "source": [
    "Before we begin our Python tutorial, here's one important note about code cells in Jupyter notebooks: If you have a code cell and only one result generates output, we don't need to use a `print` function."
   ]
  },
  {
   "cell_type": "code",
   "execution_count": null,
   "metadata": {},
   "outputs": [],
   "source": [
    "a = 1\n",
    "a # this line is the reason the cell prints 1 in the output"
   ]
  },
  {
   "cell_type": "markdown",
   "metadata": {},
   "source": [
    "But if we have more than one line that should generate output, we need to use `print` otherwise only the **last** line will produce output."
   ]
  },
  {
   "cell_type": "code",
   "execution_count": null,
   "metadata": {},
   "outputs": [],
   "source": [
    "a, b = 1, 2\n",
    "a # will not produce output\n",
    "b # will produce output"
   ]
  },
  {
   "cell_type": "code",
   "execution_count": null,
   "metadata": {},
   "outputs": [],
   "source": [
    "a, b = 1, 2\n",
    "print(a) # will produce output\n",
    "print(b) # will produce output"
   ]
  },
  {
   "cell_type": "markdown",
   "metadata": {},
   "source": [
    "If you want to produce output for something that is running inside of a loop, you also need to use `print`."
   ]
  },
  {
   "cell_type": "code",
   "execution_count": null,
   "metadata": {},
   "outputs": [],
   "source": [
    "for i in range(5):\n",
    "    print(i)"
   ]
  },
  {
   "cell_type": "markdown",
   "metadata": {},
   "source": [
    "Let's begin by learning about the basic building blocks of Python data structures: **integers, floats, booleans, and strings**."
   ]
  },
  {
   "cell_type": "code",
   "execution_count": null,
   "metadata": {},
   "outputs": [],
   "source": [
    "30 + 10"
   ]
  },
  {
   "cell_type": "code",
   "execution_count": null,
   "metadata": {},
   "outputs": [],
   "source": [
    "type(40)"
   ]
  },
  {
   "cell_type": "code",
   "execution_count": null,
   "metadata": {},
   "outputs": [],
   "source": [
    "4.5"
   ]
  },
  {
   "cell_type": "code",
   "execution_count": null,
   "metadata": {},
   "outputs": [],
   "source": [
    "type(40.0)"
   ]
  },
  {
   "cell_type": "code",
   "execution_count": null,
   "metadata": {},
   "outputs": [],
   "source": [
    "float('nan')"
   ]
  },
  {
   "cell_type": "code",
   "execution_count": null,
   "metadata": {},
   "outputs": [],
   "source": [
    "float('inf')"
   ]
  },
  {
   "cell_type": "markdown",
   "metadata": {},
   "source": [
    "### Exercise\n",
    "\n",
    "Verify that `float('inf')` indeed behaves like infinity. Mathematically, what should happen if you multiply infinty by 2? What about dividing infinity by itself?\n",
    "\n",
    "### End of exercise"
   ]
  },
  {
   "cell_type": "code",
   "execution_count": null,
   "metadata": {},
   "outputs": [],
   "source": [
    "1 == 0"
   ]
  },
  {
   "cell_type": "code",
   "execution_count": null,
   "metadata": {},
   "outputs": [],
   "source": [
    "1 is 1"
   ]
  },
  {
   "cell_type": "code",
   "execution_count": null,
   "metadata": {},
   "outputs": [],
   "source": [
    "1 in [1, 0]"
   ]
  },
  {
   "cell_type": "code",
   "execution_count": null,
   "metadata": {},
   "outputs": [],
   "source": [
    "not(1 == 0)"
   ]
  },
  {
   "cell_type": "code",
   "execution_count": null,
   "metadata": {},
   "outputs": [],
   "source": [
    "type(1 == 0)"
   ]
  },
  {
   "cell_type": "markdown",
   "metadata": {},
   "source": [
    "What sets dynamic programming languages like Python apart from **strongly-typed** programming languages like Java is that we can change the type of a variable at execution time. In strongly-typed programming languages we define the type ahead of time and enforce it at runtime. In Python we can do things like this:"
   ]
  },
  {
   "cell_type": "code",
   "execution_count": null,
   "metadata": {},
   "outputs": [],
   "source": [
    "1.0 + False"
   ]
  },
  {
   "cell_type": "code",
   "execution_count": null,
   "metadata": {},
   "outputs": [],
   "source": [
    "1 + 1.0"
   ]
  },
  {
   "cell_type": "code",
   "execution_count": null,
   "metadata": {},
   "outputs": [],
   "source": [
    "3 - True # this is the kind of thing that you shouldn't do, even if you can"
   ]
  },
  {
   "cell_type": "markdown",
   "metadata": {},
   "source": [
    "Using these constructs, we can sometimes write conditional statements in a concise way. But be careful doing this, because as popular as **one-liners** are in Python, it's important to write code that is also easy to understand, either to you six months from now, or to someone else reading your code. Here's an example:"
   ]
  },
  {
   "cell_type": "code",
   "execution_count": null,
   "metadata": {},
   "outputs": [],
   "source": [
    "statement = (2 > 4)\n",
    "\n",
    "print(statement * 5 + (1 - statement)*3) # hard to understand\n",
    "\n",
    "if statement == True: # easier to understand but many lines\n",
    "    print(5)\n",
    "else:\n",
    "    print(3)\n",
    "\n",
    "if statement: # turns out we don't need the `== True` part, it's implied\n",
    "    print(5)\n",
    "else:\n",
    "    print(3)\n",
    "\n",
    "if not statement: # turns out we don't need the `== True` part, it's implied\n",
    "    print(3)\n",
    "else:\n",
    "    print(5)\n",
    "\n",
    "print(5 if statement else 3) # both concise and easy to understand, but a little risky"
   ]
  },
  {
   "cell_type": "markdown",
   "metadata": {},
   "source": [
    "Of course this is both convenience and an inconvenience. It is a convenience because it means that we can write very short code to do what we need to do. In data science, where we want to quickly analyze our data, create summaries and visualizations, train and test models, etc. this convenience really pays off. However, the inconvenience lies in that we are more susceptible to have any bugs in our program that we do not catch until later. So we need to be careful and develop best practices when we code in Python."
   ]
  },
  {
   "cell_type": "code",
   "execution_count": null,
   "metadata": {},
   "outputs": [],
   "source": [
    "s = \"abc\""
   ]
  },
  {
   "cell_type": "code",
   "execution_count": null,
   "metadata": {},
   "outputs": [],
   "source": [
    "s + \"def\""
   ]
  },
  {
   "cell_type": "markdown",
   "metadata": {},
   "source": [
    "In a way we can say that dynamic languages **try to be smart when we are being lazy** by guessing what we mean when we type some code. Of course there is a limit to that and sometimes we need to be a little more explicit, such as here when we need to coerce a string into an integer or vice verca for the operation to make sense."
   ]
  },
  {
   "cell_type": "code",
   "execution_count": null,
   "metadata": {},
   "outputs": [],
   "source": [
    "int('1') + 2"
   ]
  },
  {
   "cell_type": "code",
   "execution_count": null,
   "metadata": {},
   "outputs": [],
   "source": [
    "str(1) + '2'"
   ]
  },
  {
   "cell_type": "markdown",
   "metadata": {},
   "source": [
    "From these basic building blocks, we create the next set of fundamental objects: **lists, tuples, sets and dictionaries**."
   ]
  },
  {
   "cell_type": "code",
   "execution_count": null,
   "metadata": {},
   "outputs": [],
   "source": [
    "fruits = [\"apple\", \"pear\", \"pitaya\", \"zapote\"] # lists\n",
    "print(fruits[0]) # first element\n",
    "print(fruits[-1]) # last element\n",
    "print(fruits[:2]) # first two elements"
   ]
  },
  {
   "cell_type": "markdown",
   "metadata": {},
   "source": [
    "Lists are **mutable** objects, meaning that we can change its elements, add new ones, or drop elements from it."
   ]
  },
  {
   "cell_type": "code",
   "execution_count": null,
   "metadata": {},
   "outputs": [],
   "source": [
    "fruits[-1] = \"nispero\" # lists are mutable"
   ]
  },
  {
   "cell_type": "code",
   "execution_count": null,
   "metadata": {},
   "outputs": [],
   "source": [
    "fruits + [\"guanabana\", \"papaya\"] # adding something to a list is easy"
   ]
  },
  {
   "cell_type": "code",
   "execution_count": null,
   "metadata": {},
   "outputs": [],
   "source": [
    "del fruits[:2] # dropping something from a list is easy\n",
    "print(fruits)"
   ]
  },
  {
   "cell_type": "markdown",
   "metadata": {},
   "source": [
    "We can have lists of booleans, strings, or even lists of mixed data types. Basically, lists are very **flexible** objects, and we use them when we need flexibility. Just know that there's no such thing as a free lunch: when you have more flexibility, you usually have less efficiency."
   ]
  },
  {
   "cell_type": "code",
   "execution_count": null,
   "metadata": {},
   "outputs": [],
   "source": [
    "list(\"abc\")"
   ]
  },
  {
   "cell_type": "code",
   "execution_count": null,
   "metadata": {},
   "outputs": [],
   "source": [
    "\"-\".join(list(\"abc\")) # we can use join to join a list of strings"
   ]
  },
  {
   "cell_type": "markdown",
   "metadata": {},
   "source": [
    "With a list of booleans, we can use `any` and `all` to check conditions."
   ]
  },
  {
   "cell_type": "code",
   "execution_count": null,
   "metadata": {},
   "outputs": [],
   "source": [
    "any([True, False, False])"
   ]
  },
  {
   "cell_type": "code",
   "execution_count": null,
   "metadata": {},
   "outputs": [],
   "source": [
    "all([True, False, False])"
   ]
  },
  {
   "cell_type": "markdown",
   "metadata": {},
   "source": [
    "Finally, lists can be **nested** too, meaning we can have lists of lists."
   ]
  },
  {
   "cell_type": "code",
   "execution_count": null,
   "metadata": {},
   "outputs": [],
   "source": [
    "nested_list = [[-1, 1, 9], [-2, 3, 4]]\n",
    "print(nested_list)"
   ]
  },
  {
   "cell_type": "markdown",
   "metadata": {},
   "source": [
    "There is a really neat way to create lists with Python using what's called **list comprehension**. It's really just a shortcut for creating a list very quickly and in a way that makes the code look easy to follow."
   ]
  },
  {
   "cell_type": "code",
   "execution_count": null,
   "metadata": {},
   "outputs": [],
   "source": [
    "some_list = [] # initialize empty list\n",
    "for i in range(10):\n",
    "    if i % 3 == 1: # if i divided by 3 leaves a remainder of 1\n",
    "        some_list += [i] # add i to the list\n",
    "\n",
    "print(some_list)"
   ]
  },
  {
   "cell_type": "markdown",
   "metadata": {},
   "source": [
    "The above snippet is valid, but there's a much easier way of doing it using a list comprehension:"
   ]
  },
  {
   "cell_type": "code",
   "execution_count": null,
   "metadata": {},
   "outputs": [],
   "source": [
    "some_list = [i for i in range(10) if i % 3 == 1]\n",
    "print(some_list)"
   ]
  },
  {
   "cell_type": "markdown",
   "metadata": {},
   "source": [
    "Tuples look somewhat similar to lists, but they are much more rigid. Tuples are **immutable** meaning that once they're created they can't really be changed. "
   ]
  },
  {
   "cell_type": "code",
   "execution_count": null,
   "metadata": {},
   "outputs": [],
   "source": [
    "tup = tuple([2, 4, 12, \"bla\"])\n",
    "print(tup)"
   ]
  },
  {
   "cell_type": "markdown",
   "metadata": {},
   "source": [
    "### Exercise\n",
    "\n",
    "Try changing the tuple above by changing one of its elements and see what happens. What about trying to add tuples to each other?\n",
    "\n",
    "### End of exercise"
   ]
  },
  {
   "cell_type": "markdown",
   "metadata": {},
   "source": [
    "Tuples are handly when you know what information goes in each place and don't need the flexibility to change it later."
   ]
  },
  {
   "cell_type": "markdown",
   "metadata": {},
   "source": [
    "We can also have **sets** in Python, which are similar to mathematical sets: elements in a set are unique and the order doesn't matter. Sets have certain **methods** that sound familiar if you remember sets in math, such as `difference`."
   ]
  },
  {
   "cell_type": "code",
   "execution_count": null,
   "metadata": {},
   "outputs": [],
   "source": [
    "my_set = set([2, 2, \"hello\", \"hello\", 5])\n",
    "print(my_set)"
   ]
  },
  {
   "cell_type": "code",
   "execution_count": null,
   "metadata": {},
   "outputs": [],
   "source": [
    "my_set.difference(set([2, 4, \"hello\"]))"
   ]
  },
  {
   "cell_type": "markdown",
   "metadata": {},
   "source": [
    "If you're not familiar with the term **method** it refers to the fact that once you create an object, there are certain functions that you can call that are relevant to the object. For example, a set has a method called `difference` so that you can take the difference of one set from another set. To call the method, you type the name of the object, followed by a period, and the name of the method. Tab completion can help you find out what all methods an object might have."
   ]
  },
  {
   "cell_type": "markdown",
   "metadata": {},
   "source": [
    "### Exercise\n",
    "\n",
    "Explore the methods associated with a list and a tuple. Just create a list, then type its name, followed by dot, and press `SHIFT+TAB` to let auto-complete show you the methods. Then try the same thing for a tuple.\n",
    "\n",
    "### End of exercise"
   ]
  },
  {
   "cell_type": "markdown",
   "metadata": {},
   "source": [
    "A Python dictionary is similar to a list, but instead of elements being ordered by their position in the list, the elements are **values** that are paired with **keys**, which makes dictionaries a **key-value pair**."
   ]
  },
  {
   "cell_type": "code",
   "execution_count": null,
   "metadata": {},
   "outputs": [],
   "source": [
    "my_dict = {\"a\": 12, \"b\": \"hello\", \"c\": [4, 9], \"d\": {\"one\": 1, \"two\": 2}}\n",
    "print(my_dict)"
   ]
  },
  {
   "cell_type": "code",
   "execution_count": null,
   "metadata": {},
   "outputs": [],
   "source": [
    "my_dict.keys()"
   ]
  },
  {
   "cell_type": "code",
   "execution_count": null,
   "metadata": {},
   "outputs": [],
   "source": [
    "my_dict.values()"
   ]
  },
  {
   "cell_type": "code",
   "execution_count": null,
   "metadata": {},
   "outputs": [],
   "source": [
    "del my_dict['a']\n",
    "print(my_dict)"
   ]
  },
  {
   "cell_type": "markdown",
   "metadata": {},
   "source": [
    "There is one more data type we briefly cover here, although it is not a **native** data type, in the sense that we need to load a library for it: the `numpy` library. The `numpy` library is a library used to do linear algebra calculations. The most basic `numpy` object is an `array`."
   ]
  },
  {
   "cell_type": "code",
   "execution_count": null,
   "metadata": {},
   "outputs": [],
   "source": [
    "import numpy as np\n",
    "arr = np.array([2, 4, 1, 9])\n",
    "print(arr)"
   ]
  },
  {
   "cell_type": "markdown",
   "metadata": {},
   "source": [
    "The above array looks like a Python list, but a numpy array and a list are very different. Let's look at some example to see what makes them different."
   ]
  },
  {
   "cell_type": "markdown",
   "metadata": {},
   "source": [
    "### Exercise\n",
    "\n",
    "In the following cell, we create a Python list and a `numpy` array. Then we perform the same operation on the list and on the array, but get very different results. Explain what happens in each case."
   ]
  },
  {
   "cell_type": "code",
   "execution_count": null,
   "metadata": {},
   "outputs": [],
   "source": [
    "lst = [2, 4, 9, 7, 1, 9] # this is a list\n",
    "arr = np.array(lst) # this is an array\n",
    "\n",
    "print(lst + [1])\n",
    "print(arr + [1])"
   ]
  },
  {
   "cell_type": "markdown",
   "metadata": {},
   "source": [
    "Return to the above code and change one of the elements of the list from an integer to a string, then report what happens.\n",
    "\n",
    "### End of exercise"
   ]
  },
  {
   "cell_type": "markdown",
   "metadata": {},
   "source": [
    "As we saw in the last exercise, `numpy` arrays cannot contain elements of different types. We say that they are `atomic`. This makes `numpy` arrays ideal for storing columns in tables, because in a table, different columns can be of different types, but for a given column are elements (rows) are expected to be of the same type."
   ]
  },
  {
   "cell_type": "markdown",
   "metadata": {},
   "source": [
    "The `numpy` library is meant to make it easy to work with arrays. We saw for example how we can add 1 to every element of the array **without having to write a loop or list comprehension**. Let's look at another example: say we want to filter an array to only keep elements greater than 5. Compare the list implementation and the array implementation:"
   ]
  },
  {
   "cell_type": "code",
   "execution_count": null,
   "metadata": {},
   "outputs": [],
   "source": [
    "[i for i in lst if i > 5] # filtering a list"
   ]
  },
  {
   "cell_type": "code",
   "execution_count": null,
   "metadata": {},
   "outputs": [],
   "source": [
    "arr[arr > 5] # filtering an array"
   ]
  },
  {
   "cell_type": "markdown",
   "metadata": {},
   "source": [
    "There's a lot more we could be talking, but this is a data science class, not a class on Python programming. We **strongly** encourage you to take an introductory Python class and get very comfortable with the constructs we covered here. For the remainder of the notebook, we cover a few more things that have relevance to data science and then try to bring these examples home by covering some practical examples."
   ]
  },
  {
   "cell_type": "markdown",
   "metadata": {},
   "source": [
    "We often have to print some summaries about data. The `print` function along with the `format` method can be very helpful."
   ]
  },
  {
   "cell_type": "code",
   "execution_count": 2,
   "metadata": {},
   "outputs": [
    {
     "name": "stdout",
     "output_type": "stream",
     "text": [
      "The three numbers are 3.1415, 1360.6745706140914, and 0.89.\n",
      "The decimal rounded to 2 digits is 3.14\n",
      "The bignum with thousand separators and 2 decimals is 1,360.67\n",
      "The percentage number is 89%\n",
      "The three numbers are 3.1415, 1360.6745706140914, 0.89\n",
      "Four plus two equals 6\n"
     ]
    }
   ],
   "source": [
    "dec, bignum, pct = 3.1415, 4.234**5, 0.89 # you can assign multiple variable at once with this shortcut\n",
    "print(\"The three numbers are {}, {}, and {}.\".format(dec, bignum, pct))\n",
    "print(\"The decimal rounded to 2 digits is {:0.3}\".format(dec))\n",
    "print(\"The bignum with thousand separators and 2 decimals is {:,.2f}\".format(bignum))\n",
    "print(\"The percentage number is {:2.0f}%\".format(pct * 100))\n",
    "\n",
    "print(f\"The three numbers are {dec}, {bignum}, {pct}\")\n",
    "print(f\"Four plus two equals {4+2}\")"
   ]
  },
  {
   "cell_type": "markdown",
   "metadata": {},
   "source": [
    "Sometimes we want to run some code, and in case it fails, run some other code. This can help us **gracefully** (that's a technical term) handle errors in our code. To do that, we use the `try` and `except` function."
   ]
  },
  {
   "cell_type": "code",
   "execution_count": null,
   "metadata": {},
   "outputs": [],
   "source": [
    "try:\n",
    "    new_var += 1 # new_var doesn't exist\n",
    "    print(\"Found and incremented new_var. The new value is {}.\".format(new_var))\n",
    "except:\n",
    "    new_var = 45\n",
    "    print(\"Initialized new_var to 45\")"
   ]
  },
  {
   "cell_type": "markdown",
   "metadata": {},
   "source": [
    "Try running the above cell multiple times to see what happens. The `try` function can be very helpful when we're traversing data that is not well structured and we expect to run into errors but don't want the errors to stop us mid-stream."
   ]
  },
  {
   "cell_type": "markdown",
   "metadata": {},
   "source": [
    "Writing functions in Python is relatively easy:"
   ]
  },
  {
   "cell_type": "code",
   "execution_count": null,
   "metadata": {},
   "outputs": [],
   "source": [
    "def my_function(n, m = 1): # name and arguments for the function\n",
    "    return(n + m)\n",
    "\n",
    "print(my_function(3))\n",
    "print(my_function(n = 3))"
   ]
  },
  {
   "cell_type": "code",
   "execution_count": null,
   "metadata": {},
   "outputs": [],
   "source": [
    "print(my_function(3, 4)) # you can match arguments by position, here order matters\n",
    "print(my_function(n = 3, m = 4)) # you can match arguments by name\n",
    "print(my_function(m = 4, n = 3)) # if you match arguments by name, order doesn't matter"
   ]
  },
  {
   "cell_type": "markdown",
   "metadata": {},
   "source": [
    "### Exercise\n",
    "\n",
    "In the list below, one of the elements is a string by accident. Write a program that multiplies each element of the list by itself. Use `try` and `except` to leave the element as-is when the element is not a number.\n",
    "\n",
    "There are different ways to solve this. Here are two ways we propose:\n",
    "- use a loop that iterates over the index of the list using `range(len(my_list))`\n",
    "- write a function and then use list comprehension to apply it to each element of the list"
   ]
  },
  {
   "cell_type": "code",
   "execution_count": null,
   "metadata": {},
   "outputs": [],
   "source": [
    "my_list = [2, 4, 8, \"3\", 5]"
   ]
  },
  {
   "cell_type": "markdown",
   "metadata": {},
   "source": [
    "### End of exercise"
   ]
  },
  {
   "cell_type": "markdown",
   "metadata": {},
   "source": [
    "At this point you might be wondering, am I here to learn data science or am I here to learn solve little programming challenges. In other words, how relevant is all of this to doing data science? The answer is very, very, very relevant, because knowing the basics well can help you write clear and concise code to manipulate data. We'll look at some examples here, but the truth is it takes time and practice to come to this realization."
   ]
  },
  {
   "cell_type": "markdown",
   "metadata": {},
   "source": [
    "Let's show an example of how the things we learned can be applied to a data science situation. We will go and read in some data from a JSON file, which is an example of what we call **semi-structured data**. \n",
    "\n",
    "### Exercise\n",
    "\n",
    "Before reading the data, go and open it in an editor (the file name is `books.json`). A JSON file is not a Python object, but does it look **similar to** any of the Python objects we've encountered so far?\n",
    "\n",
    "### End of exercise"
   ]
  },
  {
   "cell_type": "markdown",
   "metadata": {},
   "source": [
    "Let's now go and read the file into Python. After reading it, we will print the first element of it, to see what kind of data is there. When you try to print objects that can have nested information, it's helpful to pretty-print it, using the `pprint` library so the information is more presentable."
   ]
  },
  {
   "cell_type": "code",
   "execution_count": null,
   "metadata": {},
   "outputs": [],
   "source": [
    "import json\n",
    "with open('data/books.json', encoding = 'utf-8') as f:\n",
    "    books_dict = json.load(f)\n",
    "\n",
    "from pprint import pprint\n",
    "pprint(books_dict[0]) # print information for the first book"
   ]
  },
  {
   "cell_type": "markdown",
   "metadata": {},
   "source": [
    "We are now going to extract particular pieces of information from the first book: the title, author, category, and ISBN of the book. However, we run into a problem: books can have multiple authors and multiple categories, and for reasons that will become clear soon we don't want to allow that. Instead we'll do this:\n",
    "\n",
    "- When there are multiple authors, we will replicate the information once for each author.\n",
    "- When there are multiple categories, we will just take the first one and ignore the rest."
   ]
  },
  {
   "cell_type": "code",
   "execution_count": null,
   "metadata": {},
   "outputs": [],
   "source": [
    "elem = books_dict[0] # pull out the first element\n",
    "num_authors = len(elem['authors'])\n",
    "print(\"The first book has {} authors.\".format(num_authors))"
   ]
  },
  {
   "cell_type": "markdown",
   "metadata": {},
   "source": [
    "Also for reasons that will become clear soon, we will create a **tuple** for storing the information, so here because we have three authors, we create three tuples called `row_1`, `row_2` and `row_3`."
   ]
  },
  {
   "cell_type": "code",
   "execution_count": null,
   "metadata": {},
   "outputs": [],
   "source": [
    "row_1 = (elem['title'], \n",
    "         elem['authors'][0], # first author\n",
    "         elem['categories'][0], # first category\n",
    "         elem['isbn'])\n",
    "\n",
    "row_2 = (elem['title'], \n",
    "         elem['authors'][1], # second author\n",
    "         elem['categories'][0], # first category\n",
    "         elem['isbn'])\n",
    "\n",
    "row_3 = (elem['title'], \n",
    "         elem['authors'][2], # third author\n",
    "         elem['categories'][0], # first category\n",
    "         elem['isbn'])"
   ]
  },
  {
   "cell_type": "code",
   "execution_count": null,
   "metadata": {},
   "outputs": [],
   "source": [
    "print(row_1)"
   ]
  },
  {
   "cell_type": "markdown",
   "metadata": {},
   "source": [
    "Now it's time to take the content from above and place it in a tabular datastore. We will use the `sqlite3` library, which gives us access to a light-weight SQL database in Python. We don't actually need to have SQLite installed on our machine. Instead we use `sqlite.connect(':memory:')` to connect to a \"database\" in the memory and pretend it's a physical database somewhere."
   ]
  },
  {
   "cell_type": "code",
   "execution_count": null,
   "metadata": {},
   "outputs": [],
   "source": [
    "import sqlite3\n",
    "\n",
    "connection = sqlite3.connect(':memory:') \n",
    "cursor = connection.cursor()\n",
    "\n",
    "cursor.execute('''CREATE TABLE books_long\n",
    "             (title text, author text, categroy text, isbn text)''')\n",
    "\n",
    "rows = [row_1, row_2, row_3]\n",
    "cursor.executemany('INSERT INTO books_long VALUES (?,?,?,?)', rows)\n",
    "\n",
    "connection.commit() # save the changes"
   ]
  },
  {
   "cell_type": "markdown",
   "metadata": {},
   "source": [
    "Notice how in the above snippet, we first create a SQL table with column names and column types matching what we extracted from the JSON file. We then grouped `row_1`, `row_2` and `row_3` into a list and then inserted them into a SQL table we created, by using `INSERT INTO`."
   ]
  },
  {
   "cell_type": "markdown",
   "metadata": {},
   "source": [
    "### Exercise\n",
    "\n",
    "Based on what we learned about lists and tuples, see if you can answer the following questions:\n",
    "\n",
    "1. What is the type of `row_1`? Provide a justification for this chioce.\n",
    "1. What is the type of `row`? Provide a justification for this chioce.\n",
    "\n",
    "### End of exercise"
   ]
  },
  {
   "cell_type": "markdown",
   "metadata": {},
   "source": [
    "How do we check that it all worked? We can simply run a `SELECT *` on the data, and use `fetchall()` to grab it from the database and bring it back into Python."
   ]
  },
  {
   "cell_type": "code",
   "execution_count": null,
   "metadata": {},
   "outputs": [],
   "source": [
    "books_table = cursor.execute(\"SELECT * FROM books_long\").fetchall()\n",
    "books_table"
   ]
  },
  {
   "cell_type": "markdown",
   "metadata": {},
   "source": [
    "So let's summarize what we accomplished:\n",
    "1. We read data from a JSON file into a Python dictionary.\n",
    "1. We extracted some of the data out of the Python dictionary and placed it into a list of tuples.\n",
    "1. We took the list of tuples and dumped its content into a SQL table.\n",
    "1. We read the content back from the SQL table and into Python as a list of tuples."
   ]
  },
  {
   "cell_type": "markdown",
   "metadata": {},
   "source": [
    "Now that we get the picture, let's loop through the entire data and extract the information. Of course because JSON data doesn't necessarily enforce any sort of schema, we can't be sure that the information we are trying to extract exists for every book entry. So we use `try` and `except` to loop through the data and skip to the next item every time there's an error with reading one of the book entries."
   ]
  },
  {
   "cell_type": "code",
   "execution_count": null,
   "metadata": {},
   "outputs": [],
   "source": [
    "rows = []\n",
    "\n",
    "for item in books_dict:\n",
    "    num_authors = len(item['authors'])\n",
    "    for i in range(num_authors):\n",
    "        try:\n",
    "            row = (item['title'], \n",
    "                   item['authors'][i], \n",
    "                   item['categories'][0], \n",
    "                   item['isbn'])\n",
    "            rows.append(row)\n",
    "        except:\n",
    "            pass"
   ]
  },
  {
   "cell_type": "code",
   "execution_count": null,
   "metadata": {},
   "outputs": [],
   "source": [
    "cursor.executemany('INSERT INTO books_long VALUES (?,?,?,?)', rows)\n",
    "books_table = cursor.execute(\"SELECT * FROM books_long\").fetchall()\n",
    "connection.commit() # save the changes\n",
    "connection.close() # any un-committed changes are lost when closing the connection "
   ]
  },
  {
   "cell_type": "code",
   "execution_count": null,
   "metadata": {},
   "outputs": [],
   "source": [
    "books_table[:5]"
   ]
  },
  {
   "cell_type": "markdown",
   "metadata": {},
   "source": [
    "SQL tables are not the only way, and definitely not the most straightforward way to store and manipulate data in Python. Later we will learn how we can use Python's `pandas` library to create a `DataFrame`. This library has a lot of functionality that makes it easy to run the common tasks data scientists do with data."
   ]
  },
  {
   "cell_type": "code",
   "execution_count": null,
   "metadata": {},
   "outputs": [],
   "source": [
    "import pandas as pd\n",
    "books_df = pd.DataFrame(books_table, columns = ['title', 'author', 'categoriy', 'isbn'])"
   ]
  },
  {
   "cell_type": "markdown",
   "metadata": {},
   "source": [
    "Just as an example, let's see how we can show the first few columns of a `DataFrame` using a method called `head`."
   ]
  },
  {
   "cell_type": "code",
   "execution_count": null,
   "metadata": {
    "scrolled": true
   },
   "outputs": [],
   "source": [
    "books_df.head()"
   ]
  },
  {
   "cell_type": "markdown",
   "metadata": {},
   "source": [
    "Remember how earlier we said that a `DataFrame` is built on top of `numpy` arrays? Another way of saying it is that a `DataFrame` is an **abstraction** on top of `numpy` arrays: i.e. a `DataFrame` is a more **high-level** object than a `numpy` array. Here's one easy way to convince you of that:"
   ]
  },
  {
   "cell_type": "code",
   "execution_count": null,
   "metadata": {},
   "outputs": [],
   "source": [
    "books_df.values # returns the DataFrame as a numpy array"
   ]
  },
  {
   "cell_type": "markdown",
   "metadata": {},
   "source": [
    "Now you can judge which object is more \"user-friendly\". That's one of the things that abstractions allow us to do: build more user-friendly (abstract) objects from less user-friendly (but more fundamental) objects."
   ]
  }
 ],
 "metadata": {
  "kernelspec": {
   "display_name": "Python 3",
   "language": "python",
   "name": "python3"
  },
  "language_info": {
   "codemirror_mode": {
    "name": "ipython",
    "version": 3
   },
   "file_extension": ".py",
   "mimetype": "text/x-python",
   "name": "python",
   "nbconvert_exporter": "python",
   "pygments_lexer": "ipython3",
   "version": "3.7.0"
  }
 },
 "nbformat": 4,
 "nbformat_minor": 4
}
