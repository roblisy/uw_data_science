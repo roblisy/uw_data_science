{
 "cells": [
  {
   "cell_type": "markdown",
   "metadata": {},
   "source": [
    "# Lesson 3 Assignment - Monty Hall Simulation\n",
    "Version: Jun-2019\n",
    "## Author - Rob Lisy"
   ]
  },
  {
   "cell_type": "markdown",
   "metadata": {},
   "source": [
    "### Instructions\n",
    "Simulate the conditional probabilities of the distributions for winning a car vs. a goat for the Monty Hall Problem that includes the following:\n",
    "1. the cases for switching or not switching\n",
    "2. histograms and summary statistics (at least mean and variance) of the results for winning the car or a goat for both strategies: switching or not switching\n",
    "3. comparison of the cases to determine the best strategy\n",
    "4. recommended strategy\n",
    "\n"
   ]
  },
  {
   "cell_type": "markdown",
   "metadata": {},
   "source": [
    "#### Note: \n",
    "Please clearly outline the results and your recommendation with markdown text. Be sure your discussion includes narrative for your figures and tables so it is clear to the reader the importance of each bit of evidence."
   ]
  },
  {
   "cell_type": "code",
   "execution_count": 1,
   "metadata": {},
   "outputs": [],
   "source": [
    "# Import libraries\n",
    "import random\n",
    "import numpy as np\n",
    "import pandas as pd\n",
    "import seaborn as sns"
   ]
  },
  {
   "cell_type": "code",
   "execution_count": 2,
   "metadata": {},
   "outputs": [],
   "source": [
    "def generate_doors():\n",
    "    \"\"\"\n",
    "    Function to generate a list of 3 doors - 2 goats and a car\n",
    "    \"\"\"\n",
    "    # make a list\n",
    "    doors = ['car', 'goat', 'goat']\n",
    "    # shuffle that list, return it\n",
    "    random.shuffle(doors)\n",
    "    return doors"
   ]
  },
  {
   "cell_type": "code",
   "execution_count": 3,
   "metadata": {},
   "outputs": [],
   "source": [
    "def single_trial(num_doors=3):\n",
    "    \"\"\"\n",
    "    Run a single game of the Monty Hall problem. Default has 3 doors, there's a flag for switching doors.\n",
    "    \"\"\"\n",
    "    # Have the contestant pick a door\n",
    "    # (we pick randomly from a list of indexes)\n",
    "    chosen_door = random.choice([0, 1, 2])\n",
    "    \n",
    "    # Generate the door list\n",
    "    door_list = generate_doors()\n",
    "    \n",
    "    # What happens if you stay on your door?\n",
    "    stay_door = door_list.pop(chosen_door)\n",
    "    # The other case is that the host opens a door. We should remove a single goat\n",
    "    door_list.remove('goat')\n",
    "    switch_door = door_list[0]\n",
    "    \n",
    "    # decode if we've won for while staying\n",
    "    if stay_door == 'car':\n",
    "        stay_result = 1\n",
    "    else:\n",
    "        stay_result = 0\n",
    "        \n",
    "    # decode if we've won while switching\n",
    "    if switch_door == 'car':\n",
    "        switch_result = 1\n",
    "    else:\n",
    "        switch_result = 0\n",
    "   \n",
    "    # Put results into result lists\n",
    "    return (stay_result, switch_result)\n",
    "    "
   ]
  },
  {
   "cell_type": "code",
   "execution_count": 4,
   "metadata": {},
   "outputs": [],
   "source": [
    "def many_games(niter=1000):\n",
    "    \"\"\"\n",
    "    Run the game many many times.\n",
    "    \"\"\"\n",
    "    stay_results = []\n",
    "    switch_results = []\n",
    "    for i in range(1, niter):\n",
    "        x, y = single_trial()\n",
    "        stay_results.append(x)\n",
    "        switch_results.append(y)\n",
    "\n",
    "    # return some big ole lists\n",
    "    return stay_results, switch_results"
   ]
  },
  {
   "cell_type": "code",
   "execution_count": 5,
   "metadata": {},
   "outputs": [],
   "source": [
    "# run the game many times, convert the results into a Numpy array\n",
    "x, y = many_games(10000)\n",
    "stay_arr = np.array(x)\n",
    "switch_arr = np.array(y)"
   ]
  },
  {
   "cell_type": "markdown",
   "metadata": {},
   "source": [
    "## Statistics\n",
    "\n",
    "Now that we have 2 arrays, we can compare the strategies. Let's look at the average (mean) payout between the strategies"
   ]
  },
  {
   "cell_type": "code",
   "execution_count": 6,
   "metadata": {},
   "outputs": [
    {
     "name": "stdout",
     "output_type": "stream",
     "text": [
      "Average payout for staying on the same door is 33.64%\n",
      "Average payout for switching doors is 66.36%\n"
     ]
    }
   ],
   "source": [
    "print(f\"Average payout for staying on the same door is {stay_arr.mean()*100:.2f}%\")\n",
    "print(f\"Average payout for switching doors is {switch_arr.mean()*100:.2f}%\")"
   ]
  },
  {
   "cell_type": "code",
   "execution_count": 27,
   "metadata": {},
   "outputs": [
    {
     "name": "stdout",
     "output_type": "stream",
     "text": [
      "Average payout for staying on the same door is 22.3\n",
      "Average payout for switching doors is 22.3\n"
     ]
    }
   ],
   "source": [
    "# Now let's print out the variance\n",
    "print(f\"Average payout for staying on the same door is {stay_arr.var()*100:.1f}\")\n",
    "print(f\"Average payout for switching doors is {switch_arr.var()*100:.1f}\")"
   ]
  },
  {
   "cell_type": "markdown",
   "metadata": {},
   "source": [
    "### Let's plot the 2 game strategies"
   ]
  },
  {
   "cell_type": "code",
   "execution_count": 29,
   "metadata": {},
   "outputs": [
    {
     "data": {
      "text/html": [
       "<div>\n",
       "<style scoped>\n",
       "    .dataframe tbody tr th:only-of-type {\n",
       "        vertical-align: middle;\n",
       "    }\n",
       "\n",
       "    .dataframe tbody tr th {\n",
       "        vertical-align: top;\n",
       "    }\n",
       "\n",
       "    .dataframe thead th {\n",
       "        text-align: right;\n",
       "    }\n",
       "</style>\n",
       "<table border=\"1\" class=\"dataframe\">\n",
       "  <thead>\n",
       "    <tr style=\"text-align: right;\">\n",
       "      <th></th>\n",
       "      <th>stay</th>\n",
       "      <th>switch</th>\n",
       "      <th>stay_cumsum</th>\n",
       "      <th>switch_cumsum</th>\n",
       "      <th>trial</th>\n",
       "      <th>stay_pct</th>\n",
       "      <th>switch_pct</th>\n",
       "    </tr>\n",
       "  </thead>\n",
       "  <tbody>\n",
       "    <tr>\n",
       "      <th>0</th>\n",
       "      <td>0</td>\n",
       "      <td>1</td>\n",
       "      <td>0</td>\n",
       "      <td>1</td>\n",
       "      <td>1</td>\n",
       "      <td>0.0</td>\n",
       "      <td>100.0</td>\n",
       "    </tr>\n",
       "    <tr>\n",
       "      <th>1</th>\n",
       "      <td>0</td>\n",
       "      <td>1</td>\n",
       "      <td>0</td>\n",
       "      <td>2</td>\n",
       "      <td>2</td>\n",
       "      <td>0.0</td>\n",
       "      <td>100.0</td>\n",
       "    </tr>\n",
       "    <tr>\n",
       "      <th>2</th>\n",
       "      <td>0</td>\n",
       "      <td>1</td>\n",
       "      <td>0</td>\n",
       "      <td>3</td>\n",
       "      <td>3</td>\n",
       "      <td>0.0</td>\n",
       "      <td>100.0</td>\n",
       "    </tr>\n",
       "    <tr>\n",
       "      <th>3</th>\n",
       "      <td>1</td>\n",
       "      <td>0</td>\n",
       "      <td>1</td>\n",
       "      <td>3</td>\n",
       "      <td>4</td>\n",
       "      <td>25.0</td>\n",
       "      <td>75.0</td>\n",
       "    </tr>\n",
       "    <tr>\n",
       "      <th>4</th>\n",
       "      <td>0</td>\n",
       "      <td>1</td>\n",
       "      <td>1</td>\n",
       "      <td>4</td>\n",
       "      <td>5</td>\n",
       "      <td>20.0</td>\n",
       "      <td>80.0</td>\n",
       "    </tr>\n",
       "  </tbody>\n",
       "</table>\n",
       "</div>"
      ],
      "text/plain": [
       "   stay  switch  stay_cumsum  switch_cumsum  trial  stay_pct  switch_pct\n",
       "0     0       1            0              1      1       0.0       100.0\n",
       "1     0       1            0              2      2       0.0       100.0\n",
       "2     0       1            0              3      3       0.0       100.0\n",
       "3     1       0            1              3      4      25.0        75.0\n",
       "4     0       1            1              4      5      20.0        80.0"
      ]
     },
     "execution_count": 29,
     "metadata": {},
     "output_type": "execute_result"
    }
   ],
   "source": [
    "df = pd.DataFrame({'stay': stay_arr, 'switch': switch_arr})\n",
    "sum_cols = df.columns\n",
    "\n",
    "for c in sum_cols:\n",
    "    df[c + '_cumsum'] = df[c].cumsum()\n",
    "\n",
    "# append the row number so we can calculate the success rate...\n",
    "df['trial'] = np.arange(len(df)) + 1\n",
    "for c in sum_cols:\n",
    "    df[c + \"_pct\"] = df[c + '_cumsum'] / df['trial'] * 100\n",
    "    \n",
    "df.head()"
   ]
  },
  {
   "cell_type": "code",
   "execution_count": 26,
   "metadata": {},
   "outputs": [
    {
     "data": {
      "image/png": "[encoded data removed]",
      "text/plain": [
       "<Figure size 432x288 with 1 Axes>"
      ]
     },
     "metadata": {
      "needs_background": "light"
     },
     "output_type": "display_data"
    }
   ],
   "source": [
    "# to get plotting to work well, we need to melt (aka unpivot) the data frame from wide to long.\n",
    "melt_df = pd.melt(df, id_vars=['trial'], value_vars=['stay_pct', 'switch_pct'], var_name='strategy')\n",
    "\n",
    "sns.lineplot(x='trial', y='value', hue='strategy', data = melt_df).set_title('Stay vs Switch - the Monte Hall simulation');"
   ]
  },
  {
   "cell_type": "markdown",
   "metadata": {},
   "source": [
    "# Summary\n",
    "\n",
    "It's very clear that if you want to win the car, you should always switch doors. It's also easy to intuit **why** that is: when the host opens a door, they will always open the door without the car behind it.\n",
    "\n",
    "If you switch your choice, on average you'll win the car ~ 2/3rds of the time. If you keep the same door, you're stuck at around a 33% success rate."
   ]
  }
 ],
 "metadata": {
  "kernelspec": {
   "display_name": "Python 3",
   "language": "python",
   "name": "python3"
  },
  "language_info": {
   "codemirror_mode": {
    "name": "ipython",
    "version": 3
   },
   "file_extension": ".py",
   "mimetype": "text/x-python",
   "name": "python",
   "nbconvert_exporter": "python",
   "pygments_lexer": "ipython3",
   "version": "3.8.0"
  },
  "toc": {
   "base_numbering": 1,
   "nav_menu": {},
   "number_sections": true,
   "sideBar": true,
   "skip_h1_title": false,
   "title_cell": "Table of Contents",
   "title_sidebar": "Contents",
   "toc_cell": false,
   "toc_position": {},
   "toc_section_display": true,
   "toc_window_display": false
  }
 },
 "nbformat": 4,
 "nbformat_minor": 4
}
