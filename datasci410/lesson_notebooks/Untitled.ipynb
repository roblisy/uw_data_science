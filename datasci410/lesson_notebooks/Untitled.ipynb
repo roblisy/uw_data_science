{
 "cells": [
  {
   "cell_type": "code",
   "execution_count": 3,
   "metadata": {},
   "outputs": [],
   "source": [
    "import numpy as np"
   ]
  },
  {
   "cell_type": "code",
   "execution_count": 4,
   "metadata": {},
   "outputs": [],
   "source": [
    "# Observations\n",
    "n = 20000\n",
    "# standard deviation\n",
    "std_x = .52\n",
    "# sum of the column\n",
    "s = 282002\n",
    "\n",
    "\n",
    "# prior distribution beliefs\n",
    "prior_std = 2.564\n",
    "prior_mu = 13.199\n",
    "\n",
    "posterior_std = (1/prior_std + n/std_x)**-1\n",
    "posterior_mu = posterior_std*(prior_mu/prior_std + s/std_x)"
   ]
  },
  {
   "cell_type": "code",
   "execution_count": 6,
   "metadata": {},
   "outputs": [
    {
     "name": "stdout",
     "output_type": "stream",
     "text": [
      "1329204.050225553\n"
     ]
    }
   ],
   "source": [
    "print(np.exp(posterior_mu))"
   ]
  }
 ],
 "metadata": {
  "kernelspec": {
   "display_name": "Python 3",
   "language": "python",
   "name": "python3"
  },
  "language_info": {
   "codemirror_mode": {
    "name": "ipython",
    "version": 3
   },
   "file_extension": ".py",
   "mimetype": "text/x-python",
   "name": "python",
   "nbconvert_exporter": "python",
   "pygments_lexer": "ipython3",
   "version": "3.7.0"
  }
 },
 "nbformat": 4,
 "nbformat_minor": 4
}
