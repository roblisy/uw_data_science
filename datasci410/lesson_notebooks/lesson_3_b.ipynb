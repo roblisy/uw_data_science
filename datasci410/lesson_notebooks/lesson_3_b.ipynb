{
 "cells": [
  {
   "cell_type": "markdown",
   "metadata": {
    "colab_type": "text",
    "id": "GfRPYAQ7Y5TY"
   },
   "source": [
    "# Introduction to probability distributions and Monte Carlo simulations\n",
    "\n",
    "This notebook introduces you to the basics of probability distributions and their application in Monte Carlo simulations. In the last notebook we learned how to think in terms of probabilities and worked with a basic example. Very often we do not have access to a dataset of all possible outcomes (sample space) that we can query to see how probable different outcomes are (or any set of outcomes, which we called an **event**). This can be because there are far too many outcomes to list them all or because such a detailed data is simply not available. Even if we had this data, querying it every time we wanted to find the probability of some event is not the a very efficient way to get the answer. Instead, we can find the probability associated with each outcome in the sample space once and save it for future reference. This is basically what a probability distribution is: a sort of lookup table that we refer to when we need to find the probability of some event."
   ]
  },
  {
   "cell_type": "code",
   "execution_count": 1,
   "metadata": {
    "colab": {
     "autoexec": {
      "startup": false,
      "wait_interval": 0
     }
    },
    "colab_type": "code",
    "id": "kmNGDpkSZWV8"
   },
   "outputs": [],
   "source": [
    "import numpy as np\n",
    "import pandas as pd\n",
    "import itertools\n",
    "import scipy\n",
    "import scipy.stats\n",
    "from matplotlib import pyplot as plt\n",
    "import seaborn as sns\n",
    "\n",
    "sns.set_palette('muted')\n",
    "sns.set_style('ticks')"
   ]
  },
  {
   "cell_type": "markdown",
   "metadata": {
    "colab_type": "text",
    "id": "GfRPYAQ7Y5TY"
   },
   "source": [
    "For example, we saw that if we roll two dice and get the sum, the sample space looks like this:\n",
    "\n",
    "<img src=\"https://library.startlearninglabs.uw.edu/DATASCI410/img/Dice.jpg\" style=\"height: 300px;\" alt=\"Rolling dice image\">\n",
    "\n",
    "And so we can see for example that $P(\\text{sum} = 6) = 5/36$ (since all outcomes are equally likely, we can just count how many squares have a 5 and divide by the total). But if we need to look up these probabilities often, it may be easier to just find the probability distribution and refer to it when needed."
   ]
  },
  {
   "cell_type": "code",
   "execution_count": 3,
   "metadata": {},
   "outputs": [
    {
     "data": {
      "text/plain": [
       "2     0.027778\n",
       "3     0.055556\n",
       "4     0.083333\n",
       "5     0.111111\n",
       "6     0.138889\n",
       "7     0.166667\n",
       "8     0.138889\n",
       "9     0.111111\n",
       "10    0.083333\n",
       "11    0.055556\n",
       "12    0.027778\n",
       "Name: roll_sum, dtype: float64"
      ]
     },
     "execution_count": 3,
     "metadata": {},
     "output_type": "execute_result"
    }
   ],
   "source": [
    "two_dice = pd.DataFrame(itertools.product(range(1, 7), range(1, 7)), columns = ['one', 'two'])\n",
    "two_dice['roll_sum'] = two_dice.apply(sum, axis = 1)\n",
    "\n",
    "prob_dist = two_dice['roll_sum'].value_counts(normalize = True, sort = False)\n",
    "prob_dist"
   ]
  },
  {
   "cell_type": "markdown",
   "metadata": {},
   "source": [
    "We can display the above distribution using a barplot. Since the sample space is limited to integers between 2 and 12, this is called a **discrete distribution**."
   ]
  },
  {
   "cell_type": "code",
   "execution_count": 4,
   "metadata": {},
   "outputs": [
    {
     "data": {
      "image/png": "[encoded data removed]",
      "text/plain": [
       "<Figure size 432x288 with 1 Axes>"
      ]
     },
     "metadata": {},
     "output_type": "display_data"
    }
   ],
   "source": [
    "sns.barplot(x = prob_dist.index, y = prob_dist, color = 'blue');"
   ]
  },
  {
   "cell_type": "markdown",
   "metadata": {},
   "source": [
    "Can we do even better than that? Maybe. We could try for example to encode the above distribution as a formula such as $P(k) = P(X = k) = -a|x - 7| + b$ with $x = \\{2, 3, \\cdots, 12\\}$ and $a, b$ chosen so that $\\sum_x P(x) = 1$. If we have such a formula, then to get $P(X = k)$ we just plug it into the function. No more querying the data. No more lookup tables.\n",
    "\n",
    "Of course getting such a function for any distribution is not always easy to do, but for certain common scenarios such functions have been found and learning about them and how to use them is the topic of today."
   ]
  },
  {
   "cell_type": "markdown",
   "metadata": {
    "colab_type": "text",
    "id": "Hj4-ISZwY5TZ"
   },
   "source": [
    "## Discrete distributions\n",
    "\n",
    "Discrete distributions are used to model the probability of events with discrete outcomes or states. Discrete distributions have a countable number of possible outcomes. The distribution measures the probability of each of these outcomes. We therefore call the distribution function the **probability mass function**.\n",
    "\n",
    "The basic properties of discrete distributions are:\n",
    "\n",
    "- The sum of the probabilities of all possible events must equal 1.\n",
    "- The probability of an event is equal to the value of distribution at that point.\n",
    "- All probabilities are strictly in the range 0-1."
   ]
  },
  {
   "cell_type": "markdown",
   "metadata": {},
   "source": [
    "### Discrete uniform distribution\n",
    "\n",
    "This is the easiest of the distributions. Let's say you flip a fair coin. Then heads and tail have the same probability of happening, 50% each. In other words, the outcome of the coin flip follows a **uniform** distribution (equal probability), and because the options are limited to heads and tails it is **discrete**.\n",
    "\n",
    "Another example is let's say you wake up in the morning and wonder what shirt to wear. If you have $20$ shirts and each is as likely to be selected as any other, then your choice of a shirt to wear follows a discrete uniform distribution and every short has a probability of $1/20$ to be selected."
   ]
  },
  {
   "cell_type": "markdown",
   "metadata": {
    "colab_type": "text",
    "id": "JhEaEgo8Y5Ta"
   },
   "source": [
    "### Bernoulli distribution\n",
    "\n",
    "The coin toss example earlier can be generalized to **biased coins** using the Bernoulli distribution, which model trials with binary outcomes. For example, the flip of a coin can only result in two possible end states: heads or tails.\n",
    "\n",
    "For an event with a binary outcome, $X \\in \\{0,1\\}$ with probability $p$ of state 1, we can write the probability mass function for the Bernoulli distribution as:\n",
    "\n",
    "$$P(X | p) = \\bigg\\{ \n",
    "\\begin{matrix}\n",
    "p &\\text{if } X = 1\\\\\n",
    "1 - p &\\text{if } X = 0\n",
    "\\end{matrix}$$\n",
    "\n",
    "Or as a one-liner: $P(X | p) = p^X + (1 - p)^{(1 - X)}$.\n",
    "\n",
    "The Bernoulli distribution has mean $p$ and variance $p(1-p)$."
   ]
  },
  {
   "cell_type": "markdown",
   "metadata": {},
   "source": [
    "Let's explore the Bernoulli distribution. The code in the cell below computes the outcome of $1000$ Bernoulli trials with $p = 0.75$. The **theoretical and empirical** mean and variance for these trials are displayed. Execute this code and examine the results. How close are the empirical mean and variance to the theoretical mean and variance?"
   ]
  },
  {
   "cell_type": "code",
   "execution_count": 5,
   "metadata": {
    "colab": {
     "autoexec": {
      "startup": false,
      "wait_interval": 0
     },
     "base_uri": "https://localhost:8080/",
     "height": 35,
     "output_extras": [
      {
       "item_id": 1
      }
     ]
    },
    "colab_type": "code",
    "executionInfo": {
     "elapsed": 378,
     "status": "ok",
     "timestamp": 1512611088527,
     "user": {
      "displayName": "Drew Bryant",
      "photoUrl": "//lh4.googleusercontent.com/-bbwiO20N-0M/AAAAAAAAAAI/AAAAAAAAAJg/qqZ1Ilm078o/s50-c-k-no/photo.jpg",
      "userId": "111241008704641611320"
     },
     "user_tz": 480
    },
    "id": "4WRHHclxZH-Y",
    "outputId": "33fd86c9-ceaa-4d53-be70-00aa2f350a08"
   },
   "outputs": [
    {
     "data": {
      "text/plain": [
       "(1000000,)"
      ]
     },
     "execution_count": 5,
     "metadata": {},
     "output_type": "execute_result"
    }
   ],
   "source": [
    "p = 0.75\n",
    "sample_size = 10**6\n",
    "\n",
    "bern_samples = np.random.binomial(1, p, sample_size) # draw samples from binomial distribution\n",
    "bern_samples.shape"
   ]
  },
  {
   "cell_type": "code",
   "execution_count": 6,
   "metadata": {
    "colab": {
     "autoexec": {
      "startup": false,
      "wait_interval": 0
     },
     "base_uri": "https://localhost:8080/",
     "height": 35,
     "output_extras": [
      {
       "item_id": 1
      }
     ]
    },
    "colab_type": "code",
    "executionInfo": {
     "elapsed": 391,
     "status": "ok",
     "timestamp": 1512611089020,
     "user": {
      "displayName": "Drew Bryant",
      "photoUrl": "//lh4.googleusercontent.com/-bbwiO20N-0M/AAAAAAAAAAI/AAAAAAAAAJg/qqZ1Ilm078o/s50-c-k-no/photo.jpg",
      "userId": "111241008704641611320"
     },
     "user_tz": 480
    },
    "id": "KYSn_8C9ZmHs",
    "outputId": "81953cf8-eaaa-4acc-af21-9a034f0e63fd"
   },
   "outputs": [
    {
     "name": "stdout",
     "output_type": "stream",
     "text": [
      "theoretical mean p = 0.750000, sample mean = 0.750002\n"
     ]
    }
   ],
   "source": [
    "print('theoretical mean p = %.6f, sample mean = %.6f' % (p, bern_samples.mean()))"
   ]
  },
  {
   "cell_type": "code",
   "execution_count": 7,
   "metadata": {
    "colab": {
     "autoexec": {
      "startup": false,
      "wait_interval": 0
     },
     "base_uri": "https://localhost:8080/",
     "height": 35,
     "output_extras": [
      {
       "item_id": 1
      }
     ]
    },
    "colab_type": "code",
    "executionInfo": {
     "elapsed": 397,
     "status": "ok",
     "timestamp": 1512611089514,
     "user": {
      "displayName": "Drew Bryant",
      "photoUrl": "//lh4.googleusercontent.com/-bbwiO20N-0M/AAAAAAAAAAI/AAAAAAAAAJg/qqZ1Ilm078o/s50-c-k-no/photo.jpg",
      "userId": "111241008704641611320"
     },
     "user_tz": 480
    },
    "id": "74OXSPiUaCkA",
    "outputId": "62d0fdd1-a404-4868-c497-7e2bb480edbc"
   },
   "outputs": [
    {
     "name": "stdout",
     "output_type": "stream",
     "text": [
      "theoretical variance = 0.188   Sample variance = 0.187\n"
     ]
    }
   ],
   "source": [
    "print('theoretical variance = %.3f   Sample variance = %.3f' % (p * (1 - p), bern_samples.var()))"
   ]
  },
  {
   "cell_type": "code",
   "execution_count": 8,
   "metadata": {
    "colab": {
     "autoexec": {
      "startup": false,
      "wait_interval": 0
     },
     "base_uri": "https://localhost:8080/",
     "height": 246,
     "output_extras": [
      {
       "item_id": 1
      }
     ]
    },
    "colab_type": "code",
    "executionInfo": {
     "elapsed": 518,
     "status": "ok",
     "timestamp": 1512612171940,
     "user": {
      "displayName": "Drew Bryant",
      "photoUrl": "//lh4.googleusercontent.com/-bbwiO20N-0M/AAAAAAAAAAI/AAAAAAAAAJg/qqZ1Ilm078o/s50-c-k-no/photo.jpg",
      "userId": "111241008704641611320"
     },
     "user_tz": 480
    },
    "id": "2U22m7YVbX8P",
    "outputId": "0ccba2bb-71ff-427a-e325-02981c512375"
   },
   "outputs": [
    {
     "data": {
      "image/png": "[encoded data removed]",
      "text/plain": [
       "<Figure size 432x288 with 1 Axes>"
      ]
     },
     "metadata": {},
     "output_type": "display_data"
    }
   ],
   "source": [
    "sns.countplot(bern_samples);"
   ]
  },
  {
   "cell_type": "markdown",
   "metadata": {
    "colab_type": "text",
    "id": "UmsIcWTYY5Tp"
   },
   "source": [
    "### Binomial distribution\n",
    "\n",
    "If we perform $n$ independent Bernoulli trials with outcomes success and failure (or heads or tails, or 0 or 1), where $p$ is the probability of success, then the number of successes follows a binomial distribution.\n",
    "\n",
    "$$P(X | n, p) = \\binom{n}{X} p^X(1 - p)^{(n - X)}$$\n",
    "\n",
    "Notice that the product includes the term $\\binom{N}{X}$ since we must account for all possible combinations of outcomes from the trials. The theoretical mean and variance of the binomial distribution are $np$ and $np(1-p)$ respectively."
   ]
  },
  {
   "cell_type": "markdown",
   "metadata": {},
   "source": [
    "Let's try computing several binomial distributions, with probability of success $p = 0.75$, and letting $n$ take on the values $\\{5, 25, 75 \\}$. The code in the cell below computes $1000$ realizations of the binomial distribution for each value of $n$. The theoretical and sample means and variances are computed and printed for each case."
   ]
  },
  {
   "cell_type": "code",
   "execution_count": 9,
   "metadata": {
    "colab": {
     "autoexec": {
      "startup": false,
      "wait_interval": 0
     },
     "base_uri": "https://localhost:8080/",
     "height": 142,
     "output_extras": [
      {
       "item_id": 1
      }
     ]
    },
    "colab_type": "code",
    "executionInfo": {
     "elapsed": 339,
     "status": "ok",
     "timestamp": 1512612158038,
     "user": {
      "displayName": "Drew Bryant",
      "photoUrl": "//lh4.googleusercontent.com/-bbwiO20N-0M/AAAAAAAAAAI/AAAAAAAAAJg/qqZ1Ilm078o/s50-c-k-no/photo.jpg",
      "userId": "111241008704641611320"
     },
     "user_tz": 480
    },
    "id": "1KDqzuMJbzr3",
    "outputId": "5a5b880e-130a-401d-bf86-ed2019df8d16"
   },
   "outputs": [
    {
     "data": {
      "text/html": [
       "<div>\n",
       "<style scoped>\n",
       "    .dataframe tbody tr th:only-of-type {\n",
       "        vertical-align: middle;\n",
       "    }\n",
       "\n",
       "    .dataframe tbody tr th {\n",
       "        vertical-align: top;\n",
       "    }\n",
       "\n",
       "    .dataframe thead th {\n",
       "        text-align: right;\n",
       "    }\n",
       "</style>\n",
       "<table border=\"1\" class=\"dataframe\">\n",
       "  <thead>\n",
       "    <tr style=\"text-align: right;\">\n",
       "      <th></th>\n",
       "      <th>theoretical mean</th>\n",
       "      <th>sample mean</th>\n",
       "    </tr>\n",
       "  </thead>\n",
       "  <tbody>\n",
       "    <tr>\n",
       "      <th>0</th>\n",
       "      <td>3.75</td>\n",
       "      <td>3.750454</td>\n",
       "    </tr>\n",
       "    <tr>\n",
       "      <th>1</th>\n",
       "      <td>18.75</td>\n",
       "      <td>18.747678</td>\n",
       "    </tr>\n",
       "    <tr>\n",
       "      <th>2</th>\n",
       "      <td>56.25</td>\n",
       "      <td>56.246752</td>\n",
       "    </tr>\n",
       "  </tbody>\n",
       "</table>\n",
       "</div>"
      ],
      "text/plain": [
       "   theoretical mean  sample mean\n",
       "0              3.75     3.750454\n",
       "1             18.75    18.747678\n",
       "2             56.25    56.246752"
      ]
     },
     "execution_count": 9,
     "metadata": {},
     "output_type": "execute_result"
    }
   ],
   "source": [
    "trials = np.array([5, 25, 75])\n",
    "binom_samples = [np.random.binomial(n, p, sample_size) for n in trials]\n",
    "\n",
    "binom_sample_means = [samples.mean() for samples in binom_samples]\n",
    "binom_means = trials * p\n",
    "pd.DataFrame({\n",
    "    'theoretical mean': binom_means,\n",
    "    'sample mean': binom_sample_means,\n",
    "})"
   ]
  },
  {
   "cell_type": "code",
   "execution_count": 10,
   "metadata": {
    "colab": {
     "autoexec": {
      "startup": false,
      "wait_interval": 0
     },
     "base_uri": "https://localhost:8080/",
     "height": 142,
     "output_extras": [
      {
       "item_id": 1
      }
     ]
    },
    "colab_type": "code",
    "executionInfo": {
     "elapsed": 547,
     "status": "ok",
     "timestamp": 1512612160217,
     "user": {
      "displayName": "Drew Bryant",
      "photoUrl": "//lh4.googleusercontent.com/-bbwiO20N-0M/AAAAAAAAAAI/AAAAAAAAAJg/qqZ1Ilm078o/s50-c-k-no/photo.jpg",
      "userId": "111241008704641611320"
     },
     "user_tz": 480
    },
    "id": "cnU1e9RodtSW",
    "outputId": "05091e65-8aef-4033-dc3a-269d222c9d83"
   },
   "outputs": [
    {
     "data": {
      "text/html": [
       "<div>\n",
       "<style scoped>\n",
       "    .dataframe tbody tr th:only-of-type {\n",
       "        vertical-align: middle;\n",
       "    }\n",
       "\n",
       "    .dataframe tbody tr th {\n",
       "        vertical-align: top;\n",
       "    }\n",
       "\n",
       "    .dataframe thead th {\n",
       "        text-align: right;\n",
       "    }\n",
       "</style>\n",
       "<table border=\"1\" class=\"dataframe\">\n",
       "  <thead>\n",
       "    <tr style=\"text-align: right;\">\n",
       "      <th></th>\n",
       "      <th>theoretical variance</th>\n",
       "      <th>sample variance</th>\n",
       "    </tr>\n",
       "  </thead>\n",
       "  <tbody>\n",
       "    <tr>\n",
       "      <th>0</th>\n",
       "      <td>0.9375</td>\n",
       "      <td>0.936639</td>\n",
       "    </tr>\n",
       "    <tr>\n",
       "      <th>1</th>\n",
       "      <td>4.6875</td>\n",
       "      <td>4.683168</td>\n",
       "    </tr>\n",
       "    <tr>\n",
       "      <th>2</th>\n",
       "      <td>14.0625</td>\n",
       "      <td>14.089409</td>\n",
       "    </tr>\n",
       "  </tbody>\n",
       "</table>\n",
       "</div>"
      ],
      "text/plain": [
       "   theoretical variance  sample variance\n",
       "0                0.9375         0.936639\n",
       "1                4.6875         4.683168\n",
       "2               14.0625        14.089409"
      ]
     },
     "execution_count": 10,
     "metadata": {},
     "output_type": "execute_result"
    }
   ],
   "source": [
    "binom_sample_vars = [samples.var() for samples in binom_samples]\n",
    "binom_vars = trials * p * (1 - p)\n",
    "pd.DataFrame({\n",
    "    'theoretical variance': binom_vars,\n",
    "    'sample variance': binom_sample_vars\n",
    "})"
   ]
  },
  {
   "cell_type": "markdown",
   "metadata": {
    "colab_type": "text",
    "id": "ZXPrs3hHY5Ts"
   },
   "source": [
    "In the cell below, create and execute the code to plot the simple histograms of the three binomial distributions in the `binom_samples` list. Do these distributions appear as you expect? "
   ]
  },
  {
   "cell_type": "code",
   "execution_count": 11,
   "metadata": {
    "colab": {
     "autoexec": {
      "startup": false,
      "wait_interval": 0
     }
    },
    "colab_type": "code",
    "id": "pWGORoADY5Tt"
   },
   "outputs": [
    {
     "data": {
      "image/png": "[encoded data removed]",
      "text/plain": [
       "<Figure size 1080x720 with 3 Axes>"
      ]
     },
     "metadata": {},
     "output_type": "display_data"
    }
   ],
   "source": [
    "f, axes = plt.subplots(3, 1, sharex = True, figsize = (15, 10))\n",
    "sns.despine(left = True)\n",
    "\n",
    "sns.countplot(binom_samples[0], ax = axes[0], color = 'blue')\n",
    "sns.countplot(binom_samples[1], ax = axes[1], color = 'blue')\n",
    "sns.countplot(binom_samples[2], ax = axes[2], color = 'blue');"
   ]
  },
  {
   "cell_type": "markdown",
   "metadata": {
    "colab_type": "text",
    "id": "fKLHwTV2Y5Tw"
   },
   "source": [
    "Notice that while the outcome of each Bernoulli trial is a discrete binary result, the result of multiple trials can take many discrete values. In fact, as $n$ becomes large the binomial distribution starts to look like a continuous distribution. In fact, the binomial distribution converges to the continuous **normal distribution** as $n \\rightarrow \\infty$. We will learn more about the normal distribution soon.\n",
    "\n",
    "One last note: the binomial distribution works only with sequences **binary outcomes**, but there is a simple extension to the binomial distribution called the **multi-nomial distribution** which models sequences of events with a limited number of predefined outcomes (heads and tails, various colors, etc.)."
   ]
  },
  {
   "cell_type": "markdown",
   "metadata": {
    "colab_type": "text",
    "id": "mvsxIOypY5T0"
   },
   "source": [
    "### Poisson distribution\n",
    "\n",
    "A common problem is modeling of the count of events occurring within some period of time. The Poisson distribution models the occurrence of events in a fixed interval of time. We say that the Poisson distribution models the probability of x **arrivals** within the time period.\n",
    "\n",
    "In mathematical terms we write the Poisson distribution as:\n",
    "\n",
    "$$ \n",
    "P(X\\ |\\ \\lambda) = \\frac{\\lambda^X}{X!} \\exp^{-\\lambda}\n",
    "$$\n",
    "\n",
    "The theoretical mean and variance of the Poisson distribution are both equal to $\\lambda$.\n",
    "\n",
    "The code in the cell below computes $1000$ realizations of Poisson distributions with average arrival rates, $\\lambda = \\{ 1, 5, 25, 100\\}$. The sample mean and variance for each distribution is then computed and printed along with the theoretical values."
   ]
  },
  {
   "cell_type": "code",
   "execution_count": 12,
   "metadata": {
    "colab": {
     "autoexec": {
      "startup": false,
      "wait_interval": 0
     },
     "base_uri": "https://localhost:8080/",
     "height": 173,
     "output_extras": [
      {
       "item_id": 1
      }
     ]
    },
    "colab_type": "code",
    "executionInfo": {
     "elapsed": 308,
     "status": "ok",
     "timestamp": 1512612115432,
     "user": {
      "displayName": "Drew Bryant",
      "photoUrl": "//lh4.googleusercontent.com/-bbwiO20N-0M/AAAAAAAAAAI/AAAAAAAAAJg/qqZ1Ilm078o/s50-c-k-no/photo.jpg",
      "userId": "111241008704641611320"
     },
     "user_tz": 480
    },
    "id": "JwZnSrjRlHV_",
    "outputId": "86fe4baf-5f10-438a-8d63-44057ff72107"
   },
   "outputs": [
    {
     "data": {
      "text/html": [
       "<div>\n",
       "<style scoped>\n",
       "    .dataframe tbody tr th:only-of-type {\n",
       "        vertical-align: middle;\n",
       "    }\n",
       "\n",
       "    .dataframe tbody tr th {\n",
       "        vertical-align: top;\n",
       "    }\n",
       "\n",
       "    .dataframe thead th {\n",
       "        text-align: right;\n",
       "    }\n",
       "</style>\n",
       "<table border=\"1\" class=\"dataframe\">\n",
       "  <thead>\n",
       "    <tr style=\"text-align: right;\">\n",
       "      <th></th>\n",
       "      <th>theoretical mean / variance</th>\n",
       "      <th>sample mean</th>\n",
       "      <th>sample variance</th>\n",
       "    </tr>\n",
       "  </thead>\n",
       "  <tbody>\n",
       "    <tr>\n",
       "      <th>0</th>\n",
       "      <td>1</td>\n",
       "      <td>0.90</td>\n",
       "      <td>0.9100</td>\n",
       "    </tr>\n",
       "    <tr>\n",
       "      <th>1</th>\n",
       "      <td>5</td>\n",
       "      <td>5.03</td>\n",
       "      <td>4.4891</td>\n",
       "    </tr>\n",
       "    <tr>\n",
       "      <th>2</th>\n",
       "      <td>25</td>\n",
       "      <td>25.66</td>\n",
       "      <td>27.4844</td>\n",
       "    </tr>\n",
       "    <tr>\n",
       "      <th>3</th>\n",
       "      <td>100</td>\n",
       "      <td>98.21</td>\n",
       "      <td>95.7259</td>\n",
       "    </tr>\n",
       "  </tbody>\n",
       "</table>\n",
       "</div>"
      ],
      "text/plain": [
       "   theoretical mean / variance  sample mean  sample variance\n",
       "0                            1         0.90           0.9100\n",
       "1                            5         5.03           4.4891\n",
       "2                           25        25.66          27.4844\n",
       "3                          100        98.21          95.7259"
      ]
     },
     "execution_count": 12,
     "metadata": {},
     "output_type": "execute_result"
    }
   ],
   "source": [
    "lambdas = [1, 5, 25, 100]\n",
    "poisson_samples = [np.random.poisson(l, size = 100) for l in lambdas]\n",
    "\n",
    "poisson_sample_means = [samples.mean() for samples in poisson_samples]\n",
    "poisson_sample_vars = [samples.var() for samples in poisson_samples]\n",
    "\n",
    "pd.DataFrame({\n",
    "    'theoretical mean / variance': lambdas,\n",
    "    'sample mean': poisson_sample_means,\n",
    "    'sample variance': poisson_sample_vars,\n",
    "})"
   ]
  },
  {
   "cell_type": "markdown",
   "metadata": {
    "colab_type": "text",
    "id": "JTtPYPQRY5T9"
   },
   "source": [
    "## Continuous Distributions\n",
    "\n",
    "Continuous distributions are used to model variables with continuous valued random variables. Physical measurements, such as weight, length and temperature are examples of variables with continuous variables. \n",
    "\n",
    "Continuous distributions have an infinite number of possible outcomes. The distribution measures the probability for some range of values. We therefore call the distribution function the **probability density function**. This is in contrast to the **probability mass function** for discrete distributions. \n",
    "\n",
    "The probability of a value being in the range $(a, b)$ can be written as the integral of the probability density function over that range.\n",
    "\n",
    "$$P(a < X < b) = \\int_{a}^{b} P(X) dX$$\n",
    "\n",
    "Notice that for a single exact value $a = b$, the probability is $0$.\n",
    "\n",
    "Properties of continuous distributions are:\n",
    "\n",
    "- The area under the distribution curve must be equal to 1, integrated over the range of possible values.\n",
    "- The probability of a range of values of an event equals the **area** under the density curve over that range of values.\n",
    "- Probabilities cannot have negative values.\n",
    "- The probability of any single, exact value is 0."
   ]
  },
  {
   "cell_type": "markdown",
   "metadata": {
    "colab_type": "text",
    "id": "Q_NlSORXY5T9"
   },
   "source": [
    "### Continuous uniform distribution\n",
    "\n",
    "A continuous uniform distribution has flat probability between limits $\\{ a, b \\}$ and $0$ outside that interval. The uniform distribution is used in a number of applications, including random selection of data and in simulation.\n",
    "\n",
    "We can write the probability of the the uniform distribution as:\n",
    "\n",
    "$$\n",
    "P(a < X < b) = \\Bigg\\{ \n",
    "\\begin{matrix}\n",
    "\\frac{1}{(b - a)} &\\text{ if } a < X < b\\\\\n",
    "0 &\\text{ otherwise }\n",
    "\\end{matrix}\n",
    "$$\n",
    "\n",
    "The uniform distribution has mean $\\frac{1}{2}(a + b)$ and variance $\\frac{1}{2}(b - a)^2$.\n",
    "\n",
    "The code in the cell below computes and plots the uniform distribution on the interval $\\{ 0, 1 \\}$, along with the kernel density plot."
   ]
  },
  {
   "cell_type": "code",
   "execution_count": 13,
   "metadata": {
    "colab": {
     "autoexec": {
      "startup": false,
      "wait_interval": 0
     },
     "base_uri": "https://localhost:8080/",
     "height": 286,
     "output_extras": [
      {
       "item_id": 1
      }
     ]
    },
    "colab_type": "code",
    "executionInfo": {
     "elapsed": 358,
     "status": "ok",
     "timestamp": 1512612117088,
     "user": {
      "displayName": "Drew Bryant",
      "photoUrl": "//lh4.googleusercontent.com/-bbwiO20N-0M/AAAAAAAAAAI/AAAAAAAAAJg/qqZ1Ilm078o/s50-c-k-no/photo.jpg",
      "userId": "111241008704641611320"
     },
     "user_tz": 480
    },
    "id": "rOvCLFvavkfC",
    "outputId": "0a136ea9-6485-4671-ca38-995de0b8d10b"
   },
   "outputs": [
    {
     "data": {
      "image/png": "[encoded data removed]",
      "text/plain": [
       "<Figure size 432x288 with 1 Axes>"
      ]
     },
     "metadata": {},
     "output_type": "display_data"
    }
   ],
   "source": [
    "uniform_samples = np.random.uniform(0, 1, size = 1000)\n",
    "\n",
    "# Plot the distribution of samples\n",
    "sns.kdeplot(uniform_samples, color = 'black')\n",
    "\n",
    "plt.vlines(0, 0, 1, colors = 'red')\n",
    "plt.hlines(1, 0, 1, colors = 'red')\n",
    "plt.vlines(1, 0, 1, colors = 'red')\n",
    "plt.title('Density of uniform distribution')\n",
    "plt.show()"
   ]
  },
  {
   "cell_type": "markdown",
   "metadata": {
    "colab_type": "text",
    "id": "FwUEVgqnY5UA"
   },
   "source": [
    "Let's try simulating some uniform distributions. The code in the cell below creates and plots the histogram uniform distributions with $\\{100, 1000, 10000, 100000\\}$ realizations, along with the theoretical density. Execute this code and examine the results. Notice how close each histogram is to the theoretical density. "
   ]
  },
  {
   "cell_type": "code",
   "execution_count": 14,
   "metadata": {},
   "outputs": [
    {
     "data": {
      "image/png": "[encoded data removed]",
      "text/plain": [
       "<Figure size 1080x360 with 4 Axes>"
      ]
     },
     "metadata": {},
     "output_type": "display_data"
    }
   ],
   "source": [
    "f, axes = plt.subplots(4, sharex = True, figsize = (15, 5))\n",
    "sns.despine(left = True)\n",
    "\n",
    "trials = [100, 1000, 10000, 100000]\n",
    "nbins = 10 # how many bins to use for each histogram\n",
    "for i in range(len(trials)):\n",
    "    sns.distplot(np.random.uniform(0, 1, trials[i]), ax = axes[i], color = 'blue', kde = False)"
   ]
  },
  {
   "cell_type": "markdown",
   "metadata": {},
   "source": [
    "One fun application of probabilites the unfiorm distribution is [Bouffon's needle problem](https://en.wikipedia.org/wiki/Buffon%27s_needle_problem). Solving it requires only basic understanding of calculus and multivariate calculus. The results show a surprising way that $\\pi$ can be approximated!"
   ]
  },
  {
   "cell_type": "markdown",
   "metadata": {
    "colab_type": "text",
    "id": "e7_wi9qEY5UE"
   },
   "source": [
    "### Normal Distribution\n",
    "\n",
    "The normal distribution is one of the most widely used probability distributions. Any case where values are the result of product of a large number of processes will converge to a normal distribution. Many physical processes produce measurement values which are well modeled by a normal distribution or log-normal distribution.\n",
    "\n",
    "For a normal distribution we can write the density function as:\n",
    "\n",
    "$$P(X) = \\frac{1}{\\sqrt{2 \\pi \\sigma^2}} \\exp{\\frac{-(X - \\mu)^2}{2 \\sigma^2}}$$\n",
    "\n",
    "The parameters are $\\mu$ and $\\sigma$ and happen to also be the mean and standard deviations of the theoretical distribution respectively. In other words, the distribution is defined by its center (mean) and scale (standard deviation). The normal distribution has other important properties. For example, around 68% of the data is within 1 standard deviation from the mean, and around 95% is within 2 standard deviations from the mean as can be seen below:\n",
    "\n",
    "<img src=\"https://upload.wikimedia.org/wikipedia/commons/thumb/1/1a/Boxplot_vs_PDF.svg/800px-Boxplot_vs_PDF.svg.png\" alt=\"Normal distribution\">\n",
    "\n",
    "Source: [Wikipedia](https://en.wikipedia.org/wiki/Probability_density_function)"
   ]
  },
  {
   "cell_type": "markdown",
   "metadata": {
    "colab_type": "text",
    "id": "e7_wi9qEY5UE"
   },
   "source": [
    "The code in the cell below computes and plots the normal distribution for four different combinations of location and scale, as shown in the table:\n",
    "\n",
    "| $\\mu$ | $\\sigma$ |\n",
    "|:-----:|:-------:|\n",
    "| 0     | 1       |\n",
    "| 5     | 1       |\n",
    "| 0     | 0.1     |\n",
    "| 4     | 4       |\n",
    "\n",
    "By the way, the normal distribution with $\\mu = 0$ and $\\sigma = 1$ is a little special and we call it the **standard normal distribution**. In fact, any normally-distributed can be generated by first drawing a sample from the standard normal distribution and adding $\\mu$ to it and multiplying it by $\\sigma$."
   ]
  },
  {
   "cell_type": "code",
   "execution_count": 15,
   "metadata": {
    "colab": {
     "autoexec": {
      "startup": false,
      "wait_interval": 0
     },
     "base_uri": "https://localhost:8080/",
     "height": 286,
     "output_extras": [
      {
       "item_id": 1
      }
     ]
    },
    "colab_type": "code",
    "executionInfo": {
     "elapsed": 557,
     "status": "ok",
     "timestamp": 1512612118755,
     "user": {
      "displayName": "Drew Bryant",
      "photoUrl": "//lh4.googleusercontent.com/-bbwiO20N-0M/AAAAAAAAAAI/AAAAAAAAAJg/qqZ1Ilm078o/s50-c-k-no/photo.jpg",
      "userId": "111241008704641611320"
     },
     "user_tz": 480
    },
    "id": "LKWZ8MW9yvQR",
    "outputId": "0fb7cd3c-4f7f-4163-9038-545c45560edd"
   },
   "outputs": [
    {
     "data": {
      "image/png": "[encoded data removed]",
      "text/plain": [
       "<Figure size 432x288 with 1 Axes>"
      ]
     },
     "metadata": {},
     "output_type": "display_data"
    }
   ],
   "source": [
    "n = 100000\n",
    "\n",
    "norm_params = [ # (mean, var)\n",
    "    (0, 1),\n",
    "    (5, 1),\n",
    "    (0, .1),\n",
    "    (4, 4)\n",
    "]\n",
    "\n",
    "norm_samples = [np.random.normal(mean, np.sqrt(var), n)\n",
    "                for mean, var in norm_params]\n",
    "\n",
    "plt.title('Plot of normals')\n",
    "colors = ('black', 'red', 'blue', 'green')\n",
    "for i, samples in enumerate(norm_samples):\n",
    "    sns.kdeplot(samples, color = colors[i], label = 'N(%.1f, %.1f)' % norm_params[i])\n",
    "\n",
    "plt.xlim(-3, 9);"
   ]
  },
  {
   "cell_type": "markdown",
   "metadata": {
    "colab_type": "text",
    "id": "FA1Ky1DyY5UH"
   },
   "source": [
    "We have now explored the basic properties of the normal distribution. The relationship between the the quantiles and the number of $\\sigma$s to the left or right of center is another important property of the normal distribution. An understanding of this relationship provides some intuition about the likelihood of events under the normal distribution.\n",
    "\n",
    "The code in the cell below plots a histogram of 100000 realizations of a standard normal distribution ($\\mu = 0.0,\\ \\sigma = 1$). Vertical lines are plotted at $\\sigma = \\{-3, -2, -1,\\ 0,\\ 1,\\ 2,\\ 3\\}$. Execute this code and examine the results. Notice that events become quite unlikely as $\\sigma$ becomes large."
   ]
  },
  {
   "cell_type": "code",
   "execution_count": 16,
   "metadata": {
    "colab": {
     "autoexec": {
      "startup": false,
      "wait_interval": 0
     },
     "base_uri": "https://localhost:8080/",
     "height": 304,
     "output_extras": [
      {
       "item_id": 1
      },
      {
       "item_id": 2
      }
     ]
    },
    "colab_type": "code",
    "executionInfo": {
     "elapsed": 725,
     "status": "ok",
     "timestamp": 1512612119699,
     "user": {
      "displayName": "Drew Bryant",
      "photoUrl": "//lh4.googleusercontent.com/-bbwiO20N-0M/AAAAAAAAAAI/AAAAAAAAAJg/qqZ1Ilm078o/s50-c-k-no/photo.jpg",
      "userId": "111241008704641611320"
     },
     "user_tz": 480
    },
    "id": "qB1suO2L2-OU",
    "outputId": "ae6220f7-4e69-4317-b6b2-57b6f04fbb63"
   },
   "outputs": [
    {
     "data": {
      "image/png": "[encoded data removed]",
      "text/plain": [
       "<Figure size 432x288 with 1 Axes>"
      ]
     },
     "metadata": {},
     "output_type": "display_data"
    }
   ],
   "source": [
    "n = 100000\n",
    "\n",
    "std_norm_samples = np.random.standard_normal(n)\n",
    "\n",
    "plt.title('Histogram of std Normal')\n",
    "sns.distplot(std_norm_samples, bins = 61)\n",
    "# Draw lines at each standard deviation from the mean\n",
    "plt.vlines(range(-3, 4), 0, scipy.stats.norm.pdf(range(-3, 4)), color = 'red');"
   ]
  },
  {
   "cell_type": "code",
   "execution_count": 17,
   "metadata": {
    "colab": {
     "autoexec": {
      "startup": false,
      "wait_interval": 0
     },
     "base_uri": "https://localhost:8080/",
     "height": 266,
     "output_extras": [
      {
       "item_id": 1
      }
     ]
    },
    "colab_type": "code",
    "executionInfo": {
     "elapsed": 317,
     "status": "ok",
     "timestamp": 1512612120314,
     "user": {
      "displayName": "Drew Bryant",
      "photoUrl": "//lh4.googleusercontent.com/-bbwiO20N-0M/AAAAAAAAAAI/AAAAAAAAAJg/qqZ1Ilm078o/s50-c-k-no/photo.jpg",
      "userId": "111241008704641611320"
     },
     "user_tz": 480
    },
    "id": "QSa9dpkLFjk3",
    "outputId": "6114b96d-a167-4d8a-b639-8bcd28e12deb"
   },
   "outputs": [
    {
     "data": {
      "text/html": [
       "<div>\n",
       "<style scoped>\n",
       "    .dataframe tbody tr th:only-of-type {\n",
       "        vertical-align: middle;\n",
       "    }\n",
       "\n",
       "    .dataframe tbody tr th {\n",
       "        vertical-align: top;\n",
       "    }\n",
       "\n",
       "    .dataframe thead th {\n",
       "        text-align: right;\n",
       "    }\n",
       "</style>\n",
       "<table border=\"1\" class=\"dataframe\">\n",
       "  <thead>\n",
       "    <tr style=\"text-align: right;\">\n",
       "      <th></th>\n",
       "      <th>std deviations</th>\n",
       "      <th>quantile</th>\n",
       "    </tr>\n",
       "  </thead>\n",
       "  <tbody>\n",
       "    <tr>\n",
       "      <th>0</th>\n",
       "      <td>-3</td>\n",
       "      <td>0.001350</td>\n",
       "    </tr>\n",
       "    <tr>\n",
       "      <th>1</th>\n",
       "      <td>-2</td>\n",
       "      <td>0.022750</td>\n",
       "    </tr>\n",
       "    <tr>\n",
       "      <th>2</th>\n",
       "      <td>-1</td>\n",
       "      <td>0.158655</td>\n",
       "    </tr>\n",
       "    <tr>\n",
       "      <th>3</th>\n",
       "      <td>0</td>\n",
       "      <td>0.500000</td>\n",
       "    </tr>\n",
       "    <tr>\n",
       "      <th>4</th>\n",
       "      <td>1</td>\n",
       "      <td>0.841345</td>\n",
       "    </tr>\n",
       "    <tr>\n",
       "      <th>5</th>\n",
       "      <td>2</td>\n",
       "      <td>0.977250</td>\n",
       "    </tr>\n",
       "    <tr>\n",
       "      <th>6</th>\n",
       "      <td>3</td>\n",
       "      <td>0.998650</td>\n",
       "    </tr>\n",
       "  </tbody>\n",
       "</table>\n",
       "</div>"
      ],
      "text/plain": [
       "   std deviations  quantile\n",
       "0              -3  0.001350\n",
       "1              -2  0.022750\n",
       "2              -1  0.158655\n",
       "3               0  0.500000\n",
       "4               1  0.841345\n",
       "5               2  0.977250\n",
       "6               3  0.998650"
      ]
     },
     "execution_count": 17,
     "metadata": {},
     "output_type": "execute_result"
    }
   ],
   "source": [
    "std_thresholds = range(-3, 4)\n",
    "quantiles = scipy.stats.norm.cdf(std_thresholds, scale = 1, loc = 0)\n",
    "pd.DataFrame({\n",
    "    'std deviations': std_thresholds,\n",
    "    'quantile': quantiles,\n",
    "})"
   ]
  },
  {
   "cell_type": "code",
   "execution_count": 18,
   "metadata": {
    "colab": {
     "autoexec": {
      "startup": false,
      "wait_interval": 0
     },
     "base_uri": "https://localhost:8080/",
     "height": 504,
     "output_extras": [
      {
       "item_id": 1
      }
     ]
    },
    "colab_type": "code",
    "executionInfo": {
     "elapsed": 1733,
     "status": "ok",
     "timestamp": 1512612122265,
     "user": {
      "displayName": "Drew Bryant",
      "photoUrl": "//lh4.googleusercontent.com/-bbwiO20N-0M/AAAAAAAAAAI/AAAAAAAAAJg/qqZ1Ilm078o/s50-c-k-no/photo.jpg",
      "userId": "111241008704641611320"
     },
     "user_tz": 480
    },
    "id": "H7YfCIeFAi6O",
    "outputId": "018035fb-97ad-4cc3-8bd2-dd9fb3147d57"
   },
   "outputs": [
    {
     "data": {
      "image/png": "[encoded data removed]",
      "text/plain": [
       "<Figure size 864x864 with 4 Axes>"
      ]
     },
     "metadata": {},
     "output_type": "display_data"
    }
   ],
   "source": [
    "plt.figure(figsize = (12, 12))\n",
    "\n",
    "for i, n in enumerate([100, 1000, 10000, 100000]):\n",
    "    std_norm_samples = np.random.standard_normal(n)\n",
    "    title = 'n = %d, sample mean = %.3f' % (n, std_norm_samples.mean())\n",
    "    plt.subplot(2, 2, i+1, title = title)\n",
    "    sns.distplot(std_norm_samples)"
   ]
  },
  {
   "cell_type": "markdown",
   "metadata": {},
   "source": [
    "### Exercise\n",
    "\n",
    "By convention, we call the function $F(x) = P(X \\le x)$ the CDF (cumulative density function) of the random variable $X$, and the function $f(x) = P(X = x)$ the PDF (probability density function) of it. As we already mentioned, $P(X = x) = 0$ for any specific X = x, so the PDF of a random variable doesn't really have a good interpretation. Just think of it as the function (PDF), whose integral corresponds to another function (CDF) that for any value of $x$ gives you $P(X <= x)$. The CDF can be interpreted directly as a probability. In the `scipy` package we can access both of these functions for different distributions, for example `scipy.stats.norm.pdf` and `scipy.stats.norm.cdf` are the PDF and CDF of the normal distribution.\n",
    "\n",
    "Let's say we have a normally distributed random variable $X$, defined (as we will see shortly) by its mean $\\mu$ and standard deviation $\\sigma$. The notation we use sometimes is $X \\sim N(\\mu, \\sigma)$. Assuming $\\mu = 4$ and $\\sigma = 7$ let's first generate 10000 random points from this distribution and plot it."
   ]
  },
  {
   "cell_type": "code",
   "execution_count": 22,
   "metadata": {},
   "outputs": [
    {
     "data": {
      "image/png": "[encoded data removed]",
      "text/plain": [
       "<Figure size 720x360 with 1 Axes>"
      ]
     },
     "metadata": {},
     "output_type": "display_data"
    }
   ],
   "source": [
    "plt.figure(figsize = (10, 5))\n",
    "mu, sigma = 4, 7\n",
    "sns.distplot(np.random.normal(loc = mu, scale = sigma, size = 10000), bins = 100);\n",
    "plt.plot([5, 5], [0, scipy.stats.norm.pdf(5, loc = mu, scale = sigma)]);\n",
    "plt.plot([0, 0], [0, scipy.stats.norm.pdf(0, loc = mu, scale = sigma)]);"
   ]
  },
  {
   "cell_type": "markdown",
   "metadata": {},
   "source": [
    "Find the following probabilities (HINT: use `scipy.stats.norm.cdf`):\n",
    "\n",
    "- $P(X < 5)$ (area to the left of the orange line)\n",
    "- $P(X > 5)$ (area to the right of the orange line)\n",
    "- $P(0 < X < 5)$ (area between the green and orange line)"
   ]
  },
  {
   "cell_type": "code",
   "execution_count": 30,
   "metadata": {},
   "outputs": [
    {
     "name": "stdout",
     "output_type": "stream",
     "text": [
      "0.5567984968164682\n",
      "0.4432015031835318\n",
      "0.2729439137177919\n"
     ]
    }
   ],
   "source": [
    "print(scipy.stats.norm.cdf(5, mu, sigma))\n",
    "print(1 - scipy.stats.norm.cdf(5, mu, sigma))\n",
    "print(scipy.stats.norm(mu, sigma).cdf(5) - scipy.stats.norm(mu, sigma).cdf(0))\n"
   ]
  },
  {
   "cell_type": "markdown",
   "metadata": {},
   "source": [
    "Let's see if we can show the relationship between a CDF and a PDF. Since at any point $x$ on the $x$ axis above, the PDF shows the hight of the above density plot and the CDF shows the area under it, show that we can estimate the CDF by numerically integrating the PDF. This is similar to approximating the area under the curve using the histogram in the above density plot. In calculus, this is called a **Riemann sum**."
   ]
  },
  {
   "cell_type": "code",
   "execution_count": 28,
   "metadata": {},
   "outputs": [
    {
     "data": {
      "text/plain": [
       "0.2729399101351119"
      ]
     },
     "execution_count": 28,
     "metadata": {},
     "output_type": "execute_result"
    }
   ],
   "source": [
    "delta_x = 0.001\n",
    "lower_limit, upper_limit = 0, 5\n",
    "interval_range = np.arange(lower_limit, upper_limit, delta_x)\n",
    "sum([scipy.stats.norm.pdf(i, loc = mu, scale = sigma) * delta_x for i in interval_range])"
   ]
  },
  {
   "cell_type": "markdown",
   "metadata": {},
   "source": [
    "- Verify that the number we obtain above is an approximation for $P(0 < X < 5)$."
   ]
  },
  {
   "cell_type": "code",
   "execution_count": null,
   "metadata": {},
   "outputs": [],
   "source": [
    "# yep, I manually checked them. very close..."
   ]
  },
  {
   "cell_type": "markdown",
   "metadata": {},
   "source": [
    "- We can also ask the question the other way around. For example, earlier we asked what is $P(X < 3)$. Now we want to know at what value of $X$ do we have $P(X < 3) = 0.4$. HINT: This can be answered using `scipy.stats.norm.ppf`, which is the inverse function to `scipy.stats.norm.pdf`."
   ]
  },
  {
   "cell_type": "code",
   "execution_count": 32,
   "metadata": {},
   "outputs": [
    {
     "data": {
      "text/plain": [
       "2.226570278049402"
      ]
     },
     "execution_count": 32,
     "metadata": {},
     "output_type": "execute_result"
    }
   ],
   "source": [
    "# aka - where on the X axis do we need to be to have 40% of the area?\n",
    "scipy.stats.norm.ppf(.4, loc = mu, scale = sigma)"
   ]
  },
  {
   "cell_type": "markdown",
   "metadata": {},
   "source": [
    "- We mentioned earlier that when data is normally distributed 68% of the data is within 1 standard deviation and 95% is within two standard deviations from the mean. Verify these claims computationally on 1000 data points generated from the standard normal distribution ($\\mu = 0$ and $\\sigma = 1$)."
   ]
  },
  {
   "cell_type": "code",
   "execution_count": null,
   "metadata": {},
   "outputs": [],
   "source": []
  },
  {
   "cell_type": "markdown",
   "metadata": {},
   "source": [
    "### End of exercise"
   ]
  },
  {
   "cell_type": "markdown",
   "metadata": {
    "colab_type": "text",
    "id": "jWJfL4MmY5T5"
   },
   "source": [
    "Similarly to the binomial distribution, it can be shown that as $\\lambda$ increases the Poisson distribution approaches a continuous normal distribution. Notice how the poisson distributions below look more and more bell-curved as $\\lambda$ increases."
   ]
  },
  {
   "cell_type": "code",
   "execution_count": null,
   "metadata": {},
   "outputs": [],
   "source": [
    "plt.figure(figsize = (15, 5))\n",
    "\n",
    "lambdas = [1, 5, 25, 100]\n",
    "poisson_samples = np.array([np.random.poisson(l, 1000) for l in lambdas]).transpose()\n",
    "poisson_samples = pd.DataFrame(poisson_samples, columns = [str(l) for l in lambdas])\n",
    "for l in lambdas:\n",
    "    sns.distplot(poisson_samples[str(l)], bins = 25, kde = False);"
   ]
  },
  {
   "cell_type": "markdown",
   "metadata": {},
   "source": [
    "The following plot shows how a poisson and normal distribution. "
   ]
  },
  {
   "cell_type": "code",
   "execution_count": null,
   "metadata": {},
   "outputs": [],
   "source": [
    "plt.figure(figsize = (10, 10))\n",
    "\n",
    "lamb = 50\n",
    "mu = lamb\n",
    "sigma = lamb**0.5\n",
    "\n",
    "num_samples = 100000\n",
    "norm_samples = np.random.normal(loc = mu, scale = sigma, size = num_samples)\n",
    "poisson_samples = np.random.poisson(lam = lamb, size = num_samples)\n",
    "sns.distplot(poisson_samples, kde = False, color = \"red\")\n",
    "sns.distplot(norm_samples, kde = False, color = \"blue\")\n",
    "plt.legend(labels = ['Poisson', 'normal']);"
   ]
  },
  {
   "cell_type": "markdown",
   "metadata": {},
   "source": [
    "To approximate the Poisson distribution with a normal distribution we need to apply the **continuity correction**:\n",
    "\n",
    "$$P(50 <= X <= 60 | X\\sim\\text{Poisson}(\\lambda)) \\approx P(49.5 < X < 60.5 | X\\sim\\text{Normal}(\\lambda, \\lambda))$$"
   ]
  },
  {
   "cell_type": "code",
   "execution_count": null,
   "metadata": {},
   "outputs": [],
   "source": [
    "lamb = 55\n",
    "mu = lamb\n",
    "sigma = lamb**0.5\n",
    "\n",
    "normal_apprx = scipy.stats.norm.cdf(60.5, loc = mu, scale = sigma) - scipy.stats.norm.cdf(49.5, loc = mu, scale = sigma)\n",
    "poisson_prob = scipy.stats.poisson.cdf(60, mu = lamb) - scipy.stats.poisson.cdf(50, mu = lamb)\n",
    "print(\"Normal approximation = {}, exact value = {}\".format(normal_apprx, poisson_prob))"
   ]
  },
  {
   "cell_type": "markdown",
   "metadata": {},
   "source": [
    "### End of exercise"
   ]
  },
  {
   "cell_type": "markdown",
   "metadata": {
    "colab_type": "text",
    "id": "t9g3_E-MY5UQ"
   },
   "source": [
    "### Log-Normal Distribution\n",
    "\n",
    "The normal distribution is defined for continuous random variables in the range $-\\infty \\le x \\le \\infty$. However, many quantities one can measure are only defined in a range $0 \\lt x \\le \\infty$. Examples include, price, weight, length, and volume. \n",
    "\n"
   ]
  },
  {
   "cell_type": "code",
   "execution_count": null,
   "metadata": {
    "colab": {
     "autoexec": {
      "startup": false,
      "wait_interval": 0
     },
     "base_uri": "https://localhost:8080/",
     "height": 304,
     "output_extras": [
      {
       "item_id": 1
      },
      {
       "item_id": 2
      }
     ]
    },
    "colab_type": "code",
    "executionInfo": {
     "elapsed": 631,
     "status": "ok",
     "timestamp": 1512612122947,
     "user": {
      "displayName": "Drew Bryant",
      "photoUrl": "//lh4.googleusercontent.com/-bbwiO20N-0M/AAAAAAAAAAI/AAAAAAAAAJg/qqZ1Ilm078o/s50-c-k-no/photo.jpg",
      "userId": "111241008704641611320"
     },
     "user_tz": 480
    },
    "id": "Ugc0H62UBURv",
    "outputId": "35c61fb4-ab62-4b93-aa48-30546752d976"
   },
   "outputs": [],
   "source": [
    "x = np.linspace(.01, 10, num = 10000)\n",
    "log_normal_pdf = scipy.stats.lognorm.pdf(x, 1)\n",
    "sns.lineplot(x, log_normal_pdf)\n",
    "plt.title('Density of std log-normal')"
   ]
  },
  {
   "cell_type": "markdown",
   "metadata": {
    "colab_type": "text",
    "id": "8PD2DGyVY5US"
   },
   "source": [
    "The log-normal distribution is on log scale. You can transform the log-normal distribution to a normal distribution. In the cell below create and execute the code to **natural log transform the x variable** and plot the density."
   ]
  },
  {
   "cell_type": "code",
   "execution_count": null,
   "metadata": {
    "colab": {
     "autoexec": {
      "startup": false,
      "wait_interval": 0
     },
     "base_uri": "https://localhost:8080/",
     "height": 295,
     "output_extras": [
      {
       "item_id": 1
      },
      {
       "item_id": 2
      }
     ]
    },
    "colab_type": "code",
    "executionInfo": {
     "elapsed": 762,
     "status": "ok",
     "timestamp": 1512612123808,
     "user": {
      "displayName": "Drew Bryant",
      "photoUrl": "//lh4.googleusercontent.com/-bbwiO20N-0M/AAAAAAAAAAI/AAAAAAAAAJg/qqZ1Ilm078o/s50-c-k-no/photo.jpg",
      "userId": "111241008704641611320"
     },
     "user_tz": 480
    },
    "id": "j6oYNZaJCscE",
    "outputId": "1a05c2e3-39f2-4c6c-c5db-c456f950ae6b"
   },
   "outputs": [],
   "source": [
    "x = np.linspace(.01, 10, num = 10000)\n",
    "x_log = np.log(x)\n",
    "log_normal_pdf = scipy.stats.lognorm.pdf(x, 1)\n",
    "sns.lineplot(x_log, log_normal_pdf)\n",
    "plt.title('Density of std normal')"
   ]
  },
  {
   "cell_type": "markdown",
   "metadata": {},
   "source": [
    "**Note:** For exploration and evaluation if the distribution is log-normal, it is more appropriate to transform the graph to log scale on x-axis than manipulating the data:"
   ]
  },
  {
   "cell_type": "code",
   "execution_count": null,
   "metadata": {},
   "outputs": [],
   "source": [
    "x = np.linspace(.01, 10, num = 10000)\n",
    "log_normal_pdf = scipy.stats.lognorm.pdf(x, 1)\n",
    "sns.lineplot(x, log_normal_pdf)\n",
    "plt.title('Density of std log-normal')\n",
    "plt.xscale('log')"
   ]
  },
  {
   "cell_type": "markdown",
   "metadata": {
    "colab_type": "text",
    "id": "Arkk3Jh5Y5UV"
   },
   "source": [
    "### Student t-distribution\n",
    "\n",
    "The student t-distribution is often just referred to as the t-distribution. This distribution is of importance in statistics since the error in the difference of the means of normally distributed variables are t-distributed. \n",
    "\n",
    "The t-distribution is defined in a somewhat different way from the other distributions we have looked at. It has one parameter, the degrees of freedom, denoted as $\\nu$. The derivation of the density function for the t-distribution is a bit complicated and leads to the following, rather complex result:\n",
    "\n",
    "$$\n",
    "P(X | \\nu) = \\frac{\\Gamma(\\frac{\\nu + 1}{2})}{\\sqrt{\\nu \\pi} \\Gamma(\\frac{\\nu}{2})} \\bigg(1 + \\frac{X^2}{\\nu} \\bigg)^{- \\frac{\\nu + 1}{2}}\\\\\n",
    "$$\n",
    "\n",
    "where $\\Gamma(X)$ is called the Gamma function.\n",
    "\n",
    "Despite the complex density formula, you can gain a fair feel for the behavior of the t-distribution by plotting it for several values of $\\nu$ and comparing it to the normal distribution. The code in the cell below plots the density function for the t-distribution for degrees of freedom, $\\nu = \\{1, 2, 3, \\infty \\}$, along with a standard normal distribution. Execute this code and examine the results. Notice how the t-distribution is wider with heavier tails than the normal distribution. As $\\nu \\rightarrow \\infty$ the t-distribution becomes identical to the normal distribution. "
   ]
  },
  {
   "cell_type": "code",
   "execution_count": null,
   "metadata": {
    "colab": {
     "autoexec": {
      "startup": false,
      "wait_interval": 0
     },
     "base_uri": "https://localhost:8080/",
     "height": 277,
     "output_extras": [
      {
       "item_id": 1
      }
     ]
    },
    "colab_type": "code",
    "executionInfo": {
     "elapsed": 611,
     "status": "ok",
     "timestamp": 1512612124445,
     "user": {
      "displayName": "Drew Bryant",
      "photoUrl": "//lh4.googleusercontent.com/-bbwiO20N-0M/AAAAAAAAAAI/AAAAAAAAAJg/qqZ1Ilm078o/s50-c-k-no/photo.jpg",
      "userId": "111241008704641611320"
     },
     "user_tz": 480
    },
    "id": "XbmfKZgEEQTn",
    "outputId": "2305569f-28ee-46c9-c198-79e616f28625"
   },
   "outputs": [],
   "source": [
    "plt.figure(figsize = (10, 10))\n",
    "x = np.linspace(-4, 4, num = 100)\n",
    "\n",
    "sns.lineplot(x, scipy.stats.norm.pdf(x), color = 'black', linewidth = 4, label = 'N(0,1)')\n",
    "\n",
    "for df, color in zip([1, 2, 5, 1000], ['red', 'blue', 'green', 'orange']):  \n",
    "    sns.lineplot(x, scipy.stats.t.pdf(x, df), label = 't(%d)' % df, color = color);"
   ]
  },
  {
   "cell_type": "markdown",
   "metadata": {
    "colab_type": "text",
    "id": "JDv5mJs0Y5UY"
   },
   "source": [
    "## Exponential distribution\n",
    "\n",
    "The gamma distributions are a complex family of continuous probability distributions. All distributions in the gamma family are only defined for $0 <= X <= \\infty$.\n",
    "\n",
    "We will look at one special cases of particular interest, the exponential distribution. The exponential distribution is used to model waiting times between events. We can write the formula for the probability density function of the exponential distribution as:\n",
    "\n",
    "$$P(x | \\lambda) = \\bigg\\{ \n",
    "\\begin{matrix}\n",
    "\\lambda \\exp^{- \\lambda X} &\\text{ if } X \\ge 0\\\\\n",
    "0 &\\text{ if } X \\lt 0\n",
    "\\end{matrix}\n",
    "$$\n",
    "\n",
    "with an expected value of $\\lambda^{-1}$ and variance of $\\lambda^{-2}$. Note that $\\lambda$ is called the average time between events.\n",
    "\n",
    "To get a feel for the exponential distribution, let's plot it for arrival rates of $\\{0.5, 1.0, 2.0  \\}$ or $\\lambda = \\{ 2.0, 1.0, 0.5 \\}$."
   ]
  },
  {
   "cell_type": "code",
   "execution_count": null,
   "metadata": {
    "colab": {
     "autoexec": {
      "startup": false,
      "wait_interval": 0
     },
     "base_uri": "https://localhost:8080/",
     "height": 286,
     "output_extras": [
      {
       "item_id": 1
      }
     ]
    },
    "colab_type": "code",
    "executionInfo": {
     "elapsed": 685,
     "status": "ok",
     "timestamp": 1512612125255,
     "user": {
      "displayName": "Drew Bryant",
      "photoUrl": "//lh4.googleusercontent.com/-bbwiO20N-0M/AAAAAAAAAAI/AAAAAAAAAJg/qqZ1Ilm078o/s50-c-k-no/photo.jpg",
      "userId": "111241008704641611320"
     },
     "user_tz": 480
    },
    "id": "kXYe5ofDHrMO",
    "outputId": "35e242ab-39fd-4ae2-f306-e1586d976514"
   },
   "outputs": [],
   "source": [
    "x = np.linspace(0, 5, num = 100)\n",
    "lambdas = [.5, 1., 2.]\n",
    "colors = ['red', 'blue', 'green']\n",
    "\n",
    "for i in range(len(lambdas)):\n",
    "    sns.lineplot(x, scipy.stats.expon.pdf(x, loc = 0, scale = 1/lambdas[i]),\n",
    "             color = colors[i], label = \"lambda = {}\".format(lambdas[i]))"
   ]
  },
  {
   "cell_type": "markdown",
   "metadata": {},
   "source": [
    "## Simulations\n",
    "\n",
    "<img src=\"https://upload.wikimedia.org/wikipedia/commons/8/84/Pi_30K.gif\" alt=\"Monte Carlo\">\n",
    "\n",
    "Source: [Wikipedia](https://en.wikipedia.org/wiki/Monte_Carlo_method)"
   ]
  },
  {
   "cell_type": "code",
   "execution_count": null,
   "metadata": {},
   "outputs": [],
   "source": [
    "sizes = [10**i for i in range(2, 8)]\n",
    "for n in sizes:\n",
    "    X = np.random.uniform(size = n)\n",
    "    Y = np.random.uniform(size = n)\n",
    "    pi_approx = np.mean(X**2 + Y**2 < 1) * 4\n",
    "    print(\"We approximate pi to {} using n = {}\".format(pi_approx, n))"
   ]
  },
  {
   "cell_type": "markdown",
   "metadata": {},
   "source": [
    "Simulation enables data scientists to study the stochastic behavior of processes with complex probability distributions. Simple processes might be approximated by a known, or 'named' distribution. In these simple cases, it might even be possible to derive analytical results. However, many real-world processes have complex behavior, resulting in complex distributions of output values. In these cases, simulation is a practical approach to understanding these processes. \n",
    "\n",
    "As cheap computational power has become ubiquitous, simulation has become a widely used technique in the data scientist's tool box. Simulations compute a large number of cases, or realizations, of the process being studied. The final or posterior distribution of the process being simulated is comprised of these realizations. The computing cost of each realization must be low in any practical simulation. \n",
    "\n",
    "Data scientists use simulation for a number of purposes:\n",
    "\n",
    "- Simulation is used to test models. If data simulated from the model do not resemble the original data, something is likely wrong with the model.\n",
    "- Simulation is used to understand processes with complex distributions. In these cases, simulation provides a powerful and flexible computational technique to understand this behavior.  \n",
    "\n",
    "In this notebook you will create a simulation of a process with a complex distribution. \n",
    "\n",
    "Creating, testing and debugging simulation software can be tricky. Some of the techniques which can make your life easier are the same as you should use when developing any analytics software, or even software in general. These techniques include:\n",
    "\n",
    "- Build your simulation as a series of small, easily tested chunks. In practice, this means you will build your simulation by creating and testing a set of small functions that comprise the overall model.\n",
    "- Test each small functional unit individually. These tests should include at least testing some typical cases, as well as boundary or extreme cases. Sensible behavior with extreme or limiting cases is a requirement for a stable simulation. Both tabular and graphical output can be useful for evaluating tests.\n",
    "- Test your overall simulation each time you add a new functional component. This processes ensures that all the pieces work together. \n",
    "- Simulations are inherently stochastic. If you want to create identical numerical results, say for automated testing, set a seed before you begin tests. In this notebook no seed is set so you can experience the stochastic nature of the simulation. "
   ]
  },
  {
   "cell_type": "markdown",
   "metadata": {},
   "source": [
    "### Sandwich shop simulation\n",
    "\n",
    "As our example, we're going implements a simulation of the profitability of a sandwich shop. Not suprisingly, the sandwich shop earns money every time a customer buys a sandwich. However, the inputs to the sandwich cost money. The daily profit is the amount customers pay for the sandwiches minus the costs of the inputs. \n",
    "\n",
    "The cost of bread is a particular input which is difficult to manage. The shop bakes its own bread, and the bread must be used on the day it is made. The customers can select one of three types of bread, white, wheat, and multigrain. The customers are unusually picky. If the shop does not have sufficient bread of the customer's choice on hand, the customer will leave the shop without buying a sandwich. However, any extra bread left at the end of the day is discarded and the cost reduces the profitability of the shop. \n",
    "\n",
    "To keep the simulation simple, several assumptions are made:\n",
    "\n",
    "- The probability that each customer chooses a particular type of bread is fixed and known. There probabilities are 50% for white bread, 25% for wheat and 25% for multigrain. \n",
    "- If a customer's choice of bread is not available the customer leaves the shop without buying a sandwich.\n",
    "- The only perishable input which must be discarded at the end of each day is the bread. \n",
    "- Customers do not stop coming to the sandwich shop as a result of not finding their bread choice. \n",
    "\n",
    "The ability to compute large numbers of realizations from probability distributions is fundamental to simulation. Two questions naturally arise. \n",
    "\n",
    "- Which distribution to choose? The answer to this question is typically determined through a combination of domain knowledge and significant data exploration. Usually, several choices are tested and  compared.\n",
    "- How many realizations are required? The answer will depend on the accuracy you require from your simulation and how patient you are. Typically, some tests will indicate an appropriate number of realizations.\n",
    "\n",
    "In order to develop an overall profitability model the demand must be simulated. To simulate demand you must first simulate the number of arrivals and then the demand for each type of bread given the arrivals. \n",
    "\n",
    "#### Setting up and running the simulation\n",
    "\n",
    "The demand for bread on a given day is simulated with the code in the cell below, using a **multi-nomial distribution**, an extension of the binomial distribution that allows more than just two (binary) outcomes (3 in this case) each having a probability $p_i$ of occuring."
   ]
  },
  {
   "cell_type": "code",
   "execution_count": null,
   "metadata": {},
   "outputs": [],
   "source": [
    "bread_types = ['white', 'wheat', 'multigrain']\n",
    "\n",
    "def sim_bread(num_customers):\n",
    "    bread_probas = [\n",
    "      .50,  # white\n",
    "      .25,  # wheat\n",
    "      .25,  # multigrain\n",
    "    ]\n",
    "  \n",
    "    return np.random.multinomial(n = num_customers, pvals = bread_probas)\n",
    "  \n",
    "sim_bread(num_customers = 100)"
   ]
  },
  {
   "cell_type": "markdown",
   "metadata": {},
   "source": [
    "Examine the table of demand by type of bread. Notice that the proportions of white, wheat and muligrain are approximately 2, 1, 1, respectively. You can now compute the bread demand for one realization of arrivals.  \n",
    "\n",
    "Next, you must simulate realizations of arrivals of people at the sandwich shop. Often arrival rates, k, per time interval are modeled as a Poisson process with rate or intensity $\\lambda$, which can be written:\n",
    "\n",
    "$$P(k \\text{ arrivals } | \\lambda \\text{ average arrival rate}) = \\frac{\\lambda^k\\ e^{-\\lambda}}{k!}$$\n",
    "\n",
    "If the arrival rate is fairly high, the difference between a Poisson distribution and an appropriate normal distribution will be minimal. So we could also use a normal distribution and apply the continuity correction.\n",
    "\n",
    "The demand for bread is clearly dependent on the number of arrivals, as well as the probability that customers choose each type of bread. \n",
    "\n",
    "The code in the cell below performs the following operations:\n",
    "\n",
    "- Compute the distribution of the arrivals by realizations of a Poisson distribution.\n",
    "- Create a matrix to hold  the demand for each bread type for each realization of the arrivals.\n",
    "- Loop over the realizations of the arrivals, compute the demand for each bread type, and save the results in a row of the matrix."
   ]
  },
  {
   "cell_type": "code",
   "execution_count": null,
   "metadata": {},
   "outputs": [],
   "source": [
    "def sim_demand(arrival_rate, num_days):\n",
    "    arrivals = np.random.poisson(lam = arrival_rate, size = num_days) # compute realizations of arrivals\n",
    "    demand = pd.DataFrame(columns = bread_types)\n",
    "\n",
    "    for i, a in enumerate(arrivals):\n",
    "        demand.loc[i, :] = sim_bread(num_customers = a)\n",
    "    \n",
    "    return demand\n",
    "\n",
    "sim_demand(arrival_rate = 100, num_days = 10).head()"
   ]
  },
  {
   "cell_type": "markdown",
   "metadata": {},
   "source": [
    "The number of each type of bread baked in the sandwich shop is deterministic. Presumably the shop manager has a plan for the day, and the bread is baked in advance of the customer arrivals. The code in the cell below computes the number of loaves of each type of bead baked. Run this code to test the function."
   ]
  },
  {
   "cell_type": "code",
   "execution_count": null,
   "metadata": {},
   "outputs": [],
   "source": [
    "def sim_supply(n_breads, num_days):\n",
    "    supply = pd.DataFrame(columns = bread_types)\n",
    "    for i in range(num_days):\n",
    "        supply.loc[i, :] = [n_breads // i for i in [2, 4, 4]]\n",
    "\n",
    "    return supply\n",
    "\n",
    "sim_supply(n_breads = 100, num_days = 10).head()"
   ]
  },
  {
   "cell_type": "markdown",
   "metadata": {},
   "source": [
    "You now have almost all the pieces in place to create the complete simulation of the distribution of profitability of the sandwich shop. The only missing piece is to compute the total profit based on the number of sandwiches sold and the cost of the bread baked.\n",
    "\n",
    "The calculation of the profit is done by bread type. If the demand for a bread type is less that the available bread, the cost of the bread is subtracted by the profit at that demand. If the demand is greater than the available bread, the profit is limited by the amount of bread available. The code in cell below we compute profit based on supply and demand for bread."
   ]
  },
  {
   "cell_type": "code",
   "execution_count": null,
   "metadata": {},
   "outputs": [],
   "source": [
    "num_supply = 100 # how many breads you start with each day\n",
    "num_days = 10 # how many days you want to simulation\n",
    "arrival_rate = 100\n",
    "sell_price = 4.0\n",
    "cost_price = 1.25"
   ]
  },
  {
   "cell_type": "code",
   "execution_count": null,
   "metadata": {},
   "outputs": [],
   "source": [
    "def sim_profit(num_supply, num_days, arrival_rate, sell_price, cost_price):\n",
    "\n",
    "    supply = sim_supply(n_breads = num_supply, num_days = num_days)\n",
    "    demand = sim_demand(arrival_rate = arrival_rate, num_days = num_days)\n",
    "    \n",
    "    left_over = (supply - demand)\n",
    "    profit_if_left_over = sell_price * demand - cost_price * supply\n",
    "    profit_if_sold_out  = sell_price * supply - cost_price * supply\n",
    "    profit = (left_over >  0) * profit_if_left_over + (left_over <= 0) * profit_if_sold_out\n",
    "        \n",
    "    supply_demand = pd.concat([supply, demand, profit], axis = 1)\n",
    "    supply_demand.columns = ['_'.join([i, j]) for i, j in list(itertools.product(['supply', 'demand', 'profit'], bread_types))]\n",
    "    supply_demand['total_profit'] = supply_demand.filter(like = 'profit').apply(sum, axis = 1)\n",
    "    \n",
    "    return supply_demand\n",
    "\n",
    "\n",
    "sim_profit(num_supply = 100, num_days = 10, arrival_rate = 100, sell_price = 4.00, cost_price = 1.25)"
   ]
  },
  {
   "cell_type": "markdown",
   "metadata": {},
   "source": [
    "For a large number of iterations, it is easier to study the resulting distribution using summary statistics and plots. Let's increase `num_days` so we can generate lots of data."
   ]
  },
  {
   "cell_type": "code",
   "execution_count": null,
   "metadata": {},
   "outputs": [],
   "source": [
    "profits = sim_profit(num_supply = 100, \n",
    "                     num_days = 10000, # change n to larger number\n",
    "                     arrival_rate = 100, \n",
    "                     sell_price = 4.00, \n",
    "                     cost_price = 1.25)"
   ]
  },
  {
   "cell_type": "markdown",
   "metadata": {},
   "source": [
    "Let's compute the total demand across all bread types for each day, as well."
   ]
  },
  {
   "cell_type": "code",
   "execution_count": null,
   "metadata": {},
   "outputs": [],
   "source": [
    "profits['total_demand'] = profits.filter(like = 'demand').apply(sum, axis = 1)"
   ]
  },
  {
   "cell_type": "markdown",
   "metadata": {},
   "source": [
    "We can now plot the distribution of demand over the days of our simulation, and the distribution of daily profits during the course of the simulation."
   ]
  },
  {
   "cell_type": "code",
   "execution_count": null,
   "metadata": {},
   "outputs": [],
   "source": [
    "f, axes = plt.subplots(2, figsize = (15, 10))\n",
    "sns.despine(left = True)\n",
    "\n",
    "def plot_scenario(profits):\n",
    "    sns.distplot(profits['total_demand'], bins = 30, ax = axes[0])\n",
    "    sns.distplot(profits['total_profit'], bins = 30, ax = axes[1]);\n",
    "    \n",
    "plot_scenario(profits)"
   ]
  },
  {
   "cell_type": "markdown",
   "metadata": {},
   "source": [
    "#### Profit vs bread baked\n",
    "\n",
    "Of several remaining questions, a manager of the sandwich shop might be most interested in the relationship between profitability and the number of loaves of bread baked. Understanding this relationship will help the manager optimize the profit of the shop. \n",
    "\n",
    "Since there is only one variable in this case, it is a simple matter to step over some likely values and find the one which optimizes the profit of the shop. The code in the cell does just this and graphs the result."
   ]
  },
  {
   "cell_type": "code",
   "execution_count": null,
   "metadata": {},
   "outputs": [],
   "source": [
    "bread_counts = (60, 80, 100, 120, 140, 160)\n",
    "mean_profits = [sim_profit(n_bread, 1000, 100, 4.00, 1.25)['total_profit'].mean() for n_bread in bread_counts]\n",
    "\n",
    "scenarios = pd.DataFrame({'bread_count': bread_counts, 'total_profit': mean_profits})\n",
    "scenarios"
   ]
  },
  {
   "cell_type": "code",
   "execution_count": null,
   "metadata": {},
   "outputs": [],
   "source": [
    "sns.lineplot(x = 'bread_count', y = 'total_profit', data = scenarios)\n",
    "plt.title('Sandwich shop profit vs. bread baked');"
   ]
  },
  {
   "cell_type": "markdown",
   "metadata": {},
   "source": [
    "There is still the issue of how much the results of this simulation vary from run to run. With a bit more code, the results of a number of simulation runs, the mean value, and the standard deviation of the profit across simulation runs can be computed and displayed. \n",
    "\n",
    "Run this code and examine the printed and plotted results. "
   ]
  },
  {
   "cell_type": "code",
   "execution_count": null,
   "metadata": {},
   "outputs": [],
   "source": [
    "def sim_profit_replicas(n_replicas, bread_counts, **kwargs):\n",
    "    all_scenarios = []\n",
    "    for replica_i in range(n_replicas):\n",
    "        mean_profits = [sim_profit(num_supply = n_bread, **kwargs)['total_profit'].mean() for n_bread in bread_counts]\n",
    "        scenarios = pd.DataFrame({'bread_count': bread_counts, 'total_profit': mean_profits})\n",
    "        scenarios['replica_i'] = replica_i\n",
    "        all_scenarios.append(scenarios)\n",
    "        \n",
    "    return pd.concat(all_scenarios)\n",
    "\n",
    "\n",
    "replicas = sim_profit_replicas(\n",
    "    n_replicas = 100, \n",
    "    bread_counts = (60, 80, 100, 120, 140, 160), \n",
    "    num_days = 100, \n",
    "    arrival_rate = 100, \n",
    "    sell_price = 4.00, \n",
    "    cost_price = 1.25)"
   ]
  },
  {
   "cell_type": "code",
   "execution_count": null,
   "metadata": {},
   "outputs": [],
   "source": [
    "replicas.head(10)"
   ]
  },
  {
   "cell_type": "markdown",
   "metadata": {},
   "source": [
    "We can easily compute the mean and standard deviation of the mean daily profit across our simulation replicas:"
   ]
  },
  {
   "cell_type": "code",
   "execution_count": null,
   "metadata": {},
   "outputs": [],
   "source": [
    "replicas.groupby('bread_count')['total_profit'].agg(['mean', 'std'])"
   ]
  },
  {
   "cell_type": "markdown",
   "metadata": {},
   "source": [
    "And now we can plot each of the simulation replicas to get a sense of the profit variance for each amount of bread we might bake daily."
   ]
  },
  {
   "cell_type": "code",
   "execution_count": null,
   "metadata": {},
   "outputs": [],
   "source": [
    "plt.figure(figsize = (12, 10))\n",
    "sns.lineplot(x = 'bread_count', y = 'total_profit', data = replicas, units = 'replica_i', estimator = None);"
   ]
  },
  {
   "cell_type": "markdown",
   "metadata": {},
   "source": [
    "For most part the difference in profits between 100 and 120 loaves of bread prepared is minimal. This is particularly the case if you look at the standard deviation of these means. "
   ]
  },
  {
   "cell_type": "markdown",
   "metadata": {},
   "source": [
    "## Summary\n",
    "\n",
    "So we began by learning about probabilities and their properties, incliding conditional probability. We then related the concept of probability for a random variable $X$ to that of a distribution of $X$, which are defined by the PDF (or CDF) of $X$. We then looked at examples of specific probability distributions which are there to model real-life discrete or continuous events. We then saw how we can draw random numbers from these distributions to generate samples and run calculations on them, which is especially handy when what we're trying to estimate cannot be *analytically* derived (or not easily at least). We ended with an example of using simulations to do such an estimation."
   ]
  }
 ],
 "metadata": {
  "colab": {
   "collapsed_sections": [],
   "default_view": {},
   "name": "IntroToDistributions.ipynb",
   "provenance": [],
   "version": "0.3.2",
   "views": {}
  },
  "kernelspec": {
   "display_name": "Python 3",
   "language": "python",
   "name": "python3"
  },
  "language_info": {
   "codemirror_mode": {
    "name": "ipython",
    "version": 3
   },
   "file_extension": ".py",
   "mimetype": "text/x-python",
   "name": "python",
   "nbconvert_exporter": "python",
   "pygments_lexer": "ipython3",
   "version": "3.8.0"
  },
  "toc": {
   "base_numbering": 1,
   "nav_menu": {},
   "number_sections": true,
   "sideBar": true,
   "skip_h1_title": false,
   "title_cell": "Table of Contents",
   "title_sidebar": "Contents",
   "toc_cell": false,
   "toc_position": {},
   "toc_section_display": true,
   "toc_window_display": true
  }
 },
 "nbformat": 4,
 "nbformat_minor": 4
}
