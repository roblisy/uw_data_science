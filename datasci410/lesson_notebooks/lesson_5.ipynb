{
 "cells": [
  {
   "cell_type": "markdown",
   "metadata": {},
   "source": [
    "# Introduction to Bayesian inference\n",
    "\n",
    "Modern Bayesian models are in the class of computationally intensive models. Bayesian models are a rich class of models, which can provide attractive alternatives to frequentist models. Bayesian methods don't necessarily refer to a particular set of algorithms, but rather to a different approach to estimation. For example, we talk about regression and Bayesian regression, deep learning and Bayesian deep learning. In the context of hypothesis testing, we can also talk about Bayesian hypothesis testing. For this reason, **statistical inference** is divided between these two schools of thought: Frequentist and Bayesian paradigms. When the word **Bayesian** is not explicitly mentioned, we are relying on the frequentist paradigm, although the word frequentist is rarely mentioned."
   ]
  },
  {
   "cell_type": "markdown",
   "metadata": {},
   "source": [
    "## Bayes Theorem\n",
    "\n",
    "Let's go through a simple derivation of Bayes' theorem. Remember the rule for conditional probability:\n",
    "\n",
    "$$P(A|B) = \\frac{P(A \\cap B)}{p(B)} \\qquad\\text{and}\\qquad P(B|A) = \\frac{P(B \\cap A)}{p(A)}$$\n",
    "\n",
    "and by the symmetry $P(A \\cap B) = P(B \\cap A)$ we can eliminate $P(A \\cap B)$ to get $P(B)P(A|B) = P(A)P(B|A)$ which we can use to rewrite the above equations as\n",
    "\n",
    "$$P(A|B) = \\frac{P(A)P(B|A)}{P(B)} \\qquad\\text{and}\\qquad P(B|A) = \\frac{P(B)P(A|B)}{P(A)}$$\n",
    "\n",
    "The above equations is what we refer to as Bayes' theorem! It is a humble equation with many applications. \n",
    "\n",
    "Bayes' reasoning is that sometimes $P(A|B)$ is not easy to get but $P(B|A)$ is. For example, given that I have a disease, it's easy to know the probability that I will test positive, but given that I tested positive, it's not so easy to know the probability that I really have the disease. \n",
    "\n",
    "Here's another example: Let's say we toss a coin 4 times, and\n",
    "\n",
    "- $A$ is the event that my coin is un-biased\n",
    "- $B$ is the event that I get 3 heads\n",
    "\n",
    "Then $P(A|B)$ is the probability that my coin is un-biased given that I got 3 heads. Knowing how to measure this probability is not obvious, but $P(B|A)$ is something we know how to do, since it has a binomial distribution with $n = 4$ and $p = 0.50$.\n",
    "\n",
    "So Bayes' theorem gives us a formula for calculating $P(A|B)$ in terms of the $P(B|A)$. But to use it, we still need to answer the question of how we calculate $P(A)$ and $P(B)$: \n",
    "\n",
    "- It turns out that $P(A)$ is something we usually don't know, so most of the time we just guess it. This is the biggest critique of Bayesian analysis. However, in a lot of sitations, even a bad guess can still give us good results.\n",
    "- The get $P(B)$ we need to integrate over the sample space of $A$. In other words, $P(B) = P(B|A)P(A) + P(B|A^c)P(A^c)$ where $A^c$ is the complement of $A$. This can also be cumbersome, but foretunately in practice we can often skip this step, for reasons we don't want to get into now.\n",
    "\n",
    "Simplifying things, we now \n",
    "\n",
    "$$P(A|B) = \\frac{P(A)P(B|A)}{P(B|A)P(A) + P(B|A^c)P(A^c)}$$\n",
    "\n",
    "So we can simplify the formula by removing the denominator and replacing the equality with $\\propto$ (proportional to).\n",
    "\n",
    "$$P(A|B) \\propto P(B|A)P(A)$$"
   ]
  },
  {
   "cell_type": "markdown",
   "metadata": {},
   "source": [
    "### Exercise\n",
    "\n",
    "A sample population has the following probabilities of eye and hair color combinations."
   ]
  },
  {
   "cell_type": "code",
   "execution_count": 33,
   "metadata": {},
   "outputs": [],
   "source": [
    "import pandas as pd\n",
    "import numpy as np\n",
    "import matplotlib\n",
    "from matplotlib import pyplot as plt\n",
    "import seaborn as sns\n",
    "import scipy\n",
    "import itertools"
   ]
  },
  {
   "cell_type": "code",
   "execution_count": 2,
   "metadata": {},
   "outputs": [
    {
     "data": {
      "text/html": [
       "<div>\n",
       "<style scoped>\n",
       "    .dataframe tbody tr th:only-of-type {\n",
       "        vertical-align: middle;\n",
       "    }\n",
       "\n",
       "    .dataframe tbody tr th {\n",
       "        vertical-align: top;\n",
       "    }\n",
       "\n",
       "    .dataframe thead th {\n",
       "        text-align: right;\n",
       "    }\n",
       "</style>\n",
       "<table border=\"1\" class=\"dataframe\">\n",
       "  <thead>\n",
       "    <tr style=\"text-align: right;\">\n",
       "      <th></th>\n",
       "      <th>black</th>\n",
       "      <th>brunette</th>\n",
       "      <th>red</th>\n",
       "      <th>blond</th>\n",
       "    </tr>\n",
       "  </thead>\n",
       "  <tbody>\n",
       "    <tr>\n",
       "      <th>brown</th>\n",
       "      <td>0.11</td>\n",
       "      <td>0.20</td>\n",
       "      <td>0.04</td>\n",
       "      <td>0.01</td>\n",
       "    </tr>\n",
       "    <tr>\n",
       "      <th>blue</th>\n",
       "      <td>0.03</td>\n",
       "      <td>0.14</td>\n",
       "      <td>0.03</td>\n",
       "      <td>0.16</td>\n",
       "    </tr>\n",
       "    <tr>\n",
       "      <th>hazel</th>\n",
       "      <td>0.03</td>\n",
       "      <td>0.09</td>\n",
       "      <td>0.03</td>\n",
       "      <td>0.02</td>\n",
       "    </tr>\n",
       "    <tr>\n",
       "      <th>green</th>\n",
       "      <td>0.01</td>\n",
       "      <td>0.05</td>\n",
       "      <td>0.02</td>\n",
       "      <td>0.03</td>\n",
       "    </tr>\n",
       "  </tbody>\n",
       "</table>\n",
       "</div>"
      ],
      "text/plain": [
       "       black  brunette   red  blond\n",
       "brown   0.11      0.20  0.04   0.01\n",
       "blue    0.03      0.14  0.03   0.16\n",
       "hazel   0.03      0.09  0.03   0.02\n",
       "green   0.01      0.05  0.02   0.03"
      ]
     },
     "execution_count": 2,
     "metadata": {},
     "output_type": "execute_result"
    }
   ],
   "source": [
    "prob_E_and_H = np.array([\n",
    "    [0.11, 0.2 , 0.04, 0.01],\n",
    "    [0.03, 0.14, 0.03, 0.16],\n",
    "    [0.03, 0.09, 0.03, 0.02],\n",
    "    [0.01, 0.05, 0.02, 0.03]])\n",
    "\n",
    "hair_colors = ['black', 'brunette', 'red', 'blond']\n",
    "eye_colors = ['brown', 'blue', 'hazel', 'green']\n",
    "\n",
    "prob_E_and_H = pd.DataFrame(prob_E_and_H, columns = hair_colors, index = eye_colors)\n",
    "prob_E_and_H"
   ]
  },
  {
   "cell_type": "markdown",
   "metadata": {},
   "source": [
    "Note that we're using a string index for eye color rather than a numeric zero-based index. So here's the easiest way to access a given (eye, hair) color value."
   ]
  },
  {
   "cell_type": "code",
   "execution_count": 3,
   "metadata": {},
   "outputs": [
    {
     "data": {
      "text/plain": [
       "0.03"
      ]
     },
     "execution_count": 3,
     "metadata": {},
     "output_type": "execute_result"
    }
   ],
   "source": [
    "prob_E_and_H.loc['hazel', 'red']"
   ]
  },
  {
   "cell_type": "markdown",
   "metadata": {},
   "source": [
    "- The probabilities in the table above are **joint probabilities**, i.e. $P(E \\cap H)$ if $E$ is eye color and $H$ is hair color. Given the joint probabilities, it is easy to compute the **marginal probabilities** $P(E)$ and $P(H)$ by summing the probabilities across rows and columns. Add a row and column to the data, containing the marginal probabilites of eye color and hair color."
   ]
  },
  {
   "cell_type": "code",
   "execution_count": 4,
   "metadata": {},
   "outputs": [
    {
     "data": {
      "text/html": [
       "<div>\n",
       "<style scoped>\n",
       "    .dataframe tbody tr th:only-of-type {\n",
       "        vertical-align: middle;\n",
       "    }\n",
       "\n",
       "    .dataframe tbody tr th {\n",
       "        vertical-align: top;\n",
       "    }\n",
       "\n",
       "    .dataframe thead th {\n",
       "        text-align: right;\n",
       "    }\n",
       "</style>\n",
       "<table border=\"1\" class=\"dataframe\">\n",
       "  <thead>\n",
       "    <tr style=\"text-align: right;\">\n",
       "      <th></th>\n",
       "      <th>black</th>\n",
       "      <th>brunette</th>\n",
       "      <th>red</th>\n",
       "      <th>blond</th>\n",
       "      <th>prob_E</th>\n",
       "    </tr>\n",
       "  </thead>\n",
       "  <tbody>\n",
       "    <tr>\n",
       "      <th>brown</th>\n",
       "      <td>0.11</td>\n",
       "      <td>0.20</td>\n",
       "      <td>0.04</td>\n",
       "      <td>0.01</td>\n",
       "      <td>0.36</td>\n",
       "    </tr>\n",
       "    <tr>\n",
       "      <th>blue</th>\n",
       "      <td>0.03</td>\n",
       "      <td>0.14</td>\n",
       "      <td>0.03</td>\n",
       "      <td>0.16</td>\n",
       "      <td>0.36</td>\n",
       "    </tr>\n",
       "    <tr>\n",
       "      <th>hazel</th>\n",
       "      <td>0.03</td>\n",
       "      <td>0.09</td>\n",
       "      <td>0.03</td>\n",
       "      <td>0.02</td>\n",
       "      <td>0.17</td>\n",
       "    </tr>\n",
       "    <tr>\n",
       "      <th>green</th>\n",
       "      <td>0.01</td>\n",
       "      <td>0.05</td>\n",
       "      <td>0.02</td>\n",
       "      <td>0.03</td>\n",
       "      <td>0.11</td>\n",
       "    </tr>\n",
       "    <tr>\n",
       "      <th>prob_H</th>\n",
       "      <td>0.18</td>\n",
       "      <td>0.48</td>\n",
       "      <td>0.12</td>\n",
       "      <td>0.22</td>\n",
       "      <td>1.00</td>\n",
       "    </tr>\n",
       "  </tbody>\n",
       "</table>\n",
       "</div>"
      ],
      "text/plain": [
       "        black  brunette   red  blond  prob_E\n",
       "brown    0.11      0.20  0.04   0.01    0.36\n",
       "blue     0.03      0.14  0.03   0.16    0.36\n",
       "hazel    0.03      0.09  0.03   0.02    0.17\n",
       "green    0.01      0.05  0.02   0.03    0.11\n",
       "prob_H   0.18      0.48  0.12   0.22    1.00"
      ]
     },
     "execution_count": 4,
     "metadata": {},
     "output_type": "execute_result"
    }
   ],
   "source": [
    "prob_E_and_H_mar = prob_E_and_H.copy()\n",
    "prob_E = prob_E_and_H.sum(axis = 1)\n",
    "prob_H = prob_E_and_H.sum(axis = 0)\n",
    "\n",
    "prob_E_and_H_mar.loc[:, 'prob_E'] = prob_E\n",
    "prob_E_and_H_mar.loc['prob_H', :] = prob_H\n",
    "prob_E_and_H_mar.loc['prob_H', 'prob_E'] = prob_E_and_H.values.sum()\n",
    "prob_E_and_H_mar"
   ]
  },
  {
   "cell_type": "markdown",
   "metadata": {},
   "source": [
    "- Compute $P(H|E = \\text{blue})$. In other words, what is the distribution of hair color for people with blue eyes. You do not need to use Bayes' theorem here, just the conditioning rule:\n",
    "\n",
    "$$P(H|E) = \\frac{P(H \\cap E)}{P(E)}$$"
   ]
  },
  {
   "cell_type": "code",
   "execution_count": 5,
   "metadata": {},
   "outputs": [
    {
     "data": {
      "text/html": [
       "<div>\n",
       "<style scoped>\n",
       "    .dataframe tbody tr th:only-of-type {\n",
       "        vertical-align: middle;\n",
       "    }\n",
       "\n",
       "    .dataframe tbody tr th {\n",
       "        vertical-align: top;\n",
       "    }\n",
       "\n",
       "    .dataframe thead th {\n",
       "        text-align: right;\n",
       "    }\n",
       "</style>\n",
       "<table border=\"1\" class=\"dataframe\">\n",
       "  <thead>\n",
       "    <tr style=\"text-align: right;\">\n",
       "      <th></th>\n",
       "      <th>black</th>\n",
       "      <th>brunette</th>\n",
       "      <th>red</th>\n",
       "      <th>blond</th>\n",
       "    </tr>\n",
       "  </thead>\n",
       "  <tbody>\n",
       "    <tr>\n",
       "      <th>brown</th>\n",
       "      <td>0.305556</td>\n",
       "      <td>0.555556</td>\n",
       "      <td>0.111111</td>\n",
       "      <td>0.027778</td>\n",
       "    </tr>\n",
       "    <tr>\n",
       "      <th>blue</th>\n",
       "      <td>0.083333</td>\n",
       "      <td>0.388889</td>\n",
       "      <td>0.083333</td>\n",
       "      <td>0.444444</td>\n",
       "    </tr>\n",
       "    <tr>\n",
       "      <th>hazel</th>\n",
       "      <td>0.176471</td>\n",
       "      <td>0.529412</td>\n",
       "      <td>0.176471</td>\n",
       "      <td>0.117647</td>\n",
       "    </tr>\n",
       "    <tr>\n",
       "      <th>green</th>\n",
       "      <td>0.090909</td>\n",
       "      <td>0.454545</td>\n",
       "      <td>0.181818</td>\n",
       "      <td>0.272727</td>\n",
       "    </tr>\n",
       "  </tbody>\n",
       "</table>\n",
       "</div>"
      ],
      "text/plain": [
       "          black  brunette       red     blond\n",
       "brown  0.305556  0.555556  0.111111  0.027778\n",
       "blue   0.083333  0.388889  0.083333  0.444444\n",
       "hazel  0.176471  0.529412  0.176471  0.117647\n",
       "green  0.090909  0.454545  0.181818  0.272727"
      ]
     },
     "execution_count": 5,
     "metadata": {},
     "output_type": "execute_result"
    }
   ],
   "source": [
    "prob_H_given_E = prob_E_and_H.copy()\n",
    "\n",
    "for hair in hair_colors:\n",
    "    for eye in eye_colors:\n",
    "        prob_H_given_E.loc[eye, hair] = prob_E_and_H.loc[eye, hair] / prob_E[eye]\n",
    "\n",
    "prob_H_given_E"
   ]
  },
  {
   "cell_type": "markdown",
   "metadata": {},
   "source": [
    "- Compute $P(E|H)$. In other words, what is the distribution of eye color given hair color. You do not need to use Bayes' theorem here, just the conditioning rule:\n",
    "\n",
    "$$P(E|H) = \\frac{P(H \\cap E)}{P(H)}$$"
   ]
  },
  {
   "cell_type": "code",
   "execution_count": 6,
   "metadata": {},
   "outputs": [
    {
     "data": {
      "text/html": [
       "<div>\n",
       "<style scoped>\n",
       "    .dataframe tbody tr th:only-of-type {\n",
       "        vertical-align: middle;\n",
       "    }\n",
       "\n",
       "    .dataframe tbody tr th {\n",
       "        vertical-align: top;\n",
       "    }\n",
       "\n",
       "    .dataframe thead th {\n",
       "        text-align: right;\n",
       "    }\n",
       "</style>\n",
       "<table border=\"1\" class=\"dataframe\">\n",
       "  <thead>\n",
       "    <tr style=\"text-align: right;\">\n",
       "      <th></th>\n",
       "      <th>black</th>\n",
       "      <th>brunette</th>\n",
       "      <th>red</th>\n",
       "      <th>blond</th>\n",
       "    </tr>\n",
       "  </thead>\n",
       "  <tbody>\n",
       "    <tr>\n",
       "      <th>brown</th>\n",
       "      <td>0.611111</td>\n",
       "      <td>0.416667</td>\n",
       "      <td>0.333333</td>\n",
       "      <td>0.045455</td>\n",
       "    </tr>\n",
       "    <tr>\n",
       "      <th>blue</th>\n",
       "      <td>0.166667</td>\n",
       "      <td>0.291667</td>\n",
       "      <td>0.250000</td>\n",
       "      <td>0.727273</td>\n",
       "    </tr>\n",
       "    <tr>\n",
       "      <th>hazel</th>\n",
       "      <td>0.166667</td>\n",
       "      <td>0.187500</td>\n",
       "      <td>0.250000</td>\n",
       "      <td>0.090909</td>\n",
       "    </tr>\n",
       "    <tr>\n",
       "      <th>green</th>\n",
       "      <td>0.055556</td>\n",
       "      <td>0.104167</td>\n",
       "      <td>0.166667</td>\n",
       "      <td>0.136364</td>\n",
       "    </tr>\n",
       "  </tbody>\n",
       "</table>\n",
       "</div>"
      ],
      "text/plain": [
       "          black  brunette       red     blond\n",
       "brown  0.611111  0.416667  0.333333  0.045455\n",
       "blue   0.166667  0.291667  0.250000  0.727273\n",
       "hazel  0.166667  0.187500  0.250000  0.090909\n",
       "green  0.055556  0.104167  0.166667  0.136364"
      ]
     },
     "execution_count": 6,
     "metadata": {},
     "output_type": "execute_result"
    }
   ],
   "source": [
    "prob_E_given_H = prob_E_and_H.copy()\n",
    "\n",
    "for hair in hair_colors:\n",
    "    for eye in eye_colors:\n",
    "        prob_E_given_H.loc[eye, hair] = prob_E_and_H.loc[eye, hair] / prob_H[hair]\n",
    "\n",
    "prob_E_given_H"
   ]
  },
  {
   "cell_type": "markdown",
   "metadata": {},
   "source": [
    "As you can see, we were able to compute $P(E|H)$ and $P(H|E)$, and we didn't need Bayes' theorem to do it. Bayes' theorem is useful if one of these probabilities is easy to find, but the other one not. \n",
    "\n",
    "- Use Bayes' theorem to compute $P(E|H)$. Here's the theorem:\n",
    "\n",
    "$$P(E|H) = \\frac{P(H|E)P(E)}{P(H)}$$"
   ]
  },
  {
   "cell_type": "code",
   "execution_count": 7,
   "metadata": {},
   "outputs": [
    {
     "data": {
      "text/html": [
       "<div>\n",
       "<style scoped>\n",
       "    .dataframe tbody tr th:only-of-type {\n",
       "        vertical-align: middle;\n",
       "    }\n",
       "\n",
       "    .dataframe tbody tr th {\n",
       "        vertical-align: top;\n",
       "    }\n",
       "\n",
       "    .dataframe thead th {\n",
       "        text-align: right;\n",
       "    }\n",
       "</style>\n",
       "<table border=\"1\" class=\"dataframe\">\n",
       "  <thead>\n",
       "    <tr style=\"text-align: right;\">\n",
       "      <th></th>\n",
       "      <th>black</th>\n",
       "      <th>brunette</th>\n",
       "      <th>red</th>\n",
       "      <th>blond</th>\n",
       "    </tr>\n",
       "  </thead>\n",
       "  <tbody>\n",
       "    <tr>\n",
       "      <th>brown</th>\n",
       "      <td>0.611111</td>\n",
       "      <td>0.416667</td>\n",
       "      <td>0.333333</td>\n",
       "      <td>0.045455</td>\n",
       "    </tr>\n",
       "    <tr>\n",
       "      <th>blue</th>\n",
       "      <td>0.166667</td>\n",
       "      <td>0.291667</td>\n",
       "      <td>0.250000</td>\n",
       "      <td>0.727273</td>\n",
       "    </tr>\n",
       "    <tr>\n",
       "      <th>hazel</th>\n",
       "      <td>0.166667</td>\n",
       "      <td>0.187500</td>\n",
       "      <td>0.250000</td>\n",
       "      <td>0.090909</td>\n",
       "    </tr>\n",
       "    <tr>\n",
       "      <th>green</th>\n",
       "      <td>0.055556</td>\n",
       "      <td>0.104167</td>\n",
       "      <td>0.166667</td>\n",
       "      <td>0.136364</td>\n",
       "    </tr>\n",
       "  </tbody>\n",
       "</table>\n",
       "</div>"
      ],
      "text/plain": [
       "          black  brunette       red     blond\n",
       "brown  0.611111  0.416667  0.333333  0.045455\n",
       "blue   0.166667  0.291667  0.250000  0.727273\n",
       "hazel  0.166667  0.187500  0.250000  0.090909\n",
       "green  0.055556  0.104167  0.166667  0.136364"
      ]
     },
     "execution_count": 7,
     "metadata": {},
     "output_type": "execute_result"
    }
   ],
   "source": [
    "prob_E_given_H = prob_E_and_H.copy()\n",
    "\n",
    "for hair in hair_colors:\n",
    "    for eye in eye_colors:\n",
    "        prob_E_given_H.loc[eye, hair] = prob_H_given_E.loc[eye, hair] * prob_E[eye] / prob_H[hair]\n",
    "\n",
    "prob_E_given_H"
   ]
  },
  {
   "cell_type": "markdown",
   "metadata": {},
   "source": [
    "- Do you see the same probabilities as what we calculated above?\n",
    "\n",
    "Assume now that we don't want to rely on $P(E)$ and $P(H)$ as calculated in the data (sample). Instead, let's say we have country-wide statistics about eye color in the population, as shown here:"
   ]
  },
  {
   "cell_type": "code",
   "execution_count": 8,
   "metadata": {},
   "outputs": [
    {
     "data": {
      "text/plain": [
       "brown    0.35\n",
       "blue     0.25\n",
       "hazel    0.25\n",
       "green    0.15\n",
       "dtype: float64"
      ]
     },
     "execution_count": 8,
     "metadata": {},
     "output_type": "execute_result"
    }
   ],
   "source": [
    "prob_E_pop = prob_E.copy()\n",
    "prob_E_pop[:] = [0.35, 0.25, 0.25, 0.15]\n",
    "prob_E_pop"
   ]
  },
  {
   "cell_type": "markdown",
   "metadata": {},
   "source": [
    "- Calculate $P(H)$ based on the above values for $P(E)$ and using\n",
    "\n",
    "$$P(H) = \\sum_E P(H|E)P(E)$$"
   ]
  },
  {
   "cell_type": "code",
   "execution_count": 9,
   "metadata": {},
   "outputs": [
    {
     "data": {
      "text/plain": [
       "black       0.185532\n",
       "brunette    0.492201\n",
       "red         0.131113\n",
       "blond       0.191154\n",
       "dtype: float64"
      ]
     },
     "execution_count": 9,
     "metadata": {},
     "output_type": "execute_result"
    }
   ],
   "source": [
    "prob_H_new = prob_H.copy()\n",
    "prob_H_new[:] = 0\n",
    "\n",
    "for eye in eye_colors:\n",
    "    prob_H_new += prob_H_given_E.loc[eye, :] * prob_E_pop[eye]\n",
    "\n",
    "prob_H_new"
   ]
  },
  {
   "cell_type": "markdown",
   "metadata": {},
   "source": [
    "- Recalculate $P(E|H)$ with Bayes' theorem, but using the new values for $P(E)$ and the updated values for $P(H)$."
   ]
  },
  {
   "cell_type": "code",
   "execution_count": 10,
   "metadata": {},
   "outputs": [
    {
     "data": {
      "text/html": [
       "<div>\n",
       "<style scoped>\n",
       "    .dataframe tbody tr th:only-of-type {\n",
       "        vertical-align: middle;\n",
       "    }\n",
       "\n",
       "    .dataframe tbody tr th {\n",
       "        vertical-align: top;\n",
       "    }\n",
       "\n",
       "    .dataframe thead th {\n",
       "        text-align: right;\n",
       "    }\n",
       "</style>\n",
       "<table border=\"1\" class=\"dataframe\">\n",
       "  <thead>\n",
       "    <tr style=\"text-align: right;\">\n",
       "      <th></th>\n",
       "      <th>black</th>\n",
       "      <th>brunette</th>\n",
       "      <th>red</th>\n",
       "      <th>blond</th>\n",
       "    </tr>\n",
       "  </thead>\n",
       "  <tbody>\n",
       "    <tr>\n",
       "      <th>brown</th>\n",
       "      <td>0.576421</td>\n",
       "      <td>0.395051</td>\n",
       "      <td>0.296607</td>\n",
       "      <td>0.050861</td>\n",
       "    </tr>\n",
       "    <tr>\n",
       "      <th>blue</th>\n",
       "      <td>0.112290</td>\n",
       "      <td>0.197525</td>\n",
       "      <td>0.158897</td>\n",
       "      <td>0.581264</td>\n",
       "    </tr>\n",
       "    <tr>\n",
       "      <th>hazel</th>\n",
       "      <td>0.237790</td>\n",
       "      <td>0.268900</td>\n",
       "      <td>0.336487</td>\n",
       "      <td>0.153864</td>\n",
       "    </tr>\n",
       "    <tr>\n",
       "      <th>green</th>\n",
       "      <td>0.073499</td>\n",
       "      <td>0.138524</td>\n",
       "      <td>0.208010</td>\n",
       "      <td>0.214011</td>\n",
       "    </tr>\n",
       "  </tbody>\n",
       "</table>\n",
       "</div>"
      ],
      "text/plain": [
       "          black  brunette       red     blond\n",
       "brown  0.576421  0.395051  0.296607  0.050861\n",
       "blue   0.112290  0.197525  0.158897  0.581264\n",
       "hazel  0.237790  0.268900  0.336487  0.153864\n",
       "green  0.073499  0.138524  0.208010  0.214011"
      ]
     },
     "execution_count": 10,
     "metadata": {},
     "output_type": "execute_result"
    }
   ],
   "source": [
    "prob_E_given_H_new = prob_E_and_H.copy()\n",
    "\n",
    "for hair in hair_colors:\n",
    "    for eye in eye_colors:\n",
    "        prob_E_given_H_new.loc[eye, hair] = prob_H_given_E.loc[eye, hair] * prob_E_pop[eye] / prob_H_new[hair]\n",
    "\n",
    "prob_E_given_H_new"
   ]
  },
  {
   "cell_type": "markdown",
   "metadata": {},
   "source": [
    "So by changing our prior, we can see thet we get a new posterior distribution $P(E|H)$. Notice for example that the probability of being blond given that you have blue eyes has dropped in the new calculation. This is because we assume we have overall fewer blue-eyed people in the population than what was suggested by the data."
   ]
  },
  {
   "cell_type": "markdown",
   "metadata": {},
   "source": [
    "### End of exercise"
   ]
  },
  {
   "cell_type": "markdown",
   "metadata": {},
   "source": [
    "## Bayesian vs frequentist paradigms\n",
    "\n",
    "So why is Bayes's theorem so fundamental as to cause rift in the field in of statistics? To understand that, let's revisit the formula, but replace $A$ with $H$ and $B$ with $D$: \n",
    "\n",
    "$$P(H|D) = \\frac{P(D|H)P(H)}{P(D)}$$\n",
    "\n",
    "where $H$ stands for hypothesis and $D$ stands for data (think of it as evidence for or against the hypothesis). Note that in the frequentist paradigm, we only look at $P(D|H)$, that is we form a specific hypothesis, then ask how likely it is to just chance upon $D$ given $H$. In fact, statisticians refer to $P(D|H)$ as the **likelihood**. If for example $H = H_0$ and the likelihood $P(D|H_0)$ is very low (less than $\\alpha$), we reject $H_0$, otherwise we fail to reject $H_0$. In the Bayesian paradigm we acknowledge that ultimately we should be looking at $P(H|D)$ and not $P(D|H)$. Once we have $P(H|D)$, we can easily test any hypothesis, not just $H_0$. So in Bayesian inference, we don't emphasize null and alternative hypotheses, and we don't rely on P-values and their less than ideal interpretation. Instead, we obtain the **posterior distribution** $P(H|D)$ from the likelihood $P(D|H)$ and the **prior distribution** $P(H)$ (which is usually no more than an educated guess). Recall that we said in an earlier lecture that the P-value is often *wrongly* interpreted as the probability that the hypothesis is true. The reason this interpretation was wrong is because what we are describing is not the P-value, but the posterior distribution!\n",
    "\n",
    "So to summarize, we have\n",
    "\n",
    "$$\\text{posterior distribution (given data)} \\propto \\text{likelihood} \\times \\text{prior distribution (no data)}$$\n",
    "\n",
    "The prior and posterior are distributions over the parameters of a population, such as $\\mu$, $\\sigma$ or the coefficients $\\beta_i$ in a linear regression model described by $Y = \\beta_0 + \\beta_1 X_1 + \\beta_2 X_2$.\n",
    "\n",
    "With greater computational power and general acceptance, Bayes methods are now widely used in areas ranging from medical research to natural language understanding to web search. Among pragmatists, the common belief today is that some problems are better handled by frequentist methods and some with Bayesian methods.\n",
    "\n",
    "A very good explanation of Bayes' theorem can be found [here](https://www.youtube.com/watch?v=HZGCoVF3YvM&vl=en)."
   ]
  },
  {
   "cell_type": "markdown",
   "metadata": {},
   "source": [
    "### The billiards game\n",
    "\n",
    "Let's now look at a classical example to illustrate the difference between Bayesian and frequentist approaches: Say you roll a ball on a billiard table and mark its position on the table length-wise (across only one dimension). Then you start rolling other balls, and if the other balls land on the left side of the table your friend Alice gets a point, otherwise your friend Bob gets a point. Here's an illustration:\n",
    "\n",
    "![Alice and Bob](./images/bayesian-billiards.jpg)\n",
    "\n",
    "So here's the situation:\n",
    "\n",
    "- Alice and Bob don't know where the first ball landed, so the only information they have is the current score. \n",
    "- The goal of the game is to be the first to reach 6 points.\n",
    "- The current tally is that Alice has 5 points and Bob has 5. We refer to this as our **data**, $D$.\n",
    "\n",
    "What is the probability of Bob winning the game? Note that for this to happen the ball needs to land on Bob's side the next three rounds. We are going to solve this both analytically and numerically using simulations. Let $B$ be the event that Bob wins. Let $D$ be the data, which is the current tally of scores. We want to know $P(B|D)$.\n",
    "\n",
    "First let's see how a **frequentist** would solve this problem:\n",
    "\n",
    "- Based on the data, the most likely value for $p$ is $3/8$, i.e. the average of the data so far: $\\hat p = 3/8$.\n",
    "- We can write $P(B|D)$ as $P(B|D, p = 3/8)$. Since $p$ is assumed to be fixed, there's no harm in conditioning on $p$.\n",
    "- Since Bob needs to win the next three rounds, then he has a probability of $\\hat p^3 = (3/8)^3 \\approx 0.05$.\n",
    "\n",
    "Now here's the **Bayesian** approach to solving this probelm.\n",
    "\n",
    "- We should treat $p$ as a random variable and assume that it follows a uniform distribution between 0 and 1.\n",
    "- We can rewrite $P(B|D)$ as such\n",
    "$$P(B|D) = \\frac{P(B|D)P(D)}{P(D)} = \\frac{\\int_0^1P(B|D,p)P(D|p)P(p)dp}{\\int_0^1P(D|p)P(p)dp}$$\n",
    "where the right-hand side basically says that since we don't know the value of $p$, we will average out over all possible values of $p$, which are all numbers between 0 and 1.\n",
    "- We can now plug in the numbers and solve it:\n",
    "$$P(B|D) = \\frac{\\int_0^1p^3(1-p)^5p^3dp}{\\int_0^1(1-p)^5p^3dp} = \\frac{\\int_0^1(1-p)^5p^6dp}{\\int_0^1(1-p)^5p^3dp} \\approx 0.09$$\n",
    "\n",
    "Notice that since the above integration only involved polynomial terms, we can solve it analytically without difficulty, but what if the integration is hard? One way to do it is to solve the integration numerically like this:\n",
    "\n",
    "$$P(B|D) \\approx \\frac{\\sum_{i = 1}^{n} p^3(1-p)^5p^3\\Delta p}{\\sum_{i = 1}^{n} (1-p)^5p^3\\Delta p}$$\n",
    "\n",
    "which is implemented here:"
   ]
  },
  {
   "cell_type": "code",
   "execution_count": 11,
   "metadata": {},
   "outputs": [
    {
     "data": {
      "text/plain": [
       "0.0909090909090909"
      ]
     },
     "execution_count": 11,
     "metadata": {},
     "output_type": "execute_result"
    }
   ],
   "source": [
    "delta_p = 0.00001\n",
    "n = int(1/delta_p)\n",
    "p_range = np.linspace(0, 1, num = n)\n",
    "\n",
    "numerator = np.sum([p**3 * (1-p)**5 * p**3 * delta_p for p in p_range])\n",
    "denominator = np.sum([(1-p)**5 * p**3 * delta_p for p in p_range])\n",
    "numerator / denominator"
   ]
  },
  {
   "cell_type": "markdown",
   "metadata": {},
   "source": [
    "An even better way to do it is by drawing random numbers $p$ from the uniform distribution, then feeding the results to the equation:"
   ]
  },
  {
   "cell_type": "code",
   "execution_count": 12,
   "metadata": {},
   "outputs": [
    {
     "data": {
      "text/plain": [
       "0.09085448421651564"
      ]
     },
     "execution_count": 12,
     "metadata": {},
     "output_type": "execute_result"
    }
   ],
   "source": [
    "p = np.random.uniform(size = n)\n",
    "prob_p = np.ones(n) / n\n",
    "prob_D_given_p = p**3 * (1-p)**5\n",
    "prob_B_given_Dp = p**3\n",
    "numerator = np.sum(prob_B_given_Dp * prob_D_given_p * prob_p)\n",
    "denominator = np.sum(prob_D_given_p * prob_p)\n",
    "numerator / denominator"
   ]
  },
  {
   "cell_type": "markdown",
   "metadata": {},
   "source": [
    "Either way we can see that the results are close, however the second method is more powerful because it makes fewer assumption about the function. In practice, Bayesian inference relies heavily on numerical methods, albeit more sophisticated ones than the one shown above.\n",
    "\n",
    "The frequentist approach gave Bob a probability of 5% to win and the Bayesian approach gave him a probability of 9%. So who's right? We can use Monte Carlo simulations to create such a scenario and let it play out over and over again."
   ]
  },
  {
   "cell_type": "code",
   "execution_count": 14,
   "metadata": {},
   "outputs": [
    {
     "name": "stdout",
     "output_type": "stream",
     "text": [
      "0.08978075738358399\n"
     ]
    }
   ],
   "source": [
    "hard_wins, wins_B = 0, 0\n",
    "n_iters = 100000\n",
    "\n",
    "for _ in range(n_iters): # number of simulations\n",
    "    p = np.random.uniform(size = 1)\n",
    "    points_A, points_B = 0, 0\n",
    "    is_hard_win = False\n",
    "    while points_A < 6 and points_B < 6:\n",
    "        if points_A == 5 and points_B == 3:\n",
    "            is_hard_win = True\n",
    "            hard_wins += 1\n",
    "        r = np.random.uniform(size = 1)\n",
    "        if r < p:\n",
    "            points_B += 1\n",
    "        else:\n",
    "            points_A += 1\n",
    "    if is_hard_win and points_B == 6:\n",
    "        wins_B += 1\n",
    "\n",
    "print(wins_B / hard_wins)"
   ]
  },
  {
   "cell_type": "code",
   "execution_count": 15,
   "metadata": {},
   "outputs": [
    {
     "ename": "NameError",
     "evalue": "name 'wins_b_ratio' is not defined",
     "output_type": "error",
     "traceback": [
      "\u001b[0;31m---------------------------------------------------------------------------\u001b[0m",
      "\u001b[0;31mNameError\u001b[0m                                 Traceback (most recent call last)",
      "\u001b[0;32m<ipython-input-15-942ea19a6497>\u001b[0m in \u001b[0;36m<module>\u001b[0;34m\u001b[0m\n\u001b[0;32m----> 1\u001b[0;31m \u001b[0msns\u001b[0m\u001b[0;34m.\u001b[0m\u001b[0mdistplot\u001b[0m\u001b[0;34m(\u001b[0m\u001b[0mwins_b_ratio\u001b[0m\u001b[0;34m)\u001b[0m\u001b[0;34m\u001b[0m\u001b[0m\n\u001b[0m",
      "\u001b[0;31mNameError\u001b[0m: name 'wins_b_ratio' is not defined"
     ]
    }
   ],
   "source": [
    "#sns.distplot(wins_b_ratio)"
   ]
  },
  {
   "cell_type": "markdown",
   "metadata": {},
   "source": [
    "It looks like at least in this case the Bayesians win!"
   ]
  },
  {
   "cell_type": "markdown",
   "metadata": {},
   "source": [
    "## Bayesian inference in practice\n",
    "\n",
    "In practice, the posterior distribution is estimated using computational methods as implemented in packages like `pymc` or `pystan`, with us only having to specify priors and provide the data. Here's a summary of a typical workflow:\n",
    "\n",
    "1. Identify data relevant to the research question.\n",
    "1. Define a descriptive model for the data. For example, pick a linear model formula.\n",
    "1. Specify a prior distribution of the parameters.\n",
    "1. Let the package run through the computation to estimate the posterior distribution.\n",
    "1. Update the posterior distribution if more data is observed. This is key! The posterior of a Bayesian model naturally updates as more data is added, a form of **online learning**. With frequentist methods, as new data comes in we often have to **retrain** the model (but not always).\n",
    "1. If needed, we can than simulate data values from realizations of the posterior distribution of the parameters.\n",
    "\n",
    "Of the steps outlined above, choosing a prior distribution is the only steps that is somewhat left to chance. In general, a prior must be convincing to a skeptical audience, and if needed we can perform the analysis using different priors in order to see how sensitive the analysis is to the choice of the prior distribution. When trying to make an educated guess about priors, we can follow some approaches, such as\n",
    "\n",
    "- letting past observations determine the prior\n",
    "- using domain knowledge or theory\n",
    "- use a **non-informative prior** such as the uniform distribution (but we still need to specify the range)\n",
    " \n",
    "One analytically and computationally simple choice is a **conjugate prior**: When a likelihood is multiplied by a conjugate prior the distribution of the posterior is the same as the prior. Most named distributions have conjugates. A few commonly used examples are shown in the table below:\n",
    "\n",
    "Likelihood | Conjugate\n",
    "---|---\n",
    "Binomial|Beta\n",
    "Bernoulli|Beta\n",
    "Poisson|Gamma\n",
    "Categorical|Dirichlet\n",
    "Normal| Normal, Inverse Gamma\n",
    "\n",
    "However, there are many practical cases where a conjugate prior is not used."
   ]
  },
  {
   "cell_type": "markdown",
   "metadata": {},
   "source": [
    "## A simple example\n",
    "\n",
    "With a bit of theory in mind, let's pull things together with an example. Let's say we are interested in analyzing distracted drivers. We sample the behavior of 10 drivers at an intersection and determine if they exhibit signs of distracted driving or not. The data is binomially distributed: a driver is distracted or not. Here's what we cover in this example:\n",
    "\n",
    "- How to select a prior for the parameter $p$, the probability of distracted driving.\n",
    "- How to compute the likelihood from the data.\n",
    "- How to estimate the posterior distributions.\n",
    "- Try another prior distribution to compare results.\n",
    "- Add more data to our data set to update the posterior distribution.\n",
    "\n",
    "The likelihood of the data and the posterior distribution are binomially distributed. The binomial distribution has one parameter we need to estimate, $p$, the probability of success (if you can call distracted driving a success!). We can write this formally for $k$ successes in $n$ trials:\n",
    "\n",
    "$$ P(K = k) = \\binom{n}{k} \\cdot p^k(1-p)^{n-k}$$\n",
    "\n",
    "The code in the cell below creates a simple data set of distracted drivers and computes some simple summary statistics."
   ]
  },
  {
   "cell_type": "code",
   "execution_count": 34,
   "metadata": {},
   "outputs": [
    {
     "data": {
      "text/plain": [
       "[1, 0, 1, 0, 0, 1, 0, 0, 0, 1]"
      ]
     },
     "execution_count": 34,
     "metadata": {},
     "output_type": "execute_result"
    }
   ],
   "source": [
    "drivers = ['yes', 'no', 'yes', 'no', 'no', 'yes', 'no', 'no', 'no', 'yes']\n",
    "distracted = [1 if x is 'yes' else 0 for x in drivers]\n",
    "distracted"
   ]
  },
  {
   "cell_type": "code",
   "execution_count": 17,
   "metadata": {},
   "outputs": [
    {
     "name": "stdout",
     "output_type": "stream",
     "text": [
      "Distracted drivers = 4 Attentive drivers = 6 \n",
      "Probability of distracted driving = 0.4\n"
     ]
    }
   ],
   "source": [
    "n = len(distracted)  # sample size\n",
    "n_distracted = sum(distracted)  # number of distracted drivers\n",
    "n_not = n - n_distracted # number not distracted\n",
    "print('Distracted drivers = %d Attentive drivers = %d \\nProbability of distracted driving = %.1f' \\\n",
    "      % (n_distracted, n_not, n_distracted / (n_distracted + n_not)))"
   ]
  },
  {
   "cell_type": "markdown",
   "metadata": {},
   "source": [
    "The following helper function will later help us visualize the results."
   ]
  },
  {
   "cell_type": "code",
   "execution_count": 18,
   "metadata": {},
   "outputs": [],
   "source": [
    "def plot_pp(x, p, l, pp):\n",
    "    sns.lineplot(x, l, color = 'lightgrey', linewidth = 10)\n",
    "    sns.lineplot(x, p, color = 'blue', linewidth = 2)\n",
    "    sns.lineplot(x, pp, color = 'red', linewidth = 2)\n",
    "    plt.xlabel('p')\n",
    "    plt.ylabel('PDF of p')\n",
    "    plt.title('Prior, likelihood and posterior distributions')\n",
    "    plt.legend(labels = ['likelihood', 'prior', 'posterior'])\n",
    "    return None"
   ]
  },
  {
   "cell_type": "markdown",
   "metadata": {},
   "source": [
    "Let's select a prior distribution $P(p)$ for our one model parameter $p$. We don't know a lot about drivers at this point, so we choose a uniform distribution ranging from 0 to 1."
   ]
  },
  {
   "cell_type": "code",
   "execution_count": 19,
   "metadata": {},
   "outputs": [],
   "source": [
    "n = 100\n",
    "# prior = np.random.uniform(size = n)\n",
    "x = np.linspace(0, 1, num = n)\n",
    "prior = np.ones(n) * 1/n"
   ]
  },
  {
   "cell_type": "markdown",
   "metadata": {},
   "source": [
    "Next, we need to compute the likelihood. We can view the observation of each driver as distracted or not as a Bernoulli trial, so the number of distracted drivers follows a binomial distribution with $n$ trials and a probability $p$ of a driver being distracted. The likelihood is the probability of the data given the parameter $p$."
   ]
  },
  {
   "cell_type": "code",
   "execution_count": 20,
   "metadata": {},
   "outputs": [],
   "source": [
    "def likelihood(p, data):\n",
    "    k = int(sum(data))\n",
    "    N = len(data)\n",
    "    # l = scipy.special.comb(N, k) * p**k * (1-p)**(N-k) # compute Binomial likelihood\n",
    "    l = scipy.stats.binom.pmf(k, N, p)\n",
    "    return l / l.sum() # normalize the likelihood to sum to unity\n",
    "\n",
    "like = likelihood(x, distracted)"
   ]
  },
  {
   "cell_type": "markdown",
   "metadata": {},
   "source": [
    "Now that we have a prior and a likelihood we are in a position to compute the posterior distribution $P(p|X)$ of the parameter $p$. The code in the cell below computes and plots the posterior, given the prior and likelihood.\n",
    "\n",
    "***\n",
    "<span style=\"color: magenta;\">**Warning!**</span>  The computational methods used in this notebook are simplified for the purpose of illustration. For real-world problems, computationally efficient code must be used!\n",
    "***"
   ]
  },
  {
   "cell_type": "code",
   "execution_count": 21,
   "metadata": {},
   "outputs": [],
   "source": [
    "def posterior(prior, like):\n",
    "    post = prior * like # compute the product of the probabilities\n",
    "    return post / post.sum() # normalize the distribution to sum to unity\n",
    "\n",
    "post = posterior(prior, like)"
   ]
  },
  {
   "cell_type": "code",
   "execution_count": 22,
   "metadata": {},
   "outputs": [
    {
     "data": {
      "image/png": "[encoded data removed]",
      "text/plain": [
       "<Figure size 432x288 with 1 Axes>"
      ]
     },
     "metadata": {
      "needs_background": "light"
     },
     "output_type": "display_data"
    }
   ],
   "source": [
    "plot_pp(x, prior, like, post)"
   ]
  },
  {
   "cell_type": "code",
   "execution_count": 23,
   "metadata": {},
   "outputs": [
    {
     "name": "stdout",
     "output_type": "stream",
     "text": [
      "Maximum likelihood = 0.404\n",
      "MAP = 0.404\n"
     ]
    }
   ],
   "source": [
    "print('Maximum likelihood = %.3f' % x[np.argmax(like)])\n",
    "print('MAP = %.3f' % x[np.argmax(post)])"
   ]
  },
  {
   "cell_type": "markdown",
   "metadata": {},
   "source": [
    "Notice that with uniform prior distribution, the posterior is just the likelihood. This is an important observation. The key point is that the frequentist probabilities are identical to the Bayesian posterior distribution given a uniform prior.  "
   ]
  },
  {
   "cell_type": "markdown",
   "metadata": {},
   "source": [
    "### Another Prior\n",
    "\n",
    "Let's try another prior distribution. We will chose the **conjugate prior** of the Binomial distribution which is the beta distribution. Formally, we can write the beta distribution:\n",
    "\n",
    "$$\\text{Beta}(p | a, b) = \\kappa x^{a-1}(1 - x)^{b-1}$$\n",
    "\n",
    "where $\\kappa$ is a normalization constant.\n",
    "\n",
    "The beta distribution is defined on the interval $0 \\le \\text{Beta}(p | a,b) \\le 1$. The beta distribution has two parameters, $a$ and $b$, which determine the shape. To get a feel for the beta distribution, execute the code in the cell below which computes 100 examples on a 10x10 grid."
   ]
  },
  {
   "cell_type": "code",
   "execution_count": 24,
   "metadata": {},
   "outputs": [
    {
     "data": {
      "image/png": "[encoded data removed]",
      "text/plain": [
       "<Figure size 864x576 with 25 Axes>"
      ]
     },
     "metadata": {
      "needs_background": "light"
     },
     "output_type": "display_data"
    }
   ],
   "source": [
    "plt.figure(figsize = (12, 8))\n",
    "\n",
    "alpha = [.5, 1, 2, 3, 4]\n",
    "beta = alpha[:]\n",
    "x = np.linspace(.001, .999, num = 100)\n",
    "\n",
    "for i, (a, b) in enumerate(itertools.product(alpha, beta)):\n",
    "    plt.subplot(len(alpha), len(beta), i+1)\n",
    "    sns.lineplot(x, scipy.stats.beta.pdf(x, a, b))\n",
    "    plt.title('(a, b) = ({}, {})'.format(a,b))\n",
    "\n",
    "plt.tight_layout()   "
   ]
  },
  {
   "cell_type": "markdown",
   "metadata": {},
   "source": [
    "You can see from the plots above, that the beta distribution can take on quite a range of shapes, depending on the parameters. Generally if $a \\gt b$ the distribution skews to the rights, if $a \\lt b$ to the left, and symmetric if $ a = b$.\n",
    "\n",
    "We still do not know a lot about the behavior of drivers, so we will pick a rather vague or broad beta distribution as our prior. The code in the cell below uses a symmetric prior with $a = 2$ and $b = 2$."
   ]
  },
  {
   "cell_type": "code",
   "execution_count": 28,
   "metadata": {},
   "outputs": [
    {
     "data": {
      "image/png": "[encoded data removed]",
      "text/plain": [
       "<Figure size 432x288 with 1 Axes>"
      ]
     },
     "metadata": {
      "needs_background": "light"
     },
     "output_type": "display_data"
    }
   ],
   "source": [
    "def beta_prior(x, a, b):\n",
    "    l = scipy.stats.beta.pdf(x, a, b)  # compute likelihood\n",
    "    return l / l.sum()  # normalize and return\n",
    "\n",
    "prior = beta_prior(x,  2, 2)\n",
    "post = posterior(prior, like)\n",
    "plot_pp(x, prior, like, post)"
   ]
  },
  {
   "cell_type": "markdown",
   "metadata": {},
   "source": [
    "Notice that the mode of the posterior is close to the mode of the likelihood, but has shifted toward the mode of the prior. We call this tendency of Bayesian posteriors to be shifted toward the prior the **shrinkage property**. The tendency of the maximum likelihood point of the posterior is said to shrink toward the maximum likelihood point of the prior. \n",
    "\n",
    "We can now see that the posterior probability of distracted driving has a rather wide spread. How can we get a more definitive understanding of the probability of distracted driving?"
   ]
  },
  {
   "cell_type": "markdown",
   "metadata": {},
   "source": [
    "### Adding data to the Bayesian model\n",
    "\n",
    "Let's say that we observe some more drivers and gather some more data on distracted driving. Additional data will narrow the spread of the posterior distribution. As you might expect, adding more observations to the model, moves the posterior closer to the likelihood. \n",
    "\n",
    "In fact, as data is added to a Bayesian model, the posterior moves toward the likelihood. This property has two important implications:\n",
    "\n",
    "- The prior matters less as more data is added to a Bayesian model.\n",
    "- Adding data reduces shrinkage.\n",
    "- The inferences from Bayesian and frequentist models tend to converge as data set sizes grow and the posterior approaches the likelihood.\n",
    "\n",
    "**But, be careful!** With large scale problems with large numbers of parameters you may need enormous data sets to see the convergence in behavior. \n",
    "\n",
    "The code in the cell below adds another 10 observations to our data set. Execute this code and examine the results. How do the likelihood and posterior distributions compare with the case with only 10 data points."
   ]
  },
  {
   "cell_type": "code",
   "execution_count": 29,
   "metadata": {},
   "outputs": [
    {
     "data": {
      "image/png": "[encoded data removed]",
      "text/plain": [
       "<Figure size 432x288 with 1 Axes>"
      ]
     },
     "metadata": {
      "needs_background": "light"
     },
     "output_type": "display_data"
    }
   ],
   "source": [
    "new_drivers = ['yes','yes','yes','yes','yes','yes','yes','yes','yes','yes' ]  # new data\n",
    "new_distracted = [1 if x is 'yes' else 0 for x in new_drivers]\n",
    "\n",
    "like = likelihood(x, distracted + new_distracted)\n",
    "post = posterior(prior, like)\n",
    "plot_pp(x, prior, like, post)"
   ]
  },
  {
   "cell_type": "markdown",
   "metadata": {},
   "source": [
    "You can change the new data to be a series of `no` values or a series of `yes` values and see how the distribution changes accordingly.\n",
    "\n",
    "### Simulating new data\n",
    "\n",
    "So once we have the posterior distribution, what do we do with it? For starters, because it's a distribution, we can draw samples from it, similar to what we do with simulations. So far we've learned how to draw samples from pre-defined distributions like the normal or binomial by calling `np.random.normal(size = 10)` for example. But how do we draw samples from an undefined posterior distribution? We use `np.random.choice`, give it the values that we want to sample from, and use the posterior distribution as a **sampling weight** (see the `p` argument below)."
   ]
  },
  {
   "cell_type": "code",
   "execution_count": 30,
   "metadata": {
    "scrolled": true
   },
   "outputs": [
    {
     "data": {
      "text/plain": [
       "array([0.66633333, 0.77722222, 0.60584848, 0.72681818, 0.75706061,\n",
       "       0.81754545, 0.66633333, 0.63609091, 0.56552525, 0.67641414])"
      ]
     },
     "execution_count": 30,
     "metadata": {},
     "output_type": "execute_result"
    }
   ],
   "source": [
    "np.random.choice(x, size = 10, p = post) # draw samples from the posterior distribution"
   ]
  },
  {
   "cell_type": "markdown",
   "metadata": {},
   "source": [
    "So far, we have drawn from the posterior distribution of the probability parameter $p$. But what about the distribution of distracted drivers? To get that, we need to rely on the fact that if we have $n$ drivers and $p$ is the probability of a driver being distracted, then $np$ is the number of distracted drivers. Since we are treating $p$ not as a fixed value but a random variable, the more correct way to write it is $nP$ (using an upper-case)."
   ]
  },
  {
   "cell_type": "code",
   "execution_count": 32,
   "metadata": {},
   "outputs": [
    {
     "data": {
      "image/png": "[encoded data removed]",
      "text/plain": [
       "<Figure size 432x288 with 1 Axes>"
      ]
     },
     "metadata": {
      "needs_background": "light"
     },
     "output_type": "display_data"
    }
   ],
   "source": [
    "num_cars = 10\n",
    "num_samples = 10000\n",
    "\n",
    "counts = (num_cars * np.random.choice(x, size = num_samples, replace = True, p = post)).round()\n",
    "sns.distplot(counts, kde = False)\n",
    "plt.title('Probability vs. number of distracted drivers in next %d' % num_cars)\n",
    "plt.xlabel('Number of distracted drivers')\n",
    "plt.ylabel('Probability');"
   ]
  },
  {
   "cell_type": "markdown",
   "metadata": {},
   "source": [
    "## Credible intervals\n",
    "\n",
    "A **credible interval** is an interval on the Bayesian posterior distribution. The credible interval is sometimes called the highest density interval (HDI), or highest posterior density interval (HPI). As an example, the 90% credible interval encompasses the 90% of the posterior distribution with the highest probability density.  \n",
    "\n",
    "The credible interval is the Bayesian analog of the frequentist confidence interval. However, these two measures are conceptually different. The confidence interval is chosen on the distribution of a test statistic, whereas the credible interval is computed on the posterior distribution of the parameter. For symmetric distributions the credible interval can be numerically the same as the confidence interval. However, in the general case, these two quantities can be quite different.  \n",
    "\n",
    "The code in the cell below, plots the posterior distribution of the parameter of the binomial distribution parameter $p$.\n",
    "\n",
    "***\n",
    "<span style=\"color: magenta;\">**Warning!**</span> This code assumes a symmetric prior distribution, so will not work in the general case. \n",
    "***"
   ]
  },
  {
   "cell_type": "code",
   "execution_count": 35,
   "metadata": {},
   "outputs": [
    {
     "name": "stdout",
     "output_type": "stream",
     "text": [
      "The 0.950 credible interval is 0.025 to 0.975\n"
     ]
    },
    {
     "data": {
      "image/png": "[encoded data removed]",
      "text/plain": [
       "<Figure size 432x288 with 1 Axes>"
      ]
     },
     "metadata": {
      "needs_background": "light"
     },
     "output_type": "display_data"
    }
   ],
   "source": [
    "num_samples = 100000\n",
    "lower_q, upper_q = [.025, .975]\n",
    "\n",
    "def plot_ci(p, post, num_samples, lower_q, upper_q, **kw):\n",
    "    ## This function computes a credible interval using an assumption\n",
    "    ## of symetry in the bulk of the distribution to keep the \n",
    "    ## calculation simple. \n",
    "    ## Compute a large sample by resampling with replacement\n",
    "    samples = np.random.choice(p, size = num_samples, replace = True, p = post)\n",
    "    ci = np.percentile(samples, [lower_q*100, upper_q*100]) # compute the quantiles\n",
    "    \n",
    "    interval = upper_q - lower_q\n",
    "    plt.title('Posterior density with %.3f credible interval' % interval)\n",
    "    sns.lineplot(p, post, color = 'blue', **kw)\n",
    "    plt.xlabel('Parameter value')\n",
    "    plt.ylabel('Density')\n",
    "    plt.axvline(x = ci[0], color = 'red')\n",
    "    plt.axvline(x = ci[1], color = 'red')\n",
    "    print('The {:0.3f} credible interval is {:0.3f} to {:0.3f}'.format(interval, lower_q, upper_q))\n",
    "    \n",
    "plot_ci(x, post, num_samples, lower_q, upper_q)"
   ]
  },
  {
   "cell_type": "markdown",
   "metadata": {},
   "source": [
    "## Comparing Bayesian models\n",
    "\n",
    "How can we use Bayesian models to compare two distributions? It turns out that we can compare Bayesian models in several ways. In this lesson, we will compute and compare credible intervals of the posterior distribution of a model parameter. \n",
    "\n",
    "For this example, we will compare the posterior distribution of the heights of sons to the heights of the mothers in the Galton family dataset. As a first step, we will compute and evaluate Bayesian models for the mean heights using a subset of just 25 observations. \n",
    "\n",
    "The code in the cell below sub-samples the Galton family data and then plots histogram of the heights of sons and mothers. Execute this code and examine the results."
   ]
  },
  {
   "cell_type": "code",
   "execution_count": 36,
   "metadata": {},
   "outputs": [
    {
     "data": {
      "text/html": [
       "<div>\n",
       "<style scoped>\n",
       "    .dataframe tbody tr th:only-of-type {\n",
       "        vertical-align: middle;\n",
       "    }\n",
       "\n",
       "    .dataframe tbody tr th {\n",
       "        vertical-align: top;\n",
       "    }\n",
       "\n",
       "    .dataframe thead th {\n",
       "        text-align: right;\n",
       "    }\n",
       "</style>\n",
       "<table border=\"1\" class=\"dataframe\">\n",
       "  <thead>\n",
       "    <tr style=\"text-align: right;\">\n",
       "      <th></th>\n",
       "      <th>father</th>\n",
       "      <th>mother</th>\n",
       "      <th>midparentHeight</th>\n",
       "      <th>children</th>\n",
       "      <th>childNum</th>\n",
       "      <th>gender</th>\n",
       "      <th>childHeight</th>\n",
       "    </tr>\n",
       "    <tr>\n",
       "      <th>family</th>\n",
       "      <th></th>\n",
       "      <th></th>\n",
       "      <th></th>\n",
       "      <th></th>\n",
       "      <th></th>\n",
       "      <th></th>\n",
       "      <th></th>\n",
       "    </tr>\n",
       "  </thead>\n",
       "  <tbody>\n",
       "    <tr>\n",
       "      <th>001</th>\n",
       "      <td>78.5</td>\n",
       "      <td>67.0</td>\n",
       "      <td>75.43</td>\n",
       "      <td>4</td>\n",
       "      <td>1</td>\n",
       "      <td>male</td>\n",
       "      <td>73.2</td>\n",
       "    </tr>\n",
       "    <tr>\n",
       "      <th>001</th>\n",
       "      <td>78.5</td>\n",
       "      <td>67.0</td>\n",
       "      <td>75.43</td>\n",
       "      <td>4</td>\n",
       "      <td>2</td>\n",
       "      <td>female</td>\n",
       "      <td>69.2</td>\n",
       "    </tr>\n",
       "    <tr>\n",
       "      <th>001</th>\n",
       "      <td>78.5</td>\n",
       "      <td>67.0</td>\n",
       "      <td>75.43</td>\n",
       "      <td>4</td>\n",
       "      <td>3</td>\n",
       "      <td>female</td>\n",
       "      <td>69.0</td>\n",
       "    </tr>\n",
       "    <tr>\n",
       "      <th>001</th>\n",
       "      <td>78.5</td>\n",
       "      <td>67.0</td>\n",
       "      <td>75.43</td>\n",
       "      <td>4</td>\n",
       "      <td>4</td>\n",
       "      <td>female</td>\n",
       "      <td>69.0</td>\n",
       "    </tr>\n",
       "    <tr>\n",
       "      <th>002</th>\n",
       "      <td>75.5</td>\n",
       "      <td>66.5</td>\n",
       "      <td>73.66</td>\n",
       "      <td>4</td>\n",
       "      <td>1</td>\n",
       "      <td>male</td>\n",
       "      <td>73.5</td>\n",
       "    </tr>\n",
       "  </tbody>\n",
       "</table>\n",
       "</div>"
      ],
      "text/plain": [
       "        father  mother  midparentHeight  children  childNum  gender  \\\n",
       "family                                                                \n",
       "001       78.5    67.0            75.43         4         1    male   \n",
       "001       78.5    67.0            75.43         4         2  female   \n",
       "001       78.5    67.0            75.43         4         3  female   \n",
       "001       78.5    67.0            75.43         4         4  female   \n",
       "002       75.5    66.5            73.66         4         1    male   \n",
       "\n",
       "        childHeight  \n",
       "family               \n",
       "001            73.2  \n",
       "001            69.2  \n",
       "001            69.0  \n",
       "001            69.0  \n",
       "002            73.5  "
      ]
     },
     "execution_count": 36,
     "metadata": {},
     "output_type": "execute_result"
    }
   ],
   "source": [
    "file_name = 'https://library.startlearninglabs.uw.edu/DATASCI410/Datasets/GaltonFamilies.csv'\n",
    "families = pd.read_csv(file_name, index_col = 0)\n",
    "families.head()"
   ]
  },
  {
   "cell_type": "code",
   "execution_count": 52,
   "metadata": {},
   "outputs": [
    {
     "name": "stdout",
     "output_type": "stream",
     "text": [
      "Mean of heights: 67.4\n"
     ]
    },
    {
     "data": {
      "image/png": "[encoded data removed]",
      "text/plain": [
       "<Figure size 432x288 with 1 Axes>"
      ]
     },
     "metadata": {
      "needs_background": "light"
     },
     "output_type": "display_data"
    }
   ],
   "source": [
    "num_samples = 25\n",
    "male = families[families.gender == 'male'].sample(n = num_samples)\n",
    "\n",
    "plt.title('histograms of heights of people')\n",
    "sns.distplot(male['childHeight'], label = 'sons', bins = 10)\n",
    "sns.distplot(male['mother'], label = 'mothers', bins = 10)\n",
    "plt.xlabel('height')\n",
    "plt.legend()\n",
    "\n",
    "mean_height = np.concatenate([male.mother, male.father, male.childHeight,]).mean()\n",
    "print('Mean of heights: %.1f' % mean_height)"
   ]
  },
  {
   "cell_type": "markdown",
   "metadata": {},
   "source": [
    "To perform this analysis, we need to select a prior distribution and compute the likelihood. First, we will address the likelihood. \n",
    "\n",
    "For these data, we will use a Normal likelihood. For any individual sample $X$ if it follows the normal distribution then it's density function is given by\n",
    "\n",
    "$$X \\sim N(\\mu, \\sigma) \\Rightarrow P(X | \\mu, \\sigma) = \\frac{1}{\\sqrt{2 \\pi \\sigma^2}} \\exp \\Bigg[ -\\frac{1}{2}\\big(\\frac{X - \\mu}{\\sigma}\\big)^2\\Bigg]$$\n",
    "\n",
    "For a sample ${X_1, X_2, \\cdots, X_n}$ of $n$ independent normally distributed observations has the following likelihood:\n",
    "\n",
    "$$P(X_1, X_2, \\cdots, X_n | \\mu, \\sigma) = \\prod_{i = 1}^n P(X_i | \\mu, \\sigma) = \\prod_{i=1}^n \\frac{1}{\\sqrt{2 \\pi \\sigma^2}} \\exp \\Bigg[ -\\frac{1}{2}\\big(\\frac{X_i - \\mu}{\\sigma}\\big)^2\\Bigg]$$\n",
    "\n",
    "First we can simplify things by ignoring the terms outside the exponential, since they don't depends on the sample, and replacing $=$ (is equal to) with $\\propto$ (is proportional to):\n",
    "\n",
    "$$P(X_1, X_2, \\cdots, X_n | \\mu, \\sigma) \\propto \\prod_{i = 1}^n \\exp \\Bigg[ -\\frac{1}{2}\\big(\\frac{X_i - \\mu}{\\sigma}\\big)^2\\Bigg]$$\n",
    "\n",
    "Moreover, we can rely on the property $e^a e^b = e^{a + b}$ to rewrite the left-hand side as\n",
    "\n",
    "$$P(X_1, X_2, \\cdots, X_n | \\mu, \\sigma) \\propto \\exp \\Bigg[ -\\frac{1}{2} \\sum_{i = 1}^n \\big(\\frac{X_i - \\mu}{\\sigma}\\big)^2\\Bigg]$$\n",
    "\n",
    "Letting $\\bar X = \\sum_{i=1}^n X_i$ we can rewrite $X_i - \\mu$ as $X_i - \\bar X + \\bar X - \\mu$:\n",
    "\n",
    "\n",
    "\n",
    "$$P(X_1, X_2, \\cdots, X_n | \\mu, \\sigma) \\propto \\exp \\Bigg[ -\\frac{1}{2 \\sigma^2}  \\Bigg( \\sum_{i = 1}^n (X_i - \\bar{X})^2 + n(\\bar{X} - \\mu)^2 \\Bigg) \\Bigg]$$\n",
    "\n",
    "To simplify the computations here, we will only estimate the posterior distribution of $\\mu$. We will use a fixed empirical estimate of the standard deviation. A more complete analysis will also estimate the posterior distribution of $\\sigma$."
   ]
  },
  {
   "cell_type": "code",
   "execution_count": 57,
   "metadata": {},
   "outputs": [
    {
     "name": "stdout",
     "output_type": "stream",
     "text": [
      "Mean = 69.224, Standard deviation = 2.756\n"
     ]
    },
    {
     "data": {
      "image/png": "[encoded data removed]",
      "text/plain": [
       "<Figure size 432x288 with 1 Axes>"
      ]
     },
     "metadata": {
      "needs_background": "light"
     },
     "output_type": "display_data"
    }
   ],
   "source": [
    "N = 1000\n",
    "x = np.linspace(60, 80, num = N)\n",
    "prior_son = scipy.stats.norm.pdf(x, loc = male['childHeight'].mean(), scale = 1)\n",
    "prior_son = prior_son / prior_son.sum() # normalize\n",
    "\n",
    "def likelihood(p, x): \n",
    "    x_var = np.var(x) # sigmasqr\n",
    "    x_mean = np.mean(x)  # xbar\n",
    "    print('Mean = %.3f, Standard deviation = %.3f' % (x_mean, x_var**0.5))\n",
    "    n = len(x)\n",
    "    l = np.exp((-1/(2*x_var)) * (sum((x - x_mean)**2) + n*(x_mean - p)**2))\n",
    "    return l / l.sum()\n",
    "\n",
    "likelihood_son = likelihood(x, male['childHeight'])\n",
    "posterior_son = posterior(prior_son, likelihood_son)\n",
    "\n",
    "sns.lineplot(x, prior_son, label = 'prior')\n",
    "sns.lineplot(x, likelihood_son, label = 'likelihood', alpha = .3, linewidth = 10)\n",
    "sns.lineplot(x, posterior_son, label = 'posterior')\n",
    "plt.legend();"
   ]
  },
  {
   "cell_type": "markdown",
   "metadata": {},
   "source": [
    "The code in the cell below computes the posterior distribution of the heights of the mothers. Run this code and examine the results. How do these results differ from the results for the heights of the sons?"
   ]
  },
  {
   "cell_type": "code",
   "execution_count": 59,
   "metadata": {},
   "outputs": [
    {
     "name": "stdout",
     "output_type": "stream",
     "text": [
      "Mean = 64.240, Standard deviation = 2.793\n"
     ]
    },
    {
     "data": {
      "image/png": "[encoded data removed]",
      "text/plain": [
       "<Figure size 432x288 with 1 Axes>"
      ]
     },
     "metadata": {
      "needs_background": "light"
     },
     "output_type": "display_data"
    }
   ],
   "source": [
    "prior_mom = scipy.stats.norm.pdf(x, loc = male['mother'].mean(), scale = 1)\n",
    "prior_mom = prior_mom / prior_mom.sum() # normalize\n",
    "\n",
    "likelihood_mom = likelihood(x, male['mother'])\n",
    "posterior_mom = posterior(prior_mom, likelihood_mom)\n",
    "\n",
    "sns.lineplot(x, prior_mom, label = 'prior')\n",
    "sns.lineplot(x, likelihood_mom, label = 'likelihood', alpha = .3, linewidth = 10)\n",
    "sns.lineplot(x, posterior_mom, label = 'posterior')\n",
    "plt.legend();"
   ]
  },
  {
   "cell_type": "markdown",
   "metadata": {},
   "source": [
    "To compare the posterior distributions of the mean heights of the sons to the distribution of the mean heights of the mothers, we compute and compare the confidence intervals. \n",
    "\n",
    "We can see how much overlap there is between the sons and mothers by comparing their credible intervals. "
   ]
  },
  {
   "cell_type": "code",
   "execution_count": 60,
   "metadata": {},
   "outputs": [
    {
     "name": "stdout",
     "output_type": "stream",
     "text": [
      "The 0.950 credible interval is 0.025 to 0.975\n",
      "The 0.950 credible interval is 0.025 to 0.975\n"
     ]
    },
    {
     "data": {
      "image/png": "[encoded data removed]",
      "text/plain": [
       "<Figure size 432x288 with 1 Axes>"
      ]
     },
     "metadata": {
      "needs_background": "light"
     },
     "output_type": "display_data"
    }
   ],
   "source": [
    "num_samples = 100000\n",
    "\n",
    "plot_ci(x, posterior_son, num_samples, lower_q = .025, upper_q = .975)\n",
    "plot_ci(x, posterior_mom, num_samples, lower_q = .025, upper_q = .975);"
   ]
  },
  {
   "cell_type": "markdown",
   "metadata": {},
   "source": [
    "Since the CIs don't even overlap, it can follow that the sons were significantly taller than their mothers."
   ]
  },
  {
   "cell_type": "markdown",
   "metadata": {},
   "source": [
    "### Simulation from the posterior distribution\n",
    "\n",
    "Once we have a posterior distribution for parameters we can simulate from this distribution. The simulation consists of taking a number of random draws from the posterior parameter distribution and computing the posterior distribution of the data values. \n",
    "\n",
    "There are a number of reasons why you might want to simulate from the posterior distribution of data values.\n",
    "\n",
    "- Test the model against the data.\n",
    "- Compute forecasts of the dependent (label) variable from the model.\n",
    "\n",
    "The code in the cell below computes the posterior distribution of the heights of sons. This is done by computing the distribution of height based on realizations of the parameter (the mean) from the posterior distribution. The density distribution of the simulated heights is plotted along with the histogram of the original data. Execute this code and examine the results."
   ]
  },
  {
   "cell_type": "code",
   "execution_count": 61,
   "metadata": {},
   "outputs": [
    {
     "data": {
      "image/png": "[encoded data removed]",
      "text/plain": [
       "<Figure size 432x288 with 1 Axes>"
      ]
     },
     "metadata": {
      "needs_background": "light"
     },
     "output_type": "display_data"
    }
   ],
   "source": [
    "def sim_height(n, sigma, p, post):\n",
    "    # create the probability-weighted random sample of values of the mean height\n",
    "    mu = np.random.choice(p, size = n, replace = True, p = post)\n",
    "    return scipy.stats.norm.rvs(loc = mu, scale = sigma, size = n)\n",
    "\n",
    "sns.distplot(sim_height(10000, sigma = 1, p = x, post = posterior_son));"
   ]
  },
  {
   "cell_type": "markdown",
   "metadata": {},
   "source": [
    "## Summary\n",
    "\n",
    "You should now be familiar with \n",
    "\n",
    "- what Bayes' theorem is and why it's so useful\n",
    "- how Bayesian inference uses Bayes' theorem and what sets it apart from frequentist inference\n",
    "- how computational methods can help us approximate posterior distributions when analytic solutions may be hard to come by\n",
    "\n",
    "If this lesson was useful, we encourage you to read more about Bayesian inference through topics like importance sampling, Markov Chain Monte Carlo simulations and Bayesian modeling."
   ]
  }
 ],
 "metadata": {
  "anaconda-cloud": {},
  "kernelspec": {
   "display_name": "Python 3",
   "language": "python",
   "name": "python3"
  },
  "language_info": {
   "codemirror_mode": {
    "name": "ipython",
    "version": 3
   },
   "file_extension": ".py",
   "mimetype": "text/x-python",
   "name": "python",
   "nbconvert_exporter": "python",
   "pygments_lexer": "ipython3",
   "version": "3.7.0"
  },
  "toc": {
   "base_numbering": 1,
   "nav_menu": {},
   "number_sections": true,
   "sideBar": true,
   "skip_h1_title": false,
   "title_cell": "Table of Contents",
   "title_sidebar": "Contents",
   "toc_cell": false,
   "toc_position": {
    "height": "calc(100% - 180px)",
    "left": "10px",
    "top": "150px",
    "width": "342.367px"
   },
   "toc_section_display": true,
   "toc_window_display": true
  }
 },
 "nbformat": 4,
 "nbformat_minor": 4
}
