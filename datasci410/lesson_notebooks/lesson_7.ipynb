{
 "cells": [
  {
   "cell_type": "markdown",
   "metadata": {},
   "source": [
    "# Linear regression, part 2\n",
    "\n",
    "In this notebook we expand on the ideas of linear regression as we try to resolve problems we encounter when we try to fit a regression model. More specifically, we talk about how to include categorical data in our model, how to deal with high multi-collinearity between features, and finally what to do if the response variable is binary. Although these topics are not necessarily related to each other, they are all good examples of how we can extend the ideas behind linear regression to address its shortcomings."
   ]
  },
  {
   "cell_type": "code",
   "execution_count": 2,
   "metadata": {},
   "outputs": [],
   "source": [
    "import numpy as np\n",
    "import pandas as pd\n",
    "import seaborn as sns\n",
    "import matplotlib\n",
    "matplotlib.rcParams['figure.figsize'] = [10, 7]\n",
    "import scipy.stats as stats\n",
    "import matplotlib.pyplot as plt\n",
    "import statsmodels.api as statsmodels\n",
    "import statsmodels.formula.api as sm\n",
    "import patsy as p\n",
    "\n",
    "from sklearn.linear_model import LinearRegression\n",
    "from sklearn.metrics import mean_squared_error, r2_score\n",
    "from sklearn.decomposition import PCA\n",
    "from sklearn.preprocessing import StandardScaler"
   ]
  },
  {
   "cell_type": "markdown",
   "metadata": {},
   "source": [
    "## Encoding categorical features\n",
    "\n",
    "It's time to talk about what to do with categorical features. Recall that after expressing the math of linear regression using linear algebra, $\\pmb{X}$ ends up being a matrix with a column of 1s as its first column to account for the intercept. So we need to encode our categorical features as numeric columns that we can include in $\\pmb{X}$. It turns out that we have more than one option, although most of the time we get go with the default option. Let's read in our data and learn by example:"
   ]
  },
  {
   "cell_type": "code",
   "execution_count": null,
   "metadata": {},
   "outputs": [],
   "source": [
    "hsb2 = pd.read_csv('data/hsb2-2.csv')\n",
    "hsb2.head()"
   ]
  },
  {
   "cell_type": "markdown",
   "metadata": {},
   "source": [
    "### Exercise\n",
    "\n",
    "Notice that we have a few categorical features we can use in the data, however in this case the categorical features are already encoded as numbers. For example `schtype == 1` means \"public\" and `schtype == 0` means \"private\". So what's stopping us from using these as is?\n",
    "\n",
    "- Using `sm.ols` train a model to predict writing score using reading score and socio-economic status (column named `ses`). Then examine the results by calling the fitted model's `summary2()` method."
   ]
  },
  {
   "cell_type": "code",
   "execution_count": null,
   "metadata": {},
   "outputs": [],
   "source": [
    "ols_model = sm.ols(formula = 'write ~ read + ses', data = hsb2)\n",
    "ols_model = ols_model.fit()\n",
    "ols_model.summary2()"
   ]
  },
  {
   "cell_type": "markdown",
   "metadata": {},
   "source": [
    "- Is the coefficient for `ses` significant? Write your best interpretation of it based on what we learned so far. Do you see any problems with the interpretation?\n",
    "\n",
    "To encode a variable as categorical we wrap its name with a `C` function in the formula, e.g. `y ~ x + C(v)` if `v` is categorical. \n",
    "\n",
    "- Fit a new model this time encoding `ses` as categorical. What changes in the results table? Write the prediction equation."
   ]
  },
  {
   "cell_type": "code",
   "execution_count": null,
   "metadata": {},
   "outputs": [],
   "source": [
    "ols_model = sm.ols(formula = 'write ~ read + C(ses)', data = hsb2)\n",
    "ols_model = ols_model.fit()\n",
    "ols_model.summary2()"
   ]
  },
  {
   "cell_type": "markdown",
   "metadata": {},
   "source": [
    "When we encode a variable as categorical, by default it creates a separate coefficient for all its categories except the first one. The first category becomes what we call **the baseline**, and the coefficients for each of the other categories capture the average \"effect\" of moving from the baseline to that category. So in the results above we can see that the coefficient for `C(ses)[T.2]` is -0.4746. This means that on average students with `ses == 2` have a score of 0.4746 less than the `ses == 1` (baseline) students. For an **orginal** categorical column like `ses`, both ways of fitting the model are valid, although the first way is more constrained. For **nominal** categorical columns like `race` or `gender`, only the second way is valid.\n",
    "\n",
    "So let's recode the `ses` column using proper names: low, middle and high:"
   ]
  },
  {
   "cell_type": "code",
   "execution_count": null,
   "metadata": {},
   "outputs": [],
   "source": [
    "hsb2['ses'] = hsb2['ses'].replace({1: 'low', 2: 'middle', 3: 'high'})\n",
    "hsb2['ses'].value_counts(sort = False)"
   ]
  },
  {
   "cell_type": "markdown",
   "metadata": {},
   "source": [
    "Notice that now the first category is `high`, whereas before it was `1` (which corresponds to `low`). This is because when we alphabetically sort the catogories by their new names, `high` appears first, whereas before `1` appeared first.\n",
    "\n",
    "- Refit the same model now that `ses` has been recoded. What differences do you see?"
   ]
  },
  {
   "cell_type": "code",
   "execution_count": null,
   "metadata": {},
   "outputs": [],
   "source": [
    "ols_model = sm.ols(formula = 'write ~ read + C(ses)', data = hsb2)\n",
    "ols_model = ols_model.fit()\n",
    "ols_model.summary2()"
   ]
  },
  {
   "cell_type": "markdown",
   "metadata": {},
   "source": [
    "Foretunately, there's an easy way to choose which category to use as the **baseline**.\n",
    "\n",
    "- Refit the same model, but use this as `formula = \"write ~ read + C(ses, Treatment(reference = 'low'))\"`. Do the results make sense?"
   ]
  },
  {
   "cell_type": "code",
   "execution_count": null,
   "metadata": {},
   "outputs": [],
   "source": [
    "ols_model = sm.ols(formula = \"write ~ read + C(ses, Treatment(reference = 'low'))\", data = hsb2)\n",
    "ols_model = ols_model.fit()\n",
    "ols_model.summary2()"
   ]
  },
  {
   "cell_type": "markdown",
   "metadata": {},
   "source": [
    "The type of coding shown above is called **dummy coding** (because it's what we get if we encode each category except the baseline using **dummy variables**). This is the most common type of encoding and the default one used by most statistical packages for regression models (linear regression, ANOVA, logistic regression, etc.). In machine learning, **dummy coding** is more commonly known as **one-hot encoding**, however in the latter case we usually do not drop any of the columns. Not dropping the baseline column can cause issues with convergence of the regression model, but this is only caused if there's no regularization, so in practice one-hot encoding the feature is fine."
   ]
  },
  {
   "cell_type": "code",
   "execution_count": null,
   "metadata": {},
   "outputs": [],
   "source": [
    "data = hsb2.loc[~hsb2.duplicated(subset = 'ses'), :].sort_values(['ses'])\n",
    "p.dmatrix(\"C(ses, Treatment('low'))\", data, return_type = \"dataframe\")"
   ]
  },
  {
   "cell_type": "markdown",
   "metadata": {},
   "source": [
    "There are other coding schemes that we can use (more on this topic [here](https://patsy.readthedocs.io/en/latest/API-reference.html#patsy.Treatment). Here's another one called deviation coding for example:"
   ]
  },
  {
   "cell_type": "code",
   "execution_count": null,
   "metadata": {},
   "outputs": [],
   "source": [
    "p.dmatrix(\"C(ses, Sum)\", data, return_type = \"dataframe\")"
   ]
  },
  {
   "cell_type": "markdown",
   "metadata": {},
   "source": [
    "- Rerun the same model, but this time use deviation coding instead of dummy coding. What changes in the model summary? "
   ]
  },
  {
   "cell_type": "code",
   "execution_count": null,
   "metadata": {},
   "outputs": [],
   "source": [
    "ols_model = sm.ols(formula = \"write ~ read + C(ses, Sum)\", data = hsb2)\n",
    "ols_model = ols_model.fit()\n",
    "ols_model.summary2()"
   ]
  },
  {
   "cell_type": "markdown",
   "metadata": {},
   "source": [
    "- Create a scatter plot of reading score (x-axis) vs writing score (y-axis). Then add a line plot of the prediction line for writing score (you will need to use your model to get predictions and add them as a new column to the data). Color-code the line plot by `hue = 'ses'` se we get a separate line plot for each value of `ses`."
   ]
  },
  {
   "cell_type": "code",
   "execution_count": null,
   "metadata": {},
   "outputs": [],
   "source": [
    "hsb2['write_pred'] = ols_model.predict(hsb2)"
   ]
  },
  {
   "cell_type": "code",
   "execution_count": null,
   "metadata": {},
   "outputs": [],
   "source": [
    "sns.scatterplot(x = 'read', y = 'write', data = hsb2)\n",
    "sns.lineplot(x = 'read', y = 'write_pred', hue = 'ses', data = hsb2);"
   ]
  },
  {
   "cell_type": "markdown",
   "metadata": {},
   "source": [
    "- Fit a new model now that also includes the interaction between `read` and `C(ses)`. Examine the model summary and report what changed. Then recreate the scatter plot with the prediction lines above. What looks different now? Can you interpret each of the coefficients based on the line plots?"
   ]
  },
  {
   "cell_type": "code",
   "execution_count": null,
   "metadata": {},
   "outputs": [],
   "source": [
    "ols_model = sm.ols(formula = \"write ~ read * C(ses, Sum) + read:C(ses)\", data = hsb2)\n",
    "ols_model = ols_model.fit()\n",
    "hsb2['write_pred_w_interactions'] = ols_model.predict(hsb2)\n",
    "ols_model.summary2()\n",
    "\n",
    "sns.scatterplot(x = 'read', y = 'write', data = hsb2)\n",
    "sns.lineplot(x = 'read', y = 'write_pred_w_interactions', hue = 'ses', data = hsb2);"
   ]
  },
  {
   "cell_type": "markdown",
   "metadata": {},
   "source": [
    "And voila! This was a long exercise but the goal was to slowly build our way up. There are other things we can test. For example, how does changing the encoding change the prediction? The answer is that it doesn't. Changing the encoding changes the coefficients and their interpretation, but those new coefficients still return the same prediction. What about including more than one categorical feature? What about the interaction of two categorical features? We leave it to you to try this and based on what you learned in this exercise you should be able to make a good guess as to what to expect.\n",
    "\n",
    "### End of exercise"
   ]
  },
  {
   "cell_type": "markdown",
   "metadata": {},
   "source": [
    "As you saw in the example above, when we have categorical features in a model, we have some flexibility in how we want them encoded, but the general idea is to have a separate coefficient for each **level** (grouping) of a categorical feature, and another coefficent for each combination of the interactions of two categorical features (assuming we fit a model with interactions). Different choices for the **encoding** of the categorical features leads to different interpretations of their coefficients, but ultimately all lead to the same prediction. You can imagine that having **high-cardinality** categorical features can cause the model to quickly grow in complexity (number of coefficients), even when no interactions are being considered. In such cases, one option is to use **feature hashing**, which allows us to trade-off the size of the encoding with the risk of collision."
   ]
  },
  {
   "cell_type": "markdown",
   "metadata": {},
   "source": [
    "## Principal component regression\n",
    "\n",
    "Imagine we are performing linear regression on $p$ features, where our model is as follows:\n",
    "\n",
    "$$Y = \\beta_{0} + \\beta_1X_1 + ... + \\beta_pX_p + \\text{error}$$\n",
    "\n",
    "So far for the linear models we fit, we took it for granted that the features are given to us, although we saw how we can apply transformations to one feature at a time, such as replacing $X$ with $\\log(X)$ or $X^2$. We also learned that having a lot of correlated features can introduce the problem of **multi-collinearity** which can make the predictions unstable (high variance). So let's now consider a transformation that will help in such a situation. Unlike previous transformation that only applied to one feature at a time, this new transformation takes as input **all** $p$ features and returns as its output a set of $p$ new features, although we usually only take the top $k$ where $k < p$. For this reason, PCA is an example of **dimensionality reduction**.\n",
    "\n",
    "$$\n",
    "\\begin{align}\n",
    "Y &= \\beta_{0} + \\beta_1f_1(X_1, \\cdots, X_p) + \\cdots + \\beta_pf_p(X_1, \\cdots, X_p) + \\text{error} \\\\\n",
    "  &\\approx \\beta_{0} + \\beta_1f_1(X_1, \\cdots, X_p) + \\cdots + \\beta_kf_k(X_1, \\cdots, X_p) + \\text{error}\n",
    "\\end{align}\n",
    "$$\n",
    "\n",
    "Unlike the old features, the new features $f_1, \\cdots, f_p$ are completely un-correlated to each other by design, as we will see, so we can fit a linear regression model without worrying about **multi-collinearity**. What does $f_i(X_1, \\cdots, X_p)$ look like? The answer is that each $f_i()$ is a **linear combination** of the original features $X_1, \\cdots, X_p$:\n",
    "\n",
    "$$f_i = b_{i,0} + b_{i,1} X_1 + \\cdots + b_{i,p} X_p$$\n",
    "\n",
    "The question still remains, how do we find such magical $f_i$ functions that assures us that the new features, $f_i$ taken together are 100% independent of each other? Notice that we are referring to $f_i$ both as a function and as a feature. It would be more correct to say call the output of $f_i$ a feature, but from context it is usually clear if we mean $f_i$ the function or $f_i$ the feature.\n",
    "\n",
    "The method of finding these very important components is called **principal component analysis** or PCA. PCA is an **unsupervised learning** algorithm that takes $X_1, \\cdots, X_p$ as inputs and returns $f_1, \\cdots, f_p$ as output. We call $f_1, \\cdots, f_p$ the **principal components**. We need to normalize the data prior to performing PCA.\n",
    "\n",
    "After performing PCA, we can then use the top $k$ principal components as features for a linear regression model with $Y$ as target. In other words, we are using PCA (unsupervised learning) to create features that we then use to train a linear regression algorthim (supervised learning). This is why we refer to this technique as **principal component regression**.\n",
    "\n",
    "Time to see this in action. Here's a scatter plot of two normalized features `X_1` and `X_2`. Note that we only have features, no target!"
   ]
  },
  {
   "cell_type": "code",
   "execution_count": null,
   "metadata": {},
   "outputs": [],
   "source": [
    "np.random.seed(10)\n",
    "\n",
    "X = np.dot(np.random.randn(100, 2), np.random.rand(2, 2))\n",
    "X = StandardScaler().fit_transform(X) # normalize the data\n",
    "\n",
    "sns.scatterplot(X[:, 0], X[:, 1]);"
   ]
  },
  {
   "cell_type": "markdown",
   "metadata": {},
   "source": [
    "Let's look at the two principal components that result from running PCA on the data."
   ]
  },
  {
   "cell_type": "code",
   "execution_count": null,
   "metadata": {},
   "outputs": [],
   "source": [
    "pca = PCA(n_components = 2)\n",
    "pca.fit(X)\n",
    "pca_df = pd.DataFrame(data = pca.transform(X), columns = ['pc1', 'pc2'])\n",
    "\n",
    "print(pca_df.shape)\n",
    "pca_df.head()"
   ]
  },
  {
   "cell_type": "markdown",
   "metadata": {},
   "source": [
    "And are the principal components plotted against each other."
   ]
  },
  {
   "cell_type": "code",
   "execution_count": null,
   "metadata": {},
   "outputs": [],
   "source": [
    "sns.scatterplot('pc1', 'pc2', data = pca_df);"
   ]
  },
  {
   "cell_type": "markdown",
   "metadata": {},
   "source": [
    "Here's how we interpret the principal components: \n",
    "\n",
    "1. The first principal component is a linear combination of $X_1$ and $X_2$ in the direction where the data has the most variation. You can see that in the above scatter plot by how the first principal component has a wider range of values than the second one.\n",
    "1. The second principal component is another linear combination of $X_1$ and $X_2$ in the direction that has the most variation while being perpendicular to the first one. We can see that in the above scatter plot by how the second principal component looks uncorrelated to the first one.\n",
    "\n",
    "This argument can be extended to higher dimensions. So in $p$ dimensions we have $p$ principal components.\n",
    "\n",
    "Here are the two principal components and the amount of variation they each capture. Note that in this context, variation is like information. The more variation we capture, the more information we have."
   ]
  },
  {
   "cell_type": "code",
   "execution_count": null,
   "metadata": {},
   "outputs": [],
   "source": [
    "exp_var = pca.explained_variance_\n",
    "components = pca.components_\n",
    "\n",
    "print(\"Variance explained by each PC: {}\".format(exp_var))\n",
    "print(\"Principal components: \\n{}\".format(components))\n",
    "\n",
    "v1 = 2 * components[0] * np.sqrt(exp_var[0])\n",
    "v2 = 2 * components[1] * np.sqrt(exp_var[1])\n",
    "c = (0, 0) # center is at 0, 0 because of our standardization\n",
    "\n",
    "sns.scatterplot(X[:, 0], X[:, 1], alpha = 0.5)\n",
    "plt.annotate('', c + v1, c, arrowprops = {'arrowstyle': '->', 'shrinkA': 0, 'shrinkB': 0, 'linewidth': 3})\n",
    "plt.annotate('', c + v2, c, arrowprops = {'arrowstyle': '->', 'shrinkA': 0, 'shrinkB': 0, 'linewidth': 3})\n",
    "plt.axis('equal')\n",
    "plt.grid()"
   ]
  },
  {
   "cell_type": "markdown",
   "metadata": {},
   "source": [
    "How do we interpret the above variances and components? We can think of the principal components as performing a rotation of the axes, and the variance explained as how much we stretch each axis so that we express the original data in terms of the new axes.\n",
    "\n",
    "Once we have the principal components, we can then transform each data point by performing a simple matrix multiplication. The result is the same as what we obtained by calling `pca.transform` earlier."
   ]
  },
  {
   "cell_type": "code",
   "execution_count": null,
   "metadata": {},
   "outputs": [],
   "source": [
    "np.matmul(X, pca.components_)[:5, :]"
   ]
  },
  {
   "cell_type": "markdown",
   "metadata": {},
   "source": [
    "In linear algebra terms, we describe this as a **change of bases**: Our data expresses each point in terms of the coordinates $X_1$ and $X_2$. While those coordinates are perpendicular to each other, the data we have suggests that they share a lot of variation. PCA changes our coordinates to use the axes spanned by the principal components, and expresses the data points in terms of these new bases. The new coordinates align themselves with the data more naturally. This is why PCA is related to the idea **singular value decomposition (SVD)** in linear algebra, but we leave it to the reader to learn this in more depth."
   ]
  },
  {
   "cell_type": "markdown",
   "metadata": {},
   "source": [
    "### Exercise\n",
    "\n",
    "Let's try our hand at **principal compenent regression**. This means we are first going to use **principal component analysis** to create a new set of features and then use those features to train a linear regression model.\n",
    "\n",
    "We are going to use the HSB2 data set from earlier."
   ]
  },
  {
   "cell_type": "code",
   "execution_count": null,
   "metadata": {},
   "outputs": [],
   "source": [
    "hsb2 = pd.read_csv('data/hsb2-2.csv')\n",
    "hsb2.head()"
   ]
  },
  {
   "cell_type": "code",
   "execution_count": null,
   "metadata": {},
   "outputs": [],
   "source": [
    "hsb2['ses'].value_counts()"
   ]
  },
  {
   "cell_type": "markdown",
   "metadata": {},
   "source": [
    "- Train a linear regression model to predict a student's math score using reading, writing and science scores. Decide if you should train the model with main effects only, or include two-way interactions as well."
   ]
  },
  {
   "cell_type": "code",
   "execution_count": null,
   "metadata": {},
   "outputs": [],
   "source": [
    "# ols_model = sm.ols(formula = \"math ~ read * write * science\", data = hsb2) <- the interaction terms here lead to SUPER HIGH P values... \n",
    "ols_model = sm.ols(formula = \"math ~ read + write + science\", data = hsb2)\n",
    "ols_model = ols_model.fit()\n",
    "hsb2['math_pred'] = ols_model.predict(hsb2)\n",
    "ols_model.summary2()"
   ]
  },
  {
   "cell_type": "code",
   "execution_count": null,
   "metadata": {},
   "outputs": [],
   "source": [
    "sns.scatterplot(x = 'read', y = 'math', data = hsb2)\n",
    "sns.lineplot(x = 'read', y = 'math_pred', hue = 'ses', data = hsb2);"
   ]
  },
  {
   "cell_type": "markdown",
   "metadata": {},
   "source": [
    "- Examine the data to see if you should be worried about multi-collinearity."
   ]
  },
  {
   "cell_type": "code",
   "execution_count": null,
   "metadata": {},
   "outputs": [],
   "source": [
    "# do a pairs plot to see if there's a relationship between reading / writing / science\n",
    "pair_cols = ['read', 'write', 'science']\n",
    "sns.pairplot(hsb2[pair_cols]);\n",
    "\n",
    "# yep... multi-collinearity."
   ]
  },
  {
   "cell_type": "markdown",
   "metadata": {},
   "source": [
    "- Apply PCA to the features and extract the principal components. How correlated are the principal component with the original features? You can start with the code below:"
   ]
  },
  {
   "cell_type": "code",
   "execution_count": null,
   "metadata": {},
   "outputs": [],
   "source": [
    "features_orig = ['read', 'write', 'science']\n",
    "features_pca = ['pc_' + str(i+1) for i in range(len(features_orig))]\n",
    "pca = PCA(n_components = 3)\n",
    "\n",
    "pca.fit(hsb2[features_orig])\n",
    "pca_features = pd.DataFrame(data = pca.transform(hsb2[features_orig]), columns=features_pca)"
   ]
  },
  {
   "cell_type": "code",
   "execution_count": null,
   "metadata": {},
   "outputs": [],
   "source": [
    "features = np.concatenate([hsb2[features_orig], pca_features], axis = 1)\n",
    "hsb2_new = pd.DataFrame(features, columns=features_orig + features_pca)\n",
    "hsb2_new['math'] = hsb2['math']"
   ]
  },
  {
   "cell_type": "code",
   "execution_count": null,
   "metadata": {},
   "outputs": [],
   "source": [
    "## perform PCA and get the components\n",
    "features = np.concatenate([hsb2[features_orig], pca_features], axis = 1)\n",
    "hsb2_new = pd.DataFrame(features, columns = features_orig + features_pca)\n",
    "hsb2_new['math'] = hsb2['math']\n",
    "\n",
    "## examine the correlation between original features and PCs\n",
    "## HINT: look at a heatmap of the correlation matrix, and let cmap = 'RdBu'"
   ]
  },
  {
   "cell_type": "markdown",
   "metadata": {},
   "source": [
    "- Did you remember to normalize the data first?"
   ]
  },
  {
   "cell_type": "markdown",
   "metadata": {},
   "source": [
    "- Train a linear regression model to predict math score, but this time use the principal components as features. How many principal components would you include? Compare the model performance to the previous one. It may help to look at the following bar plot."
   ]
  },
  {
   "cell_type": "code",
   "execution_count": null,
   "metadata": {},
   "outputs": [],
   "source": [
    "sns.heatmap(hsb2_new.corr(), cmap = 'RdBu')"
   ]
  },
  {
   "cell_type": "code",
   "execution_count": null,
   "metadata": {},
   "outputs": [],
   "source": [
    "sns.barplot(features_pca, pca.explained_variance_, color = 'grey');"
   ]
  },
  {
   "cell_type": "code",
   "execution_count": null,
   "metadata": {},
   "outputs": [],
   "source": [
    "ols_model = sm.ols(formula= \"math ~ pc_1\", data = hsb2_new).fit()\n",
    "print(ols_model.summary2())\n",
    "\n",
    "# the R squared of the PCA regression is the same a the traditional regression...\n",
    "# this suggests that we're not losing any predictive ability by using this dimensional reduction technique."
   ]
  },
  {
   "cell_type": "markdown",
   "metadata": {},
   "source": [
    "- Interpret your model's coefficents. Would you prefer the model with PCA or without?"
   ]
  },
  {
   "cell_type": "code",
   "execution_count": null,
   "metadata": {},
   "outputs": [],
   "source": [
    "# You can't really intrepret this coefficient, as it's a dimensional reduction of the other 3 terms."
   ]
  },
  {
   "cell_type": "markdown",
   "metadata": {},
   "source": [
    "As you can imagine, interpreting coefficients becomes much more challenging once we perform feature engineering steps like PCA was here. This trade-off between interpretability and model accuracy is another manifestation of the **bias variance trade-off**.\n",
    "\n",
    "### End of exercise"
   ]
  },
  {
   "cell_type": "markdown",
   "metadata": {},
   "source": [
    "## Logistic Regression\n",
    "\n",
    "Until now, we have been working strictly with linear **regression models**, which assumes that we have a numeric target. With a slight modification of linear regression, we can also predict binary targets (`{False, True}` or `{0, 1}` etc.). The result is called **logistic regression**. As mentioned earlier, the word \"regression\" in logistic regression refers to its relationship to linear regression, but logistic regression is a classification algorithm.\n",
    "\n",
    "The response of the linear model is transformed to the log likelihood using a sigmoidal function, also known as the **logistic map** or the **sogmoid function**:\n",
    "\n",
    "$$f(x | x_0, \\kappa) = \\frac{1}{1 + e^{-\\kappa(x - x_0)}}$$\n",
    "\n",
    "where $\\kappa$ is a measure of the steepness of the curve, as you can see here:"
   ]
  },
  {
   "cell_type": "code",
   "execution_count": null,
   "metadata": {},
   "outputs": [],
   "source": [
    "# Plot the logistic transformation function (f(x) above)\n",
    "x_seq = np.linspace(-7, 7, 100)\n",
    "\n",
    "def log_fun(x, center = 0, scale = 1):\n",
    "    e = np.exp(-scale*(x - center))\n",
    "    log_out = 1./(1. + e)\n",
    "    return log_out\n",
    "\n",
    "log_fun_vectorized = np.vectorize(log_fun)\n",
    "\n",
    "for ii in range(10):\n",
    "    log_y = log_fun_vectorized(x_seq, scale = ii)\n",
    "    sns.lineplot(x_seq, log_y, alpha = 1.0/(ii + 1), color = 'blue');\n",
    "    \n",
    "plt.xlabel('x')\n",
    "plt.ylabel('logistic(x)');\n",
    "plt.legend(['kappa = ' + str(ii) for ii in range(10)]);"
   ]
  },
  {
   "cell_type": "markdown",
   "metadata": {},
   "source": [
    "Let's make this a bit more concrete with a simple example. Say we have a linear model:\n",
    "\n",
    "$$\\hat{Y} = b_0 + b_1 X$$\n",
    "\n",
    "Now, depending on the value of $\\hat{Y}$ we want to classify the output from a logistic regression model as either `0` or `1`. We can use the linear model in the logistic function as follows:\n",
    "\n",
    "$$f(\\hat Y|X) = f(b_0 + b_1 X) = \\frac{1}{1 + e^{-\\kappa(b_0 + b_1 X)}}$$\n",
    "\n",
    "We can ignore $\\kappa$ since it can be factored into the coefficients. In this way we transform the continuous output of the linear model defined on $-\\infty \\le \\hat Y \\le \\infty$ to a binary response, $0 < f(\\hat Y|X) < 1$. If we do the transformation in reverse we get\n",
    "\n",
    "$$e^{-(b_0 + b_1 X)} = \\frac{1}{f(\\hat Y|X)} - 1 = \\frac{1 - f(\\hat Y|X)}{f(\\hat Y|X)} \\quad\\Rightarrow\\quad b_0 + b_1 X = \\log(\\frac{f(\\hat Y|X)}{1 - f(\\hat Y|X)})$$\n",
    "\n",
    "The right-hand side shows the relationship between linear and logistic regression: Logistic regression is what we get if we have a binary response variable and run linear regression, not to predict $Y$ directly, but to predict a transformation of $Y$.\n",
    "\n",
    "What about interpreting our results? First note that because of the nature of the logistic map, we can think of $f(\\hat Y|X)$ as a probability: $f(\\hat Y|X) = P(Y = 1|X)$. This means we can rewrite the right-hand side of the above equation as \n",
    "\n",
    "$$b_0 + b_1 X = \\log(\\frac{f(\\hat Y|X)}{1 - f(\\hat Y|X)}) = \\log(\\frac{P(Y = 1|X)}{P(Y = 0|X)})$$\n",
    "\n",
    "We call the ratio $P(Y = 1) / P(Y = 0)$ the **odds ratio**, and so the quantity on the right-hand side of the above equation is called the **log odds-ratio**.\n",
    "\n",
    "To summarize, when we have a binary response variable $Y \\in \\{0, 1\\}$, logistic regression fits a linear regression model to predict the log odds-ratio of $Y = 1$ using our features. Once we have the prediction, we can express it as a probability $P(Y = 1 | X)$ by rewriting it:\n",
    "\n",
    "$$P(Y = 1|X) = \\frac{1}{1 + e^{-(b_0 + b_1 X)}}$$\n",
    "\n",
    "We can easily extend this idea to many features and nothing really changes other than having additional terms in the exponential term.\n",
    "\n",
    "Unlike linear regression, we do NOT have a **closed-form solution** in logistic regression. So we find the coefficients $b_i$ using optimization. The function we optimize is the likelihood given by \n",
    "\n",
    "$$L(\\pmb{\\beta}) = \\prod_j P(Y_j = 1|X_j)^{Y_j} \\times (1 - P(Y_j = 1|X_j))^{1 - Y_j}$$\n",
    "\n",
    "although computationally it is easier to optimize the log of the likelihood, conviniently called the **log-likelihood**."
   ]
  },
  {
   "cell_type": "markdown",
   "metadata": {},
   "source": [
    "### Exercise\n",
    "\n",
    "Let's re-load the HSB2 data and use it to illustrate logistic regression."
   ]
  },
  {
   "cell_type": "code",
   "execution_count": 11,
   "metadata": {},
   "outputs": [
    {
     "data": {
      "text/html": [
       "<div>\n",
       "<style scoped>\n",
       "    .dataframe tbody tr th:only-of-type {\n",
       "        vertical-align: middle;\n",
       "    }\n",
       "\n",
       "    .dataframe tbody tr th {\n",
       "        vertical-align: top;\n",
       "    }\n",
       "\n",
       "    .dataframe thead th {\n",
       "        text-align: right;\n",
       "    }\n",
       "</style>\n",
       "<table border=\"1\" class=\"dataframe\">\n",
       "  <thead>\n",
       "    <tr style=\"text-align: right;\">\n",
       "      <th></th>\n",
       "      <th>id</th>\n",
       "      <th>female</th>\n",
       "      <th>race</th>\n",
       "      <th>ses</th>\n",
       "      <th>schtyp</th>\n",
       "      <th>prog</th>\n",
       "      <th>read</th>\n",
       "      <th>write</th>\n",
       "      <th>math</th>\n",
       "      <th>science</th>\n",
       "      <th>socst</th>\n",
       "    </tr>\n",
       "  </thead>\n",
       "  <tbody>\n",
       "    <tr>\n",
       "      <th>0</th>\n",
       "      <td>70</td>\n",
       "      <td>0</td>\n",
       "      <td>4</td>\n",
       "      <td>1</td>\n",
       "      <td>1</td>\n",
       "      <td>1</td>\n",
       "      <td>57</td>\n",
       "      <td>52</td>\n",
       "      <td>41</td>\n",
       "      <td>47</td>\n",
       "      <td>57</td>\n",
       "    </tr>\n",
       "    <tr>\n",
       "      <th>1</th>\n",
       "      <td>121</td>\n",
       "      <td>1</td>\n",
       "      <td>4</td>\n",
       "      <td>2</td>\n",
       "      <td>1</td>\n",
       "      <td>3</td>\n",
       "      <td>68</td>\n",
       "      <td>59</td>\n",
       "      <td>53</td>\n",
       "      <td>63</td>\n",
       "      <td>61</td>\n",
       "    </tr>\n",
       "    <tr>\n",
       "      <th>2</th>\n",
       "      <td>86</td>\n",
       "      <td>0</td>\n",
       "      <td>4</td>\n",
       "      <td>3</td>\n",
       "      <td>1</td>\n",
       "      <td>1</td>\n",
       "      <td>44</td>\n",
       "      <td>33</td>\n",
       "      <td>54</td>\n",
       "      <td>58</td>\n",
       "      <td>31</td>\n",
       "    </tr>\n",
       "    <tr>\n",
       "      <th>3</th>\n",
       "      <td>141</td>\n",
       "      <td>0</td>\n",
       "      <td>4</td>\n",
       "      <td>3</td>\n",
       "      <td>1</td>\n",
       "      <td>3</td>\n",
       "      <td>63</td>\n",
       "      <td>44</td>\n",
       "      <td>47</td>\n",
       "      <td>53</td>\n",
       "      <td>56</td>\n",
       "    </tr>\n",
       "    <tr>\n",
       "      <th>4</th>\n",
       "      <td>172</td>\n",
       "      <td>0</td>\n",
       "      <td>4</td>\n",
       "      <td>2</td>\n",
       "      <td>1</td>\n",
       "      <td>2</td>\n",
       "      <td>47</td>\n",
       "      <td>52</td>\n",
       "      <td>57</td>\n",
       "      <td>53</td>\n",
       "      <td>61</td>\n",
       "    </tr>\n",
       "  </tbody>\n",
       "</table>\n",
       "</div>"
      ],
      "text/plain": [
       "    id  female  race  ses  schtyp  prog  read  write  math  science  socst\n",
       "0   70       0     4    1       1     1    57     52    41       47     57\n",
       "1  121       1     4    2       1     3    68     59    53       63     61\n",
       "2   86       0     4    3       1     1    44     33    54       58     31\n",
       "3  141       0     4    3       1     3    63     44    47       53     56\n",
       "4  172       0     4    2       1     2    47     52    57       53     61"
      ]
     },
     "execution_count": 11,
     "metadata": {},
     "output_type": "execute_result"
    }
   ],
   "source": [
    "hsb2 = pd.read_csv('data/hsb2-2.csv')\n",
    "hsb2.head()"
   ]
  },
  {
   "cell_type": "markdown",
   "metadata": {},
   "source": [
    "- Create a new column called `math_high` that is equal to 1 when a student's math score is above the 80% percentile, and 0 otherwise."
   ]
  },
  {
   "cell_type": "code",
   "execution_count": 12,
   "metadata": {},
   "outputs": [
    {
     "data": {
      "text/html": [
       "<div>\n",
       "<style scoped>\n",
       "    .dataframe tbody tr th:only-of-type {\n",
       "        vertical-align: middle;\n",
       "    }\n",
       "\n",
       "    .dataframe tbody tr th {\n",
       "        vertical-align: top;\n",
       "    }\n",
       "\n",
       "    .dataframe thead th {\n",
       "        text-align: right;\n",
       "    }\n",
       "</style>\n",
       "<table border=\"1\" class=\"dataframe\">\n",
       "  <thead>\n",
       "    <tr style=\"text-align: right;\">\n",
       "      <th></th>\n",
       "      <th>id</th>\n",
       "      <th>female</th>\n",
       "      <th>race</th>\n",
       "      <th>ses</th>\n",
       "      <th>schtyp</th>\n",
       "      <th>prog</th>\n",
       "      <th>read</th>\n",
       "      <th>write</th>\n",
       "      <th>math</th>\n",
       "      <th>science</th>\n",
       "      <th>socst</th>\n",
       "      <th>math_ntile</th>\n",
       "      <th>math_high</th>\n",
       "    </tr>\n",
       "  </thead>\n",
       "  <tbody>\n",
       "    <tr>\n",
       "      <th>0</th>\n",
       "      <td>70</td>\n",
       "      <td>0</td>\n",
       "      <td>4</td>\n",
       "      <td>1</td>\n",
       "      <td>1</td>\n",
       "      <td>1</td>\n",
       "      <td>57</td>\n",
       "      <td>52</td>\n",
       "      <td>41</td>\n",
       "      <td>47</td>\n",
       "      <td>57</td>\n",
       "      <td>0.546667</td>\n",
       "      <td>0</td>\n",
       "    </tr>\n",
       "    <tr>\n",
       "      <th>1</th>\n",
       "      <td>121</td>\n",
       "      <td>1</td>\n",
       "      <td>4</td>\n",
       "      <td>2</td>\n",
       "      <td>1</td>\n",
       "      <td>3</td>\n",
       "      <td>68</td>\n",
       "      <td>59</td>\n",
       "      <td>53</td>\n",
       "      <td>63</td>\n",
       "      <td>61</td>\n",
       "      <td>0.706667</td>\n",
       "      <td>0</td>\n",
       "    </tr>\n",
       "    <tr>\n",
       "      <th>2</th>\n",
       "      <td>86</td>\n",
       "      <td>0</td>\n",
       "      <td>4</td>\n",
       "      <td>3</td>\n",
       "      <td>1</td>\n",
       "      <td>1</td>\n",
       "      <td>44</td>\n",
       "      <td>33</td>\n",
       "      <td>54</td>\n",
       "      <td>58</td>\n",
       "      <td>31</td>\n",
       "      <td>0.720000</td>\n",
       "      <td>0</td>\n",
       "    </tr>\n",
       "    <tr>\n",
       "      <th>3</th>\n",
       "      <td>141</td>\n",
       "      <td>0</td>\n",
       "      <td>4</td>\n",
       "      <td>3</td>\n",
       "      <td>1</td>\n",
       "      <td>3</td>\n",
       "      <td>63</td>\n",
       "      <td>44</td>\n",
       "      <td>47</td>\n",
       "      <td>53</td>\n",
       "      <td>56</td>\n",
       "      <td>0.626667</td>\n",
       "      <td>0</td>\n",
       "    </tr>\n",
       "    <tr>\n",
       "      <th>4</th>\n",
       "      <td>172</td>\n",
       "      <td>0</td>\n",
       "      <td>4</td>\n",
       "      <td>2</td>\n",
       "      <td>1</td>\n",
       "      <td>2</td>\n",
       "      <td>47</td>\n",
       "      <td>52</td>\n",
       "      <td>57</td>\n",
       "      <td>53</td>\n",
       "      <td>61</td>\n",
       "      <td>0.760000</td>\n",
       "      <td>0</td>\n",
       "    </tr>\n",
       "    <tr>\n",
       "      <th>5</th>\n",
       "      <td>113</td>\n",
       "      <td>0</td>\n",
       "      <td>4</td>\n",
       "      <td>2</td>\n",
       "      <td>1</td>\n",
       "      <td>2</td>\n",
       "      <td>44</td>\n",
       "      <td>52</td>\n",
       "      <td>51</td>\n",
       "      <td>63</td>\n",
       "      <td>61</td>\n",
       "      <td>0.680000</td>\n",
       "      <td>0</td>\n",
       "    </tr>\n",
       "    <tr>\n",
       "      <th>6</th>\n",
       "      <td>50</td>\n",
       "      <td>0</td>\n",
       "      <td>3</td>\n",
       "      <td>2</td>\n",
       "      <td>1</td>\n",
       "      <td>1</td>\n",
       "      <td>50</td>\n",
       "      <td>59</td>\n",
       "      <td>42</td>\n",
       "      <td>53</td>\n",
       "      <td>61</td>\n",
       "      <td>0.560000</td>\n",
       "      <td>0</td>\n",
       "    </tr>\n",
       "    <tr>\n",
       "      <th>7</th>\n",
       "      <td>11</td>\n",
       "      <td>0</td>\n",
       "      <td>1</td>\n",
       "      <td>2</td>\n",
       "      <td>1</td>\n",
       "      <td>2</td>\n",
       "      <td>34</td>\n",
       "      <td>46</td>\n",
       "      <td>45</td>\n",
       "      <td>39</td>\n",
       "      <td>36</td>\n",
       "      <td>0.600000</td>\n",
       "      <td>0</td>\n",
       "    </tr>\n",
       "    <tr>\n",
       "      <th>8</th>\n",
       "      <td>84</td>\n",
       "      <td>0</td>\n",
       "      <td>4</td>\n",
       "      <td>2</td>\n",
       "      <td>1</td>\n",
       "      <td>1</td>\n",
       "      <td>63</td>\n",
       "      <td>57</td>\n",
       "      <td>54</td>\n",
       "      <td>58</td>\n",
       "      <td>51</td>\n",
       "      <td>0.720000</td>\n",
       "      <td>0</td>\n",
       "    </tr>\n",
       "    <tr>\n",
       "      <th>9</th>\n",
       "      <td>48</td>\n",
       "      <td>0</td>\n",
       "      <td>3</td>\n",
       "      <td>2</td>\n",
       "      <td>1</td>\n",
       "      <td>2</td>\n",
       "      <td>57</td>\n",
       "      <td>55</td>\n",
       "      <td>52</td>\n",
       "      <td>50</td>\n",
       "      <td>51</td>\n",
       "      <td>0.693333</td>\n",
       "      <td>0</td>\n",
       "    </tr>\n",
       "    <tr>\n",
       "      <th>10</th>\n",
       "      <td>75</td>\n",
       "      <td>0</td>\n",
       "      <td>4</td>\n",
       "      <td>2</td>\n",
       "      <td>1</td>\n",
       "      <td>3</td>\n",
       "      <td>60</td>\n",
       "      <td>46</td>\n",
       "      <td>51</td>\n",
       "      <td>53</td>\n",
       "      <td>61</td>\n",
       "      <td>0.680000</td>\n",
       "      <td>0</td>\n",
       "    </tr>\n",
       "    <tr>\n",
       "      <th>11</th>\n",
       "      <td>60</td>\n",
       "      <td>0</td>\n",
       "      <td>4</td>\n",
       "      <td>2</td>\n",
       "      <td>1</td>\n",
       "      <td>2</td>\n",
       "      <td>57</td>\n",
       "      <td>65</td>\n",
       "      <td>51</td>\n",
       "      <td>63</td>\n",
       "      <td>61</td>\n",
       "      <td>0.680000</td>\n",
       "      <td>0</td>\n",
       "    </tr>\n",
       "    <tr>\n",
       "      <th>12</th>\n",
       "      <td>95</td>\n",
       "      <td>0</td>\n",
       "      <td>4</td>\n",
       "      <td>3</td>\n",
       "      <td>1</td>\n",
       "      <td>2</td>\n",
       "      <td>73</td>\n",
       "      <td>60</td>\n",
       "      <td>71</td>\n",
       "      <td>61</td>\n",
       "      <td>71</td>\n",
       "      <td>0.946667</td>\n",
       "      <td>1</td>\n",
       "    </tr>\n",
       "    <tr>\n",
       "      <th>13</th>\n",
       "      <td>104</td>\n",
       "      <td>0</td>\n",
       "      <td>4</td>\n",
       "      <td>3</td>\n",
       "      <td>1</td>\n",
       "      <td>2</td>\n",
       "      <td>54</td>\n",
       "      <td>63</td>\n",
       "      <td>57</td>\n",
       "      <td>55</td>\n",
       "      <td>46</td>\n",
       "      <td>0.760000</td>\n",
       "      <td>0</td>\n",
       "    </tr>\n",
       "    <tr>\n",
       "      <th>14</th>\n",
       "      <td>38</td>\n",
       "      <td>0</td>\n",
       "      <td>3</td>\n",
       "      <td>1</td>\n",
       "      <td>1</td>\n",
       "      <td>2</td>\n",
       "      <td>45</td>\n",
       "      <td>57</td>\n",
       "      <td>50</td>\n",
       "      <td>31</td>\n",
       "      <td>56</td>\n",
       "      <td>0.666667</td>\n",
       "      <td>0</td>\n",
       "    </tr>\n",
       "    <tr>\n",
       "      <th>15</th>\n",
       "      <td>115</td>\n",
       "      <td>0</td>\n",
       "      <td>4</td>\n",
       "      <td>1</td>\n",
       "      <td>1</td>\n",
       "      <td>1</td>\n",
       "      <td>42</td>\n",
       "      <td>49</td>\n",
       "      <td>43</td>\n",
       "      <td>50</td>\n",
       "      <td>56</td>\n",
       "      <td>0.573333</td>\n",
       "      <td>0</td>\n",
       "    </tr>\n",
       "    <tr>\n",
       "      <th>16</th>\n",
       "      <td>76</td>\n",
       "      <td>0</td>\n",
       "      <td>4</td>\n",
       "      <td>3</td>\n",
       "      <td>1</td>\n",
       "      <td>2</td>\n",
       "      <td>47</td>\n",
       "      <td>52</td>\n",
       "      <td>51</td>\n",
       "      <td>50</td>\n",
       "      <td>56</td>\n",
       "      <td>0.680000</td>\n",
       "      <td>0</td>\n",
       "    </tr>\n",
       "    <tr>\n",
       "      <th>17</th>\n",
       "      <td>195</td>\n",
       "      <td>0</td>\n",
       "      <td>4</td>\n",
       "      <td>2</td>\n",
       "      <td>2</td>\n",
       "      <td>1</td>\n",
       "      <td>57</td>\n",
       "      <td>57</td>\n",
       "      <td>60</td>\n",
       "      <td>58</td>\n",
       "      <td>56</td>\n",
       "      <td>0.800000</td>\n",
       "      <td>1</td>\n",
       "    </tr>\n",
       "    <tr>\n",
       "      <th>18</th>\n",
       "      <td>114</td>\n",
       "      <td>0</td>\n",
       "      <td>4</td>\n",
       "      <td>3</td>\n",
       "      <td>1</td>\n",
       "      <td>2</td>\n",
       "      <td>68</td>\n",
       "      <td>65</td>\n",
       "      <td>62</td>\n",
       "      <td>55</td>\n",
       "      <td>61</td>\n",
       "      <td>0.826667</td>\n",
       "      <td>1</td>\n",
       "    </tr>\n",
       "    <tr>\n",
       "      <th>19</th>\n",
       "      <td>85</td>\n",
       "      <td>0</td>\n",
       "      <td>4</td>\n",
       "      <td>2</td>\n",
       "      <td>1</td>\n",
       "      <td>1</td>\n",
       "      <td>55</td>\n",
       "      <td>39</td>\n",
       "      <td>57</td>\n",
       "      <td>53</td>\n",
       "      <td>46</td>\n",
       "      <td>0.760000</td>\n",
       "      <td>0</td>\n",
       "    </tr>\n",
       "  </tbody>\n",
       "</table>\n",
       "</div>"
      ],
      "text/plain": [
       "     id  female  race  ses  schtyp  prog  read  write  math  science  socst  \\\n",
       "0    70       0     4    1       1     1    57     52    41       47     57   \n",
       "1   121       1     4    2       1     3    68     59    53       63     61   \n",
       "2    86       0     4    3       1     1    44     33    54       58     31   \n",
       "3   141       0     4    3       1     3    63     44    47       53     56   \n",
       "4   172       0     4    2       1     2    47     52    57       53     61   \n",
       "5   113       0     4    2       1     2    44     52    51       63     61   \n",
       "6    50       0     3    2       1     1    50     59    42       53     61   \n",
       "7    11       0     1    2       1     2    34     46    45       39     36   \n",
       "8    84       0     4    2       1     1    63     57    54       58     51   \n",
       "9    48       0     3    2       1     2    57     55    52       50     51   \n",
       "10   75       0     4    2       1     3    60     46    51       53     61   \n",
       "11   60       0     4    2       1     2    57     65    51       63     61   \n",
       "12   95       0     4    3       1     2    73     60    71       61     71   \n",
       "13  104       0     4    3       1     2    54     63    57       55     46   \n",
       "14   38       0     3    1       1     2    45     57    50       31     56   \n",
       "15  115       0     4    1       1     1    42     49    43       50     56   \n",
       "16   76       0     4    3       1     2    47     52    51       50     56   \n",
       "17  195       0     4    2       2     1    57     57    60       58     56   \n",
       "18  114       0     4    3       1     2    68     65    62       55     61   \n",
       "19   85       0     4    2       1     1    55     39    57       53     46   \n",
       "\n",
       "    math_ntile  math_high  \n",
       "0     0.546667          0  \n",
       "1     0.706667          0  \n",
       "2     0.720000          0  \n",
       "3     0.626667          0  \n",
       "4     0.760000          0  \n",
       "5     0.680000          0  \n",
       "6     0.560000          0  \n",
       "7     0.600000          0  \n",
       "8     0.720000          0  \n",
       "9     0.693333          0  \n",
       "10    0.680000          0  \n",
       "11    0.680000          0  \n",
       "12    0.946667          1  \n",
       "13    0.760000          0  \n",
       "14    0.666667          0  \n",
       "15    0.573333          0  \n",
       "16    0.680000          0  \n",
       "17    0.800000          1  \n",
       "18    0.826667          1  \n",
       "19    0.760000          0  "
      ]
     },
     "execution_count": 12,
     "metadata": {},
     "output_type": "execute_result"
    }
   ],
   "source": [
    "hsb2['math_ntile'] = hsb2['math'] / hsb2['math'].max()\n",
    "hsb2['math_high'] = hsb2['math_ntile'].apply(lambda x: 1 if x >= .80 else 0)\n",
    "hsb2.head(20)"
   ]
  },
  {
   "cell_type": "markdown",
   "metadata": {},
   "source": [
    "- Can a student's science score and the school type they attended be good predictors of a student's probability of being in the top 20% in math? For school type we use the column `schtyp`, where `1` is public and `2` is private school. HINT: Use `sm.logit` to train a logistic regression. You can pass it a formula just like the one in linear regression."
   ]
  },
  {
   "cell_type": "code",
   "execution_count": 13,
   "metadata": {},
   "outputs": [
    {
     "name": "stdout",
     "output_type": "stream",
     "text": [
      "Optimization terminated successfully.\n",
      "         Current function value: 0.424661\n",
      "         Iterations 7\n"
     ]
    },
    {
     "data": {
      "text/html": [
       "<table class=\"simpletable\">\n",
       "<tr>\n",
       "        <td>Model:</td>              <td>Logit</td>      <td>Pseudo R-squared:</td>    <td>0.237</td>  \n",
       "</tr>\n",
       "<tr>\n",
       "  <td>Dependent Variable:</td>     <td>math_high</td>          <td>AIC:</td>         <td>175.8643</td> \n",
       "</tr>\n",
       "<tr>\n",
       "         <td>Date:</td>        <td>2020-08-13 21:05</td>       <td>BIC:</td>         <td>185.7592</td> \n",
       "</tr>\n",
       "<tr>\n",
       "   <td>No. Observations:</td>         <td>200</td>        <td>Log-Likelihood:</td>    <td>-84.932</td> \n",
       "</tr>\n",
       "<tr>\n",
       "       <td>Df Model:</td>              <td>2</td>            <td>LL-Null:</td>        <td>-111.36</td> \n",
       "</tr>\n",
       "<tr>\n",
       "     <td>Df Residuals:</td>           <td>197</td>         <td>LLR p-value:</td>    <td>3.3473e-12</td>\n",
       "</tr>\n",
       "<tr>\n",
       "      <td>Converged:</td>           <td>1.0000</td>           <td>Scale:</td>         <td>1.0000</td>  \n",
       "</tr>\n",
       "<tr>\n",
       "    <td>No. Iterations:</td>        <td>7.0000</td>              <td></td>               <td></td>     \n",
       "</tr>\n",
       "</table>\n",
       "<table class=\"simpletable\">\n",
       "<tr>\n",
       "         <td></td>         <th>Coef.</th>  <th>Std.Err.</th>    <th>z</th>     <th>P>|z|</th>  <th>[0.025</th>  <th>0.975]</th> \n",
       "</tr>\n",
       "<tr>\n",
       "  <th>Intercept</th>      <td>-9.8102</td>  <td>1.5698</td>  <td>-6.2492</td> <td>0.0000</td> <td>-12.8870</td> <td>-6.7334</td>\n",
       "</tr>\n",
       "<tr>\n",
       "  <th>C(schtyp)[T.2]</th> <td>0.4057</td>   <td>0.4765</td>  <td>0.8514</td>  <td>0.3945</td>  <td>-0.5282</td> <td>1.3397</td> \n",
       "</tr>\n",
       "<tr>\n",
       "  <th>science</th>        <td>0.1564</td>   <td>0.0270</td>  <td>5.7807</td>  <td>0.0000</td>  <td>0.1033</td>  <td>0.2094</td> \n",
       "</tr>\n",
       "</table>"
      ],
      "text/plain": [
       "<class 'statsmodels.iolib.summary2.Summary'>\n",
       "\"\"\"\n",
       "                         Results: Logit\n",
       "=================================================================\n",
       "Model:              Logit            Pseudo R-squared: 0.237     \n",
       "Dependent Variable: math_high        AIC:              175.8643  \n",
       "Date:               2020-08-13 21:05 BIC:              185.7592  \n",
       "No. Observations:   200              Log-Likelihood:   -84.932   \n",
       "Df Model:           2                LL-Null:          -111.36   \n",
       "Df Residuals:       197              LLR p-value:      3.3473e-12\n",
       "Converged:          1.0000           Scale:            1.0000    \n",
       "No. Iterations:     7.0000                                       \n",
       "-----------------------------------------------------------------\n",
       "                  Coef.  Std.Err.    z    P>|z|   [0.025   0.975]\n",
       "-----------------------------------------------------------------\n",
       "Intercept        -9.8102   1.5698 -6.2492 0.0000 -12.8870 -6.7334\n",
       "C(schtyp)[T.2]    0.4057   0.4765  0.8514 0.3945  -0.5282  1.3397\n",
       "science           0.1564   0.0270  5.7807 0.0000   0.1033  0.2094\n",
       "=================================================================\n",
       "\n",
       "\"\"\""
      ]
     },
     "execution_count": 13,
     "metadata": {},
     "output_type": "execute_result"
    }
   ],
   "source": [
    "#hsb2['schtyp'] = hsb2['schtyp'].replace({1: 'public', 2: 'private'})\n",
    "#ols_model = sm.ols(formula = \"write ~ read + C(ses, Treatment(reference = 'low'))\", data = hsb2)\n",
    "logit_model = sm.logit(formula = \"math_high ~ C(schtyp) + science\", data = hsb2)\n",
    "logit_model = logit_model.fit()\n",
    "hsb2['math_high'] = logit_model.predict(hsb2)\n",
    "logit_model.summary2()"
   ]
  },
  {
   "cell_type": "markdown",
   "metadata": {},
   "source": [
    "- Print a summary of the model you fit. What are important information about the model worth reporting?"
   ]
  },
  {
   "cell_type": "markdown",
   "metadata": {},
   "source": [
    "- Here are the model's parameters. Based on what you know about interpreting model parameters in linear regression, how would you interpret the model parameters for the logistic regression model? HINT: It's a little more relatable to try to interpret $e^{b_i}$ instead of $b_i$ itself, using `np.exp`."
   ]
  },
  {
   "cell_type": "code",
   "execution_count": 14,
   "metadata": {},
   "outputs": [
    {
     "name": "stdout",
     "output_type": "stream",
     "text": [
      "Intercept         0.000055\n",
      "C(schtyp)[T.2]    1.500394\n",
      "science           1.169250\n",
      "dtype: float64\n"
     ]
    }
   ],
   "source": [
    "print(np.exp(logit_model.params))"
   ]
  },
  {
   "cell_type": "markdown",
   "metadata": {},
   "source": [
    "To visualize how $P(Y = 1)$ changes with the science score for different school types, we can simulate a data with combinations of science scores and school types and predict for it."
   ]
  },
  {
   "cell_type": "code",
   "execution_count": 15,
   "metadata": {},
   "outputs": [
    {
     "data": {
      "text/html": [
       "<div>\n",
       "<style scoped>\n",
       "    .dataframe tbody tr th:only-of-type {\n",
       "        vertical-align: middle;\n",
       "    }\n",
       "\n",
       "    .dataframe tbody tr th {\n",
       "        vertical-align: top;\n",
       "    }\n",
       "\n",
       "    .dataframe thead th {\n",
       "        text-align: right;\n",
       "    }\n",
       "</style>\n",
       "<table border=\"1\" class=\"dataframe\">\n",
       "  <thead>\n",
       "    <tr style=\"text-align: right;\">\n",
       "      <th></th>\n",
       "      <th>science</th>\n",
       "      <th>schtyp</th>\n",
       "    </tr>\n",
       "  </thead>\n",
       "  <tbody>\n",
       "    <tr>\n",
       "      <th>0</th>\n",
       "      <td>20.000000</td>\n",
       "      <td>1.0</td>\n",
       "    </tr>\n",
       "    <tr>\n",
       "      <th>1</th>\n",
       "      <td>21.010101</td>\n",
       "      <td>1.0</td>\n",
       "    </tr>\n",
       "    <tr>\n",
       "      <th>2</th>\n",
       "      <td>22.020202</td>\n",
       "      <td>1.0</td>\n",
       "    </tr>\n",
       "    <tr>\n",
       "      <th>3</th>\n",
       "      <td>23.030303</td>\n",
       "      <td>1.0</td>\n",
       "    </tr>\n",
       "    <tr>\n",
       "      <th>4</th>\n",
       "      <td>24.040404</td>\n",
       "      <td>1.0</td>\n",
       "    </tr>\n",
       "  </tbody>\n",
       "</table>\n",
       "</div>"
      ],
      "text/plain": [
       "     science  schtyp\n",
       "0  20.000000     1.0\n",
       "1  21.010101     1.0\n",
       "2  22.020202     1.0\n",
       "3  23.030303     1.0\n",
       "4  24.040404     1.0"
      ]
     },
     "execution_count": 15,
     "metadata": {},
     "output_type": "execute_result"
    }
   ],
   "source": [
    "x = np.linspace(20, 120, 100) # generate 100 examples of science score between 20 and 120\n",
    "y = [1, 2]\n",
    "X = np.transpose([np.tile(x, len(y)), np.repeat(y, len(x))])\n",
    "sim_data = pd.DataFrame(X, columns = ['science', 'schtyp'])\n",
    "sim_data.head()"
   ]
  },
  {
   "cell_type": "markdown",
   "metadata": {},
   "source": [
    "- Predict $P(Y = 1)$ for the above data and add it as a new column called `prob_math_high`. Then replace school type values with their proper labels `{1: 'public', 2: 'private'}`."
   ]
  },
  {
   "cell_type": "code",
   "execution_count": 19,
   "metadata": {},
   "outputs": [],
   "source": [
    "sim_data['prob_math_high'] = logit_model.predict(sim_data)"
   ]
  },
  {
   "cell_type": "markdown",
   "metadata": {},
   "source": [
    "- Create a line plot of `P(Y = 1)` against `science`, color-coded by `schtyp`."
   ]
  },
  {
   "cell_type": "code",
   "execution_count": 20,
   "metadata": {
    "scrolled": true
   },
   "outputs": [
    {
     "data": {
      "text/plain": [
       "<matplotlib.axes._subplots.AxesSubplot at 0x12abeda90>"
      ]
     },
     "execution_count": 20,
     "metadata": {},
     "output_type": "execute_result"
    },
    {
     "data": {
      "image/png": "[encoded data removed]",
      "text/plain": [
       "<Figure size 720x504 with 1 Axes>"
      ]
     },
     "metadata": {
      "needs_background": "light"
     },
     "output_type": "display_data"
    }
   ],
   "source": [
    "sns.lineplot('science', 'prob_math_high', data = sim_data, hue = 'schtyp')"
   ]
  },
  {
   "cell_type": "markdown",
   "metadata": {},
   "source": [
    "The above predictions are what we call **soft predictions** because they are probabilities, as opposed to **hard predictions** which are `True, False` or `1, 0` predictions. To get the hard predictions, we first need to set a threshold $q \\in (0, 1)$ and predict\n",
    "\n",
    "$$\n",
    "\\begin{equation*}\n",
    "\\hat Y = \\begin{cases}\n",
    "             0  & \\text{if } P(Y = 1) < q \\\\\n",
    "             1  & \\text{if } P(Y = 1) \\ge q\n",
    "     \\end{cases} \\quad\n",
    "\\end{equation*}\n",
    "$$\n",
    "\n",
    "Therefore hard predictions depend on the choice of the threshold $q$. All subsequent measures that are calculated from hard predictions (TP, TN, FP, FN, precision and recall, etc.) also depend on $q$.\n",
    "\n",
    "- Use the model's `pred_table` method to get the **confusion matrix**. By default, this is based on $q = 0.50$ but change the value of $q$ to $0.30$. What is the precision and recall of this model?"
   ]
  },
  {
   "cell_type": "code",
   "execution_count": null,
   "metadata": {},
   "outputs": [],
   "source": []
  },
  {
   "cell_type": "markdown",
   "metadata": {},
   "source": [
    "- Calculate the sensitivity and specificity of the test. Sensitivity and specificity are two measures that are used to evaluate a binary classifier. We define **sensitivity** as $\\frac{TP}{FN + TP}$ and **specificity** as $\\frac{TN}{FP + TN}$."
   ]
  },
  {
   "cell_type": "code",
   "execution_count": null,
   "metadata": {},
   "outputs": [],
   "source": []
  },
  {
   "cell_type": "markdown",
   "metadata": {},
   "source": [
    "We can see in the below cell the relationship between the $q$ and sensitivity or specificity."
   ]
  },
  {
   "cell_type": "code",
   "execution_count": null,
   "metadata": {},
   "outputs": [],
   "source": [
    "res = pd.DataFrame({'q': np.linspace(0, 1, num = 50)})\n",
    "res['precision'] = 0\n",
    "res['recall'] = 0\n",
    "epsilon = 0.0001\n",
    "\n",
    "for index, row in res.iterrows():\n",
    "    cm = logit_model.pred_table(threshold = row['q'])\n",
    "    res.loc[index, 'specificity'] = cm[0, 0] / (cm[0, :].sum() + epsilon)\n",
    "    res.loc[index, 'sensitivity'] = cm[1, 1] / (cm[1, :].sum() + epsilon)\n",
    "\n",
    "sns.lineplot('q', 'sensitivity', data = res, color = 'blue')\n",
    "sns.lineplot('q', 'specificity', data = res, color = 'red')\n",
    "plt.legend(['senstivity', 'specificity']);"
   ]
  },
  {
   "cell_type": "markdown",
   "metadata": {},
   "source": [
    "- Explain why sensitivity drops as $q$ increases while specificity increases.\n",
    "\n",
    "There are other ways to evaluate binary classification models, such as precision and recall. Sensitivity and specificity is more common in the medical field while precision and recall come from information retrieval. Recall and sensitivity have the same definition, but precision and specificity are not the same thing and should not be confused.\n",
    "\n",
    "### End of exercise"
   ]
  },
  {
   "cell_type": "markdown",
   "metadata": {},
   "source": [
    "## Summary\n",
    "\n",
    "We learned how to extend linear regression for dealing with various situations. As you can see, linear regression gives us a very flexible building block. For this reason, many other algorithms build on the same ideas introduced in linear regression. We also saw how the coefficients in linear regression lend themselves to a simple interpretation, and how more complex models make this interpretation harder to maintain."
   ]
  }
 ],
 "metadata": {
  "anaconda-cloud": {},
  "kernelspec": {
   "display_name": "Python 3",
   "language": "python",
   "name": "python3"
  },
  "language_info": {
   "codemirror_mode": {
    "name": "ipython",
    "version": 3
   },
   "file_extension": ".py",
   "mimetype": "text/x-python",
   "name": "python",
   "nbconvert_exporter": "python",
   "pygments_lexer": "ipython3",
   "version": "3.7.0"
  },
  "toc": {
   "base_numbering": 1,
   "nav_menu": {},
   "number_sections": true,
   "sideBar": false,
   "skip_h1_title": false,
   "title_cell": "Table of Contents",
   "title_sidebar": "Contents",
   "toc_cell": false,
   "toc_position": {
    "height": "727.717px",
    "left": "0px",
    "top": "111.483px",
    "width": "220.767px"
   },
   "toc_section_display": true,
   "toc_window_display": true
  }
 },
 "nbformat": 4,
 "nbformat_minor": 4
}
