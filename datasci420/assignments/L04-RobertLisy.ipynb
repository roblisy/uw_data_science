{
 "cells": [
  {
   "cell_type": "markdown",
   "metadata": {},
   "source": [
    "# Lesson 4 Homework\n",
    "#### Rob Lisy\n",
    "\n",
    "\n",
    "- Read data. You can keep the column names as integers for now. It's probably a lot of work digging around in the 'names' file to find all the column names. But know that the first 5 columns are not features, and the last column is the target feature.\n",
    "- You'll have to deal with NaN ('?'s) values in the features.\n",
    "- Apply three techniques for filter selection (just one for each): Filter methods, Wrapper methods, Embedded methods.\n",
    "    - Filter methods. I would suggest mutual information. You could also look at Pearson's correlation too. Add a quick summary at the end of this.\n",
    "    - Wrapper Methods: Pick either forward or backward stepwise linear regression. Report on the final chosen model. And again, use a few complete sentences. I would start with CV=5 if you are using cross validation arguments, this is a larger dataset than the lab and can tax your processor for a while.\n",
    "    - Embedded Methods: Probably use Lasso Regression here. Be careful on what you pick your range of alphas to explore. Probably best to check out \"numpy.logspace\" instead of \"numpy.linspace\". Add a summary to the end.\n",
    "\n",
    "#### Describe your findings.\n",
    "\n",
    "So for each of the prior three methods, you should have a short summary of all three methods. NOW you'll want to create a summary of a comparison between the three prior methods. Shoot for all complete sentences and a full paragraph or two. Here's some hints on what to talk about:\n",
    "Which would you pick in this situation?\n",
    "Does your choice depend on anything else? like Business requirements?\n",
    "Predictive policing has FAR reaching ethical implications, and is the subject of many books and resources. Please talk a bit about how important it is to correctly communicate your findings.\n",
    "For more readings about the ethical implications, check out:"
   ]
  },
  {
   "cell_type": "code",
   "execution_count": 1,
   "metadata": {},
   "outputs": [
    {
     "data": {
      "text/html": [
       "<div>\n",
       "<style scoped>\n",
       "    .dataframe tbody tr th:only-of-type {\n",
       "        vertical-align: middle;\n",
       "    }\n",
       "\n",
       "    .dataframe tbody tr th {\n",
       "        vertical-align: top;\n",
       "    }\n",
       "\n",
       "    .dataframe thead th {\n",
       "        text-align: right;\n",
       "    }\n",
       "</style>\n",
       "<table border=\"1\" class=\"dataframe\">\n",
       "  <thead>\n",
       "    <tr style=\"text-align: right;\">\n",
       "      <th></th>\n",
       "      <th>0</th>\n",
       "      <th>1</th>\n",
       "      <th>2</th>\n",
       "      <th>3</th>\n",
       "      <th>4</th>\n",
       "      <th>5</th>\n",
       "      <th>6</th>\n",
       "      <th>7</th>\n",
       "      <th>8</th>\n",
       "      <th>9</th>\n",
       "      <th>...</th>\n",
       "      <th>118</th>\n",
       "      <th>119</th>\n",
       "      <th>120</th>\n",
       "      <th>121</th>\n",
       "      <th>122</th>\n",
       "      <th>123</th>\n",
       "      <th>124</th>\n",
       "      <th>125</th>\n",
       "      <th>126</th>\n",
       "      <th>127</th>\n",
       "    </tr>\n",
       "  </thead>\n",
       "  <tbody>\n",
       "    <tr>\n",
       "      <th>0</th>\n",
       "      <td>8</td>\n",
       "      <td>0.0</td>\n",
       "      <td>0.0</td>\n",
       "      <td>Lakewoodcity</td>\n",
       "      <td>1</td>\n",
       "      <td>0.19</td>\n",
       "      <td>0.33</td>\n",
       "      <td>0.02</td>\n",
       "      <td>0.90</td>\n",
       "      <td>0.12</td>\n",
       "      <td>...</td>\n",
       "      <td>0.12</td>\n",
       "      <td>0.26</td>\n",
       "      <td>0.20</td>\n",
       "      <td>0.06</td>\n",
       "      <td>0.04</td>\n",
       "      <td>0.9</td>\n",
       "      <td>0.5</td>\n",
       "      <td>0.32</td>\n",
       "      <td>0.14</td>\n",
       "      <td>0.20</td>\n",
       "    </tr>\n",
       "    <tr>\n",
       "      <th>1</th>\n",
       "      <td>53</td>\n",
       "      <td>0.0</td>\n",
       "      <td>0.0</td>\n",
       "      <td>Tukwilacity</td>\n",
       "      <td>1</td>\n",
       "      <td>0.00</td>\n",
       "      <td>0.16</td>\n",
       "      <td>0.12</td>\n",
       "      <td>0.74</td>\n",
       "      <td>0.45</td>\n",
       "      <td>...</td>\n",
       "      <td>0.02</td>\n",
       "      <td>0.12</td>\n",
       "      <td>0.45</td>\n",
       "      <td>0.00</td>\n",
       "      <td>0.00</td>\n",
       "      <td>0.0</td>\n",
       "      <td>0.0</td>\n",
       "      <td>0.00</td>\n",
       "      <td>0.00</td>\n",
       "      <td>0.67</td>\n",
       "    </tr>\n",
       "    <tr>\n",
       "      <th>2</th>\n",
       "      <td>24</td>\n",
       "      <td>0.0</td>\n",
       "      <td>0.0</td>\n",
       "      <td>Aberdeentown</td>\n",
       "      <td>1</td>\n",
       "      <td>0.00</td>\n",
       "      <td>0.42</td>\n",
       "      <td>0.49</td>\n",
       "      <td>0.56</td>\n",
       "      <td>0.17</td>\n",
       "      <td>...</td>\n",
       "      <td>0.01</td>\n",
       "      <td>0.21</td>\n",
       "      <td>0.02</td>\n",
       "      <td>0.00</td>\n",
       "      <td>0.00</td>\n",
       "      <td>0.0</td>\n",
       "      <td>0.0</td>\n",
       "      <td>0.00</td>\n",
       "      <td>0.00</td>\n",
       "      <td>0.43</td>\n",
       "    </tr>\n",
       "    <tr>\n",
       "      <th>3</th>\n",
       "      <td>34</td>\n",
       "      <td>5.0</td>\n",
       "      <td>81440.0</td>\n",
       "      <td>Willingborotownship</td>\n",
       "      <td>1</td>\n",
       "      <td>0.04</td>\n",
       "      <td>0.77</td>\n",
       "      <td>1.00</td>\n",
       "      <td>0.08</td>\n",
       "      <td>0.12</td>\n",
       "      <td>...</td>\n",
       "      <td>0.02</td>\n",
       "      <td>0.39</td>\n",
       "      <td>0.28</td>\n",
       "      <td>0.00</td>\n",
       "      <td>0.00</td>\n",
       "      <td>0.0</td>\n",
       "      <td>0.0</td>\n",
       "      <td>0.00</td>\n",
       "      <td>0.00</td>\n",
       "      <td>0.12</td>\n",
       "    </tr>\n",
       "    <tr>\n",
       "      <th>4</th>\n",
       "      <td>42</td>\n",
       "      <td>95.0</td>\n",
       "      <td>6096.0</td>\n",
       "      <td>Bethlehemtownship</td>\n",
       "      <td>1</td>\n",
       "      <td>0.01</td>\n",
       "      <td>0.55</td>\n",
       "      <td>0.02</td>\n",
       "      <td>0.95</td>\n",
       "      <td>0.09</td>\n",
       "      <td>...</td>\n",
       "      <td>0.04</td>\n",
       "      <td>0.09</td>\n",
       "      <td>0.02</td>\n",
       "      <td>0.00</td>\n",
       "      <td>0.00</td>\n",
       "      <td>0.0</td>\n",
       "      <td>0.0</td>\n",
       "      <td>0.00</td>\n",
       "      <td>0.00</td>\n",
       "      <td>0.03</td>\n",
       "    </tr>\n",
       "  </tbody>\n",
       "</table>\n",
       "<p>5 rows × 128 columns</p>\n",
       "</div>"
      ],
      "text/plain": [
       "   0     1        2                    3    4     5     6     7     8     9    \\\n",
       "0    8   0.0      0.0         Lakewoodcity    1  0.19  0.33  0.02  0.90  0.12   \n",
       "1   53   0.0      0.0          Tukwilacity    1  0.00  0.16  0.12  0.74  0.45   \n",
       "2   24   0.0      0.0         Aberdeentown    1  0.00  0.42  0.49  0.56  0.17   \n",
       "3   34   5.0  81440.0  Willingborotownship    1  0.04  0.77  1.00  0.08  0.12   \n",
       "4   42  95.0   6096.0    Bethlehemtownship    1  0.01  0.55  0.02  0.95  0.09   \n",
       "\n",
       "   ...   118   119   120   121   122  123  124   125   126   127  \n",
       "0  ...  0.12  0.26  0.20  0.06  0.04  0.9  0.5  0.32  0.14  0.20  \n",
       "1  ...  0.02  0.12  0.45  0.00  0.00  0.0  0.0  0.00  0.00  0.67  \n",
       "2  ...  0.01  0.21  0.02  0.00  0.00  0.0  0.0  0.00  0.00  0.43  \n",
       "3  ...  0.02  0.39  0.28  0.00  0.00  0.0  0.0  0.00  0.00  0.12  \n",
       "4  ...  0.04  0.09  0.02  0.00  0.00  0.0  0.0  0.00  0.00  0.03  \n",
       "\n",
       "[5 rows x 128 columns]"
      ]
     },
     "execution_count": 1,
     "metadata": {},
     "output_type": "execute_result"
    }
   ],
   "source": [
    "import pandas as pd\n",
    "import numpy as np\n",
    "import seaborn as sns\n",
    "\n",
    "file = 'http://archive.ics.uci.edu/ml/machine-learning-databases/communities/communities.data'\n",
    "df = pd.read_csv(file, header=None, na_values=['?']).fillna(0)\n",
    "df.head()"
   ]
  },
  {
   "cell_type": "code",
   "execution_count": 2,
   "metadata": {},
   "outputs": [
    {
     "data": {
      "text/plain": [
       "0        int64\n",
       "1      float64\n",
       "2      float64\n",
       "3       object\n",
       "4        int64\n",
       "        ...   \n",
       "123    float64\n",
       "124    float64\n",
       "125    float64\n",
       "126    float64\n",
       "127    float64\n",
       "Length: 128, dtype: object"
      ]
     },
     "execution_count": 2,
     "metadata": {},
     "output_type": "execute_result"
    }
   ],
   "source": [
    "df.dtypes"
   ]
  },
  {
   "cell_type": "code",
   "execution_count": 3,
   "metadata": {},
   "outputs": [],
   "source": [
    "# Clean up the names...\n",
    "col_names = ['state','county','community','communityname',\n",
    "             'fold','population','householdsize','racepctblack',\n",
    "             'racePctWhite','racePctAsian','racePctHisp',\n",
    "             'agePct12t21','agePct12t29','agePct16t24','agePct65up',\n",
    "             'numbUrban','pctUrban','medIncome','pctWWage',\n",
    "             'pctWFarmSelf','pctWInvInc','pctWSocSec','pctWPubAsst',\n",
    "             'pctWRetire','medFamInc','perCapInc','whitePerCap',\n",
    "             'blackPerCap','indianPerCap','AsianPerCap',\n",
    "             'OtherPerCap','HispPerCap','NumUnderPov','PctPopUnderPov',\n",
    "             'PctLess9thGrade','PctNotHSGrad','PctBSorMore','PctUnemployed',\n",
    "             'PctEmploy','PctEmplManu','PctEmplProfServ','PctOccupManu',\n",
    "             'PctOccupMgmtProf','MalePctDivorce','MalePctNevMarr','FemalePctDiv',\n",
    "             'TotalPctDiv','PersPerFam','PctFam2Par','PctKids2Par',\n",
    "             'PctYoungKids2Par','PctTeen2Par','PctWorkMomYoungKids',\n",
    "             'PctWorkMom','NumIlleg','PctIlleg','NumImmig','PctImmigRecent',\n",
    "             'PctImmigRec5','PctImmigRec8','PctImmigRec10','PctRecentImmig',\n",
    "             'PctRecImmig5','PctRecImmig8','PctRecImmig10','PctSpeakEnglOnly',\n",
    "             'PctNotSpeakEnglWell','PctLargHouseFam','PctLargHouseOccup',\n",
    "             'PersPerOccupHous','PersPerOwnOccHous','PersPerRentOccHous',\n",
    "             'PctPersOwnOccup','PctPersDenseHous','PctHousLess3BR','MedNumBR',\n",
    "             'HousVacant','PctHousOccup','PctHousOwnOcc','PctVacantBoarded',\n",
    "             'PctVacMore6Mos','MedYrHousBuilt','PctHousNoPhone','PctWOFullPlumb',\n",
    "             'OwnOccLowQuart','OwnOccMedVal','OwnOccHiQuart','RentLowQ',\n",
    "             'RentMedian','RentHighQ','MedRent','MedRentPctHousInc',\n",
    "             'MedOwnCostPctInc','MedOwnCostPctIncNoMtg','NumInShelters',\n",
    "             'NumStreet','PctForeignBorn','PctBornSameState','PctSameHouse85',\n",
    "             'PctSameCity85','PctSameState85','LemasSwornFT','LemasSwFTPerPop',\n",
    "             'LemasSwFTFieldOps','LemasSwFTFieldPerPop','LemasTotalReq',\n",
    "             'LemasTotReqPerPop','PolicReqPerOffic','PolicPerPop',\n",
    "             'RacialMatchCommPol','PctPolicWhite','PctPolicBlack',\n",
    "             'PctPolicHisp','PctPolicAsian','PctPolicMinor','OfficAssgnDrugUnits',\n",
    "             'NumKindsDrugsSeiz','PolicAveOTWorked','LandArea','PopDens',\n",
    "             'PctUsePubTrans','PolicCars','PolicOperBudg','LemasPctPolicOnPatr',\n",
    "             'LemasGangUnitDeploy','LemasPctOfficDrugUn','PolicBudgPerPop','ViolentCrimesPerPop']\n",
    "\n",
    "df.columns=col_names"
   ]
  },
  {
   "cell_type": "code",
   "execution_count": 4,
   "metadata": {},
   "outputs": [
    {
     "data": {
      "image/png": "[encoded data removed]",
      "text/plain": [
       "<Figure size 432x288 with 1 Axes>"
      ]
     },
     "metadata": {
      "needs_background": "light"
     },
     "output_type": "display_data"
    }
   ],
   "source": [
    "# Create an X and y\n",
    "# X should drop the first 5 columns, and convert to a numpy array\n",
    "# y should be the outcome column we care about\n",
    "\n",
    "X = df.iloc[:, 5:127]\n",
    "y = df['ViolentCrimesPerPop']\n",
    "sns.distplot(df['ViolentCrimesPerPop']);"
   ]
  },
  {
   "cell_type": "markdown",
   "metadata": {},
   "source": [
    "# Filter Selection\n",
    "\n",
    "Apply 3 techniques for filter selection (1 each):\n",
    "- Filter method\n",
    "- Wrapper method\n",
    "- Embedded method\n",
    "\n",
    "\n",
    "We'll start with mutual information, which is a filter method of feature selection. Mutual information quantifies how much knowing one variable reduces the uncertainty of knowing another variable. If two features are perfectly independant, the mutual information between them is 0."
   ]
  },
  {
   "cell_type": "code",
   "execution_count": 5,
   "metadata": {},
   "outputs": [],
   "source": [
    "from sklearn.feature_selection import mutual_info_regression\n",
    "from sklearn.metrics import mutual_info_score\n",
    "\n",
    "mi_scores = []\n",
    "\n",
    "for c in X:\n",
    "    arr = X[c].values.reshape(-1,1)\n",
    "    mi_scores.append(mutual_info_regression(arr, y))"
   ]
  },
  {
   "cell_type": "code",
   "execution_count": 6,
   "metadata": {},
   "outputs": [
    {
     "data": {
      "image/png": "[encoded data removed]",
      "text/plain": [
       "<Figure size 432x288 with 1 Axes>"
      ]
     },
     "metadata": {
      "needs_background": "light"
     },
     "output_type": "display_data"
    }
   ],
   "source": [
    "# look at the mutual information scores\n",
    "sns.distplot(np.array(mi_scores));"
   ]
  },
  {
   "cell_type": "markdown",
   "metadata": {},
   "source": [
    "# Feature selection using mutual information\n",
    "\n",
    "We now know the distribution of Mutual Information across ALL columns as compared with our outcome/target column. We could make some decisions and potentially drop columns with \"little\" mutual information, based on some threshold (median mutual information maybe, or some other cutoff point... maybe quartiles / deciles)."
   ]
  },
  {
   "cell_type": "markdown",
   "metadata": {},
   "source": [
    "---------------------\n",
    "\n",
    "# Wrapper Method\n",
    "\n",
    "We'll use backwards selection from linear regression. This method creates a (linear) model using all features, then removes features one at a time to see if the model improves."
   ]
  },
  {
   "cell_type": "code",
   "execution_count": 7,
   "metadata": {},
   "outputs": [],
   "source": [
    "from sklearn.linear_model import LinearRegression\n",
    "from sklearn.feature_selection import RFE #Recurisve feature elimination"
   ]
  },
  {
   "cell_type": "code",
   "execution_count": 7,
   "metadata": {},
   "outputs": [
    {
     "name": "stdout",
     "output_type": "stream",
     "text": [
      "      population  MalePctDivorce  TotalPctDiv  LemasSwFTPerPop  PolicPerPop\n",
      "0           0.19            0.68         0.75             0.13         0.13\n",
      "1           0.00            1.00         1.00             0.00         0.00\n",
      "2           0.00            0.63         0.70             0.00         0.00\n",
      "3           0.04            0.34         0.44             0.00         0.00\n",
      "4           0.01            0.22         0.21             0.00         0.00\n",
      "...          ...             ...          ...              ...          ...\n",
      "1989        0.01            0.39         0.53             0.00         0.00\n",
      "1990        0.05            0.42         0.48             0.00         0.00\n",
      "1991        0.16            0.50         0.52             0.30         0.30\n",
      "1992        0.08            0.32         0.32             0.25         0.25\n",
      "1993        0.20            0.49         0.57             0.11         0.11\n",
      "\n",
      "[1994 rows x 5 columns]\n"
     ]
    }
   ],
   "source": [
    "estimator=LinearRegression()\n",
    "back_selector=RFE(estimator=estimator, \n",
    "                  n_features_to_select=5, \n",
    "                  step=1)\n",
    "\n",
    "back_selector=back_selector.fit(X, y)\n",
    "mask = back_selector.support_\n",
    "\n",
    "top_5_cols = X.iloc[:, mask]\n",
    "print(top_5_cols)"
   ]
  },
  {
   "cell_type": "markdown",
   "metadata": {},
   "source": [
    "# Embedded Methods\n",
    "\n",
    "\n",
    "Embedded methods put penalties on the coefficients of each attribute, and then use those to do featue selection. We'll use Lasso."
   ]
  },
  {
   "cell_type": "code",
   "execution_count": 40,
   "metadata": {},
   "outputs": [],
   "source": [
    "# First get imports and the data setup and split into test/train set...\n",
    "from sklearn import linear_model\n",
    "from sklearn.model_selection import train_test_split\n",
    "from sklearn.model_selection import GridSearchCV\n",
    "\n",
    "x_train, x_test, y_train, y_test = train_test_split(X, y, test_size=0.20)"
   ]
  },
  {
   "cell_type": "markdown",
   "metadata": {},
   "source": [
    "# let's make one Lasso model, using a small Alpha\n",
    "alpha_start = .0001\n",
    "clf_temp = linear_model.Lasso(alpha=alpha_start)\n",
    "clf_temp.fit(x_train, y_train)\n",
    "\n",
    "# Get coefficients + intercept\n",
    "print(f\"Coeffs = {clf_temp.coef_}\")"
   ]
  },
  {
   "cell_type": "code",
   "execution_count": 61,
   "metadata": {},
   "outputs": [
    {
     "data": {
      "text/plain": [
       "coef_44   -0.075441\n",
       "coef_3    -0.068907\n",
       "coef_72   -0.002297\n",
       "coef_48   -0.001256\n",
       "coef_88   -0.000567\n",
       "dtype: float64"
      ]
     },
     "execution_count": 61,
     "metadata": {},
     "output_type": "execute_result"
    }
   ],
   "source": [
    "# Try varying alpha\n",
    "alpha_seq = np.linspace(0.001, .05, 50)\n",
    "num_coefs = x_train.shape[1]\n",
    "\n",
    "# Store coefficients for each alpha:\n",
    "coef_cols = ['coef_' + str(ix) for ix in range(num_coefs)] + ['intercept']\n",
    "alpha_df = pd.DataFrame(columns=coef_cols)\n",
    "\n",
    "for a in alpha_seq:\n",
    "    # Fit model\n",
    "    clf_temp = linear_model.Lasso(alpha=a)\n",
    "    clf_temp.fit(x_train, y_train)\n",
    "    # Get coefficients + intercept\n",
    "    coef_nums = np.append(clf_temp.coef_, clf_temp.intercept_)\n",
    "\n",
    "    alpha_df = alpha_df.append(dict(zip(coef_cols, coef_nums)), ignore_index=True)\n",
    "\n",
    "alpha_df.index = alpha_seq\n",
    "\n",
    "non_intercept_cols = [c for c in alpha_df.columns if c not in ['intercept']]\n",
    "\n",
    "# Calculate and show the most impactful attributes (i.e. those with the largest coefficients)\n",
    "coef_avgs = alpha_df[non_intercept_cols].mean()\n",
    "coef_avgs.sort_values().head()"
   ]
  },
  {
   "cell_type": "markdown",
   "metadata": {},
   "source": [
    "# Coefficients\n",
    "\n",
    "Attributes 44, 3, and 72 are (on average) the most impactful for our outcome variable. They are:\n",
    "- PctKids2Par\n",
    "- racePctWhite\n",
    "- PctPersOwnOccup"
   ]
  },
  {
   "cell_type": "markdown",
   "metadata": {},
   "source": [
    "# Summary\n",
    "\n",
    "We have multiple options available for feature reduction. The options fall into 3 broad categories: filter, wrapper, or embedded methods. In this situation my choice as to which feature reduction method to use would really depend on the application of my hypothetical \"consulting company\".\n",
    "\n",
    "In most of the scenarios I can imagine using this data for, I would consider using embedded methods. Stepwise regression in many dimensional spaces may be exhaustive to compute - every additional attribute adds an additional set of combinatorics for the model to potentially probe. There are only 6 combinations possible for 3 attributes (aka 3!), but there are over 3.6 milllion combinations for 10 attributes. Both backwards and forwards selection techniques suffer from this limitation. In addition, stepwise selection methods could leave out attributes which contain information to the model but do NOT meet the p-value.\n",
    "\n",
    "I did (some digging)[https://perso.uclouvain.be/michel.verleysen/papers/neuralnetworks13bf.pdf] and found that mutual information has some interesting limitations. The most notable of these is that there's no connection between the use of mutual information and a regression error (i.e. chosing features based on mutual information may not actually make the best choices).\n",
    "\n",
    "Lasso / Ridge have a very nice benefit of being quick to compute, not requiring a transform of the data, and scaling coefficients in an easy to understand method.\n",
    "\n",
    "As far as delivering my findings, I would need to talk at length about how these features and measurements are substitutes for processes happening in the real world. For instance, Lasso seems to identify the \"racePctWhite\" as the 2nd most important feature - the higher the percentage of white people who live in an area the lower the rate of violent crime. However is NOT causal: being white or not doesn't CREATE crime. What we could be looking at by observing \"whiteness\" in the data is an underlying latent variable which we can't measure. With that in mind, I would actively discourage police departments to beef up patrols in non white neighborhoods just to prevent violent crime, since the \"whiteness\" may not be the inferrential silver bullet that some linear regression model thinks it is."
   ]
  }
 ],
 "metadata": {
  "kernelspec": {
   "display_name": "Python 3",
   "language": "python",
   "name": "python3"
  },
  "language_info": {
   "codemirror_mode": {
    "name": "ipython",
    "version": 3
   },
   "file_extension": ".py",
   "mimetype": "text/x-python",
   "name": "python",
   "nbconvert_exporter": "python",
   "pygments_lexer": "ipython3",
   "version": "3.7.0"
  }
 },
 "nbformat": 4,
 "nbformat_minor": 4
}
