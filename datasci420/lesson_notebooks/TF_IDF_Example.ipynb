{
 "cells": [
  {
   "cell_type": "markdown",
   "metadata": {},
   "source": [
    "# TF-IDF Example\n",
    "\n",
    "Example TF-IDF for 2 small corpuses of example text, one for DDMR and another for Jumpshot."
   ]
  },
  {
   "cell_type": "code",
   "execution_count": 15,
   "metadata": {},
   "outputs": [
    {
     "data": {
      "text/html": [
       "<div>\n",
       "<style scoped>\n",
       "    .dataframe tbody tr th:only-of-type {\n",
       "        vertical-align: middle;\n",
       "    }\n",
       "\n",
       "    .dataframe tbody tr th {\n",
       "        vertical-align: top;\n",
       "    }\n",
       "\n",
       "    .dataframe thead th {\n",
       "        text-align: right;\n",
       "    }\n",
       "</style>\n",
       "<table border=\"1\" class=\"dataframe\">\n",
       "  <thead>\n",
       "    <tr style=\"text-align: right;\">\n",
       "      <th></th>\n",
       "      <th>creators</th>\n",
       "      <th>live</th>\n",
       "      <th>livestream</th>\n",
       "      <th>livestreaming</th>\n",
       "      <th>minecraft</th>\n",
       "      <th>on</th>\n",
       "      <th>online</th>\n",
       "      <th>videos</th>\n",
       "      <th>watch</th>\n",
       "      <th>youtube</th>\n",
       "    </tr>\n",
       "  </thead>\n",
       "  <tbody>\n",
       "    <tr>\n",
       "      <th>0</th>\n",
       "      <td>0.000000</td>\n",
       "      <td>0.258625</td>\n",
       "      <td>0.363488</td>\n",
       "      <td>0.000000</td>\n",
       "      <td>0.000000</td>\n",
       "      <td>0.363488</td>\n",
       "      <td>0.000000</td>\n",
       "      <td>0.258625</td>\n",
       "      <td>0.000000</td>\n",
       "      <td>0.775874</td>\n",
       "    </tr>\n",
       "    <tr>\n",
       "      <th>1</th>\n",
       "      <td>0.323487</td>\n",
       "      <td>0.230164</td>\n",
       "      <td>0.000000</td>\n",
       "      <td>0.323487</td>\n",
       "      <td>0.323487</td>\n",
       "      <td>0.000000</td>\n",
       "      <td>0.323487</td>\n",
       "      <td>0.460328</td>\n",
       "      <td>0.323487</td>\n",
       "      <td>0.460328</td>\n",
       "    </tr>\n",
       "  </tbody>\n",
       "</table>\n",
       "</div>"
      ],
      "text/plain": [
       "   creators      live  livestream  livestreaming  minecraft        on  \\\n",
       "0  0.000000  0.258625    0.363488       0.000000   0.000000  0.363488   \n",
       "1  0.323487  0.230164    0.000000       0.323487   0.323487  0.000000   \n",
       "\n",
       "     online    videos     watch   youtube  \n",
       "0  0.000000  0.258625  0.000000  0.775874  \n",
       "1  0.323487  0.460328  0.323487  0.460328  "
      ]
     },
     "execution_count": 15,
     "metadata": {},
     "output_type": "execute_result"
    }
   ],
   "source": [
    "import pandas as pd\n",
    "from sklearn.feature_extraction.text import TfidfVectorizer\n",
    "from nltk.corpus import stopwords\n",
    "\n",
    "DDMR = 'youtube youtube videos livestream on youtube live'\n",
    "Jumpshot = 'youtube youtube creators online videos watch live livestreaming minecraft videos'\n",
    "\n",
    "vectorizer = TfidfVectorizer()\n",
    "vectors = vectorizer.fit_transform([DDMR, Jumpshot])\n",
    "feature_names = vectorizer.get_feature_names()\n",
    "dense = vectors.todense()\n",
    "denselist = dense.tolist()\n",
    "df = pd.DataFrame(denselist, columns=feature_names)\n",
    "df.head()"
   ]
  }
 ],
 "metadata": {
  "kernelspec": {
   "display_name": "Python 3",
   "language": "python",
   "name": "python3"
  },
  "language_info": {
   "codemirror_mode": {
    "name": "ipython",
    "version": 3
   },
   "file_extension": ".py",
   "mimetype": "text/x-python",
   "name": "python",
   "nbconvert_exporter": "python",
   "pygments_lexer": "ipython3",
   "version": "3.7.0"
  }
 },
 "nbformat": 4,
 "nbformat_minor": 4
}
