{
 "cells": [
  {
   "cell_type": "markdown",
   "metadata": {},
   "source": [
    "# Feature selection"
   ]
  },
  {
   "cell_type": "markdown",
   "metadata": {},
   "source": [
    "Feature selection refers to algorithms that can help us narrow down our **feature set** to a smaller set of important features, where importance here refers to the strength of the relationship between the feature and the target. A more important feature is one that ultimately can influence the model's prediction more."
   ]
  },
  {
   "cell_type": "markdown",
   "metadata": {},
   "source": [
    "## Filter-based methods for feature selection"
   ]
  },
  {
   "cell_type": "markdown",
   "metadata": {},
   "source": [
    "**Filter-based selection** refer to methods we can use to identify features with a high association and remove one as part of feature selection prior to machine learning. One way we can measure the degree to which two features are associated is using **correlation**, but correlation (**pearson's correlation coefficient**, to be specific) measures the strength of **linear association** meaning that when correlation is high between two features (close to 1 or -1) then their scatter plot looks like a straight line. If instead of a straight line the scatter plot followed a curved line, we need to use other measures such as **ranked correlation** or **mutual information**.\n",
    "\n",
    "In the following example, we generate two features $X$ and $Y$ which are related to each other based on a polynomial (curve-like) equation with some added noise."
   ]
  },
  {
   "cell_type": "code",
   "execution_count": 1,
   "metadata": {},
   "outputs": [
    {
     "name": "stdout",
     "output_type": "stream",
     "text": [
      "Standard Deviation of Y = 1.20\n"
     ]
    },
    {
     "data": {
      "image/png": "[encoded data removed]",
      "text/plain": [
       "<Figure size 432x288 with 1 Axes>"
      ]
     },
     "metadata": {
      "needs_background": "light"
     },
     "output_type": "display_data"
    }
   ],
   "source": [
    "import numpy as np\n",
    "\n",
    "X = np.linspace(start = -1, stop = 3, num = 401, endpoint = True)\n",
    "Y = X**2 - 2*X + 1 # Y is a polynomial function of X\n",
    "print(\"Standard Deviation of Y = {:0.2f}\".format(np.std(Y)))\n",
    "\n",
    "noise_var = 0.2\n",
    "noise = np.random.normal(0, noise_var, len(X))\n",
    "Y += noise # add noise\n",
    "\n",
    "import matplotlib.pyplot as plt\n",
    "plt.plot(X, Y)\n",
    "plt.show()"
   ]
  },
  {
   "cell_type": "code",
   "execution_count": 4,
   "metadata": {},
   "outputs": [
    {
     "ename": "AttributeError",
     "evalue": "'numpy.ndarray' object has no attribute 'head'",
     "output_type": "error",
     "traceback": [
      "\u001b[0;31m---------------------------------------------------------------------------\u001b[0m",
      "\u001b[0;31mAttributeError\u001b[0m                            Traceback (most recent call last)",
      "\u001b[0;32m<ipython-input-4-ae5cd47bda90>\u001b[0m in \u001b[0;36m<module>\u001b[0;34m\u001b[0m\n\u001b[0;32m----> 1\u001b[0;31m \u001b[0mX\u001b[0m\u001b[0;34m.\u001b[0m\u001b[0mhead\u001b[0m\u001b[0;34m(\u001b[0m\u001b[0;34m)\u001b[0m\u001b[0;34m\u001b[0m\u001b[0m\n\u001b[0m",
      "\u001b[0;31mAttributeError\u001b[0m: 'numpy.ndarray' object has no attribute 'head'"
     ]
    }
   ],
   "source": []
  },
  {
   "cell_type": "markdown",
   "metadata": {},
   "source": [
    "Of course we can can just plot the features against each other and see how they're related, but imagine having to do this for every pair of some 20 features. So instead we want to rely on some metric to do this, so that we can later simply filter out redundant features based on the metric. Let's see what the correlation coefficient is."
   ]
  },
  {
   "cell_type": "code",
   "execution_count": 2,
   "metadata": {},
   "outputs": [
    {
     "name": "stdout",
     "output_type": "stream",
     "text": [
      "Correlation between X and Y is 0.01\n"
     ]
    }
   ],
   "source": [
    "corr = np.corrcoef(X, Y)[0, 1]\n",
    "print(\"Correlation between X and Y is {:0.2f}\".format(corr))"
   ]
  },
  {
   "cell_type": "markdown",
   "metadata": {},
   "source": [
    "As we can see, the correlation is close to zero, and if we had not plotted $X$ against $Y$, we would have been led to believe that there is no association between them, but let's now use mutual information to capture the stregth of their association."
   ]
  },
  {
   "cell_type": "markdown",
   "metadata": {},
   "source": [
    "### Mutual Information\n",
    "\n",
    "Remember the formulas:\n",
    "$\n",
    "\\tag{1}\n",
    "I(X;Y) = \\sum_{x,y} P_{XY}(x,y) \\log\n",
    "{P_{XY}(x,y) \\over P_X(x) P_Y(y)}\n",
    "\\, .\n",
    "$\n",
    "\n",
    "How we deal with X and Y depend on the form of X and Y (categorical or continuous).\n",
    "\n",
    "Python (sklearn) has 3 implementations:\n",
    "\n",
    " 1. Categorical - Categorical: `sklearn.metrics.mutual_info_score`.\n",
    " \n",
    " 2. Continuous - Categorical: `sklearn.feature_selection.mutual_info_classif`.\n",
    " \n",
    " 3. Continuous - Continuous: `sklearn.feature_selection.mutual_info_regression`.\n",
    " \n",
    "NOTE that 2 & 3 require the first argument to be a 2D matrix."
   ]
  },
  {
   "cell_type": "code",
   "execution_count": 4,
   "metadata": {},
   "outputs": [
    {
     "name": "stdout",
     "output_type": "stream",
     "text": [
      "Mutual information = 1.5862\n"
     ]
    }
   ],
   "source": [
    "# Categorical - Categorical Mutual information score:\n",
    "from sklearn.metrics import mutual_info_score\n",
    "\n",
    "# Continuous - Categorical Mutual information score:\n",
    "from sklearn.feature_selection import mutual_info_classif\n",
    "\n",
    "# Continuous - Continuous Mutual information score:\n",
    "from sklearn.feature_selection import mutual_info_regression\n",
    "\n",
    "\n",
    "# x and y are both continous:\n",
    "mi_score = mutual_info_regression(X.reshape(-1, 1), Y)\n",
    "\n",
    "print(f\"Mutual information = {mi_score[0]:0.4f}\")"
   ]
  },
  {
   "cell_type": "markdown",
   "metadata": {},
   "source": [
    "<hr style=\"border:5px solid pink\"> </hr>\n",
    "\n",
    "## Exercise\n",
    "\n",
    "Return to the above example and increase the noise gradually (using `noise_var`) and see how it changes correlation and mutual information.\n",
    "\n",
    "Hint: Plot both the correlation and the mutual information for an increasing sequence of noise vars."
   ]
  },
  {
   "cell_type": "code",
   "execution_count": 5,
   "metadata": {},
   "outputs": [],
   "source": [
    "import matplotlib.pyplot as plt\n",
    "noise_vars = np.linspace(0.2, 2.0, num=10)"
   ]
  },
  {
   "cell_type": "code",
   "execution_count": 21,
   "metadata": {},
   "outputs": [
    {
     "name": "stdout",
     "output_type": "stream",
     "text": [
      "Correl = -0.01 Mutual info = 1.52\n",
      "Correl = -0.02 Mutual info = 0.92\n",
      "Correl = -0.04 Mutual info = 0.63\n",
      "Correl = -0.00 Mutual info = 0.42\n",
      "Correl = -0.03 Mutual info = 0.23\n",
      "Correl = -0.01 Mutual info = 0.17\n",
      "Correl = -0.03 Mutual info = 0.09\n",
      "Correl = -0.03 Mutual info = 0.08\n",
      "Correl = -0.02 Mutual info = 0.04\n",
      "Correl = -0.01 Mutual info = 0.09\n"
     ]
    }
   ],
   "source": [
    "# Reset the value for Y\n",
    "Y = X**2 - 2*X + 1 # Y is a polynomial function of X\n",
    "\n",
    "for n in noise_vars:\n",
    "    noise = np.random.normal(0, n, len(X))\n",
    "    Y += noise # add noise\n",
    "    corr = np.corrcoef(X, Y)[0, 1]\n",
    "\n",
    "    mi_score = mutual_info_regression(X.reshape(-1, 1), Y)\n",
    "    print(f\"Correl = {corr:0.2f} Mutual info = {mi_score[0]:0.2f}\")"
   ]
  },
  {
   "cell_type": "markdown",
   "metadata": {},
   "source": [
    "### End of exercise"
   ]
  },
  {
   "cell_type": "markdown",
   "metadata": {},
   "source": [
    "<hr style=\"border:5px solid pink\"> </hr>\n",
    "\n",
    "## Wrapper methods for feature selection"
   ]
  },
  {
   "cell_type": "markdown",
   "metadata": {},
   "source": [
    "The **wrapper methods** for feature selection include **step-wise feature selection**, which is an iterative algorithm. It consists of this:\n",
    "\n",
    " - train a model with a set of features and evaluating its performance (accuracy)\n",
    " - see how much accuracy improves if we train a model but this time include a new and promising feature (this is called **forward selection**)\n",
    " - see how much accuracy goes down if we train a model but this time exclude an existing and not-so-useful feature (this is called **backward selection**)\n",
    " - repeat until model accuracy more-or-less peaks, leaving us with a **final model** whose selected features are a **subset** of all the features in the data (which is why step-wise selection is also called **best-subset selection**)\n",
    "\n",
    "In other words, every step in stepwise regression is one where we either include a promising new feature that was left out so far, or exclude a feature that was part of the model so far but doesn't seem to contribute much to model performance. In this sense, step-wise selection, just like filter-based selection attemps to include new features that are bringing in **new information** and avoid features that are either just noise or redundant. The difference is that step-wise selection does this in an iterative and automated fashion. The downside is that step-wise regression can be slow, since every step requires that we train a new model so we can evaluate its performance.\n",
    "\n",
    "Let's see how this works in action. We begin by generating a dataset using the `make_friedman1` function in `sklearn`. This function will intentially return a data with correlated features so that we can use it to do step-wise selection."
   ]
  },
  {
   "cell_type": "code",
   "execution_count": 22,
   "metadata": {
    "scrolled": true
   },
   "outputs": [
    {
     "data": {
      "text/html": [
       "<div>\n",
       "<style scoped>\n",
       "    .dataframe tbody tr th:only-of-type {\n",
       "        vertical-align: middle;\n",
       "    }\n",
       "\n",
       "    .dataframe tbody tr th {\n",
       "        vertical-align: top;\n",
       "    }\n",
       "\n",
       "    .dataframe thead th {\n",
       "        text-align: right;\n",
       "    }\n",
       "</style>\n",
       "<table border=\"1\" class=\"dataframe\">\n",
       "  <thead>\n",
       "    <tr style=\"text-align: right;\">\n",
       "      <th></th>\n",
       "      <th>0</th>\n",
       "      <th>1</th>\n",
       "      <th>2</th>\n",
       "      <th>3</th>\n",
       "      <th>4</th>\n",
       "      <th>5</th>\n",
       "      <th>6</th>\n",
       "      <th>7</th>\n",
       "      <th>8</th>\n",
       "      <th>9</th>\n",
       "    </tr>\n",
       "  </thead>\n",
       "  <tbody>\n",
       "    <tr>\n",
       "      <th>0</th>\n",
       "      <td>0.548814</td>\n",
       "      <td>0.715189</td>\n",
       "      <td>0.602763</td>\n",
       "      <td>0.544883</td>\n",
       "      <td>0.423655</td>\n",
       "      <td>0.645894</td>\n",
       "      <td>0.437587</td>\n",
       "      <td>0.891773</td>\n",
       "      <td>0.963663</td>\n",
       "      <td>0.383442</td>\n",
       "    </tr>\n",
       "    <tr>\n",
       "      <th>1</th>\n",
       "      <td>0.791725</td>\n",
       "      <td>0.528895</td>\n",
       "      <td>0.568045</td>\n",
       "      <td>0.925597</td>\n",
       "      <td>0.071036</td>\n",
       "      <td>0.087129</td>\n",
       "      <td>0.020218</td>\n",
       "      <td>0.832620</td>\n",
       "      <td>0.778157</td>\n",
       "      <td>0.870012</td>\n",
       "    </tr>\n",
       "    <tr>\n",
       "      <th>2</th>\n",
       "      <td>0.978618</td>\n",
       "      <td>0.799159</td>\n",
       "      <td>0.461479</td>\n",
       "      <td>0.780529</td>\n",
       "      <td>0.118274</td>\n",
       "      <td>0.639921</td>\n",
       "      <td>0.143353</td>\n",
       "      <td>0.944669</td>\n",
       "      <td>0.521848</td>\n",
       "      <td>0.414662</td>\n",
       "    </tr>\n",
       "    <tr>\n",
       "      <th>3</th>\n",
       "      <td>0.264556</td>\n",
       "      <td>0.774234</td>\n",
       "      <td>0.456150</td>\n",
       "      <td>0.568434</td>\n",
       "      <td>0.018790</td>\n",
       "      <td>0.617635</td>\n",
       "      <td>0.612096</td>\n",
       "      <td>0.616934</td>\n",
       "      <td>0.943748</td>\n",
       "      <td>0.681820</td>\n",
       "    </tr>\n",
       "    <tr>\n",
       "      <th>4</th>\n",
       "      <td>0.359508</td>\n",
       "      <td>0.437032</td>\n",
       "      <td>0.697631</td>\n",
       "      <td>0.060225</td>\n",
       "      <td>0.666767</td>\n",
       "      <td>0.670638</td>\n",
       "      <td>0.210383</td>\n",
       "      <td>0.128926</td>\n",
       "      <td>0.315428</td>\n",
       "      <td>0.363711</td>\n",
       "    </tr>\n",
       "  </tbody>\n",
       "</table>\n",
       "</div>"
      ],
      "text/plain": [
       "          0         1         2         3         4         5         6  \\\n",
       "0  0.548814  0.715189  0.602763  0.544883  0.423655  0.645894  0.437587   \n",
       "1  0.791725  0.528895  0.568045  0.925597  0.071036  0.087129  0.020218   \n",
       "2  0.978618  0.799159  0.461479  0.780529  0.118274  0.639921  0.143353   \n",
       "3  0.264556  0.774234  0.456150  0.568434  0.018790  0.617635  0.612096   \n",
       "4  0.359508  0.437032  0.697631  0.060225  0.666767  0.670638  0.210383   \n",
       "\n",
       "          7         8         9  \n",
       "0  0.891773  0.963663  0.383442  \n",
       "1  0.832620  0.778157  0.870012  \n",
       "2  0.944669  0.521848  0.414662  \n",
       "3  0.616934  0.943748  0.681820  \n",
       "4  0.128926  0.315428  0.363711  "
      ]
     },
     "execution_count": 22,
     "metadata": {},
     "output_type": "execute_result"
    }
   ],
   "source": [
    "import numpy as np\n",
    "import pandas as pd\n",
    "import seaborn as sns\n",
    "from sklearn.datasets import make_friedman1\n",
    "\n",
    "X, y = make_friedman1(n_samples = 50, n_features = 10, random_state = 0)\n",
    "X = pd.DataFrame(X)\n",
    "X.head()"
   ]
  },
  {
   "cell_type": "markdown",
   "metadata": {},
   "source": [
    "### Exercise\n",
    "\n",
    "We can take a look at the correlation matrix to see which features are strongly correlated, but with 10 feature it's a lot of numbers to be sifting through. So one quick an easy way to do this is to create a heatmap from the correlation matrix. Find out how you can use the `seaborn` library to create a heatmap from the correlation matrix for the above data.\n",
    "\n",
    "Hint: Google search: `seaborn heatmap correlation matrix`"
   ]
  },
  {
   "cell_type": "code",
   "execution_count": 27,
   "metadata": {},
   "outputs": [
    {
     "data": {
      "text/plain": [
       "<AxesSubplot:>"
      ]
     },
     "execution_count": 27,
     "metadata": {},
     "output_type": "execute_result"
    },
    {
     "data": {
      "image/png": "[encoded data removed]",
      "text/plain": [
       "<Figure size 432x288 with 2 Axes>"
      ]
     },
     "metadata": {
      "needs_background": "light"
     },
     "output_type": "display_data"
    }
   ],
   "source": [
    "corr = X.corr()\n",
    "sns.heatmap(corr, cmap='Blues', fmt='.2f', annot=True)"
   ]
  },
  {
   "cell_type": "markdown",
   "metadata": {},
   "source": [
    "### End of exercise"
   ]
  },
  {
   "cell_type": "markdown",
   "metadata": {},
   "source": [
    "<hr style=\"border:5px solid pink\"> </hr>\n",
    "\n",
    "### Stepwise Feature Selection\n",
    "\n",
    "Time to try our hand at step-wise feature selection. First we choose the algorithm we want to use for training, which is `LinearRegression` in our case. Notice that in the code below we refer to the algorithm as an `estimator`. This is a common term used in machine learning. We then pass `estimator` to a step-wise selection algorithm called `RFE`, which stands for **recursive feature elimination** (another way of saying **backward selection**). So `RFE` acts as a **wrapper** for `LinearRegression`. To run it, we just call `fit` and pass it the data (just like we would have done with `estimator` itself), except that now `fit` runs the iterative backward selection algorithm we described above."
   ]
  },
  {
   "cell_type": "code",
   "execution_count": 28,
   "metadata": {},
   "outputs": [
    {
     "name": "stdout",
     "output_type": "stream",
     "text": [
      "Fitting estimator with 10 features.\n",
      "Fitting estimator with 9 features.\n",
      "Fitting estimator with 8 features.\n",
      "Fitting estimator with 7 features.\n",
      "Fitting estimator with 6 features.\n"
     ]
    },
    {
     "name": "stderr",
     "output_type": "stream",
     "text": [
      "/Users/roblisy/.pyenv/versions/3.7.0/envs/uw_data_sci/lib/python3.7/site-packages/sklearn/utils/validation.py:70: FutureWarning: Pass n_features_to_select=5 as keyword args. From version 0.25 passing these as positional arguments will result in an error\n",
      "  FutureWarning)\n"
     ]
    }
   ],
   "source": [
    "from sklearn.linear_model import LinearRegression\n",
    "from sklearn.feature_selection import RFE # Recursive Feature Elimination\n",
    "\n",
    "estimator = LinearRegression()\n",
    "# select 5 features, removing 1 feature at a time\n",
    "back_selector = RFE(estimator, 5, step = 1, verbose = 1)\n",
    "back_selector = back_selector.fit(X, y)"
   ]
  },
  {
   "cell_type": "markdown",
   "metadata": {},
   "source": [
    "We can see that the backward selection run started with 10 features, but ended with fewer, throwing out one feature at every step. We can see which features made the cut by running this:"
   ]
  },
  {
   "cell_type": "code",
   "execution_count": 29,
   "metadata": {},
   "outputs": [
    {
     "name": "stdout",
     "output_type": "stream",
     "text": [
      "The mask of selected features:\n",
      "[ True  True  True  True  True False False False False False]\n"
     ]
    }
   ],
   "source": [
    "print(\"The mask of selected features:\")\n",
    "print(back_selector.support_)"
   ]
  },
  {
   "cell_type": "markdown",
   "metadata": {},
   "source": [
    "We can see the order in which features were removed in the next cell, starting with the higher number. The features with rank 1 were the ones who made the cut (remained in the final model)."
   ]
  },
  {
   "cell_type": "code",
   "execution_count": 30,
   "metadata": {},
   "outputs": [
    {
     "name": "stdout",
     "output_type": "stream",
     "text": [
      "Ranking is the inverse of order of removal (higher rank is the first feature removed):\n",
      "[1 1 1 1 1 2 3 6 5 4]\n"
     ]
    }
   ],
   "source": [
    "print(\"Ranking is the inverse of order of removal (higher rank is the first feature removed):\")\n",
    "print(back_selector.ranking_)"
   ]
  },
  {
   "cell_type": "markdown",
   "metadata": {},
   "source": [
    "Because we ran `fit`, we can now run `predict` to get the final model's prediction."
   ]
  },
  {
   "cell_type": "code",
   "execution_count": 31,
   "metadata": {},
   "outputs": [],
   "source": [
    "# Get predictions with only top 5 features:\n",
    "yhat_backward = back_selector.predict(X)"
   ]
  },
  {
   "cell_type": "code",
   "execution_count": 32,
   "metadata": {},
   "outputs": [
    {
     "name": "stdout",
     "output_type": "stream",
     "text": [
      "Fitting estimator with 10 features.\n",
      "Fitting estimator with 9 features.\n",
      "Fitting estimator with 8 features.\n",
      "Fitting estimator with 7 features.\n",
      "Fitting estimator with 6 features.\n",
      "Fitting estimator with 5 features.\n",
      "Fitting estimator with 4 features.\n",
      "Fitting estimator with 3 features.\n",
      "Fitting estimator with 2 features.\n",
      "[False False False  True False False False False False False]\n",
      "[ 5  4  3  1  2  6  7 10  9  8]\n"
     ]
    }
   ],
   "source": [
    "# What about selecting down to 1?\n",
    "selector = RFE(estimator, n_features_to_select=1, step=1, verbose=1)\n",
    "selector = selector.fit(X, y)\n",
    "print(selector.support_) # The mask/boolean of selected features.\n",
    "print(selector.ranking_) # selected features are ranked."
   ]
  },
  {
   "cell_type": "markdown",
   "metadata": {},
   "source": [
    "For the sake of comparison, let's train the `estimator` (the original `LinearRegression` algorithm) on the whole data, without using backward selection and get predictions for it."
   ]
  },
  {
   "cell_type": "code",
   "execution_count": 33,
   "metadata": {},
   "outputs": [],
   "source": [
    "# Get predictions with ALL variables\n",
    "\n",
    "estimator = estimator.fit(X, y)\n",
    "yhat_estimator = estimator.predict(X)"
   ]
  },
  {
   "cell_type": "markdown",
   "metadata": {},
   "source": [
    "And now let's look at the correlation between (1) the labels and (2) the predictions when we do backward selection, and (3) the predictions when we don't do backward selection."
   ]
  },
  {
   "cell_type": "code",
   "execution_count": 35,
   "metadata": {
    "scrolled": true
   },
   "outputs": [
    {
     "data": {
      "text/plain": [
       "array([[1.        , 0.99038899, 0.88336559],\n",
       "       [0.99038899, 1.        , 0.89193801],\n",
       "       [0.88336559, 0.89193801, 1.        ]])"
      ]
     },
     "execution_count": 35,
     "metadata": {},
     "output_type": "execute_result"
    }
   ],
   "source": [
    "# (5-vars, all-vars, true-values)\n",
    "np.corrcoef([yhat_backward, yhat_estimator, y])"
   ]
  },
  {
   "cell_type": "markdown",
   "metadata": {},
   "source": [
    "<hr style=\"border:5px solid pink\"> </hr>\n",
    "\n",
    "## Feature Selection: Forward Selection\n",
    "\n",
    "Instead of backward selection, we now try **forward selection**. Backward selection starts with all features and end with a subset, **dropping** a feature at each step. Forward selection starts with one feature and ends with a subset, **adding** a feature at each step. \n",
    "\n",
    "We can also do **step-wise selection** (using `SequentialFeatureSelector` in the `mlxtend` library), which starting with a subset of features, does **forward or backward** selection at each step, meaning that at each step it may choose to add a feature or drop a feature depending on which works better. "
   ]
  },
  {
   "cell_type": "markdown",
   "metadata": {},
   "source": [
    "### Install Machine Learning Extensions\n",
    "See <a href=\"http://rasbt.github.io/mlxtend/\">mlxtend's documentation</a>"
   ]
  },
  {
   "cell_type": "code",
   "execution_count": 37,
   "metadata": {},
   "outputs": [],
   "source": [
    "# Uncomment the following line to install mlxtend.\n",
    "# !pip install mlxtend"
   ]
  },
  {
   "cell_type": "markdown",
   "metadata": {},
   "source": [
    "For the function, `SFS()` below, there is an argument, `k_features`.  There are some options here:\n",
    "\n",
    " - If `k_features` is an integer, the function returns a subset of features of that size that perform the best.\n",
    " - If `k_features` is a 2-tuple of integers, e.g. (2, 4), returns a subset of features of that size that perform the best. So if (2, 4) is returned, the function will look for either 2, 3, or 4 features that perform the best.\n",
    " - If `k_features` is a string, it can be \"best\" or \"parsimonious\". Best returns the feature set with the best CV score. If parsimonious, it returns the *smallest* feature set within **one** standard deviation of the average CV.\n",
    "\n",
    "> If \"best\" is provided, the feature selector will return the feature subset with the best cross-validation performance. If \"parsimonious\" is provided as an argument, the smallest feature subset that is within one standard error of the cross-validation performance will be selected.\n",
    "\n",
    "\n",
    "Documentation: http://rasbt.github.io/mlxtend/api_subpackages/mlxtend.feature_selection/#sequentialfeatureselector"
   ]
  },
  {
   "cell_type": "code",
   "execution_count": 36,
   "metadata": {},
   "outputs": [],
   "source": [
    "from mlxtend.feature_selection import SequentialFeatureSelector as SFS\n",
    "import matplotlib.pyplot as plt\n",
    "\n",
    "estimator = LinearRegression()\n",
    "\n",
    "stepwise_selector = SFS(estimator, \n",
    "    k_features = \"parsimonious\", \n",
    "    forward = True, \n",
    "    scoring = 'neg_mean_squared_error', \n",
    "    cv = 10)\n",
    "\n",
    "stepwise_selector = stepwise_selector.fit(X, y)"
   ]
  },
  {
   "cell_type": "code",
   "execution_count": 37,
   "metadata": {},
   "outputs": [
    {
     "name": "stdout",
     "output_type": "stream",
     "text": [
      "(1, 2, 3, 4)\n",
      "(1, 2, 3, 4)\n",
      "{1: {'feature_idx': (3,), 'cv_scores': array([ -6.25741071, -27.38952913, -19.7642746 ,  -6.32736037,\n",
      "       -10.65363041, -10.96001803,  -4.99087335, -34.72880462,\n",
      "       -18.54633477, -23.38395936]), 'avg_score': -16.300219535527482, 'feature_names': (3,)}, 2: {'feature_idx': (3, 4), 'cv_scores': array([ -3.19251236, -22.84226631, -13.00810296, -12.51250543,\n",
      "        -9.32655135,  -7.28244716,  -5.48817504, -22.37044361,\n",
      "       -17.0219609 ,  -8.01262026]), 'avg_score': -12.105758538571575, 'feature_names': (3, 4)}, 3: {'feature_idx': (1, 3, 4), 'cv_scores': array([ -3.1756196 , -22.17917636, -12.84508298,  -7.8591478 ,\n",
      "        -4.62137077,  -5.05717334,  -3.43330274, -19.71699163,\n",
      "       -18.14695015,  -3.38719412]), 'avg_score': -10.042200948660607, 'feature_names': (1, 3, 4)}, 4: {'feature_idx': (1, 2, 3, 4), 'cv_scores': array([ -2.56653868, -15.37369491, -10.53486694,  -6.04811446,\n",
      "        -5.31425612,  -5.96230293, -10.90492154, -14.71106183,\n",
      "       -14.44078783,  -3.32679279]), 'avg_score': -8.918333805464554, 'feature_names': (1, 2, 3, 4)}, 5: {'feature_idx': (1, 2, 3, 4, 6), 'cv_scores': array([ -4.09102995, -14.83210573,  -9.74736101,  -6.59778091,\n",
      "        -5.50054581,  -5.30977391, -10.31383499, -17.36994399,\n",
      "       -13.40077822,  -3.15458314]), 'avg_score': -9.031773765935426, 'feature_names': (1, 2, 3, 4, 6)}, 6: {'feature_idx': (1, 2, 3, 4, 5, 6), 'cv_scores': array([ -3.49606239, -14.38456922, -11.52648505,  -5.77886623,\n",
      "        -7.03657194,  -6.17198196, -10.16672465, -17.18142297,\n",
      "       -12.79717217,  -4.3149078 ]), 'avg_score': -9.285476437905345, 'feature_names': (1, 2, 3, 4, 5, 6)}, 7: {'feature_idx': (0, 1, 2, 3, 4, 5, 6), 'cv_scores': array([ -6.58713137, -12.43200887,  -9.99366697,  -4.42302313,\n",
      "        -5.88988034,  -7.57181856,  -7.8153118 , -14.71431307,\n",
      "       -23.71608804,  -3.15156589]), 'avg_score': -9.629480804023274, 'feature_names': (0, 1, 2, 3, 4, 5, 6)}, 8: {'feature_idx': (0, 1, 2, 3, 4, 5, 6, 8), 'cv_scores': array([ -6.59687821, -14.62248441, -10.00574887,  -4.51765362,\n",
      "        -6.62498036,  -8.3449839 ,  -7.74969334, -14.6597883 ,\n",
      "       -23.69452053,  -3.77725834]), 'avg_score': -10.059398985287604, 'feature_names': (0, 1, 2, 3, 4, 5, 6, 8)}, 9: {'feature_idx': (0, 1, 2, 3, 4, 5, 6, 8, 9), 'cv_scores': array([ -6.24697892, -13.99019552,  -9.74191522,  -5.6423196 ,\n",
      "        -7.48235934,  -7.95523809,  -7.38544748, -14.40799172,\n",
      "       -26.9652298 ,  -6.17074525]), 'avg_score': -10.598842094693715, 'feature_names': (0, 1, 2, 3, 4, 5, 6, 8, 9)}, 10: {'feature_idx': (0, 1, 2, 3, 4, 5, 6, 7, 8, 9), 'cv_scores': array([ -7.2669732 , -14.5779165 ,  -9.96416958,  -6.19911993,\n",
      "        -8.58804667,  -7.98639983,  -8.06995599, -14.41720125,\n",
      "       -29.59472675,  -6.16746579]), 'avg_score': -11.283197547901603, 'feature_names': (0, 1, 2, 3, 4, 5, 6, 7, 8, 9)}}\n"
     ]
    }
   ],
   "source": [
    "print(stepwise_selector.k_feature_idx_)\n",
    "print(stepwise_selector.k_feature_names_)\n",
    "\n",
    "print(stepwise_selector.subsets_)"
   ]
  },
  {
   "cell_type": "markdown",
   "metadata": {},
   "source": [
    "The `mlxtend` library gives us a plot for visualizing model performance as feature selection happens at each step."
   ]
  },
  {
   "cell_type": "code",
   "execution_count": 38,
   "metadata": {},
   "outputs": [
    {
     "data": {
      "image/png": "[encoded data removed]",
      "text/plain": [
       "<Figure size 432x288 with 1 Axes>"
      ]
     },
     "metadata": {
      "needs_background": "light"
     },
     "output_type": "display_data"
    }
   ],
   "source": [
    "from mlxtend.plotting import plot_sequential_feature_selection as plot_sfs\n",
    "\n",
    "fig = plot_sfs(stepwise_selector.get_metric_dict(), kind = 'std_err')\n",
    "plt.title('Sequential selection (w. StdErr)')\n",
    "plt.grid()\n",
    "plt.show()"
   ]
  },
  {
   "cell_type": "markdown",
   "metadata": {},
   "source": [
    "<hr style=\"border:5px solid pink\"> </hr>\n",
    "\n",
    "### Exercise\n",
    "\n",
    "So far we've been using an artificial dataset. Let's now switch to using a real dataset. We use the Boston housing dataset, which has information about houses in Boston and their sale price as a target."
   ]
  },
  {
   "cell_type": "code",
   "execution_count": 39,
   "metadata": {},
   "outputs": [
    {
     "name": "stdout",
     "output_type": "stream",
     "text": [
      "Num of rows: 506\n",
      "Num of cols: 13\n"
     ]
    },
    {
     "data": {
      "text/html": [
       "<div>\n",
       "<style scoped>\n",
       "    .dataframe tbody tr th:only-of-type {\n",
       "        vertical-align: middle;\n",
       "    }\n",
       "\n",
       "    .dataframe tbody tr th {\n",
       "        vertical-align: top;\n",
       "    }\n",
       "\n",
       "    .dataframe thead th {\n",
       "        text-align: right;\n",
       "    }\n",
       "</style>\n",
       "<table border=\"1\" class=\"dataframe\">\n",
       "  <thead>\n",
       "    <tr style=\"text-align: right;\">\n",
       "      <th></th>\n",
       "      <th>CRIM</th>\n",
       "      <th>ZN</th>\n",
       "      <th>INDUS</th>\n",
       "      <th>CHAS</th>\n",
       "      <th>NOX</th>\n",
       "      <th>RM</th>\n",
       "      <th>AGE</th>\n",
       "      <th>DIS</th>\n",
       "      <th>RAD</th>\n",
       "      <th>TAX</th>\n",
       "      <th>PTRATIO</th>\n",
       "      <th>B</th>\n",
       "      <th>LSTAT</th>\n",
       "    </tr>\n",
       "  </thead>\n",
       "  <tbody>\n",
       "    <tr>\n",
       "      <th>0</th>\n",
       "      <td>0.00632</td>\n",
       "      <td>18.0</td>\n",
       "      <td>2.31</td>\n",
       "      <td>0.0</td>\n",
       "      <td>0.538</td>\n",
       "      <td>6.575</td>\n",
       "      <td>65.2</td>\n",
       "      <td>4.0900</td>\n",
       "      <td>1.0</td>\n",
       "      <td>296.0</td>\n",
       "      <td>15.3</td>\n",
       "      <td>396.90</td>\n",
       "      <td>4.98</td>\n",
       "    </tr>\n",
       "    <tr>\n",
       "      <th>1</th>\n",
       "      <td>0.02731</td>\n",
       "      <td>0.0</td>\n",
       "      <td>7.07</td>\n",
       "      <td>0.0</td>\n",
       "      <td>0.469</td>\n",
       "      <td>6.421</td>\n",
       "      <td>78.9</td>\n",
       "      <td>4.9671</td>\n",
       "      <td>2.0</td>\n",
       "      <td>242.0</td>\n",
       "      <td>17.8</td>\n",
       "      <td>396.90</td>\n",
       "      <td>9.14</td>\n",
       "    </tr>\n",
       "    <tr>\n",
       "      <th>2</th>\n",
       "      <td>0.02729</td>\n",
       "      <td>0.0</td>\n",
       "      <td>7.07</td>\n",
       "      <td>0.0</td>\n",
       "      <td>0.469</td>\n",
       "      <td>7.185</td>\n",
       "      <td>61.1</td>\n",
       "      <td>4.9671</td>\n",
       "      <td>2.0</td>\n",
       "      <td>242.0</td>\n",
       "      <td>17.8</td>\n",
       "      <td>392.83</td>\n",
       "      <td>4.03</td>\n",
       "    </tr>\n",
       "    <tr>\n",
       "      <th>3</th>\n",
       "      <td>0.03237</td>\n",
       "      <td>0.0</td>\n",
       "      <td>2.18</td>\n",
       "      <td>0.0</td>\n",
       "      <td>0.458</td>\n",
       "      <td>6.998</td>\n",
       "      <td>45.8</td>\n",
       "      <td>6.0622</td>\n",
       "      <td>3.0</td>\n",
       "      <td>222.0</td>\n",
       "      <td>18.7</td>\n",
       "      <td>394.63</td>\n",
       "      <td>2.94</td>\n",
       "    </tr>\n",
       "    <tr>\n",
       "      <th>4</th>\n",
       "      <td>0.06905</td>\n",
       "      <td>0.0</td>\n",
       "      <td>2.18</td>\n",
       "      <td>0.0</td>\n",
       "      <td>0.458</td>\n",
       "      <td>7.147</td>\n",
       "      <td>54.2</td>\n",
       "      <td>6.0622</td>\n",
       "      <td>3.0</td>\n",
       "      <td>222.0</td>\n",
       "      <td>18.7</td>\n",
       "      <td>396.90</td>\n",
       "      <td>5.33</td>\n",
       "    </tr>\n",
       "  </tbody>\n",
       "</table>\n",
       "</div>"
      ],
      "text/plain": [
       "      CRIM    ZN  INDUS  CHAS    NOX     RM   AGE     DIS  RAD    TAX  \\\n",
       "0  0.00632  18.0   2.31   0.0  0.538  6.575  65.2  4.0900  1.0  296.0   \n",
       "1  0.02731   0.0   7.07   0.0  0.469  6.421  78.9  4.9671  2.0  242.0   \n",
       "2  0.02729   0.0   7.07   0.0  0.469  7.185  61.1  4.9671  2.0  242.0   \n",
       "3  0.03237   0.0   2.18   0.0  0.458  6.998  45.8  6.0622  3.0  222.0   \n",
       "4  0.06905   0.0   2.18   0.0  0.458  7.147  54.2  6.0622  3.0  222.0   \n",
       "\n",
       "   PTRATIO       B  LSTAT  \n",
       "0     15.3  396.90   4.98  \n",
       "1     17.8  396.90   9.14  \n",
       "2     17.8  392.83   4.03  \n",
       "3     18.7  394.63   2.94  \n",
       "4     18.7  396.90   5.33  "
      ]
     },
     "execution_count": 39,
     "metadata": {},
     "output_type": "execute_result"
    }
   ],
   "source": [
    "from sklearn.datasets import load_boston\n",
    "\n",
    "boston = load_boston()\n",
    "X, y = boston.data, boston.target\n",
    "X_df = pd.DataFrame(X, columns = boston.feature_names)\n",
    "\n",
    "print('Num of rows: {:,}'.format(X.shape[0]))\n",
    "print('Num of cols: {:,}'.format(X.shape[1]))\n",
    "\n",
    "X_df.head()"
   ]
  },
  {
   "cell_type": "markdown",
   "metadata": {},
   "source": [
    "Similar to what we did previously, use `SFS` to train a step-wise selection model using `LinearRegression` as the estimator. Call your model `stepwise_selector`."
   ]
  },
  {
   "cell_type": "code",
   "execution_count": 41,
   "metadata": {},
   "outputs": [],
   "source": [
    "estimator = LinearRegression()\n",
    "\n",
    "stepwise_selector = SFS(estimator,\n",
    "                       k_features='parsimonious',\n",
    "                       forward=True,\n",
    "                       scoring = \"neg_mean_squared_error\",\n",
    "                       cv=10)\n",
    "\n",
    "stepwise_selector = stepwise_selector.fit(X,y)"
   ]
  },
  {
   "cell_type": "code",
   "execution_count": 44,
   "metadata": {},
   "outputs": [
    {
     "data": {
      "text/plain": [
       "(506, 3)"
      ]
     },
     "execution_count": 44,
     "metadata": {},
     "output_type": "execute_result"
    }
   ],
   "source": [
    "best_selector = stepwise_selector.fit_transform(X,y)\n",
    "best_selector.shape"
   ]
  },
  {
   "cell_type": "code",
   "execution_count": 46,
   "metadata": {},
   "outputs": [
    {
     "data": {
      "text/plain": [
       "array([[ 6.575, 15.3  ,  4.98 ],\n",
       "       [ 6.421, 17.8  ,  9.14 ],\n",
       "       [ 7.185, 17.8  ,  4.03 ],\n",
       "       [ 6.998, 18.7  ,  2.94 ],\n",
       "       [ 7.147, 18.7  ,  5.33 ]])"
      ]
     },
     "execution_count": 46,
     "metadata": {},
     "output_type": "execute_result"
    }
   ],
   "source": [
    "best_selector[:5, :]"
   ]
  },
  {
   "cell_type": "markdown",
   "metadata": {},
   "source": [
    "Plot the model performance vs number of features. How many features would you recommend we use for predicting house prices in the Boston housing data."
   ]
  },
  {
   "cell_type": "code",
   "execution_count": 42,
   "metadata": {},
   "outputs": [
    {
     "data": {
      "image/png": "[encoded data removed]",
      "text/plain": [
       "<Figure size 432x288 with 1 Axes>"
      ]
     },
     "metadata": {
      "needs_background": "light"
     },
     "output_type": "display_data"
    }
   ],
   "source": [
    "fig = plot_sfs(stepwise_selector.get_metric_dict(), kind = 'std_err')\n",
    "plt.title('Sequential selection (w. StdErr)')\n",
    "plt.grid()\n",
    "plt.show()"
   ]
  },
  {
   "cell_type": "markdown",
   "metadata": {},
   "source": [
    "To get the best subset of feature at each step, we use `stepwise_selector.get_metric_dict()` which has information about accuracy and a list of the final features **for every step** of step-wise selection. So for example, if we want to know what results look like at step 4, we run `stepwise_selector.get_metric_dict()[4]` (this object is indexed starting at 1). Report accuracy and the the names of the features at step 4."
   ]
  },
  {
   "cell_type": "code",
   "execution_count": 43,
   "metadata": {},
   "outputs": [
    {
     "ename": "AttributeError",
     "evalue": "'SequentialFeatureSelector' object has no attribute 'get_metric_dicts'",
     "output_type": "error",
     "traceback": [
      "\u001b[0;31m---------------------------------------------------------------------------\u001b[0m",
      "\u001b[0;31mAttributeError\u001b[0m                            Traceback (most recent call last)",
      "\u001b[0;32m<ipython-input-43-f45ba9659b21>\u001b[0m in \u001b[0;36m<module>\u001b[0;34m\u001b[0m\n\u001b[0;32m----> 1\u001b[0;31m \u001b[0mstepwise_selector\u001b[0m\u001b[0;34m.\u001b[0m\u001b[0mget_metric_dicts\u001b[0m\u001b[0;34m(\u001b[0m\u001b[0;34m)\u001b[0m\u001b[0;34m[\u001b[0m\u001b[0;36m4\u001b[0m\u001b[0;34m]\u001b[0m\u001b[0;34m\u001b[0m\u001b[0m\n\u001b[0m",
      "\u001b[0;31mAttributeError\u001b[0m: 'SequentialFeatureSelector' object has no attribute 'get_metric_dicts'"
     ]
    }
   ],
   "source": [
    "stepwise_selector.get_metric_dicts()[4]"
   ]
  },
  {
   "cell_type": "markdown",
   "metadata": {},
   "source": [
    "### End of exercise"
   ]
  },
  {
   "cell_type": "markdown",
   "metadata": {},
   "source": [
    "<hr style=\"border:5px solid pink\"> </hr>\n",
    "\n",
    "\n",
    "## Embedded methods for feature selection\n",
    "\n",
    "The last thing we cover today are embedded methods for selecting features, which refer to using **regularization** so the algorithm can do feature selection by itself. No wrapping or iterating is required, although if we with to tune the **regularization constant** (also called **shrinkage**) then we have to train many times. The regularization constant is an example of a **hyper-parameter** and **hyper-parameter tuning** is the subject of another lecture. In the below example, the regularization constant is called `alpha` and we show you an example of how tuning `alpha` affects the model."
   ]
  },
  {
   "cell_type": "markdown",
   "metadata": {},
   "source": [
    "We will look at two examples of regularizaiton: LASSO and Ridge regression. Both LASSO and Ridge regression are implementations of linear regression where we try to minimize prediction error plus some penalty that depends on the model's parameters (or coefficients) and the shrinkage constant (`alpha` in the code below). LASSO penalizes the model's parameters using the sum of the **absolute values** of the parameters (this is also called **L1-regularization**), while Ridge does so based on the sum of the **squared values** of the parameters (this is also called **L2-regularization**). For reasons we cannot elaborate on here, **LASSO has the by-product that it also does feature selection**, whereas Ridge doesn't. So not all regularization results in feature selection."
   ]
  },
  {
   "cell_type": "markdown",
   "metadata": {},
   "source": [
    "### SPLIT INTO TRAIN/TEST\n",
    "\n",
    "Also, since we are using embedded- which we will compare evaluations of outcomes of feature sets, we will want to split into train/test."
   ]
  },
  {
   "cell_type": "code",
   "execution_count": 127,
   "metadata": {},
   "outputs": [
    {
     "name": "stdout",
     "output_type": "stream",
     "text": [
      "(404, 13)\n",
      "[-0.13298481  0.04417084 -0.03439756  0.         -0.          3.26627757\n",
      "  0.00455928 -1.04989222  0.2833401  -0.01419435 -0.75145018  0.0086787\n",
      " -0.63780097]\n",
      "28.030899263099474\n"
     ]
    }
   ],
   "source": [
    "from sklearn import linear_model\n",
    "from sklearn.model_selection import train_test_split\n",
    "\n",
    "x_train, x_test, y_train, y_test = train_test_split(X, y, test_size=0.20)\n",
    "\n",
    "alpha = 0.25 # increasing alpha can shrink more variable coefficients down to 0\n",
    "clf = linear_model.Lasso(alpha = alpha)\n",
    "clf.fit(x_train, y_train)\n",
    "print(x_train.shape)\n",
    "print(clf.coef_)\n",
    "\n",
    "print(clf.intercept_)"
   ]
  },
  {
   "cell_type": "markdown",
   "metadata": {},
   "source": [
    "We can plot the coefficients of the model we trained using a barplot. Notice how some of the coefficients are zero, meaning they were effectively dropped out of the model."
   ]
  },
  {
   "cell_type": "code",
   "execution_count": 128,
   "metadata": {},
   "outputs": [
    {
     "data": {
      "image/png": "[encoded data removed]",
      "text/plain": [
       "<Figure size 432x288 with 1 Axes>"
      ]
     },
     "metadata": {
      "needs_background": "light"
     },
     "output_type": "display_data"
    }
   ],
   "source": [
    "dd = pd.DataFrame({'col': X_df.columns, 'coef': clf.coef_})\n",
    "ax = sns.barplot(x = 'col', y = 'coef', data = dd)"
   ]
  },
  {
   "cell_type": "markdown",
   "metadata": {},
   "source": [
    "We saw the result of one model using `alpha = 0.25`. Now let's see what happens when we train many models with different values for `alpha`. To keep track of it all, we create a `DataFrame` where we store the choice of `alpha` we used and the model's coefficients."
   ]
  },
  {
   "cell_type": "code",
   "execution_count": 129,
   "metadata": {},
   "outputs": [
    {
     "data": {
      "text/html": [
       "<div>\n",
       "<style scoped>\n",
       "    .dataframe tbody tr th:only-of-type {\n",
       "        vertical-align: middle;\n",
       "    }\n",
       "\n",
       "    .dataframe tbody tr th {\n",
       "        vertical-align: top;\n",
       "    }\n",
       "\n",
       "    .dataframe thead th {\n",
       "        text-align: right;\n",
       "    }\n",
       "</style>\n",
       "<table border=\"1\" class=\"dataframe\">\n",
       "  <thead>\n",
       "    <tr style=\"text-align: right;\">\n",
       "      <th></th>\n",
       "      <th>coef_0</th>\n",
       "      <th>coef_1</th>\n",
       "      <th>coef_2</th>\n",
       "      <th>coef_3</th>\n",
       "      <th>coef_4</th>\n",
       "      <th>coef_5</th>\n",
       "      <th>coef_6</th>\n",
       "      <th>coef_7</th>\n",
       "      <th>coef_8</th>\n",
       "      <th>coef_9</th>\n",
       "      <th>coef_10</th>\n",
       "      <th>coef_11</th>\n",
       "      <th>coef_12</th>\n",
       "      <th>intercept</th>\n",
       "    </tr>\n",
       "  </thead>\n",
       "  <tbody>\n",
       "    <tr>\n",
       "      <th>0.010000</th>\n",
       "      <td>-0.143812</td>\n",
       "      <td>0.040492</td>\n",
       "      <td>-0.005335</td>\n",
       "      <td>2.931477</td>\n",
       "      <td>-14.191609</td>\n",
       "      <td>3.742171</td>\n",
       "      <td>0.007787</td>\n",
       "      <td>-1.354856</td>\n",
       "      <td>0.302935</td>\n",
       "      <td>-0.011802</td>\n",
       "      <td>-0.905569</td>\n",
       "      <td>0.007988</td>\n",
       "      <td>-0.569274</td>\n",
       "      <td>34.501232</td>\n",
       "    </tr>\n",
       "    <tr>\n",
       "      <th>0.091429</th>\n",
       "      <td>-0.136951</td>\n",
       "      <td>0.043687</td>\n",
       "      <td>-0.057501</td>\n",
       "      <td>1.696661</td>\n",
       "      <td>-0.000000</td>\n",
       "      <td>3.691444</td>\n",
       "      <td>-0.001119</td>\n",
       "      <td>-1.115732</td>\n",
       "      <td>0.273800</td>\n",
       "      <td>-0.013322</td>\n",
       "      <td>-0.736239</td>\n",
       "      <td>0.008504</td>\n",
       "      <td>-0.600067</td>\n",
       "      <td>25.203754</td>\n",
       "    </tr>\n",
       "    <tr>\n",
       "      <th>0.172857</th>\n",
       "      <td>-0.135778</td>\n",
       "      <td>0.044062</td>\n",
       "      <td>-0.042198</td>\n",
       "      <td>0.443649</td>\n",
       "      <td>-0.000000</td>\n",
       "      <td>3.480413</td>\n",
       "      <td>0.001741</td>\n",
       "      <td>-1.086910</td>\n",
       "      <td>0.281716</td>\n",
       "      <td>-0.013937</td>\n",
       "      <td>-0.749493</td>\n",
       "      <td>0.008707</td>\n",
       "      <td>-0.620311</td>\n",
       "      <td>26.733797</td>\n",
       "    </tr>\n",
       "    <tr>\n",
       "      <th>0.254286</th>\n",
       "      <td>-0.132774</td>\n",
       "      <td>0.044165</td>\n",
       "      <td>-0.034175</td>\n",
       "      <td>0.000000</td>\n",
       "      <td>-0.000000</td>\n",
       "      <td>3.254048</td>\n",
       "      <td>0.004697</td>\n",
       "      <td>-1.047630</td>\n",
       "      <td>0.283233</td>\n",
       "      <td>-0.014198</td>\n",
       "      <td>-0.751213</td>\n",
       "      <td>0.008670</td>\n",
       "      <td>-0.638679</td>\n",
       "      <td>28.098426</td>\n",
       "    </tr>\n",
       "    <tr>\n",
       "      <th>0.335714</th>\n",
       "      <td>-0.128770</td>\n",
       "      <td>0.044056</td>\n",
       "      <td>-0.029932</td>\n",
       "      <td>0.000000</td>\n",
       "      <td>-0.000000</td>\n",
       "      <td>3.021715</td>\n",
       "      <td>0.007314</td>\n",
       "      <td>-1.004625</td>\n",
       "      <td>0.281183</td>\n",
       "      <td>-0.014262</td>\n",
       "      <td>-0.746712</td>\n",
       "      <td>0.008507</td>\n",
       "      <td>-0.655371</td>\n",
       "      <td>29.381107</td>\n",
       "    </tr>\n",
       "  </tbody>\n",
       "</table>\n",
       "</div>"
      ],
      "text/plain": [
       "            coef_0    coef_1    coef_2    coef_3     coef_4    coef_5  \\\n",
       "0.010000 -0.143812  0.040492 -0.005335  2.931477 -14.191609  3.742171   \n",
       "0.091429 -0.136951  0.043687 -0.057501  1.696661  -0.000000  3.691444   \n",
       "0.172857 -0.135778  0.044062 -0.042198  0.443649  -0.000000  3.480413   \n",
       "0.254286 -0.132774  0.044165 -0.034175  0.000000  -0.000000  3.254048   \n",
       "0.335714 -0.128770  0.044056 -0.029932  0.000000  -0.000000  3.021715   \n",
       "\n",
       "            coef_6    coef_7    coef_8    coef_9   coef_10   coef_11  \\\n",
       "0.010000  0.007787 -1.354856  0.302935 -0.011802 -0.905569  0.007988   \n",
       "0.091429 -0.001119 -1.115732  0.273800 -0.013322 -0.736239  0.008504   \n",
       "0.172857  0.001741 -1.086910  0.281716 -0.013937 -0.749493  0.008707   \n",
       "0.254286  0.004697 -1.047630  0.283233 -0.014198 -0.751213  0.008670   \n",
       "0.335714  0.007314 -1.004625  0.281183 -0.014262 -0.746712  0.008507   \n",
       "\n",
       "           coef_12  intercept  \n",
       "0.010000 -0.569274  34.501232  \n",
       "0.091429 -0.600067  25.203754  \n",
       "0.172857 -0.620311  26.733797  \n",
       "0.254286 -0.638679  28.098426  \n",
       "0.335714 -0.655371  29.381107  "
      ]
     },
     "execution_count": 129,
     "metadata": {},
     "output_type": "execute_result"
    }
   ],
   "source": [
    "# Try varying alpha\n",
    "alpha_seq = np.linspace(0.01, 4.0, 50)\n",
    "num_coefs = x_train.shape[1]\n",
    "\n",
    "# Store coefficients for each alpha:\n",
    "coef_cols = ['coef_' + str(ix) for ix in range(num_coefs)] + ['intercept']\n",
    "alpha_df = pd.DataFrame(columns=coef_cols)\n",
    "\n",
    "for a in alpha_seq:\n",
    "    # Fit model\n",
    "    clf_temp = linear_model.Lasso(alpha=a)\n",
    "    clf_temp.fit(x_train, y_train)\n",
    "    # Get coefficients + intercept\n",
    "    coef_nums = np.append(clf_temp.coef_, clf_temp.intercept_)\n",
    "\n",
    "    alpha_df = alpha_df.append(dict(zip(coef_cols, coef_nums)), ignore_index=True)\n",
    "\n",
    "alpha_df.index = alpha_seq\n",
    "alpha_df.head()"
   ]
  },
  {
   "cell_type": "code",
   "execution_count": 130,
   "metadata": {},
   "outputs": [
    {
     "data": {
      "text/html": [
       "<div>\n",
       "<style scoped>\n",
       "    .dataframe tbody tr th:only-of-type {\n",
       "        vertical-align: middle;\n",
       "    }\n",
       "\n",
       "    .dataframe tbody tr th {\n",
       "        vertical-align: top;\n",
       "    }\n",
       "\n",
       "    .dataframe thead th {\n",
       "        text-align: right;\n",
       "    }\n",
       "</style>\n",
       "<table border=\"1\" class=\"dataframe\">\n",
       "  <thead>\n",
       "    <tr style=\"text-align: right;\">\n",
       "      <th></th>\n",
       "      <th>coef_0</th>\n",
       "      <th>coef_1</th>\n",
       "      <th>coef_2</th>\n",
       "      <th>coef_3</th>\n",
       "      <th>coef_4</th>\n",
       "      <th>coef_5</th>\n",
       "      <th>coef_6</th>\n",
       "      <th>coef_7</th>\n",
       "      <th>coef_8</th>\n",
       "      <th>coef_9</th>\n",
       "      <th>coef_10</th>\n",
       "      <th>coef_11</th>\n",
       "      <th>coef_12</th>\n",
       "      <th>intercept</th>\n",
       "    </tr>\n",
       "  </thead>\n",
       "  <tbody>\n",
       "    <tr>\n",
       "      <th>3.674286</th>\n",
       "      <td>-0.0</td>\n",
       "      <td>0.032822</td>\n",
       "      <td>-0.0</td>\n",
       "      <td>0.0</td>\n",
       "      <td>0.0</td>\n",
       "      <td>0.0</td>\n",
       "      <td>0.049532</td>\n",
       "      <td>-0.0</td>\n",
       "      <td>0.003424</td>\n",
       "      <td>-0.007516</td>\n",
       "      <td>-0.108185</td>\n",
       "      <td>0.004272</td>\n",
       "      <td>-0.836415</td>\n",
       "      <td>32.785450</td>\n",
       "    </tr>\n",
       "    <tr>\n",
       "      <th>3.755714</th>\n",
       "      <td>-0.0</td>\n",
       "      <td>0.033204</td>\n",
       "      <td>-0.0</td>\n",
       "      <td>0.0</td>\n",
       "      <td>0.0</td>\n",
       "      <td>0.0</td>\n",
       "      <td>0.049218</td>\n",
       "      <td>-0.0</td>\n",
       "      <td>0.000000</td>\n",
       "      <td>-0.007496</td>\n",
       "      <td>-0.086072</td>\n",
       "      <td>0.004225</td>\n",
       "      <td>-0.834222</td>\n",
       "      <td>32.407004</td>\n",
       "    </tr>\n",
       "    <tr>\n",
       "      <th>3.837143</th>\n",
       "      <td>-0.0</td>\n",
       "      <td>0.033662</td>\n",
       "      <td>-0.0</td>\n",
       "      <td>0.0</td>\n",
       "      <td>0.0</td>\n",
       "      <td>0.0</td>\n",
       "      <td>0.048926</td>\n",
       "      <td>-0.0</td>\n",
       "      <td>0.000000</td>\n",
       "      <td>-0.007628</td>\n",
       "      <td>-0.064604</td>\n",
       "      <td>0.004202</td>\n",
       "      <td>-0.831845</td>\n",
       "      <td>32.056929</td>\n",
       "    </tr>\n",
       "    <tr>\n",
       "      <th>3.918571</th>\n",
       "      <td>-0.0</td>\n",
       "      <td>0.034108</td>\n",
       "      <td>-0.0</td>\n",
       "      <td>0.0</td>\n",
       "      <td>0.0</td>\n",
       "      <td>0.0</td>\n",
       "      <td>0.048623</td>\n",
       "      <td>-0.0</td>\n",
       "      <td>0.000000</td>\n",
       "      <td>-0.007759</td>\n",
       "      <td>-0.043192</td>\n",
       "      <td>0.004180</td>\n",
       "      <td>-0.829457</td>\n",
       "      <td>31.708231</td>\n",
       "    </tr>\n",
       "    <tr>\n",
       "      <th>4.000000</th>\n",
       "      <td>-0.0</td>\n",
       "      <td>0.034553</td>\n",
       "      <td>-0.0</td>\n",
       "      <td>0.0</td>\n",
       "      <td>0.0</td>\n",
       "      <td>0.0</td>\n",
       "      <td>0.048320</td>\n",
       "      <td>-0.0</td>\n",
       "      <td>0.000000</td>\n",
       "      <td>-0.007890</td>\n",
       "      <td>-0.021783</td>\n",
       "      <td>0.004157</td>\n",
       "      <td>-0.827068</td>\n",
       "      <td>31.359585</td>\n",
       "    </tr>\n",
       "  </tbody>\n",
       "</table>\n",
       "</div>"
      ],
      "text/plain": [
       "          coef_0    coef_1  coef_2  coef_3  coef_4  coef_5    coef_6  coef_7  \\\n",
       "3.674286    -0.0  0.032822    -0.0     0.0     0.0     0.0  0.049532    -0.0   \n",
       "3.755714    -0.0  0.033204    -0.0     0.0     0.0     0.0  0.049218    -0.0   \n",
       "3.837143    -0.0  0.033662    -0.0     0.0     0.0     0.0  0.048926    -0.0   \n",
       "3.918571    -0.0  0.034108    -0.0     0.0     0.0     0.0  0.048623    -0.0   \n",
       "4.000000    -0.0  0.034553    -0.0     0.0     0.0     0.0  0.048320    -0.0   \n",
       "\n",
       "            coef_8    coef_9   coef_10   coef_11   coef_12  intercept  \n",
       "3.674286  0.003424 -0.007516 -0.108185  0.004272 -0.836415  32.785450  \n",
       "3.755714  0.000000 -0.007496 -0.086072  0.004225 -0.834222  32.407004  \n",
       "3.837143  0.000000 -0.007628 -0.064604  0.004202 -0.831845  32.056929  \n",
       "3.918571  0.000000 -0.007759 -0.043192  0.004180 -0.829457  31.708231  \n",
       "4.000000  0.000000 -0.007890 -0.021783  0.004157 -0.827068  31.359585  "
      ]
     },
     "execution_count": 130,
     "metadata": {},
     "output_type": "execute_result"
    }
   ],
   "source": [
    "alpha_df.tail()"
   ]
  },
  {
   "cell_type": "markdown",
   "metadata": {},
   "source": [
    "We can plot the value of coefficients against `alpha` to see what happens to the coefficents as we increase the shrinkage constant `alpha`."
   ]
  },
  {
   "cell_type": "code",
   "execution_count": 131,
   "metadata": {},
   "outputs": [
    {
     "data": {
      "image/png": "[encoded data removed]",
      "text/plain": [
       "<Figure size 432x288 with 1 Axes>"
      ]
     },
     "metadata": {
      "needs_background": "light"
     },
     "output_type": "display_data"
    }
   ],
   "source": [
    "non_intercept_cols = [c for c in alpha_df.columns if c not in ['intercept']]\n",
    "\n",
    "ax1 = alpha_df[non_intercept_cols].plot.line(legend=None, grid=True)\n",
    "ax1.set(xlabel='Alpha', ylabel='Coefficient Value')\n",
    "ax1.set_ylim(-1.5, 1.5)\n",
    "ax1.legend(loc='center right', bbox_to_anchor=(1.5, 0.5), ncol=1);"
   ]
  },
  {
   "cell_type": "markdown",
   "metadata": {},
   "source": [
    "As we can see, as `alpha` goes up, the coefficients get smaller and smaller. More importantly,  some coefficients like `NOX` quickly converge to zero (get dropped out of the model), while others like `RM` shrink slowly and slowly. So by increasing `alpha`, we're able to shrink the less important features to zero and end up with fewer features. This is why we say that LASSO regression has the **by-product** of also performing **feature selection**."
   ]
  },
  {
   "cell_type": "markdown",
   "metadata": {},
   "source": [
    "### Compare to non-regularized model\n",
    "\n",
    "Let's train a `LinearRegression` model so we can compare the regularized model (LASSO) to the non-regularized model (`LinearRegression`)."
   ]
  },
  {
   "cell_type": "code",
   "execution_count": 132,
   "metadata": {},
   "outputs": [
    {
     "data": {
      "text/plain": [
       "array([[1.        , 0.99347628],\n",
       "       [0.99347628, 1.        ]])"
      ]
     },
     "execution_count": 132,
     "metadata": {},
     "output_type": "execute_result"
    }
   ],
   "source": [
    "lm = linear_model.LinearRegression()\n",
    "lm.fit(x_train, y_train)\n",
    "pred_lm = lm.predict(x_test) # predictions when using LinearRegression\n",
    "pred_clf = clf.predict(x_test) # prediction when using LASSO, originally alpha=0.25.\n",
    "\n",
    "np.corrcoef(pred_lm, pred_clf)"
   ]
  },
  {
   "cell_type": "markdown",
   "metadata": {},
   "source": [
    "As we can see, the high correlation indicates that our predictions are very close. So dropping a few feature from the model has very little effect on the predictions."
   ]
  },
  {
   "cell_type": "markdown",
   "metadata": {},
   "source": [
    "### Compare MSE:"
   ]
  },
  {
   "cell_type": "code",
   "execution_count": 133,
   "metadata": {},
   "outputs": [
    {
     "name": "stdout",
     "output_type": "stream",
     "text": [
      "All variables MSE: 26.85\n",
      "Regularized MSE: 27.45\n"
     ]
    }
   ],
   "source": [
    "all_mse = np.mean([(p-a)**2 for p, a in zip(pred_lm, y_test)])\n",
    "reg_mse = np.mean([(p-a)**2 for p, a in zip(pred_clf, y_test)])\n",
    "\n",
    "print('All variables MSE: {:.2f}\\nRegularized MSE: {:.2f}'.format(all_mse, reg_mse))"
   ]
  },
  {
   "cell_type": "markdown",
   "metadata": {},
   "source": [
    "### Compare R2 and adjusted R2"
   ]
  },
  {
   "cell_type": "code",
   "execution_count": 134,
   "metadata": {},
   "outputs": [
    {
     "name": "stdout",
     "output_type": "stream",
     "text": [
      "All variables r-squared: 0.6360\n",
      "Regularized r-squared: 0.6049\n",
      "\n",
      "All variables adj-r-squared: 0.6264\n",
      "Regularized adj-r-squared: 0.6009\n"
     ]
    }
   ],
   "source": [
    "from sklearn.metrics import r2_score\n",
    "\n",
    "all_r2 = r2_score(pred_lm, y_test)\n",
    "reg_r2 = r2_score(pred_clf, y_test)\n",
    "\n",
    "# Adjusted R2:\n",
    "n = X.shape[0]\n",
    "p_all = X.shape[1]\n",
    "p_reg = sum(clf.coef_ > 0.00001)\n",
    "\n",
    "# adjusted_R2 = 1-(1-R2)*(n-1)/(n-p-1)\n",
    "adj_r2_all = 1 - ((1 - all_r2) * ((n - 1) / (n - p_all - 1)))\n",
    "adj_r2_reg =  1 - ((1 - reg_r2) * ((n - 1) / (n - p_reg - 1)))\n",
    "\n",
    "print('All variables r-squared: {:.4f}\\nRegularized r-squared: {:.4f}'.format(all_r2, reg_r2))\n",
    "print('\\nAll variables adj-r-squared: {:.4f}\\nRegularized adj-r-squared: {:.4f}'.format(adj_r2_all, adj_r2_reg))"
   ]
  },
  {
   "cell_type": "markdown",
   "metadata": {},
   "source": [
    "<hr style=\"border:5px solid pink\"> </hr>\n",
    "\n",
    "## Can we use ridge regression to drop variables?"
   ]
  },
  {
   "cell_type": "code",
   "execution_count": 135,
   "metadata": {},
   "outputs": [
    {
     "name": "stdout",
     "output_type": "stream",
     "text": [
      "[-1.44153392e-01  4.04078858e-02 -5.34749357e-03  3.05538478e+00\n",
      " -1.45427882e+01  3.75677671e+00  7.76780300e-03 -1.36394050e+00\n",
      "  3.03270484e-01 -1.17228490e-02 -9.09159355e-01  7.96100721e-03\n",
      " -5.67120457e-01]\n",
      "34.6480292118849\n"
     ]
    }
   ],
   "source": [
    "# Ridge Regression\n",
    "from sklearn import linear_model\n",
    "alpha = 0.25\n",
    "clf = linear_model.Ridge(alpha = alpha)\n",
    "clf.fit(x_train, y_train)\n",
    "\n",
    "print(clf.coef_)\n",
    "print(clf.intercept_)"
   ]
  },
  {
   "cell_type": "markdown",
   "metadata": {},
   "source": [
    "We can plot the coefficients just like we did with LASSO."
   ]
  },
  {
   "cell_type": "code",
   "execution_count": 136,
   "metadata": {},
   "outputs": [
    {
     "data": {
      "image/png": "[encoded data removed]",
      "text/plain": [
       "<Figure size 432x288 with 1 Axes>"
      ]
     },
     "metadata": {
      "needs_background": "light"
     },
     "output_type": "display_data"
    }
   ],
   "source": [
    "dd = pd.DataFrame({'col': X_df.columns, 'coef': clf.coef_})\n",
    "ax = sns.barplot(x = 'col', y = 'coef', data = dd)"
   ]
  },
  {
   "cell_type": "markdown",
   "metadata": {},
   "source": [
    "It looks like some coefficients are close to zero. But we said eariler that Ridge regression cannot do feature selection like LASSO does. So what happened? What happened is that some coefficients being zero isn't necessarily due to regularization. It could be that those coefficients were just not useful in the first place. To really compare ridge and lasso, we have to see how the coefficients change when we change `alpha`."
   ]
  },
  {
   "cell_type": "code",
   "execution_count": 137,
   "metadata": {},
   "outputs": [
    {
     "data": {
      "text/html": [
       "<div>\n",
       "<style scoped>\n",
       "    .dataframe tbody tr th:only-of-type {\n",
       "        vertical-align: middle;\n",
       "    }\n",
       "\n",
       "    .dataframe tbody tr th {\n",
       "        vertical-align: top;\n",
       "    }\n",
       "\n",
       "    .dataframe thead th {\n",
       "        text-align: right;\n",
       "    }\n",
       "</style>\n",
       "<table border=\"1\" class=\"dataframe\">\n",
       "  <thead>\n",
       "    <tr style=\"text-align: right;\">\n",
       "      <th></th>\n",
       "      <th>coef_0</th>\n",
       "      <th>coef_1</th>\n",
       "      <th>coef_2</th>\n",
       "      <th>coef_3</th>\n",
       "      <th>coef_4</th>\n",
       "      <th>coef_5</th>\n",
       "      <th>coef_6</th>\n",
       "      <th>coef_7</th>\n",
       "      <th>coef_8</th>\n",
       "      <th>coef_9</th>\n",
       "      <th>coef_10</th>\n",
       "      <th>coef_11</th>\n",
       "      <th>coef_12</th>\n",
       "      <th>intercept</th>\n",
       "    </tr>\n",
       "  </thead>\n",
       "  <tbody>\n",
       "    <tr>\n",
       "      <th>0.010000</th>\n",
       "      <td>-0.145155</td>\n",
       "      <td>0.039882</td>\n",
       "      <td>0.007006</td>\n",
       "      <td>3.079604</td>\n",
       "      <td>-17.201187</td>\n",
       "      <td>3.732495</td>\n",
       "      <td>0.010151</td>\n",
       "      <td>-1.401853</td>\n",
       "      <td>0.309847</td>\n",
       "      <td>-0.011537</td>\n",
       "      <td>-0.942649</td>\n",
       "      <td>0.007895</td>\n",
       "      <td>-0.564943</td>\n",
       "      <td>36.606932</td>\n",
       "    </tr>\n",
       "    <tr>\n",
       "      <th>0.417959</th>\n",
       "      <td>-0.143628</td>\n",
       "      <td>0.040695</td>\n",
       "      <td>-0.011919</td>\n",
       "      <td>3.038006</td>\n",
       "      <td>-13.123976</td>\n",
       "      <td>3.768463</td>\n",
       "      <td>0.006510</td>\n",
       "      <td>-1.343733</td>\n",
       "      <td>0.299822</td>\n",
       "      <td>-0.011825</td>\n",
       "      <td>-0.891396</td>\n",
       "      <td>0.007997</td>\n",
       "      <td>-0.568392</td>\n",
       "      <td>33.613466</td>\n",
       "    </tr>\n",
       "    <tr>\n",
       "      <th>0.825918</th>\n",
       "      <td>-0.142720</td>\n",
       "      <td>0.041222</td>\n",
       "      <td>-0.023502</td>\n",
       "      <td>2.995275</td>\n",
       "      <td>-10.611052</td>\n",
       "      <td>3.785655</td>\n",
       "      <td>0.004322</td>\n",
       "      <td>-1.308012</td>\n",
       "      <td>0.293882</td>\n",
       "      <td>-0.012014</td>\n",
       "      <td>-0.860235</td>\n",
       "      <td>0.008063</td>\n",
       "      <td>-0.570946</td>\n",
       "      <td>31.811086</td>\n",
       "    </tr>\n",
       "    <tr>\n",
       "      <th>1.233878</th>\n",
       "      <td>-0.142130</td>\n",
       "      <td>0.041601</td>\n",
       "      <td>-0.031291</td>\n",
       "      <td>2.952622</td>\n",
       "      <td>-8.907032</td>\n",
       "      <td>3.793173</td>\n",
       "      <td>0.002884</td>\n",
       "      <td>-1.283867</td>\n",
       "      <td>0.290047</td>\n",
       "      <td>-0.012151</td>\n",
       "      <td>-0.839451</td>\n",
       "      <td>0.008109</td>\n",
       "      <td>-0.573030</td>\n",
       "      <td>30.624128</td>\n",
       "    </tr>\n",
       "    <tr>\n",
       "      <th>1.641837</th>\n",
       "      <td>-0.141726</td>\n",
       "      <td>0.041893</td>\n",
       "      <td>-0.036870</td>\n",
       "      <td>2.910553</td>\n",
       "      <td>-7.675460</td>\n",
       "      <td>3.795074</td>\n",
       "      <td>0.001884</td>\n",
       "      <td>-1.266475</td>\n",
       "      <td>0.287437</td>\n",
       "      <td>-0.012258</td>\n",
       "      <td>-0.824719</td>\n",
       "      <td>0.008144</td>\n",
       "      <td>-0.574835</td>\n",
       "      <td>29.796198</td>\n",
       "    </tr>\n",
       "  </tbody>\n",
       "</table>\n",
       "</div>"
      ],
      "text/plain": [
       "            coef_0    coef_1    coef_2    coef_3     coef_4    coef_5  \\\n",
       "0.010000 -0.145155  0.039882  0.007006  3.079604 -17.201187  3.732495   \n",
       "0.417959 -0.143628  0.040695 -0.011919  3.038006 -13.123976  3.768463   \n",
       "0.825918 -0.142720  0.041222 -0.023502  2.995275 -10.611052  3.785655   \n",
       "1.233878 -0.142130  0.041601 -0.031291  2.952622  -8.907032  3.793173   \n",
       "1.641837 -0.141726  0.041893 -0.036870  2.910553  -7.675460  3.795074   \n",
       "\n",
       "            coef_6    coef_7    coef_8    coef_9   coef_10   coef_11  \\\n",
       "0.010000  0.010151 -1.401853  0.309847 -0.011537 -0.942649  0.007895   \n",
       "0.417959  0.006510 -1.343733  0.299822 -0.011825 -0.891396  0.007997   \n",
       "0.825918  0.004322 -1.308012  0.293882 -0.012014 -0.860235  0.008063   \n",
       "1.233878  0.002884 -1.283867  0.290047 -0.012151 -0.839451  0.008109   \n",
       "1.641837  0.001884 -1.266475  0.287437 -0.012258 -0.824719  0.008144   \n",
       "\n",
       "           coef_12  intercept  \n",
       "0.010000 -0.564943  36.606932  \n",
       "0.417959 -0.568392  33.613466  \n",
       "0.825918 -0.570946  31.811086  \n",
       "1.233878 -0.573030  30.624128  \n",
       "1.641837 -0.574835  29.796198  "
      ]
     },
     "execution_count": 137,
     "metadata": {},
     "output_type": "execute_result"
    }
   ],
   "source": [
    "# Try varying alpha\n",
    "alpha_seq = np.linspace(0.01, 20.0, 50)\n",
    "num_coefs = x_train.shape[1]\n",
    "\n",
    "# Store coefficients for each alpha:\n",
    "coef_cols = ['coef_' + str(ix) for ix in range(num_coefs)] + ['intercept']\n",
    "alpha_df = pd.DataFrame(columns=coef_cols)\n",
    "\n",
    "for a in alpha_seq:\n",
    "    # Fit model\n",
    "    clf_temp = linear_model.Ridge(alpha=a)\n",
    "    clf_temp.fit(x_train, y_train)\n",
    "    # Get coefficients + intercept\n",
    "    coef_nums = np.append(clf_temp.coef_, clf_temp.intercept_)\n",
    "\n",
    "    alpha_df = alpha_df.append(dict(zip(coef_cols, coef_nums)), ignore_index=True)\n",
    "\n",
    "alpha_df.index = alpha_seq\n",
    "alpha_df.head()"
   ]
  },
  {
   "cell_type": "markdown",
   "metadata": {},
   "source": [
    "Let's plot the value of coefficients against `alpha` just as we did with LASSO."
   ]
  },
  {
   "cell_type": "code",
   "execution_count": 138,
   "metadata": {},
   "outputs": [
    {
     "data": {
      "image/png": "[encoded data removed]",
      "text/plain": [
       "<Figure size 432x288 with 1 Axes>"
      ]
     },
     "metadata": {
      "needs_background": "light"
     },
     "output_type": "display_data"
    }
   ],
   "source": [
    "non_intercept_cols = [c for c in alpha_df.columns if c not in ['intercept']]\n",
    "\n",
    "ax1 = alpha_df[non_intercept_cols].plot.line(legend=None, grid=True)\n",
    "ax1.set(xlabel='Alpha', ylabel='Coefficient Value')\n",
    "ax1.set_ylim(-15, 5)\n",
    "ax1.legend(loc='center right', bbox_to_anchor=(1.5, 0.5), ncol=1);"
   ]
  },
  {
   "cell_type": "markdown",
   "metadata": {},
   "source": [
    "Notice that unlike Lasso, Ridge regression's coefficients gradually (asymptotically) shrink as we increase the shrinkage constant `alpha`. So L2-regularization in ridge regression does not result in feature selection like it did with LASSO. So what is it good for? Even though L2-regularization doesn't necessarily reduce the number of features, it is still regularization, which means that it helps us fight against overfitting."
   ]
  }
 ],
 "metadata": {
  "anaconda-cloud": {},
  "kernelspec": {
   "display_name": "Python 3",
   "language": "python",
   "name": "python3"
  },
  "language_info": {
   "codemirror_mode": {
    "name": "ipython",
    "version": 3
   },
   "file_extension": ".py",
   "mimetype": "text/x-python",
   "name": "python",
   "nbconvert_exporter": "python",
   "pygments_lexer": "ipython3",
   "version": "3.7.0"
  }
 },
 "nbformat": 4,
 "nbformat_minor": 4
}
