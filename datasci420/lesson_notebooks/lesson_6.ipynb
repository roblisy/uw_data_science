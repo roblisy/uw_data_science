{
 "cells": [
  {
   "cell_type": "markdown",
   "metadata": {},
   "source": [
    "<hr style=\"border:8px solid red\"> </hr>\n",
    "\n",
    "# Start Recording\n",
    "\n",
    "# Ensemble models"
   ]
  },
  {
   "cell_type": "markdown",
   "metadata": {},
   "source": [
    "In this chapter we learn about ensemble modeling, which is a technique for training multiple ML algorithms (referred to as `base learners`) and combining their learning into one. Two very common ways of doing this are **bagging** and **boosting**.\n",
    "\n",
    "## Reading and processing data\n",
    "\n",
    "Let begin by reading our data. In this case, our data is already split into training and testing. How convenient!"
   ]
  },
  {
   "cell_type": "code",
   "execution_count": 1,
   "metadata": {},
   "outputs": [
    {
     "name": "stdout",
     "output_type": "stream",
     "text": [
      " <=50K    24720\n",
      " >50K      7841\n",
      "Name: Target, dtype: int64\n"
     ]
    },
    {
     "data": {
      "text/html": [
       "<div>\n",
       "<style scoped>\n",
       "    .dataframe tbody tr th:only-of-type {\n",
       "        vertical-align: middle;\n",
       "    }\n",
       "\n",
       "    .dataframe tbody tr th {\n",
       "        vertical-align: top;\n",
       "    }\n",
       "\n",
       "    .dataframe thead th {\n",
       "        text-align: right;\n",
       "    }\n",
       "</style>\n",
       "<table border=\"1\" class=\"dataframe\">\n",
       "  <thead>\n",
       "    <tr style=\"text-align: right;\">\n",
       "      <th></th>\n",
       "      <th>Age</th>\n",
       "      <th>Workclass</th>\n",
       "      <th>fnlwgt</th>\n",
       "      <th>Education</th>\n",
       "      <th>Education_Num</th>\n",
       "      <th>Martial_Status</th>\n",
       "      <th>Occupation</th>\n",
       "      <th>Relationship</th>\n",
       "      <th>Race</th>\n",
       "      <th>Sex</th>\n",
       "      <th>Capital_Gain</th>\n",
       "      <th>Capital_Loss</th>\n",
       "      <th>Hours_per_week</th>\n",
       "      <th>Country</th>\n",
       "      <th>Target</th>\n",
       "    </tr>\n",
       "  </thead>\n",
       "  <tbody>\n",
       "    <tr>\n",
       "      <th>0</th>\n",
       "      <td>39</td>\n",
       "      <td>State-gov</td>\n",
       "      <td>77516</td>\n",
       "      <td>Bachelors</td>\n",
       "      <td>13</td>\n",
       "      <td>Never-married</td>\n",
       "      <td>Adm-clerical</td>\n",
       "      <td>Not-in-family</td>\n",
       "      <td>White</td>\n",
       "      <td>Male</td>\n",
       "      <td>2174</td>\n",
       "      <td>0</td>\n",
       "      <td>40</td>\n",
       "      <td>United-States</td>\n",
       "      <td>&lt;=50K</td>\n",
       "    </tr>\n",
       "    <tr>\n",
       "      <th>1</th>\n",
       "      <td>50</td>\n",
       "      <td>Self-emp-not-inc</td>\n",
       "      <td>83311</td>\n",
       "      <td>Bachelors</td>\n",
       "      <td>13</td>\n",
       "      <td>Married-civ-spouse</td>\n",
       "      <td>Exec-managerial</td>\n",
       "      <td>Husband</td>\n",
       "      <td>White</td>\n",
       "      <td>Male</td>\n",
       "      <td>0</td>\n",
       "      <td>0</td>\n",
       "      <td>13</td>\n",
       "      <td>United-States</td>\n",
       "      <td>&lt;=50K</td>\n",
       "    </tr>\n",
       "    <tr>\n",
       "      <th>2</th>\n",
       "      <td>38</td>\n",
       "      <td>Private</td>\n",
       "      <td>215646</td>\n",
       "      <td>HS-grad</td>\n",
       "      <td>9</td>\n",
       "      <td>Divorced</td>\n",
       "      <td>Handlers-cleaners</td>\n",
       "      <td>Not-in-family</td>\n",
       "      <td>White</td>\n",
       "      <td>Male</td>\n",
       "      <td>0</td>\n",
       "      <td>0</td>\n",
       "      <td>40</td>\n",
       "      <td>United-States</td>\n",
       "      <td>&lt;=50K</td>\n",
       "    </tr>\n",
       "    <tr>\n",
       "      <th>3</th>\n",
       "      <td>53</td>\n",
       "      <td>Private</td>\n",
       "      <td>234721</td>\n",
       "      <td>11th</td>\n",
       "      <td>7</td>\n",
       "      <td>Married-civ-spouse</td>\n",
       "      <td>Handlers-cleaners</td>\n",
       "      <td>Husband</td>\n",
       "      <td>Black</td>\n",
       "      <td>Male</td>\n",
       "      <td>0</td>\n",
       "      <td>0</td>\n",
       "      <td>40</td>\n",
       "      <td>United-States</td>\n",
       "      <td>&lt;=50K</td>\n",
       "    </tr>\n",
       "    <tr>\n",
       "      <th>4</th>\n",
       "      <td>28</td>\n",
       "      <td>Private</td>\n",
       "      <td>338409</td>\n",
       "      <td>Bachelors</td>\n",
       "      <td>13</td>\n",
       "      <td>Married-civ-spouse</td>\n",
       "      <td>Prof-specialty</td>\n",
       "      <td>Wife</td>\n",
       "      <td>Black</td>\n",
       "      <td>Female</td>\n",
       "      <td>0</td>\n",
       "      <td>0</td>\n",
       "      <td>40</td>\n",
       "      <td>Cuba</td>\n",
       "      <td>&lt;=50K</td>\n",
       "    </tr>\n",
       "  </tbody>\n",
       "</table>\n",
       "</div>"
      ],
      "text/plain": [
       "   Age          Workclass  fnlwgt   Education  Education_Num  \\\n",
       "0   39          State-gov   77516   Bachelors             13   \n",
       "1   50   Self-emp-not-inc   83311   Bachelors             13   \n",
       "2   38            Private  215646     HS-grad              9   \n",
       "3   53            Private  234721        11th              7   \n",
       "4   28            Private  338409   Bachelors             13   \n",
       "\n",
       "        Martial_Status          Occupation    Relationship    Race      Sex  \\\n",
       "0        Never-married        Adm-clerical   Not-in-family   White     Male   \n",
       "1   Married-civ-spouse     Exec-managerial         Husband   White     Male   \n",
       "2             Divorced   Handlers-cleaners   Not-in-family   White     Male   \n",
       "3   Married-civ-spouse   Handlers-cleaners         Husband   Black     Male   \n",
       "4   Married-civ-spouse      Prof-specialty            Wife   Black   Female   \n",
       "\n",
       "   Capital_Gain  Capital_Loss  Hours_per_week         Country  Target  \n",
       "0          2174             0              40   United-States   <=50K  \n",
       "1             0             0              13   United-States   <=50K  \n",
       "2             0             0              40   United-States   <=50K  \n",
       "3             0             0              40   United-States   <=50K  \n",
       "4             0             0              40            Cuba   <=50K  "
      ]
     },
     "execution_count": 1,
     "metadata": {},
     "output_type": "execute_result"
    }
   ],
   "source": [
    "import pandas as pd\n",
    "\n",
    "df_train = pd.read_csv(\"adult_train.csv\", sep = \",\", header = 0)\n",
    "df_test = pd.read_csv(\"adult_test.csv\", sep = \",\", skiprows = 2, names = df_train.columns)\n",
    "print(df_train['Target'].value_counts(sort=True))\n",
    "df_train.head()"
   ]
  },
  {
   "cell_type": "markdown",
   "metadata": {},
   "source": [
    "Let's check our column types:"
   ]
  },
  {
   "cell_type": "code",
   "execution_count": 3,
   "metadata": {},
   "outputs": [
    {
     "data": {
      "text/plain": [
       "Age                int64\n",
       "Workclass         object\n",
       "fnlwgt             int64\n",
       "Education         object\n",
       "Education_Num      int64\n",
       "Martial_Status    object\n",
       "Occupation        object\n",
       "Relationship      object\n",
       "Race              object\n",
       "Sex               object\n",
       "Capital_Gain       int64\n",
       "Capital_Loss       int64\n",
       "Hours_per_week     int64\n",
       "Country           object\n",
       "Target            object\n",
       "dtype: object"
      ]
     },
     "execution_count": 3,
     "metadata": {},
     "output_type": "execute_result"
    }
   ],
   "source": [
    "df_train.dtypes"
   ]
  },
  {
   "cell_type": "markdown",
   "metadata": {},
   "source": [
    "More Details:\n",
    "https://archive.ics.uci.edu/ml/datasets/adult\n",
    "\n",
    "Let's create a list of our categorical columns. Here keep every column whose data types is `object`, but we may need to narrow the list down even further."
   ]
  },
  {
   "cell_type": "code",
   "execution_count": 2,
   "metadata": {},
   "outputs": [
    {
     "data": {
      "text/plain": [
       "['Workclass',\n",
       " 'Education',\n",
       " 'Martial_Status',\n",
       " 'Occupation',\n",
       " 'Relationship',\n",
       " 'Race',\n",
       " 'Sex',\n",
       " 'Country',\n",
       " 'Target']"
      ]
     },
     "execution_count": 2,
     "metadata": {},
     "output_type": "execute_result"
    }
   ],
   "source": [
    "cat_vars = df_train.select_dtypes('object').columns.to_list()\n",
    "cat_vars"
   ]
  },
  {
   "cell_type": "code",
   "execution_count": 3,
   "metadata": {},
   "outputs": [
    {
     "data": {
      "text/plain": [
       "['Workclass',\n",
       " 'Education',\n",
       " 'Martial_Status',\n",
       " 'Occupation',\n",
       " 'Relationship',\n",
       " 'Race',\n",
       " 'Sex',\n",
       " 'Country']"
      ]
     },
     "execution_count": 3,
     "metadata": {},
     "output_type": "execute_result"
    }
   ],
   "source": [
    "cat_vars.pop() # removes `target=income` from cat_vars\n",
    "cat_vars"
   ]
  },
  {
   "cell_type": "markdown",
   "metadata": {},
   "source": [
    "All of these columns look like they would be good candidates type `category`, but we covered that in a previous notebook and no need to return to that. We will take them as-is.\n",
    "\n",
    "Let's drop any rows with missing data from the training and test sets. This is a very conservative approach and if we don't have a lot of data to begin with we may want to try a different approach such as imputing the missing values."
   ]
  },
  {
   "cell_type": "code",
   "execution_count": 4,
   "metadata": {},
   "outputs": [
    {
     "name": "stdout",
     "output_type": "stream",
     "text": [
      "Train shape: (30162, 15)\n",
      "Test shape: (15060, 15)\n"
     ]
    }
   ],
   "source": [
    "df_train = df_train.dropna(axis = 0)\n",
    "df_test = df_test.dropna(axis = 0)\n",
    "\n",
    "print('Train shape: {}'.format(df_train.shape))\n",
    "print('Test shape: {}'.format(df_test.shape))"
   ]
  },
  {
   "cell_type": "markdown",
   "metadata": {},
   "source": [
    "We now split the data into features and labels."
   ]
  },
  {
   "cell_type": "code",
   "execution_count": 5,
   "metadata": {},
   "outputs": [],
   "source": [
    "X_train = df_train.drop(columns = 'Target')\n",
    "Y_train = df_train['Target']\n",
    "\n",
    "X_test = df_test.drop(columns = 'Target')\n",
    "Y_test = df_test['Target']"
   ]
  },
  {
   "cell_type": "markdown",
   "metadata": {},
   "source": [
    "As part of data pre-processing, we need to one-hot-encode the categorical features. We already learned how to use `OneHotEncoder` in `sklearn.preprocessing`, but we will use another `OneHotEncoder` this time in the `category_encoders` library. It's important to know that `sklearn` is not the only library for ML in Python, so this will give us a change to try a new one. You should not be surprised to find out that the two have a lot in common, but also some slight additions that make things easier for us."
   ]
  },
  {
   "cell_type": "markdown",
   "metadata": {},
   "source": [
    "Before applying it to the data, let's create a very small train and test data with two rows and two columns and intentiall modify them slightly, just to learn how `OneHotEncoder` works."
   ]
  },
  {
   "cell_type": "code",
   "execution_count": 6,
   "metadata": {},
   "outputs": [
    {
     "data": {
      "text/html": [
       "<div>\n",
       "<style scoped>\n",
       "    .dataframe tbody tr th:only-of-type {\n",
       "        vertical-align: middle;\n",
       "    }\n",
       "\n",
       "    .dataframe tbody tr th {\n",
       "        vertical-align: top;\n",
       "    }\n",
       "\n",
       "    .dataframe thead th {\n",
       "        text-align: right;\n",
       "    }\n",
       "</style>\n",
       "<table border=\"1\" class=\"dataframe\">\n",
       "  <thead>\n",
       "    <tr style=\"text-align: right;\">\n",
       "      <th></th>\n",
       "      <th>Race</th>\n",
       "      <th>Sex</th>\n",
       "    </tr>\n",
       "  </thead>\n",
       "  <tbody>\n",
       "    <tr>\n",
       "      <th>2</th>\n",
       "      <td>White</td>\n",
       "      <td>Male</td>\n",
       "    </tr>\n",
       "    <tr>\n",
       "      <th>3</th>\n",
       "      <td>Black</td>\n",
       "      <td>NaN</td>\n",
       "    </tr>\n",
       "  </tbody>\n",
       "</table>\n",
       "</div>"
      ],
      "text/plain": [
       "     Race    Sex\n",
       "2   White   Male\n",
       "3   Black    NaN"
      ]
     },
     "execution_count": 6,
     "metadata": {},
     "output_type": "execute_result"
    }
   ],
   "source": [
    "import numpy as np\n",
    "\n",
    "X_small_train = X_train.loc[2:3, [\"Race\", \"Sex\"]]\n",
    "X_small_train.iloc[1, 1] = np.nan # introduce a nan to see what happens\n",
    "X_small_train.head()"
   ]
  },
  {
   "cell_type": "code",
   "execution_count": 7,
   "metadata": {},
   "outputs": [
    {
     "data": {
      "text/html": [
       "<div>\n",
       "<style scoped>\n",
       "    .dataframe tbody tr th:only-of-type {\n",
       "        vertical-align: middle;\n",
       "    }\n",
       "\n",
       "    .dataframe tbody tr th {\n",
       "        vertical-align: top;\n",
       "    }\n",
       "\n",
       "    .dataframe thead th {\n",
       "        text-align: right;\n",
       "    }\n",
       "</style>\n",
       "<table border=\"1\" class=\"dataframe\">\n",
       "  <thead>\n",
       "    <tr style=\"text-align: right;\">\n",
       "      <th></th>\n",
       "      <th>Race</th>\n",
       "      <th>Sex</th>\n",
       "    </tr>\n",
       "  </thead>\n",
       "  <tbody>\n",
       "    <tr>\n",
       "      <th>4</th>\n",
       "      <td>Black</td>\n",
       "      <td>Female</td>\n",
       "    </tr>\n",
       "    <tr>\n",
       "      <th>5</th>\n",
       "      <td>White</td>\n",
       "      <td>Female</td>\n",
       "    </tr>\n",
       "  </tbody>\n",
       "</table>\n",
       "</div>"
      ],
      "text/plain": [
       "     Race      Sex\n",
       "4   Black   Female\n",
       "5   White   Female"
      ]
     },
     "execution_count": 7,
     "metadata": {},
     "output_type": "execute_result"
    }
   ],
   "source": [
    "X_small_test = X_train.loc[4:5, [\"Race\", \"Sex\"]]\n",
    "X_small_test.head()"
   ]
  },
  {
   "cell_type": "markdown",
   "metadata": {},
   "source": [
    "The `OneHotEncoder` class has two very important arguments called `handle_missing` and `handle_unknown` ethier of which can be set to `\"error\"`, `\"return_nan\"`, `\"value\"` or `\"indicator\"`."
   ]
  },
  {
   "cell_type": "code",
   "execution_count": 33,
   "metadata": {},
   "outputs": [],
   "source": [
    "import category_encoders as ce\n",
    "\n",
    "handle = 'value' # options are: 'error', 'return_nan', 'value', and 'indicator'\n",
    "onehoter =  ce.OneHotEncoder(return_df = True, \n",
    "                             cols = [\"Race\", \"Sex\"], \n",
    "                             drop_invariant = False,####\n",
    "                             use_cat_names = True, \n",
    "                             handle_missing = handle, \n",
    "                             handle_unknown = handle)"
   ]
  },
  {
   "cell_type": "markdown",
   "metadata": {},
   "source": [
    "<hr style=\"border:5px solid red\"> </hr>\n",
    "\n",
    "### Exercise\n",
    "\n",
    "Let's examing the following settings and describe what happens when you run `onehoter.fit` on `X_small_train` and then run `onehoter.transform` on `X_small_train` and `X_small_test`.\n",
    "\n",
    "- Set `handle = \"indicator\"` and `drop_invariant = False`.\n",
    "- Set `handle = \"error\"`.\n",
    "- Set `handle = \"value\"` and `drop_invariant = True`.\n",
    "- Set `handle = \"value\"` and `drop_invariant = False`.\n",
    "- Set `handle = \"return_nan\"` and `drop_invariant = True`.\n",
    "- Set `handle = \"return_nan\"` and `drop_invariant = False`.\n",
    "\n",
    "Which settings do you think are better in production? Why?"
   ]
  },
  {
   "cell_type": "code",
   "execution_count": 9,
   "metadata": {
    "scrolled": true
   },
   "outputs": [
    {
     "data": {
      "text/html": [
       "<div>\n",
       "<style scoped>\n",
       "    .dataframe tbody tr th:only-of-type {\n",
       "        vertical-align: middle;\n",
       "    }\n",
       "\n",
       "    .dataframe tbody tr th {\n",
       "        vertical-align: top;\n",
       "    }\n",
       "\n",
       "    .dataframe thead th {\n",
       "        text-align: right;\n",
       "    }\n",
       "</style>\n",
       "<table border=\"1\" class=\"dataframe\">\n",
       "  <thead>\n",
       "    <tr style=\"text-align: right;\">\n",
       "      <th></th>\n",
       "      <th>Race</th>\n",
       "      <th>Sex</th>\n",
       "    </tr>\n",
       "  </thead>\n",
       "  <tbody>\n",
       "    <tr>\n",
       "      <th>2</th>\n",
       "      <td>White</td>\n",
       "      <td>Male</td>\n",
       "    </tr>\n",
       "    <tr>\n",
       "      <th>3</th>\n",
       "      <td>Black</td>\n",
       "      <td>NaN</td>\n",
       "    </tr>\n",
       "  </tbody>\n",
       "</table>\n",
       "</div>"
      ],
      "text/plain": [
       "     Race    Sex\n",
       "2   White   Male\n",
       "3   Black    NaN"
      ]
     },
     "execution_count": 9,
     "metadata": {},
     "output_type": "execute_result"
    }
   ],
   "source": [
    "X_small_train.head()"
   ]
  },
  {
   "cell_type": "code",
   "execution_count": 10,
   "metadata": {},
   "outputs": [
    {
     "data": {
      "text/html": [
       "<div>\n",
       "<style scoped>\n",
       "    .dataframe tbody tr th:only-of-type {\n",
       "        vertical-align: middle;\n",
       "    }\n",
       "\n",
       "    .dataframe tbody tr th {\n",
       "        vertical-align: top;\n",
       "    }\n",
       "\n",
       "    .dataframe thead th {\n",
       "        text-align: right;\n",
       "    }\n",
       "</style>\n",
       "<table border=\"1\" class=\"dataframe\">\n",
       "  <thead>\n",
       "    <tr style=\"text-align: right;\">\n",
       "      <th></th>\n",
       "      <th>Race</th>\n",
       "      <th>Sex</th>\n",
       "    </tr>\n",
       "  </thead>\n",
       "  <tbody>\n",
       "    <tr>\n",
       "      <th>4</th>\n",
       "      <td>Black</td>\n",
       "      <td>Female</td>\n",
       "    </tr>\n",
       "    <tr>\n",
       "      <th>5</th>\n",
       "      <td>White</td>\n",
       "      <td>Female</td>\n",
       "    </tr>\n",
       "  </tbody>\n",
       "</table>\n",
       "</div>"
      ],
      "text/plain": [
       "     Race      Sex\n",
       "4   Black   Female\n",
       "5   White   Female"
      ]
     },
     "execution_count": 10,
     "metadata": {},
     "output_type": "execute_result"
    }
   ],
   "source": [
    "X_small_test.head()"
   ]
  },
  {
   "cell_type": "code",
   "execution_count": 34,
   "metadata": {},
   "outputs": [
    {
     "data": {
      "text/html": [
       "<div>\n",
       "<style scoped>\n",
       "    .dataframe tbody tr th:only-of-type {\n",
       "        vertical-align: middle;\n",
       "    }\n",
       "\n",
       "    .dataframe tbody tr th {\n",
       "        vertical-align: top;\n",
       "    }\n",
       "\n",
       "    .dataframe thead th {\n",
       "        text-align: right;\n",
       "    }\n",
       "</style>\n",
       "<table border=\"1\" class=\"dataframe\">\n",
       "  <thead>\n",
       "    <tr style=\"text-align: right;\">\n",
       "      <th></th>\n",
       "      <th>Race_ White</th>\n",
       "      <th>Race_ Black</th>\n",
       "      <th>Sex_ Male</th>\n",
       "      <th>Sex_nan</th>\n",
       "    </tr>\n",
       "  </thead>\n",
       "  <tbody>\n",
       "    <tr>\n",
       "      <th>2</th>\n",
       "      <td>1</td>\n",
       "      <td>0</td>\n",
       "      <td>1</td>\n",
       "      <td>0</td>\n",
       "    </tr>\n",
       "    <tr>\n",
       "      <th>3</th>\n",
       "      <td>0</td>\n",
       "      <td>1</td>\n",
       "      <td>0</td>\n",
       "      <td>1</td>\n",
       "    </tr>\n",
       "  </tbody>\n",
       "</table>\n",
       "</div>"
      ],
      "text/plain": [
       "   Race_ White  Race_ Black  Sex_ Male  Sex_nan\n",
       "2            1            0          1        0\n",
       "3            0            1          0        1"
      ]
     },
     "execution_count": 34,
     "metadata": {},
     "output_type": "execute_result"
    }
   ],
   "source": [
    "onehoter.fit(X_small_train)\n",
    "onehoter.transform(X_small_train)"
   ]
  },
  {
   "cell_type": "code",
   "execution_count": 35,
   "metadata": {},
   "outputs": [
    {
     "data": {
      "text/html": [
       "<div>\n",
       "<style scoped>\n",
       "    .dataframe tbody tr th:only-of-type {\n",
       "        vertical-align: middle;\n",
       "    }\n",
       "\n",
       "    .dataframe tbody tr th {\n",
       "        vertical-align: top;\n",
       "    }\n",
       "\n",
       "    .dataframe thead th {\n",
       "        text-align: right;\n",
       "    }\n",
       "</style>\n",
       "<table border=\"1\" class=\"dataframe\">\n",
       "  <thead>\n",
       "    <tr style=\"text-align: right;\">\n",
       "      <th></th>\n",
       "      <th>Race_ White</th>\n",
       "      <th>Race_ Black</th>\n",
       "      <th>Sex_ Male</th>\n",
       "      <th>Sex_nan</th>\n",
       "    </tr>\n",
       "  </thead>\n",
       "  <tbody>\n",
       "    <tr>\n",
       "      <th>4</th>\n",
       "      <td>0</td>\n",
       "      <td>1</td>\n",
       "      <td>0</td>\n",
       "      <td>0</td>\n",
       "    </tr>\n",
       "    <tr>\n",
       "      <th>5</th>\n",
       "      <td>1</td>\n",
       "      <td>0</td>\n",
       "      <td>0</td>\n",
       "      <td>0</td>\n",
       "    </tr>\n",
       "  </tbody>\n",
       "</table>\n",
       "</div>"
      ],
      "text/plain": [
       "   Race_ White  Race_ Black  Sex_ Male  Sex_nan\n",
       "4            0            1          0        0\n",
       "5            1            0          0        0"
      ]
     },
     "execution_count": 35,
     "metadata": {},
     "output_type": "execute_result"
    }
   ],
   "source": [
    "onehoter.transform(X_small_test)"
   ]
  },
  {
   "cell_type": "markdown",
   "metadata": {},
   "source": [
    "### End of exercise"
   ]
  },
  {
   "cell_type": "markdown",
   "metadata": {},
   "source": [
    "Let's now run `OneHotEncoder` on the data. We create an instance of the class, which we call `onehoter`."
   ]
  },
  {
   "cell_type": "code",
   "execution_count": 36,
   "metadata": {},
   "outputs": [],
   "source": [
    "import category_encoders as ce\n",
    "\n",
    "handle = \"value\" # options are: 'error', 'return_nan', 'value', and 'indicator'\n",
    "onehoter =  ce.OneHotEncoder(return_df = True, \n",
    "                             cols = cat_vars, \n",
    "                             drop_invariant = False,\n",
    "                             use_cat_names = True, \n",
    "                             handle_missing = handle, \n",
    "                             handle_unknown = handle)"
   ]
  },
  {
   "cell_type": "markdown",
   "metadata": {},
   "source": [
    "Now we appy `onehoter` it to the training and test data."
   ]
  },
  {
   "cell_type": "code",
   "execution_count": 37,
   "metadata": {},
   "outputs": [],
   "source": [
    "onehoter.fit(X_train)\n",
    "X_train_encoded = onehoter.transform(X_train)\n",
    "X_test_encoded = onehoter.transform(X_test)"
   ]
  },
  {
   "cell_type": "code",
   "execution_count": 38,
   "metadata": {},
   "outputs": [
    {
     "name": "stdout",
     "output_type": "stream",
     "text": [
      "X_train shape = (30162, 14)\n",
      "X_train_encoded shape = (30162, 104)\n",
      "X_test shape = (15060, 14)\n",
      "X_test_encoded shape = (15060, 104)\n"
     ]
    }
   ],
   "source": [
    "print(\"X_train shape = {}\".format(X_train.shape))\n",
    "print(\"X_train_encoded shape = {}\".format(X_train_encoded.shape))\n",
    "\n",
    "print(\"X_test shape = {}\".format(X_test.shape))\n",
    "print(\"X_test_encoded shape = {}\".format(X_test_encoded.shape))"
   ]
  },
  {
   "cell_type": "markdown",
   "metadata": {},
   "source": [
    "It might be a good idea to ensure that the training and test sets have the same number of columns before proceeding to the next step. This is one way to ensure that we have consistency between the two. We can use `assert` to do it."
   ]
  },
  {
   "cell_type": "code",
   "execution_count": 40,
   "metadata": {},
   "outputs": [],
   "source": [
    "assert X_train_encoded.shape[1] == X_test_encoded.shape[1], 'assertion failed'"
   ]
  },
  {
   "cell_type": "markdown",
   "metadata": {},
   "source": [
    "We're now ready to train models on the one-hot-encoded data. Let's start with a random forest model. Notice that the `RandomForestClassifier` class below has several hyper-parameters such as `n_estimators`, `max_features`, `max_depth` and `min_leaf_size`. The latter two were inherited from the decision tree. For reasons that will become apparent later, we store these hyper-parameters in a dictionary called `hypers` and then pass them to the classifier. When we have a dictionary whose keys match a fuction's argument names, there is a neat functionality in Python that allows us to pass the dictionary to the function using `**` followed by the name of the dictionary. This saves us from having to type the argument names twice: once in the dictionary and once when calling the function."
   ]
  },
  {
   "cell_type": "markdown",
   "metadata": {},
   "source": [
    "<hr style=\"border:5px solid red\"> </hr>\n",
    "\n",
    "## Training a random forest classifier"
   ]
  },
  {
   "cell_type": "code",
   "execution_count": 41,
   "metadata": {},
   "outputs": [],
   "source": [
    "from sklearn.ensemble import RandomForestClassifier\n",
    "\n",
    "hypers = {\"n_estimators\": 500, \"max_features\": \"sqrt\", \"max_depth\": 20, \"min_samples_leaf\": 10}\n",
    "clf_rf = RandomForestClassifier(random_state = 0, verbose = True, **hypers)"
   ]
  },
  {
   "cell_type": "markdown",
   "metadata": {},
   "source": [
    "Let's now train the random forest classifier."
   ]
  },
  {
   "cell_type": "code",
   "execution_count": 42,
   "metadata": {
    "scrolled": true
   },
   "outputs": [
    {
     "name": "stderr",
     "output_type": "stream",
     "text": [
      "[Parallel(n_jobs=1)]: Using backend SequentialBackend with 1 concurrent workers.\n",
      "[Parallel(n_jobs=1)]: Done 500 out of 500 | elapsed:   15.5s finished\n"
     ]
    },
    {
     "data": {
      "text/plain": [
       "RandomForestClassifier(max_depth=20, max_features='sqrt', min_samples_leaf=10,\n",
       "                       n_estimators=500, random_state=0, verbose=True)"
      ]
     },
     "execution_count": 42,
     "metadata": {},
     "output_type": "execute_result"
    }
   ],
   "source": [
    "clf_rf.fit(X_train_encoded, Y_train)"
   ]
  },
  {
   "cell_type": "markdown",
   "metadata": {},
   "source": [
    "If you see a message about using a sequential backend, it's because a random forest is an algorithm that can easily run in parallel by just training many trees concurrently. Since we don't have a large data set we don't need to bother with that here, but it's useful to know about this in case we need to speed up the training job.\n",
    "\n",
    "\n",
    "> NOTE: in sklearn, each processor/thread needs duplicated data for itself. Here is a summary of reducing memory when parallelizing:\n",
    "\n",
    "https://mljar.com/blog/random-forest-memory/"
   ]
  },
  {
   "cell_type": "markdown",
   "metadata": {},
   "source": [
    "One by product of tree-based models is that they provide us with a list showing the relative importance of each feature to the model. So even if we're not interested in the trained model the random forest returns, we can still use it for **feature selection**: namely train the random forest on the whole data to get the top $n$ most important features and later pass only those features to another algorithm we wish to use to train a model. Note that because we one-hot-encoded the data, a feature here is not just one of the categorical columns, but each category of each categorical column is its own feature. We can find the feature importance values in `clf_rf.feature_importances_`."
   ]
  },
  {
   "cell_type": "code",
   "execution_count": 43,
   "metadata": {},
   "outputs": [
    {
     "data": {
      "text/plain": [
       "104"
      ]
     },
     "execution_count": 43,
     "metadata": {},
     "output_type": "execute_result"
    }
   ],
   "source": [
    "len(clf_rf.feature_importances_)"
   ]
  },
  {
   "cell_type": "markdown",
   "metadata": {},
   "source": [
    "Let's store the feature importance values in a `DataFrame` and use `seaborn` to visualize the top 10."
   ]
  },
  {
   "cell_type": "code",
   "execution_count": 44,
   "metadata": {},
   "outputs": [
    {
     "data": {
      "image/png": "[encoded data removed]",
      "text/plain": [
       "<Figure size 432x288 with 1 Axes>"
      ]
     },
     "metadata": {
      "needs_background": "light"
     },
     "output_type": "display_data"
    }
   ],
   "source": [
    "df_var_imp = pd.DataFrame({\"feature\": X_train_encoded.columns, \n",
    "                           \"importance\": clf_rf.feature_importances_})\n",
    "df_var_imp.sort_values(by = \"importance\", ascending = False, inplace = True)\n",
    "\n",
    "import seaborn as sns\n",
    "ax = sns.barplot(x = \"importance\", y = \"feature\", data = df_var_imp.head(10), color = \"lightblue\")"
   ]
  },
  {
   "cell_type": "markdown",
   "metadata": {},
   "source": [
    "To get predictions from the trained model, we simply call the `predict` method and pass it the data. To check if we're overfitting or not, we can get predictions for both the training and the test data. Once we have the predictions, we can call the `accuracy_score` function to get the accuracy on the training and test data, assuming that accuracy is a good metric to use here.\n",
    "\n",
    "We're already written the code there for you. But there's a problem with it. Your job is to run it and see if you can debug it."
   ]
  },
  {
   "cell_type": "code",
   "execution_count": 45,
   "metadata": {},
   "outputs": [
    {
     "name": "stderr",
     "output_type": "stream",
     "text": [
      "[Parallel(n_jobs=1)]: Using backend SequentialBackend with 1 concurrent workers.\n",
      "[Parallel(n_jobs=1)]: Done 500 out of 500 | elapsed:    2.2s finished\n",
      "[Parallel(n_jobs=1)]: Using backend SequentialBackend with 1 concurrent workers.\n",
      "[Parallel(n_jobs=1)]: Done 500 out of 500 | elapsed:    1.1s finished\n"
     ]
    }
   ],
   "source": [
    "Y_hat_train = clf_rf.predict(X_train_encoded)\n",
    "Y_hat_test = clf_rf.predict(X_test_encoded)"
   ]
  },
  {
   "cell_type": "code",
   "execution_count": 46,
   "metadata": {},
   "outputs": [
    {
     "data": {
      "text/plain": [
       "0     <=50K\n",
       "1     <=50K\n",
       "2     <=50K\n",
       "3     <=50K\n",
       "4     <=50K\n",
       "Name: Target, dtype: object"
      ]
     },
     "execution_count": 46,
     "metadata": {},
     "output_type": "execute_result"
    }
   ],
   "source": [
    "Y_train.head()"
   ]
  },
  {
   "cell_type": "code",
   "execution_count": 47,
   "metadata": {},
   "outputs": [
    {
     "data": {
      "text/plain": [
       "0     <=50K.\n",
       "1     <=50K.\n",
       "2      >50K.\n",
       "3      >50K.\n",
       "5     <=50K.\n",
       "Name: Target, dtype: object"
      ]
     },
     "execution_count": 47,
     "metadata": {},
     "output_type": "execute_result"
    }
   ],
   "source": [
    "Y_test.head()"
   ]
  },
  {
   "cell_type": "markdown",
   "metadata": {},
   "source": [
    "There is a slight discrepancy between the labels as they show up in the training data and the test data: the labels in the test data end with a period. So we need to remove the period when we evaluate the model. We do so using `.str.replace(\"\\\\.$\", \"\")` in the cell below, where `\"\\\\.$\"` is a regular expression that searches for a period at the end of a string."
   ]
  },
  {
   "cell_type": "code",
   "execution_count": 48,
   "metadata": {},
   "outputs": [
    {
     "name": "stdout",
     "output_type": "stream",
     "text": [
      "Train set accuracy: 86.35%\n",
      "Test set accuracy: 85.76%\n"
     ]
    }
   ],
   "source": [
    "from sklearn.metrics import accuracy_score\n",
    "acc_train = accuracy_score(Y_train, Y_hat_train)\n",
    "\n",
    "end_of_line_period_regex = r'\\.$'\n",
    "\n",
    "acc_test = accuracy_score(Y_test.str.replace(end_of_line_period_regex, \"\"), Y_hat_test)\n",
    "\n",
    "print('Train set accuracy: {:.2f}%'.format(acc_train * 100))\n",
    "print('Test set accuracy: {:.2f}%'.format(acc_test * 100))"
   ]
  },
  {
   "cell_type": "markdown",
   "metadata": {},
   "source": [
    "We will be storing some important results in a table we call `results`. If this table doesn't exist (first time we run it) it will initialized by the code below."
   ]
  },
  {
   "cell_type": "code",
   "execution_count": 49,
   "metadata": {},
   "outputs": [],
   "source": [
    "try:\n",
    "    results # checks if this object exists or not\n",
    "except NameError:\n",
    "    results = pd.DataFrame(columns = [\"algo\", \"acc_train\", \"acc_test\"]) # initiates it"
   ]
  },
  {
   "cell_type": "markdown",
   "metadata": {},
   "source": [
    "Every row of the table will store accuracy metrics for one training iteration given one set of hyper-parameters (also listed in the table)."
   ]
  },
  {
   "cell_type": "code",
   "execution_count": 50,
   "metadata": {},
   "outputs": [
    {
     "name": "stdout",
     "output_type": "stream",
     "text": [
      "<class 'sklearn.ensemble._forest.RandomForestClassifier'>\n",
      "Changed to RandomForestClassifier\n",
      "\n",
      "-Hyperparameters:\n",
      "500\n",
      "sqrt\n",
      "20\n",
      "10\n"
     ]
    }
   ],
   "source": [
    "# Create metrics:\n",
    "print(clf_rf.__class__)\n",
    "\n",
    "model_name = str(clf_rf.__class__).split('.')[-1].strip(\"\\\"\\'>\")\n",
    "\n",
    "print('Changed to {}'.format(model_name))\n",
    "\n",
    "\n",
    "\n",
    "results.loc[len(results), 0:3] = [model_name, acc_train, acc_test]\n",
    "\n",
    "print('\\n-Hyperparameters:')\n",
    "for hp in hypers.keys():\n",
    "    print(hypers[hp])\n",
    "    results.loc[len(results) - 1, hp] = hypers[hp]"
   ]
  },
  {
   "cell_type": "code",
   "execution_count": 51,
   "metadata": {
    "scrolled": true
   },
   "outputs": [
    {
     "data": {
      "text/html": [
       "<div>\n",
       "<style scoped>\n",
       "    .dataframe tbody tr th:only-of-type {\n",
       "        vertical-align: middle;\n",
       "    }\n",
       "\n",
       "    .dataframe tbody tr th {\n",
       "        vertical-align: top;\n",
       "    }\n",
       "\n",
       "    .dataframe thead th {\n",
       "        text-align: right;\n",
       "    }\n",
       "</style>\n",
       "<table border=\"1\" class=\"dataframe\">\n",
       "  <thead>\n",
       "    <tr style=\"text-align: right;\">\n",
       "      <th></th>\n",
       "      <th>algo</th>\n",
       "      <th>acc_train</th>\n",
       "      <th>acc_test</th>\n",
       "      <th>n_estimators</th>\n",
       "      <th>max_features</th>\n",
       "      <th>max_depth</th>\n",
       "      <th>min_samples_leaf</th>\n",
       "    </tr>\n",
       "  </thead>\n",
       "  <tbody>\n",
       "    <tr>\n",
       "      <th>0</th>\n",
       "      <td>RandomForestClassifier</td>\n",
       "      <td>0.863504</td>\n",
       "      <td>0.85757</td>\n",
       "      <td>500.0</td>\n",
       "      <td>sqrt</td>\n",
       "      <td>20.0</td>\n",
       "      <td>10.0</td>\n",
       "    </tr>\n",
       "  </tbody>\n",
       "</table>\n",
       "</div>"
      ],
      "text/plain": [
       "                     algo acc_train acc_test  n_estimators max_features  \\\n",
       "0  RandomForestClassifier  0.863504  0.85757         500.0         sqrt   \n",
       "\n",
       "   max_depth  min_samples_leaf  \n",
       "0       20.0              10.0  "
      ]
     },
     "execution_count": 51,
     "metadata": {},
     "output_type": "execute_result"
    }
   ],
   "source": [
    "results"
   ]
  },
  {
   "cell_type": "markdown",
   "metadata": {},
   "source": [
    "We can now go back up to where we trained the random forest classifier and change its hyper-parameters, retrain it, re-evaluate it, and finally store the results as a new row in the `results` table. This way we can compare our different runs."
   ]
  },
  {
   "cell_type": "code",
   "execution_count": 52,
   "metadata": {},
   "outputs": [
    {
     "name": "stdout",
     "output_type": "stream",
     "text": [
      "Training Model:clf_rf1\n"
     ]
    },
    {
     "name": "stderr",
     "output_type": "stream",
     "text": [
      "[Parallel(n_jobs=1)]: Using backend SequentialBackend with 1 concurrent workers.\n",
      "[Parallel(n_jobs=1)]: Done 100 out of 100 | elapsed:    1.2s finished\n",
      "[Parallel(n_jobs=1)]: Using backend SequentialBackend with 1 concurrent workers.\n",
      "[Parallel(n_jobs=1)]: Done 100 out of 100 | elapsed:    0.2s finished\n",
      "[Parallel(n_jobs=1)]: Using backend SequentialBackend with 1 concurrent workers.\n",
      "[Parallel(n_jobs=1)]: Done 100 out of 100 | elapsed:    0.1s finished\n"
     ]
    },
    {
     "name": "stdout",
     "output_type": "stream",
     "text": [
      "Training Model:clf_rf2\n"
     ]
    },
    {
     "name": "stderr",
     "output_type": "stream",
     "text": [
      "[Parallel(n_jobs=1)]: Using backend SequentialBackend with 1 concurrent workers.\n",
      "[Parallel(n_jobs=1)]: Done 100 out of 100 | elapsed:    1.7s finished\n",
      "[Parallel(n_jobs=1)]: Using backend SequentialBackend with 1 concurrent workers.\n",
      "[Parallel(n_jobs=1)]: Done 100 out of 100 | elapsed:    0.2s finished\n",
      "[Parallel(n_jobs=1)]: Using backend SequentialBackend with 1 concurrent workers.\n",
      "[Parallel(n_jobs=1)]: Done 100 out of 100 | elapsed:    0.1s finished\n"
     ]
    },
    {
     "name": "stdout",
     "output_type": "stream",
     "text": [
      "Training Model:clf_rf3\n"
     ]
    },
    {
     "name": "stderr",
     "output_type": "stream",
     "text": [
      "[Parallel(n_jobs=1)]: Using backend SequentialBackend with 1 concurrent workers.\n",
      "[Parallel(n_jobs=1)]: Done 100 out of 100 | elapsed:    2.0s finished\n",
      "[Parallel(n_jobs=1)]: Using backend SequentialBackend with 1 concurrent workers.\n",
      "[Parallel(n_jobs=1)]: Done 100 out of 100 | elapsed:    0.3s finished\n",
      "[Parallel(n_jobs=1)]: Using backend SequentialBackend with 1 concurrent workers.\n",
      "[Parallel(n_jobs=1)]: Done 100 out of 100 | elapsed:    0.1s finished\n"
     ]
    }
   ],
   "source": [
    "hypers = [{\"n_estimators\": 100, \"max_features\": \"sqrt\", \"max_depth\": 5, \"min_samples_leaf\": 10},\n",
    "          {\"n_estimators\": 100, \"max_features\": \"sqrt\", \"max_depth\": 7, \"min_samples_leaf\": 15},\n",
    "          {\"n_estimators\": 100, \"max_features\": \"sqrt\", \"max_depth\": 9, \"min_samples_leaf\": 20}]\n",
    "\n",
    "model_dict = {'clf_rf1': RandomForestClassifier(random_state = 0, verbose = True, **hypers[0]),\n",
    "              'clf_rf2': RandomForestClassifier(random_state = 0, verbose = True, **hypers[1]),\n",
    "              'clf_rf3': RandomForestClassifier(random_state = 0, verbose = True, **hypers[2])}\n",
    "\n",
    "\n",
    "for model_ix, (model_name, model_fun) in enumerate(model_dict.items()):\n",
    "    print('Training Model:{}'.format(model_name))\n",
    "    # Train model\n",
    "    model_fun.fit(X_train_encoded, Y_train)\n",
    "\n",
    "    # Get predictions\n",
    "    Y_hat_train = model_fun.predict(X_train_encoded)\n",
    "    Y_hat_test = model_fun.predict(X_test_encoded)\n",
    "\n",
    "    # Compute Accuracies\n",
    "    acc_train = accuracy_score(Y_train, Y_hat_train)\n",
    "    acc_test = accuracy_score(Y_test.str.replace(\"\\\\.$\", \"\"), Y_hat_test)\n",
    "\n",
    "    try:\n",
    "        results # checks if this object exists or not\n",
    "    except NameError:\n",
    "        results = pd.DataFrame(columns = [\"algo\", \"acc_train\", \"acc_test\"])\n",
    "\n",
    "    results.loc[len(results), 0:3] = [model_name, acc_train, acc_test]\n",
    "\n",
    "    for hp in hypers[model_ix].keys():\n",
    "        results.loc[len(results) - 1, hp] = hypers[model_ix][hp]"
   ]
  },
  {
   "cell_type": "markdown",
   "metadata": {},
   "source": [
    "Let's see what we end up with:"
   ]
  },
  {
   "cell_type": "code",
   "execution_count": 53,
   "metadata": {},
   "outputs": [
    {
     "data": {
      "text/html": [
       "<div>\n",
       "<style scoped>\n",
       "    .dataframe tbody tr th:only-of-type {\n",
       "        vertical-align: middle;\n",
       "    }\n",
       "\n",
       "    .dataframe tbody tr th {\n",
       "        vertical-align: top;\n",
       "    }\n",
       "\n",
       "    .dataframe thead th {\n",
       "        text-align: right;\n",
       "    }\n",
       "</style>\n",
       "<table border=\"1\" class=\"dataframe\">\n",
       "  <thead>\n",
       "    <tr style=\"text-align: right;\">\n",
       "      <th></th>\n",
       "      <th>algo</th>\n",
       "      <th>acc_train</th>\n",
       "      <th>acc_test</th>\n",
       "      <th>n_estimators</th>\n",
       "      <th>max_features</th>\n",
       "      <th>max_depth</th>\n",
       "      <th>min_samples_leaf</th>\n",
       "    </tr>\n",
       "  </thead>\n",
       "  <tbody>\n",
       "    <tr>\n",
       "      <th>0</th>\n",
       "      <td>RandomForestClassifier</td>\n",
       "      <td>0.863504</td>\n",
       "      <td>0.85757</td>\n",
       "      <td>500.0</td>\n",
       "      <td>sqrt</td>\n",
       "      <td>20.0</td>\n",
       "      <td>10.0</td>\n",
       "    </tr>\n",
       "    <tr>\n",
       "      <th>1</th>\n",
       "      <td>clf_rf1</td>\n",
       "      <td>0.835754</td>\n",
       "      <td>0.832935</td>\n",
       "      <td>100.0</td>\n",
       "      <td>sqrt</td>\n",
       "      <td>5.0</td>\n",
       "      <td>10.0</td>\n",
       "    </tr>\n",
       "    <tr>\n",
       "      <th>2</th>\n",
       "      <td>clf_rf2</td>\n",
       "      <td>0.84381</td>\n",
       "      <td>0.841965</td>\n",
       "      <td>100.0</td>\n",
       "      <td>sqrt</td>\n",
       "      <td>7.0</td>\n",
       "      <td>15.0</td>\n",
       "    </tr>\n",
       "    <tr>\n",
       "      <th>3</th>\n",
       "      <td>clf_rf3</td>\n",
       "      <td>0.850209</td>\n",
       "      <td>0.847078</td>\n",
       "      <td>100.0</td>\n",
       "      <td>sqrt</td>\n",
       "      <td>9.0</td>\n",
       "      <td>20.0</td>\n",
       "    </tr>\n",
       "  </tbody>\n",
       "</table>\n",
       "</div>"
      ],
      "text/plain": [
       "                     algo acc_train  acc_test  n_estimators max_features  \\\n",
       "0  RandomForestClassifier  0.863504   0.85757         500.0         sqrt   \n",
       "1                 clf_rf1  0.835754  0.832935         100.0         sqrt   \n",
       "2                 clf_rf2   0.84381  0.841965         100.0         sqrt   \n",
       "3                 clf_rf3  0.850209  0.847078         100.0         sqrt   \n",
       "\n",
       "   max_depth  min_samples_leaf  \n",
       "0       20.0              10.0  \n",
       "1        5.0              10.0  \n",
       "2        7.0              15.0  \n",
       "3        9.0              20.0  "
      ]
     },
     "execution_count": 53,
     "metadata": {},
     "output_type": "execute_result"
    }
   ],
   "source": [
    "results"
   ]
  },
  {
   "cell_type": "markdown",
   "metadata": {},
   "source": [
    "<hr style=\"border:5px solid red\"> </hr>\n",
    "\n",
    "## Training a gradient boosted classifier"
   ]
  },
  {
   "cell_type": "markdown",
   "metadata": {},
   "source": [
    "Let's now train a gradient boosted classifier. Shrinkage is controlled by `learning_rate`."
   ]
  },
  {
   "cell_type": "code",
   "execution_count": 54,
   "metadata": {},
   "outputs": [],
   "source": [
    "from sklearn.ensemble import GradientBoostingClassifier\n",
    "\n",
    "hypers = {\"n_estimators\": 10, \"max_features\": \"sqrt\", \"max_depth\": 20, \"min_samples_leaf\": 10, \"learning_rate\": 0.5}\n",
    "clf_gb = GradientBoostingClassifier(loss = 'deviance', verbose = True, **hypers)"
   ]
  },
  {
   "cell_type": "markdown",
   "metadata": {},
   "source": [
    "One again we train the classifier by calling `fit`."
   ]
  },
  {
   "cell_type": "code",
   "execution_count": 55,
   "metadata": {},
   "outputs": [
    {
     "name": "stdout",
     "output_type": "stream",
     "text": [
      "      Iter       Train Loss   Remaining Time \n",
      "         1           0.8050            0.77s\n",
      "         2           0.7006            0.68s\n",
      "         3           0.6301            0.61s\n",
      "         4           0.5860            0.53s\n",
      "         5           0.5530            0.45s\n",
      "         6           0.5301            0.35s\n",
      "         7           0.5095            0.26s\n",
      "         8           0.4921            0.17s\n",
      "         9           0.4751            0.09s\n",
      "        10           0.4665            0.00s\n"
     ]
    },
    {
     "data": {
      "text/plain": [
       "GradientBoostingClassifier(learning_rate=0.5, max_depth=20, max_features='sqrt',\n",
       "                           min_samples_leaf=10, n_estimators=10, verbose=True)"
      ]
     },
     "execution_count": 55,
     "metadata": {},
     "output_type": "execute_result"
    }
   ],
   "source": [
    "clf_gb.fit(X_train_encoded, Y_train)"
   ]
  },
  {
   "cell_type": "markdown",
   "metadata": {},
   "source": [
    "We can display the variable importance plot for a gradient boosted classifier as well. The results should not look very different from using random forests."
   ]
  },
  {
   "cell_type": "code",
   "execution_count": 56,
   "metadata": {},
   "outputs": [
    {
     "data": {
      "image/png": "[encoded data removed]",
      "text/plain": [
       "<Figure size 432x288 with 1 Axes>"
      ]
     },
     "metadata": {
      "needs_background": "light"
     },
     "output_type": "display_data"
    }
   ],
   "source": [
    "df_var_imp = pd.DataFrame({\"feature\": X_train_encoded.columns, \n",
    "                           \"importance\": clf_gb.feature_importances_})\n",
    "df_var_imp.sort_values(by = \"importance\", ascending = False, inplace = True)\n",
    "\n",
    "import seaborn as sns\n",
    "ax = sns.barplot(x = \"importance\", y = \"feature\", data = df_var_imp.head(10), color = \"lightblue\")"
   ]
  },
  {
   "cell_type": "markdown",
   "metadata": {},
   "source": [
    "We now score the training and test sets with the trained model from the previous step."
   ]
  },
  {
   "cell_type": "code",
   "execution_count": 57,
   "metadata": {},
   "outputs": [],
   "source": [
    "Y_hat_train = clf_gb.predict(X_train_encoded)\n",
    "Y_hat_test = clf_gb.predict(X_test_encoded)"
   ]
  },
  {
   "cell_type": "markdown",
   "metadata": {},
   "source": [
    "We obtain the accuracy scores in either case."
   ]
  },
  {
   "cell_type": "code",
   "execution_count": 58,
   "metadata": {},
   "outputs": [
    {
     "name": "stdout",
     "output_type": "stream",
     "text": [
      "Train set accuracy: 89.49%\n",
      "Test set accuracy: 85.72%\n"
     ]
    }
   ],
   "source": [
    "acc_train = accuracy_score(Y_train, Y_hat_train)\n",
    "acc_test = accuracy_score(Y_test.str.replace(\"\\\\.$\", \"\"), Y_hat_test)\n",
    "\n",
    "print('Train set accuracy: {:.2f}%'.format(acc_train * 100))\n",
    "print('Test set accuracy: {:.2f}%'.format(acc_test * 100))"
   ]
  },
  {
   "cell_type": "markdown",
   "metadata": {},
   "source": [
    "And we store the results in the same `results` table as bofere."
   ]
  },
  {
   "cell_type": "code",
   "execution_count": 59,
   "metadata": {},
   "outputs": [],
   "source": [
    "model_name = str(clf_gb.__class__).split('.')[-1].strip(\"\\\"\\'>\")\n",
    "results.loc[len(results), 0:3] = [model_name, acc_train, acc_test]\n",
    "\n",
    "for hp in hypers.keys():\n",
    "    results.loc[len(results) - 1, hp] = hypers[hp]"
   ]
  },
  {
   "cell_type": "code",
   "execution_count": 60,
   "metadata": {},
   "outputs": [
    {
     "data": {
      "text/html": [
       "<div>\n",
       "<style scoped>\n",
       "    .dataframe tbody tr th:only-of-type {\n",
       "        vertical-align: middle;\n",
       "    }\n",
       "\n",
       "    .dataframe tbody tr th {\n",
       "        vertical-align: top;\n",
       "    }\n",
       "\n",
       "    .dataframe thead th {\n",
       "        text-align: right;\n",
       "    }\n",
       "</style>\n",
       "<table border=\"1\" class=\"dataframe\">\n",
       "  <thead>\n",
       "    <tr style=\"text-align: right;\">\n",
       "      <th></th>\n",
       "      <th>algo</th>\n",
       "      <th>acc_train</th>\n",
       "      <th>acc_test</th>\n",
       "      <th>n_estimators</th>\n",
       "      <th>max_features</th>\n",
       "      <th>max_depth</th>\n",
       "      <th>min_samples_leaf</th>\n",
       "      <th>learning_rate</th>\n",
       "    </tr>\n",
       "  </thead>\n",
       "  <tbody>\n",
       "    <tr>\n",
       "      <th>0</th>\n",
       "      <td>RandomForestClassifier</td>\n",
       "      <td>0.863504</td>\n",
       "      <td>0.85757</td>\n",
       "      <td>500.0</td>\n",
       "      <td>sqrt</td>\n",
       "      <td>20.0</td>\n",
       "      <td>10.0</td>\n",
       "      <td>NaN</td>\n",
       "    </tr>\n",
       "    <tr>\n",
       "      <th>1</th>\n",
       "      <td>clf_rf1</td>\n",
       "      <td>0.835754</td>\n",
       "      <td>0.832935</td>\n",
       "      <td>100.0</td>\n",
       "      <td>sqrt</td>\n",
       "      <td>5.0</td>\n",
       "      <td>10.0</td>\n",
       "      <td>NaN</td>\n",
       "    </tr>\n",
       "    <tr>\n",
       "      <th>2</th>\n",
       "      <td>clf_rf2</td>\n",
       "      <td>0.84381</td>\n",
       "      <td>0.841965</td>\n",
       "      <td>100.0</td>\n",
       "      <td>sqrt</td>\n",
       "      <td>7.0</td>\n",
       "      <td>15.0</td>\n",
       "      <td>NaN</td>\n",
       "    </tr>\n",
       "    <tr>\n",
       "      <th>3</th>\n",
       "      <td>clf_rf3</td>\n",
       "      <td>0.850209</td>\n",
       "      <td>0.847078</td>\n",
       "      <td>100.0</td>\n",
       "      <td>sqrt</td>\n",
       "      <td>9.0</td>\n",
       "      <td>20.0</td>\n",
       "      <td>NaN</td>\n",
       "    </tr>\n",
       "    <tr>\n",
       "      <th>4</th>\n",
       "      <td>GradientBoostingClassifier</td>\n",
       "      <td>0.894901</td>\n",
       "      <td>0.857238</td>\n",
       "      <td>10.0</td>\n",
       "      <td>sqrt</td>\n",
       "      <td>20.0</td>\n",
       "      <td>10.0</td>\n",
       "      <td>0.5</td>\n",
       "    </tr>\n",
       "  </tbody>\n",
       "</table>\n",
       "</div>"
      ],
      "text/plain": [
       "                         algo acc_train  acc_test  n_estimators max_features  \\\n",
       "0      RandomForestClassifier  0.863504   0.85757         500.0         sqrt   \n",
       "1                     clf_rf1  0.835754  0.832935         100.0         sqrt   \n",
       "2                     clf_rf2   0.84381  0.841965         100.0         sqrt   \n",
       "3                     clf_rf3  0.850209  0.847078         100.0         sqrt   \n",
       "4  GradientBoostingClassifier  0.894901  0.857238          10.0         sqrt   \n",
       "\n",
       "   max_depth  min_samples_leaf  learning_rate  \n",
       "0       20.0              10.0            NaN  \n",
       "1        5.0              10.0            NaN  \n",
       "2        7.0              15.0            NaN  \n",
       "3        9.0              20.0            NaN  \n",
       "4       20.0              10.0            0.5  "
      ]
     },
     "execution_count": 60,
     "metadata": {},
     "output_type": "execute_result"
    }
   ],
   "source": [
    "results"
   ]
  },
  {
   "cell_type": "markdown",
   "metadata": {},
   "source": [
    "<hr style=\"border:5px solid red\"> </hr>\n",
    "\n",
    "### Exercise"
   ]
  },
  {
   "cell_type": "markdown",
   "metadata": {},
   "source": [
    "Return to the two classifiers we trained above and change the hyper-parametrs and train at least 10 different random forest and 10 different gradient boosted classfiers. Make sure to store all the training runs in the `results` table. Once you have all the runs, find the best model you have and report its accuracy and state your choice of hyper-parametrs. We will compare this with everyone else in class to see who got the best model.\n",
    "\n",
    "Before you begin, recall that bagged learners like random forests reduce variance, so we want their **base-learner** to be more likely overfit (**high variance**). On the other hand, boosted learners like gradient boosted trees reduce bias, so we want their **base-learners** to be more likely to underfit (**high bias**). So your choice of hyper-parameters for the base-learners (decision trees) in each case should reflect this tendency."
   ]
  },
  {
   "cell_type": "markdown",
   "metadata": {},
   "source": [
    "To make it easy, we're already pasted the cells for you here. You will train 10 different **random forests**."
   ]
  },
  {
   "cell_type": "code",
   "execution_count": 62,
   "metadata": {
    "scrolled": true
   },
   "outputs": [
    {
     "name": "stdout",
     "output_type": "stream",
     "text": [
      "Training Model:clf_rf4\n"
     ]
    },
    {
     "name": "stderr",
     "output_type": "stream",
     "text": [
      "[Parallel(n_jobs=1)]: Using backend SequentialBackend with 1 concurrent workers.\n",
      "[Parallel(n_jobs=1)]: Done 300 out of 300 | elapsed:    3.7s finished\n",
      "[Parallel(n_jobs=1)]: Using backend SequentialBackend with 1 concurrent workers.\n",
      "[Parallel(n_jobs=1)]: Done 300 out of 300 | elapsed:    0.6s finished\n",
      "[Parallel(n_jobs=1)]: Using backend SequentialBackend with 1 concurrent workers.\n",
      "[Parallel(n_jobs=1)]: Done 300 out of 300 | elapsed:    0.3s finished\n"
     ]
    },
    {
     "name": "stdout",
     "output_type": "stream",
     "text": [
      "Training Model:clf_rf5\n"
     ]
    },
    {
     "name": "stderr",
     "output_type": "stream",
     "text": [
      "[Parallel(n_jobs=1)]: Using backend SequentialBackend with 1 concurrent workers.\n",
      "[Parallel(n_jobs=1)]: Done 300 out of 300 | elapsed:    5.0s finished\n",
      "[Parallel(n_jobs=1)]: Using backend SequentialBackend with 1 concurrent workers.\n",
      "[Parallel(n_jobs=1)]: Done 300 out of 300 | elapsed:    0.7s finished\n",
      "[Parallel(n_jobs=1)]: Using backend SequentialBackend with 1 concurrent workers.\n",
      "[Parallel(n_jobs=1)]: Done 300 out of 300 | elapsed:    0.4s finished\n"
     ]
    },
    {
     "name": "stdout",
     "output_type": "stream",
     "text": [
      "Training Model:clf_rf6\n"
     ]
    },
    {
     "name": "stderr",
     "output_type": "stream",
     "text": [
      "[Parallel(n_jobs=1)]: Using backend SequentialBackend with 1 concurrent workers.\n",
      "[Parallel(n_jobs=1)]: Done 300 out of 300 | elapsed:    6.0s finished\n",
      "[Parallel(n_jobs=1)]: Using backend SequentialBackend with 1 concurrent workers.\n",
      "[Parallel(n_jobs=1)]: Done 300 out of 300 | elapsed:    0.8s finished\n",
      "[Parallel(n_jobs=1)]: Using backend SequentialBackend with 1 concurrent workers.\n",
      "[Parallel(n_jobs=1)]: Done 300 out of 300 | elapsed:    0.4s finished\n"
     ]
    },
    {
     "name": "stdout",
     "output_type": "stream",
     "text": [
      "Training Model:clf_rf7\n"
     ]
    },
    {
     "name": "stderr",
     "output_type": "stream",
     "text": [
      "[Parallel(n_jobs=1)]: Using backend SequentialBackend with 1 concurrent workers.\n",
      "[Parallel(n_jobs=1)]: Done 300 out of 300 | elapsed:    2.5s finished\n",
      "[Parallel(n_jobs=1)]: Using backend SequentialBackend with 1 concurrent workers.\n",
      "[Parallel(n_jobs=1)]: Done 300 out of 300 | elapsed:    0.5s finished\n",
      "[Parallel(n_jobs=1)]: Using backend SequentialBackend with 1 concurrent workers.\n",
      "[Parallel(n_jobs=1)]: Done 300 out of 300 | elapsed:    0.2s finished\n"
     ]
    },
    {
     "name": "stdout",
     "output_type": "stream",
     "text": [
      "Training Model:clf_rf8\n"
     ]
    },
    {
     "name": "stderr",
     "output_type": "stream",
     "text": [
      "[Parallel(n_jobs=1)]: Using backend SequentialBackend with 1 concurrent workers.\n",
      "[Parallel(n_jobs=1)]: Done 300 out of 300 | elapsed:    7.1s finished\n",
      "[Parallel(n_jobs=1)]: Using backend SequentialBackend with 1 concurrent workers.\n",
      "[Parallel(n_jobs=1)]: Done 300 out of 300 | elapsed:    1.0s finished\n",
      "[Parallel(n_jobs=1)]: Using backend SequentialBackend with 1 concurrent workers.\n",
      "[Parallel(n_jobs=1)]: Done 300 out of 300 | elapsed:    0.5s finished\n"
     ]
    },
    {
     "name": "stdout",
     "output_type": "stream",
     "text": [
      "Training Model:clf_gb1\n",
      "      Iter       Train Loss   Remaining Time \n",
      "         1           1.0460            0.35s\n",
      "         2           0.9845            0.35s\n",
      "         3           0.9429            0.31s\n",
      "         4           0.9002            0.26s\n",
      "         5           0.8639            0.22s\n",
      "         6           0.8347            0.17s\n",
      "         7           0.8073            0.13s\n",
      "         8           0.7836            0.09s\n",
      "         9           0.7647            0.04s\n",
      "        10           0.7449            0.00s\n",
      "Training Model:clf_gb2\n",
      "      Iter       Train Loss   Remaining Time \n",
      "         1           1.0341            0.74s\n",
      "         2           0.9680            0.65s\n",
      "         3           0.9148            0.57s\n",
      "         4           0.8700            0.50s\n",
      "         5           0.8325            0.42s\n",
      "         6           0.8002            0.33s\n",
      "         7           0.7710            0.25s\n",
      "         8           0.7451            0.17s\n",
      "         9           0.7222            0.08s\n",
      "        10           0.7033            0.00s\n",
      "Training Model:clf_gb3\n",
      "      Iter       Train Loss   Remaining Time \n",
      "         1           1.0401            0.71s\n",
      "         2           0.9721            0.70s\n",
      "         3           0.9157            0.65s\n",
      "         4           0.8705            0.57s\n",
      "         5           0.8304            0.49s\n",
      "         6           0.7956            0.39s\n",
      "         7           0.7640            0.30s\n",
      "         8           0.7365            0.20s\n",
      "         9           0.7131            0.10s\n",
      "        10           0.6929            0.00s\n",
      "Training Model:clf_gb4\n",
      "      Iter       Train Loss   Remaining Time \n",
      "         1           0.8241            0.45s\n",
      "         2           0.7201            0.40s\n",
      "         3           0.6695            0.33s\n",
      "         4           0.6389            0.27s\n",
      "         5           0.6120            0.22s\n",
      "         6           0.5972            0.17s\n",
      "         7           0.5827            0.13s\n",
      "         8           0.5742            0.09s\n",
      "         9           0.5654            0.04s\n",
      "        10           0.5569            0.00s\n",
      "Training Model:clf_gb5\n",
      "      Iter       Train Loss   Remaining Time \n",
      "         1           0.7962            0.77s\n",
      "         2           0.6770            0.76s\n",
      "         3           0.6164            0.68s\n",
      "         4           0.5667            0.59s\n",
      "         5           0.5297            0.51s\n",
      "         6           0.5006            0.41s\n",
      "         7           0.4754            0.31s\n",
      "         8           0.4537            0.21s\n",
      "         9           0.4350            0.10s\n",
      "        10           0.4198            0.00s\n"
     ]
    }
   ],
   "source": [
    "hypers = [{\"n_estimators\": 300, \"max_features\": \"sqrt\", \"max_depth\": 5, \"min_samples_leaf\": 10},\n",
    "          {\"n_estimators\": 300, \"max_features\": \"sqrt\", \"max_depth\": 7, \"min_samples_leaf\": 15},\n",
    "          {\"n_estimators\": 300, \"max_features\": \"sqrt\", \"max_depth\": 9, \"min_samples_leaf\": 20},\n",
    "          {\"n_estimators\": 300, \"max_features\": \"sqrt\", \"max_depth\": 3, \"min_samples_leaf\": 20},\n",
    "          {\"n_estimators\": 300, \"max_features\": \"sqrt\", \"max_depth\": 11, \"min_samples_leaf\": 10},\n",
    "         {\"n_estimators\": 10, \"max_features\": \"sqrt\", \"max_depth\": 10, \"min_samples_leaf\": 10, \"learning_rate\": 0.1},\n",
    "         {\"n_estimators\": 10, \"max_features\": \"sqrt\", \"max_depth\": 20, \"min_samples_leaf\": 10, \"learning_rate\": 0.1},\n",
    "         {\"n_estimators\": 10, \"max_features\": \"sqrt\", \"max_depth\": 30, \"min_samples_leaf\": 10, \"learning_rate\": 0.1},\n",
    "         {\"n_estimators\": 10, \"max_features\": \"sqrt\", \"max_depth\": 10, \"min_samples_leaf\": 10, \"learning_rate\": 0.5},\n",
    "         {\"n_estimators\": 10, \"max_features\": \"sqrt\", \"max_depth\": 30, \"min_samples_leaf\": 10, \"learning_rate\": 0.5}]\n",
    "\n",
    "\n",
    "model_dict = {'clf_rf4': RandomForestClassifier(random_state = 0, verbose = True, **hypers[0]),\n",
    "              'clf_rf5': RandomForestClassifier(random_state = 0, verbose = True, **hypers[1]),\n",
    "              'clf_rf6': RandomForestClassifier(random_state = 0, verbose = True, **hypers[2]),\n",
    "              'clf_rf7': RandomForestClassifier(random_state = 0, verbose = True, **hypers[3]),\n",
    "              'clf_rf8': RandomForestClassifier(random_state = 0, verbose = True, **hypers[4]), \n",
    "              'clf_gb1': GradientBoostingClassifier(loss = 'deviance', verbose = True, **hypers[5]),\n",
    "             'clf_gb2': GradientBoostingClassifier(loss = 'deviance', verbose = True, **hypers[6]),\n",
    "             'clf_gb3': GradientBoostingClassifier(loss = 'deviance', verbose = True, **hypers[7]),\n",
    "             'clf_gb4': GradientBoostingClassifier(loss = 'deviance', verbose = True, **hypers[8]),\n",
    "             'clf_gb5': GradientBoostingClassifier(loss = 'deviance', verbose = True, **hypers[9])}\n",
    "\n",
    "\n",
    "for model_ix, (model_name, model_fun) in enumerate(model_dict.items()):\n",
    "    print('Training Model:{}'.format(model_name))\n",
    "    # Train model\n",
    "    model_fun.fit(X_train_encoded, Y_train)\n",
    "\n",
    "    # Get predictions\n",
    "    Y_hat_train = model_fun.predict(X_train_encoded)\n",
    "    Y_hat_test = model_fun.predict(X_test_encoded)\n",
    "\n",
    "    # Compute Accuracies\n",
    "    acc_train = accuracy_score(Y_train, Y_hat_train)\n",
    "    acc_test = accuracy_score(Y_test.str.replace(\"\\\\.$\", \"\"), Y_hat_test)\n",
    "\n",
    "    try:\n",
    "        results # checks if this object exists or not\n",
    "    except NameError:\n",
    "        results = pd.DataFrame(columns = [\"algo\", \"acc_train\", \"acc_test\"]) # initiates it\n",
    "\n",
    "    results.loc[len(results), 0:3] = [model_name, acc_train, acc_test]\n",
    "\n",
    "    for hp in hypers[model_ix].keys():\n",
    "        results.loc[len(results) - 1, hp] = hypers[model_ix][hp]"
   ]
  },
  {
   "cell_type": "code",
   "execution_count": 63,
   "metadata": {},
   "outputs": [
    {
     "data": {
      "text/html": [
       "<div>\n",
       "<style scoped>\n",
       "    .dataframe tbody tr th:only-of-type {\n",
       "        vertical-align: middle;\n",
       "    }\n",
       "\n",
       "    .dataframe tbody tr th {\n",
       "        vertical-align: top;\n",
       "    }\n",
       "\n",
       "    .dataframe thead th {\n",
       "        text-align: right;\n",
       "    }\n",
       "</style>\n",
       "<table border=\"1\" class=\"dataframe\">\n",
       "  <thead>\n",
       "    <tr style=\"text-align: right;\">\n",
       "      <th></th>\n",
       "      <th>algo</th>\n",
       "      <th>acc_train</th>\n",
       "      <th>acc_test</th>\n",
       "      <th>n_estimators</th>\n",
       "      <th>max_features</th>\n",
       "      <th>max_depth</th>\n",
       "      <th>min_samples_leaf</th>\n",
       "      <th>learning_rate</th>\n",
       "    </tr>\n",
       "  </thead>\n",
       "  <tbody>\n",
       "    <tr>\n",
       "      <th>0</th>\n",
       "      <td>RandomForestClassifier</td>\n",
       "      <td>0.863504</td>\n",
       "      <td>0.85757</td>\n",
       "      <td>500.0</td>\n",
       "      <td>sqrt</td>\n",
       "      <td>20.0</td>\n",
       "      <td>10.0</td>\n",
       "      <td>NaN</td>\n",
       "    </tr>\n",
       "    <tr>\n",
       "      <th>1</th>\n",
       "      <td>clf_rf1</td>\n",
       "      <td>0.835754</td>\n",
       "      <td>0.832935</td>\n",
       "      <td>100.0</td>\n",
       "      <td>sqrt</td>\n",
       "      <td>5.0</td>\n",
       "      <td>10.0</td>\n",
       "      <td>NaN</td>\n",
       "    </tr>\n",
       "    <tr>\n",
       "      <th>2</th>\n",
       "      <td>clf_rf2</td>\n",
       "      <td>0.84381</td>\n",
       "      <td>0.841965</td>\n",
       "      <td>100.0</td>\n",
       "      <td>sqrt</td>\n",
       "      <td>7.0</td>\n",
       "      <td>15.0</td>\n",
       "      <td>NaN</td>\n",
       "    </tr>\n",
       "    <tr>\n",
       "      <th>3</th>\n",
       "      <td>clf_rf3</td>\n",
       "      <td>0.850209</td>\n",
       "      <td>0.847078</td>\n",
       "      <td>100.0</td>\n",
       "      <td>sqrt</td>\n",
       "      <td>9.0</td>\n",
       "      <td>20.0</td>\n",
       "      <td>NaN</td>\n",
       "    </tr>\n",
       "    <tr>\n",
       "      <th>4</th>\n",
       "      <td>GradientBoostingClassifier</td>\n",
       "      <td>0.894901</td>\n",
       "      <td>0.857238</td>\n",
       "      <td>10.0</td>\n",
       "      <td>sqrt</td>\n",
       "      <td>20.0</td>\n",
       "      <td>10.0</td>\n",
       "      <td>0.5</td>\n",
       "    </tr>\n",
       "    <tr>\n",
       "      <th>5</th>\n",
       "      <td>clf_rf4</td>\n",
       "      <td>0.835588</td>\n",
       "      <td>0.832072</td>\n",
       "      <td>300.0</td>\n",
       "      <td>sqrt</td>\n",
       "      <td>5.0</td>\n",
       "      <td>10.0</td>\n",
       "      <td>NaN</td>\n",
       "    </tr>\n",
       "    <tr>\n",
       "      <th>6</th>\n",
       "      <td>clf_rf5</td>\n",
       "      <td>0.843744</td>\n",
       "      <td>0.841899</td>\n",
       "      <td>300.0</td>\n",
       "      <td>sqrt</td>\n",
       "      <td>7.0</td>\n",
       "      <td>15.0</td>\n",
       "      <td>NaN</td>\n",
       "    </tr>\n",
       "    <tr>\n",
       "      <th>7</th>\n",
       "      <td>clf_rf6</td>\n",
       "      <td>0.850507</td>\n",
       "      <td>0.847078</td>\n",
       "      <td>300.0</td>\n",
       "      <td>sqrt</td>\n",
       "      <td>9.0</td>\n",
       "      <td>20.0</td>\n",
       "      <td>NaN</td>\n",
       "    </tr>\n",
       "    <tr>\n",
       "      <th>8</th>\n",
       "      <td>clf_rf7</td>\n",
       "      <td>0.793714</td>\n",
       "      <td>0.795418</td>\n",
       "      <td>300.0</td>\n",
       "      <td>sqrt</td>\n",
       "      <td>3.0</td>\n",
       "      <td>20.0</td>\n",
       "      <td>NaN</td>\n",
       "    </tr>\n",
       "    <tr>\n",
       "      <th>9</th>\n",
       "      <td>clf_rf8</td>\n",
       "      <td>0.856574</td>\n",
       "      <td>0.852191</td>\n",
       "      <td>300.0</td>\n",
       "      <td>sqrt</td>\n",
       "      <td>11.0</td>\n",
       "      <td>10.0</td>\n",
       "      <td>NaN</td>\n",
       "    </tr>\n",
       "    <tr>\n",
       "      <th>10</th>\n",
       "      <td>clf_gb1</td>\n",
       "      <td>0.843213</td>\n",
       "      <td>0.83911</td>\n",
       "      <td>10.0</td>\n",
       "      <td>sqrt</td>\n",
       "      <td>10.0</td>\n",
       "      <td>10.0</td>\n",
       "      <td>0.1</td>\n",
       "    </tr>\n",
       "    <tr>\n",
       "      <th>11</th>\n",
       "      <td>clf_gb2</td>\n",
       "      <td>0.860255</td>\n",
       "      <td>0.848938</td>\n",
       "      <td>10.0</td>\n",
       "      <td>sqrt</td>\n",
       "      <td>20.0</td>\n",
       "      <td>10.0</td>\n",
       "      <td>0.1</td>\n",
       "    </tr>\n",
       "    <tr>\n",
       "      <th>12</th>\n",
       "      <td>clf_gb3</td>\n",
       "      <td>0.861614</td>\n",
       "      <td>0.846614</td>\n",
       "      <td>10.0</td>\n",
       "      <td>sqrt</td>\n",
       "      <td>30.0</td>\n",
       "      <td>10.0</td>\n",
       "      <td>0.1</td>\n",
       "    </tr>\n",
       "    <tr>\n",
       "      <th>13</th>\n",
       "      <td>clf_gb4</td>\n",
       "      <td>0.873483</td>\n",
       "      <td>0.854648</td>\n",
       "      <td>10.0</td>\n",
       "      <td>sqrt</td>\n",
       "      <td>10.0</td>\n",
       "      <td>10.0</td>\n",
       "      <td>0.5</td>\n",
       "    </tr>\n",
       "    <tr>\n",
       "      <th>14</th>\n",
       "      <td>clf_gb5</td>\n",
       "      <td>0.908726</td>\n",
       "      <td>0.855113</td>\n",
       "      <td>10.0</td>\n",
       "      <td>sqrt</td>\n",
       "      <td>30.0</td>\n",
       "      <td>10.0</td>\n",
       "      <td>0.5</td>\n",
       "    </tr>\n",
       "  </tbody>\n",
       "</table>\n",
       "</div>"
      ],
      "text/plain": [
       "                          algo acc_train  acc_test  n_estimators max_features  \\\n",
       "0       RandomForestClassifier  0.863504   0.85757         500.0         sqrt   \n",
       "1                      clf_rf1  0.835754  0.832935         100.0         sqrt   \n",
       "2                      clf_rf2   0.84381  0.841965         100.0         sqrt   \n",
       "3                      clf_rf3  0.850209  0.847078         100.0         sqrt   \n",
       "4   GradientBoostingClassifier  0.894901  0.857238          10.0         sqrt   \n",
       "5                      clf_rf4  0.835588  0.832072         300.0         sqrt   \n",
       "6                      clf_rf5  0.843744  0.841899         300.0         sqrt   \n",
       "7                      clf_rf6  0.850507  0.847078         300.0         sqrt   \n",
       "8                      clf_rf7  0.793714  0.795418         300.0         sqrt   \n",
       "9                      clf_rf8  0.856574  0.852191         300.0         sqrt   \n",
       "10                     clf_gb1  0.843213   0.83911          10.0         sqrt   \n",
       "11                     clf_gb2  0.860255  0.848938          10.0         sqrt   \n",
       "12                     clf_gb3  0.861614  0.846614          10.0         sqrt   \n",
       "13                     clf_gb4  0.873483  0.854648          10.0         sqrt   \n",
       "14                     clf_gb5  0.908726  0.855113          10.0         sqrt   \n",
       "\n",
       "    max_depth  min_samples_leaf  learning_rate  \n",
       "0        20.0              10.0            NaN  \n",
       "1         5.0              10.0            NaN  \n",
       "2         7.0              15.0            NaN  \n",
       "3         9.0              20.0            NaN  \n",
       "4        20.0              10.0            0.5  \n",
       "5         5.0              10.0            NaN  \n",
       "6         7.0              15.0            NaN  \n",
       "7         9.0              20.0            NaN  \n",
       "8         3.0              20.0            NaN  \n",
       "9        11.0              10.0            NaN  \n",
       "10       10.0              10.0            0.1  \n",
       "11       20.0              10.0            0.1  \n",
       "12       30.0              10.0            0.1  \n",
       "13       10.0              10.0            0.5  \n",
       "14       30.0              10.0            0.5  "
      ]
     },
     "execution_count": 63,
     "metadata": {},
     "output_type": "execute_result"
    }
   ],
   "source": [
    "results"
   ]
  },
  {
   "cell_type": "markdown",
   "metadata": {},
   "source": [
    "<hr style=\"border:5px solid red\"> </hr>\n",
    "\n",
    "## Early Stopping w/ GBM\n",
    "\n",
    "It is easy to overfit with `GradientBoostingClassifier`, because as we saw boosting tries to model the residual error, and iteration after iteration the error we are left with contains less and less signal and more and more noise. To that end, it is useful to implement what's called **early stopping**:\n",
    "\n",
    "- we set aside a validation data\n",
    "- as we train the base classifier at each iteration, we predict on the validation data and compute the error\n",
    "- if validation error doesn't improve **after a certain number of iterations by at least a certain percentage** (called the **tolerance**), we stop the trainig\n",
    "\n",
    "In `GradientBoostingClassifier` early stopping can be implemented using the `validation_fraction`, `n_iter_no_change` and `tol` arguments. You can read [the documentation](https://scikit-learn.org/stable/auto_examples/ensemble/plot_gradient_boosting_early_stopping.html) for more details on this.\n",
    "\n",
    "Run one more run of `GradientBoostingClassifier` and this time implement early stopping. After training, you can check the number of iterations that were run by running `model.n_estimators_`. Normally this is just the number of iterations you chose to run, but if early stopping is implemented then it can be a smaller number.\n",
    "\n",
    "When you're done with your runs, you can check all the results by running the next cell."
   ]
  },
  {
   "cell_type": "code",
   "execution_count": 66,
   "metadata": {},
   "outputs": [
    {
     "name": "stdout",
     "output_type": "stream",
     "text": [
      "      Iter       Train Loss   Remaining Time \n",
      "         1           0.8052            6.38s\n",
      "         2           0.6859            6.61s\n",
      "         3           0.6197            6.95s\n",
      "         4           0.5771            7.03s\n",
      "         5           0.5420            7.03s\n",
      "         6           0.5172            7.02s\n",
      "         7           0.4948            7.07s\n",
      "         8           0.4791            6.80s\n",
      "         9           0.4647            6.70s\n",
      "Train set accuracy: 88.79%\n",
      "Test set accuracy: 85.71%\n"
     ]
    }
   ],
   "source": [
    "hypers_w_early_stop = {\"n_estimators\": 100, \"max_features\": \"sqrt\", \"max_depth\": 20, \"min_samples_leaf\": 10,\n",
    "                       \"learning_rate\": 0.5, \"validation_fraction\": 0.20, \"n_iter_no_change\": 3, \"tol\": 0.01}\n",
    "\n",
    "clf_gb_stop = GradientBoostingClassifier(loss = 'deviance', verbose = True, **hypers_w_early_stop)\n",
    "\n",
    "clf_gb_stop.fit(X_train_encoded, Y_train)\n",
    "\n",
    "# Accuracies\n",
    "Y_hat_train = clf_gb_stop.predict(X_train_encoded)\n",
    "Y_hat_test = clf_gb_stop.predict(X_test_encoded)\n",
    "\n",
    "acc_train = accuracy_score(Y_train, Y_hat_train)\n",
    "acc_test = accuracy_score(Y_test.str.replace(\"\\\\.$\", \"\"), Y_hat_test)\n",
    "\n",
    "print('Train set accuracy: {:.2f}%'.format(acc_train * 100))\n",
    "print('Test set accuracy: {:.2f}%'.format(acc_test * 100))"
   ]
  },
  {
   "cell_type": "markdown",
   "metadata": {},
   "source": [
    "Add this to the result frame:"
   ]
  },
  {
   "cell_type": "code",
   "execution_count": 68,
   "metadata": {},
   "outputs": [],
   "source": [
    "model_name = str(clf_gb_stop.__class__).split('.')[-1].strip(\"\\\"\\'>\")\n",
    "results.loc[len(results), 0:3] = [model_name, acc_train, acc_test]\n",
    "\n",
    "for hp in hypers_w_early_stop.keys():\n",
    "    results.loc[len(results) - 1, hp] = hypers_w_early_stop[hp]"
   ]
  },
  {
   "cell_type": "code",
   "execution_count": 69,
   "metadata": {},
   "outputs": [
    {
     "data": {
      "text/html": [
       "<div>\n",
       "<style scoped>\n",
       "    .dataframe tbody tr th:only-of-type {\n",
       "        vertical-align: middle;\n",
       "    }\n",
       "\n",
       "    .dataframe tbody tr th {\n",
       "        vertical-align: top;\n",
       "    }\n",
       "\n",
       "    .dataframe thead th {\n",
       "        text-align: right;\n",
       "    }\n",
       "</style>\n",
       "<table border=\"1\" class=\"dataframe\">\n",
       "  <thead>\n",
       "    <tr style=\"text-align: right;\">\n",
       "      <th></th>\n",
       "      <th>algo</th>\n",
       "      <th>acc_train</th>\n",
       "      <th>acc_test</th>\n",
       "      <th>n_estimators</th>\n",
       "      <th>max_features</th>\n",
       "      <th>max_depth</th>\n",
       "      <th>min_samples_leaf</th>\n",
       "      <th>learning_rate</th>\n",
       "      <th>validation_fraction</th>\n",
       "      <th>n_iter_no_change</th>\n",
       "      <th>tol</th>\n",
       "    </tr>\n",
       "  </thead>\n",
       "  <tbody>\n",
       "    <tr>\n",
       "      <th>0</th>\n",
       "      <td>RandomForestClassifier</td>\n",
       "      <td>0.863504</td>\n",
       "      <td>0.85757</td>\n",
       "      <td>500.0</td>\n",
       "      <td>sqrt</td>\n",
       "      <td>20.0</td>\n",
       "      <td>10.0</td>\n",
       "      <td>NaN</td>\n",
       "      <td>NaN</td>\n",
       "      <td>NaN</td>\n",
       "      <td>NaN</td>\n",
       "    </tr>\n",
       "    <tr>\n",
       "      <th>1</th>\n",
       "      <td>clf_rf1</td>\n",
       "      <td>0.835754</td>\n",
       "      <td>0.832935</td>\n",
       "      <td>100.0</td>\n",
       "      <td>sqrt</td>\n",
       "      <td>5.0</td>\n",
       "      <td>10.0</td>\n",
       "      <td>NaN</td>\n",
       "      <td>NaN</td>\n",
       "      <td>NaN</td>\n",
       "      <td>NaN</td>\n",
       "    </tr>\n",
       "    <tr>\n",
       "      <th>2</th>\n",
       "      <td>clf_rf2</td>\n",
       "      <td>0.84381</td>\n",
       "      <td>0.841965</td>\n",
       "      <td>100.0</td>\n",
       "      <td>sqrt</td>\n",
       "      <td>7.0</td>\n",
       "      <td>15.0</td>\n",
       "      <td>NaN</td>\n",
       "      <td>NaN</td>\n",
       "      <td>NaN</td>\n",
       "      <td>NaN</td>\n",
       "    </tr>\n",
       "    <tr>\n",
       "      <th>3</th>\n",
       "      <td>clf_rf3</td>\n",
       "      <td>0.850209</td>\n",
       "      <td>0.847078</td>\n",
       "      <td>100.0</td>\n",
       "      <td>sqrt</td>\n",
       "      <td>9.0</td>\n",
       "      <td>20.0</td>\n",
       "      <td>NaN</td>\n",
       "      <td>NaN</td>\n",
       "      <td>NaN</td>\n",
       "      <td>NaN</td>\n",
       "    </tr>\n",
       "    <tr>\n",
       "      <th>4</th>\n",
       "      <td>GradientBoostingClassifier</td>\n",
       "      <td>0.894901</td>\n",
       "      <td>0.857238</td>\n",
       "      <td>10.0</td>\n",
       "      <td>sqrt</td>\n",
       "      <td>20.0</td>\n",
       "      <td>10.0</td>\n",
       "      <td>0.5</td>\n",
       "      <td>NaN</td>\n",
       "      <td>NaN</td>\n",
       "      <td>NaN</td>\n",
       "    </tr>\n",
       "    <tr>\n",
       "      <th>5</th>\n",
       "      <td>clf_rf4</td>\n",
       "      <td>0.835588</td>\n",
       "      <td>0.832072</td>\n",
       "      <td>300.0</td>\n",
       "      <td>sqrt</td>\n",
       "      <td>5.0</td>\n",
       "      <td>10.0</td>\n",
       "      <td>NaN</td>\n",
       "      <td>NaN</td>\n",
       "      <td>NaN</td>\n",
       "      <td>NaN</td>\n",
       "    </tr>\n",
       "    <tr>\n",
       "      <th>6</th>\n",
       "      <td>clf_rf5</td>\n",
       "      <td>0.843744</td>\n",
       "      <td>0.841899</td>\n",
       "      <td>300.0</td>\n",
       "      <td>sqrt</td>\n",
       "      <td>7.0</td>\n",
       "      <td>15.0</td>\n",
       "      <td>NaN</td>\n",
       "      <td>NaN</td>\n",
       "      <td>NaN</td>\n",
       "      <td>NaN</td>\n",
       "    </tr>\n",
       "    <tr>\n",
       "      <th>7</th>\n",
       "      <td>clf_rf6</td>\n",
       "      <td>0.850507</td>\n",
       "      <td>0.847078</td>\n",
       "      <td>300.0</td>\n",
       "      <td>sqrt</td>\n",
       "      <td>9.0</td>\n",
       "      <td>20.0</td>\n",
       "      <td>NaN</td>\n",
       "      <td>NaN</td>\n",
       "      <td>NaN</td>\n",
       "      <td>NaN</td>\n",
       "    </tr>\n",
       "    <tr>\n",
       "      <th>8</th>\n",
       "      <td>clf_rf7</td>\n",
       "      <td>0.793714</td>\n",
       "      <td>0.795418</td>\n",
       "      <td>300.0</td>\n",
       "      <td>sqrt</td>\n",
       "      <td>3.0</td>\n",
       "      <td>20.0</td>\n",
       "      <td>NaN</td>\n",
       "      <td>NaN</td>\n",
       "      <td>NaN</td>\n",
       "      <td>NaN</td>\n",
       "    </tr>\n",
       "    <tr>\n",
       "      <th>9</th>\n",
       "      <td>clf_rf8</td>\n",
       "      <td>0.856574</td>\n",
       "      <td>0.852191</td>\n",
       "      <td>300.0</td>\n",
       "      <td>sqrt</td>\n",
       "      <td>11.0</td>\n",
       "      <td>10.0</td>\n",
       "      <td>NaN</td>\n",
       "      <td>NaN</td>\n",
       "      <td>NaN</td>\n",
       "      <td>NaN</td>\n",
       "    </tr>\n",
       "    <tr>\n",
       "      <th>10</th>\n",
       "      <td>clf_gb1</td>\n",
       "      <td>0.843213</td>\n",
       "      <td>0.83911</td>\n",
       "      <td>10.0</td>\n",
       "      <td>sqrt</td>\n",
       "      <td>10.0</td>\n",
       "      <td>10.0</td>\n",
       "      <td>0.1</td>\n",
       "      <td>NaN</td>\n",
       "      <td>NaN</td>\n",
       "      <td>NaN</td>\n",
       "    </tr>\n",
       "    <tr>\n",
       "      <th>11</th>\n",
       "      <td>clf_gb2</td>\n",
       "      <td>0.860255</td>\n",
       "      <td>0.848938</td>\n",
       "      <td>10.0</td>\n",
       "      <td>sqrt</td>\n",
       "      <td>20.0</td>\n",
       "      <td>10.0</td>\n",
       "      <td>0.1</td>\n",
       "      <td>NaN</td>\n",
       "      <td>NaN</td>\n",
       "      <td>NaN</td>\n",
       "    </tr>\n",
       "    <tr>\n",
       "      <th>12</th>\n",
       "      <td>clf_gb3</td>\n",
       "      <td>0.861614</td>\n",
       "      <td>0.846614</td>\n",
       "      <td>10.0</td>\n",
       "      <td>sqrt</td>\n",
       "      <td>30.0</td>\n",
       "      <td>10.0</td>\n",
       "      <td>0.1</td>\n",
       "      <td>NaN</td>\n",
       "      <td>NaN</td>\n",
       "      <td>NaN</td>\n",
       "    </tr>\n",
       "    <tr>\n",
       "      <th>13</th>\n",
       "      <td>clf_gb4</td>\n",
       "      <td>0.873483</td>\n",
       "      <td>0.854648</td>\n",
       "      <td>10.0</td>\n",
       "      <td>sqrt</td>\n",
       "      <td>10.0</td>\n",
       "      <td>10.0</td>\n",
       "      <td>0.5</td>\n",
       "      <td>NaN</td>\n",
       "      <td>NaN</td>\n",
       "      <td>NaN</td>\n",
       "    </tr>\n",
       "    <tr>\n",
       "      <th>14</th>\n",
       "      <td>clf_gb5</td>\n",
       "      <td>0.908726</td>\n",
       "      <td>0.855113</td>\n",
       "      <td>10.0</td>\n",
       "      <td>sqrt</td>\n",
       "      <td>30.0</td>\n",
       "      <td>10.0</td>\n",
       "      <td>0.5</td>\n",
       "      <td>NaN</td>\n",
       "      <td>NaN</td>\n",
       "      <td>NaN</td>\n",
       "    </tr>\n",
       "    <tr>\n",
       "      <th>15</th>\n",
       "      <td>GradientBoostingClassifier</td>\n",
       "      <td>0.908726</td>\n",
       "      <td>0.855113</td>\n",
       "      <td>NaN</td>\n",
       "      <td>NaN</td>\n",
       "      <td>NaN</td>\n",
       "      <td>NaN</td>\n",
       "      <td>NaN</td>\n",
       "      <td>NaN</td>\n",
       "      <td>NaN</td>\n",
       "      <td>NaN</td>\n",
       "    </tr>\n",
       "    <tr>\n",
       "      <th>16</th>\n",
       "      <td>GradientBoostingClassifier</td>\n",
       "      <td>0.887905</td>\n",
       "      <td>0.857105</td>\n",
       "      <td>NaN</td>\n",
       "      <td>NaN</td>\n",
       "      <td>NaN</td>\n",
       "      <td>NaN</td>\n",
       "      <td>NaN</td>\n",
       "      <td>NaN</td>\n",
       "      <td>NaN</td>\n",
       "      <td>NaN</td>\n",
       "    </tr>\n",
       "    <tr>\n",
       "      <th>17</th>\n",
       "      <td>GradientBoostingClassifier</td>\n",
       "      <td>0.887905</td>\n",
       "      <td>0.857105</td>\n",
       "      <td>100.0</td>\n",
       "      <td>sqrt</td>\n",
       "      <td>20.0</td>\n",
       "      <td>10.0</td>\n",
       "      <td>0.5</td>\n",
       "      <td>0.2</td>\n",
       "      <td>3.0</td>\n",
       "      <td>0.01</td>\n",
       "    </tr>\n",
       "  </tbody>\n",
       "</table>\n",
       "</div>"
      ],
      "text/plain": [
       "                          algo acc_train  acc_test  n_estimators max_features  \\\n",
       "0       RandomForestClassifier  0.863504   0.85757         500.0         sqrt   \n",
       "1                      clf_rf1  0.835754  0.832935         100.0         sqrt   \n",
       "2                      clf_rf2   0.84381  0.841965         100.0         sqrt   \n",
       "3                      clf_rf3  0.850209  0.847078         100.0         sqrt   \n",
       "4   GradientBoostingClassifier  0.894901  0.857238          10.0         sqrt   \n",
       "5                      clf_rf4  0.835588  0.832072         300.0         sqrt   \n",
       "6                      clf_rf5  0.843744  0.841899         300.0         sqrt   \n",
       "7                      clf_rf6  0.850507  0.847078         300.0         sqrt   \n",
       "8                      clf_rf7  0.793714  0.795418         300.0         sqrt   \n",
       "9                      clf_rf8  0.856574  0.852191         300.0         sqrt   \n",
       "10                     clf_gb1  0.843213   0.83911          10.0         sqrt   \n",
       "11                     clf_gb2  0.860255  0.848938          10.0         sqrt   \n",
       "12                     clf_gb3  0.861614  0.846614          10.0         sqrt   \n",
       "13                     clf_gb4  0.873483  0.854648          10.0         sqrt   \n",
       "14                     clf_gb5  0.908726  0.855113          10.0         sqrt   \n",
       "15  GradientBoostingClassifier  0.908726  0.855113           NaN          NaN   \n",
       "16  GradientBoostingClassifier  0.887905  0.857105           NaN          NaN   \n",
       "17  GradientBoostingClassifier  0.887905  0.857105         100.0         sqrt   \n",
       "\n",
       "    max_depth  min_samples_leaf  learning_rate  validation_fraction  \\\n",
       "0        20.0              10.0            NaN                  NaN   \n",
       "1         5.0              10.0            NaN                  NaN   \n",
       "2         7.0              15.0            NaN                  NaN   \n",
       "3         9.0              20.0            NaN                  NaN   \n",
       "4        20.0              10.0            0.5                  NaN   \n",
       "5         5.0              10.0            NaN                  NaN   \n",
       "6         7.0              15.0            NaN                  NaN   \n",
       "7         9.0              20.0            NaN                  NaN   \n",
       "8         3.0              20.0            NaN                  NaN   \n",
       "9        11.0              10.0            NaN                  NaN   \n",
       "10       10.0              10.0            0.1                  NaN   \n",
       "11       20.0              10.0            0.1                  NaN   \n",
       "12       30.0              10.0            0.1                  NaN   \n",
       "13       10.0              10.0            0.5                  NaN   \n",
       "14       30.0              10.0            0.5                  NaN   \n",
       "15        NaN               NaN            NaN                  NaN   \n",
       "16        NaN               NaN            NaN                  NaN   \n",
       "17       20.0              10.0            0.5                  0.2   \n",
       "\n",
       "    n_iter_no_change   tol  \n",
       "0                NaN   NaN  \n",
       "1                NaN   NaN  \n",
       "2                NaN   NaN  \n",
       "3                NaN   NaN  \n",
       "4                NaN   NaN  \n",
       "5                NaN   NaN  \n",
       "6                NaN   NaN  \n",
       "7                NaN   NaN  \n",
       "8                NaN   NaN  \n",
       "9                NaN   NaN  \n",
       "10               NaN   NaN  \n",
       "11               NaN   NaN  \n",
       "12               NaN   NaN  \n",
       "13               NaN   NaN  \n",
       "14               NaN   NaN  \n",
       "15               NaN   NaN  \n",
       "16               NaN   NaN  \n",
       "17               3.0  0.01  "
      ]
     },
     "execution_count": 69,
     "metadata": {},
     "output_type": "execute_result"
    }
   ],
   "source": [
    "results"
   ]
  },
  {
   "cell_type": "markdown",
   "metadata": {},
   "source": [
    "Make sure that you check the classifier's documentation and understand what `n_estimators`, `max_features`, `max_depth`, and `min_leaf_size` represent. Then, answer the following question:\n",
    "\n",
    "- What seems to be the effect of changing each of these hyper-parameters on the accuracy of the training and test data?\n",
    "- Does this match your intuition about how these hyper-parameters work?\n",
    "- Are there any hyper-parameters that seem promising and worth trying to tune?\n",
    "\n",
    "### End of exercise"
   ]
  },
  {
   "cell_type": "markdown",
   "metadata": {},
   "source": [
    "Hyper-parameter tuning can be a very time-consuming and difficult task. In a future lecture, we will see how we can use a Python library to automatically specify different hyper-parameter values ahead of time and train different models. This will save us from having to manually re-run external scripts or collect results, but for now this will suffice and it's also a chance to show-case some more advanced Python and Jupyter functionality."
   ]
  },
  {
   "cell_type": "markdown",
   "metadata": {},
   "source": [
    "<hr style=\"border:5px solid red\"> </hr>\n",
    "\n",
    "## Visually Overfitting\n",
    "\n",
    "Let's compare how overfitting behaves between GBM and Random Forest models."
   ]
  },
  {
   "cell_type": "code",
   "execution_count": 70,
   "metadata": {},
   "outputs": [
    {
     "name": "stdout",
     "output_type": "stream",
     "text": [
      "Fitting models for n=2. Please wait.\n",
      "Fitting models for n=3. Please wait.\n",
      "Fitting models for n=4. Please wait.\n",
      "Fitting models for n=5. Please wait.\n",
      "Fitting models for n=10. Please wait.\n",
      "Fitting models for n=15. Please wait.\n",
      "Fitting models for n=20. Please wait.\n",
      "Fitting models for n=25. Please wait.\n",
      "Fitting models for n=30. Please wait.\n",
      "Fitting models for n=40. Please wait.\n",
      "Fitting models for n=50. Please wait.\n"
     ]
    }
   ],
   "source": [
    "import matplotlib.pyplot as plt\n",
    "n_estimators = [2, 3, 4, 5, 10, 15, 20, 25, 30, 40, 50]\n",
    "\n",
    "rf_train_acc = []\n",
    "rf_test_acc = []\n",
    "gbm_train_acc = []\n",
    "gbm_test_acc = []\n",
    "gbms_train_acc = []\n",
    "gbms_test_acc = []\n",
    "\n",
    "for n in n_estimators:\n",
    "    print('Fitting models for n={}. Please wait.'.format(n))\n",
    "    rf_hypers = {\"n_estimators\": n, \"max_features\": \"sqrt\", \"max_depth\": 10, \"min_samples_leaf\": 10}\n",
    "    gbm_hypers = {\"n_estimators\": n, \"max_features\": \"sqrt\", \"max_depth\": 10, \"min_samples_leaf\": 10,\n",
    "                  \"learning_rate\": 0.5}\n",
    "    gbm_stop_hypers = {\"n_estimators\": n, \"max_features\": \"sqrt\", \"max_depth\": 10, \"min_samples_leaf\": 10,\n",
    "                       \"learning_rate\": 0.5, \"validation_fraction\": 0.20, \"n_iter_no_change\": 3, \"tol\": 0.01}\n",
    "    \n",
    "    # Setup Models\n",
    "    rf_model = RandomForestClassifier(random_state = 0, verbose = False, **rf_hypers)\n",
    "    gbm_model = GradientBoostingClassifier(loss = 'deviance', verbose = False, **gbm_hypers)\n",
    "    gbm_stop_model = GradientBoostingClassifier(loss = 'deviance', verbose = False, **gbm_stop_hypers)\n",
    "    \n",
    "    # Fit models\n",
    "    rf_model.fit(X_train_encoded, Y_train)\n",
    "    gbm_model.fit(X_train_encoded, Y_train)\n",
    "    gbm_stop_model.fit(X_train_encoded, Y_train)\n",
    "    \n",
    "    # Get accuracies\n",
    "    Y_hat_train_rf = rf_model.predict(X_train_encoded)\n",
    "    Y_hat_test_rf = rf_model.predict(X_test_encoded)\n",
    "    Y_hat_train_gbm = gbm_model.predict(X_train_encoded)\n",
    "    Y_hat_test_gbm = gbm_model.predict(X_test_encoded)\n",
    "    Y_hat_train_gbms = gbm_stop_model.predict(X_train_encoded)\n",
    "    Y_hat_test_gbms = gbm_stop_model.predict(X_test_encoded)\n",
    "\n",
    "    acc_train_rf = accuracy_score(Y_train, Y_hat_train_rf)\n",
    "    acc_test_rf = accuracy_score(Y_test.str.replace(\"\\\\.$\", \"\"), Y_hat_test_rf)\n",
    "    acc_train_gbm = accuracy_score(Y_train, Y_hat_train_gbm)\n",
    "    acc_test_gbm = accuracy_score(Y_test.str.replace(\"\\\\.$\", \"\"), Y_hat_test_gbm)\n",
    "    acc_train_gbms = accuracy_score(Y_train, Y_hat_train_gbms)\n",
    "    acc_test_gbms = accuracy_score(Y_test.str.replace(\"\\\\.$\", \"\"), Y_hat_test_gbms)\n",
    "    \n",
    "    # Save outputs\n",
    "    rf_train_acc.append(acc_train_rf)\n",
    "    rf_test_acc.append(acc_test_rf)\n",
    "    gbm_train_acc.append(acc_train_gbm)\n",
    "    gbm_test_acc.append(acc_test_gbm)\n",
    "    gbms_train_acc.append(acc_train_gbms)\n",
    "    gbms_test_acc.append(acc_test_gbms)"
   ]
  },
  {
   "cell_type": "code",
   "execution_count": 71,
   "metadata": {},
   "outputs": [
    {
     "data": {
      "text/plain": [
       "<matplotlib.legend.Legend at 0x1252e1730>"
      ]
     },
     "execution_count": 71,
     "metadata": {},
     "output_type": "execute_result"
    },
    {
     "data": {
      "image/png": "[encoded data removed]",
      "text/plain": [
       "<Figure size 432x288 with 1 Axes>"
      ]
     },
     "metadata": {
      "needs_background": "light"
     },
     "output_type": "display_data"
    }
   ],
   "source": [
    "# Plot outputs\n",
    "plt.plot(n_estimators, rf_train_acc, label='RF Train')\n",
    "plt.plot(n_estimators, rf_test_acc, label='RF Test')\n",
    "plt.plot(n_estimators, gbm_train_acc, label='GBM Train')\n",
    "plt.plot(n_estimators, gbm_test_acc, label='GBM Test')\n",
    "plt.plot(n_estimators, gbms_train_acc, label='GBM-s Train')\n",
    "plt.plot(n_estimators, gbms_test_acc, label='GBM-s Test')\n",
    "plt.grid()\n",
    "plt.legend()"
   ]
  },
  {
   "cell_type": "markdown",
   "metadata": {},
   "source": [
    "<hr style=\"border:5px solid red\"> </hr>\n",
    "\n",
    "## Training a non-tree-based ensemble model"
   ]
  },
  {
   "cell_type": "markdown",
   "metadata": {},
   "source": [
    "We finish this notebook by providing an example of a non-tree-based classifier. Tree-based classifiers are so common that they have their own functions in `sklearn`, but if we want we can choose any base-learners and pass it to the `BaggingClassifier` or any of the other ensemble learners in `sklearn.ensemble`. In the following example, we use `KNeighborsClassifier` as the base learner and train a bagged classifier."
   ]
  },
  {
   "cell_type": "code",
   "execution_count": 72,
   "metadata": {
    "scrolled": true
   },
   "outputs": [
    {
     "data": {
      "text/plain": [
       "BaggingClassifier(base_estimator=KNeighborsClassifier(), max_features=0.5,\n",
       "                  max_samples=0.5)"
      ]
     },
     "execution_count": 72,
     "metadata": {},
     "output_type": "execute_result"
    }
   ],
   "source": [
    "from sklearn.ensemble import BaggingClassifier\n",
    "from sklearn.neighbors import KNeighborsClassifier\n",
    "\n",
    "bag_cls = BaggingClassifier(KNeighborsClassifier(), max_samples = 0.5, max_features = 0.5)\n",
    "bag_cls.fit(X_train_encoded, Y_train)"
   ]
  },
  {
   "cell_type": "markdown",
   "metadata": {},
   "source": [
    "We can let the classifier predict on the training and test data.\n",
    "\n",
    "While it's computing, read over the documentation here:\n",
    "https://scikit-learn.org/stable/modules/generated/sklearn.ensemble.BaggingClassifier.html"
   ]
  },
  {
   "cell_type": "code",
   "execution_count": 73,
   "metadata": {},
   "outputs": [],
   "source": [
    "# May take a minute to compute\n",
    "Y_hat_train = bag_cls.predict(X_train_encoded)\n",
    "Y_hat_test = bag_cls.predict(X_test_encoded)"
   ]
  },
  {
   "cell_type": "markdown",
   "metadata": {},
   "source": [
    "And obtain just as before."
   ]
  },
  {
   "cell_type": "code",
   "execution_count": 74,
   "metadata": {},
   "outputs": [
    {
     "name": "stdout",
     "output_type": "stream",
     "text": [
      "Accuracy on training data = 0.865 and on test data = 0.833\n"
     ]
    }
   ],
   "source": [
    "acc_train = accuracy_score(Y_train, Y_hat_train)\n",
    "acc_test = accuracy_score(Y_test.str.replace(\"\\\\.$\", \"\"), Y_hat_test)\n",
    "\n",
    "print(\"Accuracy on training data = {:.03f} and on test data = {:.03f}\".format(acc_train, acc_test))"
   ]
  },
  {
   "cell_type": "markdown",
   "metadata": {},
   "source": [
    "So ensemble classifiers are a great method to improve accuracy if we're willing to pay the computational cost. Another downside as we saw in this notebook is that we add new hyper-parameters on top of the ones we inherit from the base learner and hyper-parameter tuning becomes a daunting task. In fact, one of the short-comings in this notebook is that we did our hyper-parameter tuning on the **test data** when we should have used a **validation data** instead. If we try a few different runs we can get away with this, but if we get serious about hyper-parameter tuning then as we learned the right way to do it is to evaluate the hyper-parameters on the **validation data** (or to use cross-validation) and leave the **test data** to evaluate the accuracy of the **final model** at the end."
   ]
  }
 ],
 "metadata": {
  "anaconda-cloud": {},
  "kernelspec": {
   "display_name": "Python 3",
   "language": "python",
   "name": "python3"
  },
  "language_info": {
   "codemirror_mode": {
    "name": "ipython",
    "version": 3
   },
   "file_extension": ".py",
   "mimetype": "text/x-python",
   "name": "python",
   "nbconvert_exporter": "python",
   "pygments_lexer": "ipython3",
   "version": "3.7.0"
  }
 },
 "nbformat": 4,
 "nbformat_minor": 4
}
